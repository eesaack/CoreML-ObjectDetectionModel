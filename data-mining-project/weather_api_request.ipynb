{
 "cells": [
  {
   "cell_type": "code",
   "execution_count": 1,
   "id": "06be77ef-5a1a-4cc4-909c-c617aeddd469",
   "metadata": {},
   "outputs": [
    {
     "name": "stdout",
     "output_type": "stream",
     "text": [
      "Requirement already satisfied: requests in /opt/anaconda3/envs/sncb/lib/python3.9/site-packages (2.31.0)\n",
      "Requirement already satisfied: charset-normalizer<4,>=2 in /opt/anaconda3/envs/sncb/lib/python3.9/site-packages (from requests) (3.3.2)\n",
      "Requirement already satisfied: idna<4,>=2.5 in /opt/anaconda3/envs/sncb/lib/python3.9/site-packages (from requests) (3.4)\n",
      "Requirement already satisfied: urllib3<3,>=1.21.1 in /opt/anaconda3/envs/sncb/lib/python3.9/site-packages (from requests) (2.0.7)\n",
      "Requirement already satisfied: certifi>=2017.4.17 in /opt/anaconda3/envs/sncb/lib/python3.9/site-packages (from requests) (2023.7.22)\n",
      "Note: you may need to restart the kernel to use updated packages.\n"
     ]
    }
   ],
   "source": [
    "pip install requests"
   ]
  },
  {
   "cell_type": "code",
   "execution_count": 2,
   "id": "7a9b01d6-5330-4f50-a60d-1ddbd445f9e4",
   "metadata": {},
   "outputs": [],
   "source": [
    "import requests"
   ]
  },
  {
   "cell_type": "code",
   "execution_count": 9,
   "id": "5a69dc6d-67c2-407b-a854-50e76243a52b",
   "metadata": {},
   "outputs": [
    {
     "name": "stdout",
     "output_type": "stream",
     "text": [
      "Request successful\n",
      "{'message': 'Count: 1', 'cod': '200', 'city_id': 1, 'calctime': 0.004380113, 'cnt': 1, 'list': [{'dt': 1690855200, 'main': {'temp': 288.24, 'feels_like': 288.26, 'pressure': 1000, 'humidity': 94, 'temp_min': 287.75, 'temp_max': 288.74}, 'wind': {'speed': 5.6, 'deg': 259, 'gust': 11.69}, 'clouds': {'all': 100}, 'weather': [{'id': 804, 'main': 'Clouds', 'description': 'overcast clouds', 'icon': '04n'}]}]}\n"
     ]
    }
   ],
   "source": [
    "url = \"https://history.openweathermap.org/data/2.5/history/city?lat=50.769818&lon=3.872114&type=hour&start=1690854252&cnt=1&appid=9da3f482e16311499406618826717d1b\"\n",
    "\n",
    "response = requests.get(url)\n",
    "\n",
    "# Check the status code of the response\n",
    "if response.status_code == 200:\n",
    "    # If the request was successful (status code 200)\n",
    "    data = response.json()  # If the response contains JSON data\n",
    "    print(\"Request successful\")\n",
    "    print(data)  # Display the retrieved data\n",
    "else:\n",
    "    # If the request was not successful\n",
    "    print(\"Request failed with status code:\", response.status_code)"
   ]
  },
  {
   "cell_type": "code",
   "execution_count": null,
   "id": "d51e6289-beb8-4a40-8159-1b96a0fd9130",
   "metadata": {},
   "outputs": [],
   "source": []
  },
  {
   "cell_type": "code",
   "execution_count": 5,
   "id": "6e96e00c-78b8-4aa0-8e6a-52c817f54de5",
   "metadata": {},
   "outputs": [
    {
     "name": "stdout",
     "output_type": "stream",
     "text": [
      "UTC time (from string): 2023-08-01 03:44:12\n",
      "Unix time: 1690854252\n"
     ]
    }
   ],
   "source": [
    "import datetime\n",
    "\n",
    "# Input UTC time as a string\n",
    "utc_time_string = \"2023-08-01 03:44:12\"  # Format: \"YYYY-MM-DD HH:MM:SS\"\n",
    "\n",
    "# Convert string UTC time to a datetime object\n",
    "utc_time = datetime.datetime.strptime(utc_time_string, \"%Y-%m-%d %H:%M:%S\")\n",
    "\n",
    "# Convert UTC time to Unix timestamp\n",
    "unix_time = int(utc_time.timestamp())\n",
    "\n",
    "print(f\"UTC time (from string): {utc_time}\")\n",
    "print(f\"Unix time: {unix_time}\")"
   ]
  },
  {
   "cell_type": "code",
   "execution_count": null,
   "id": "0ae6c0ec-a10c-4fc3-8459-47a008b5ba00",
   "metadata": {},
   "outputs": [],
   "source": []
  }
 ],
 "metadata": {
  "kernelspec": {
   "display_name": "Python 3 (ipykernel)",
   "language": "python",
   "name": "python3"
  },
  "language_info": {
   "codemirror_mode": {
    "name": "ipython",
    "version": 3
   },
   "file_extension": ".py",
   "mimetype": "text/x-python",
   "name": "python",
   "nbconvert_exporter": "python",
   "pygments_lexer": "ipython3",
   "version": "3.9.18"
  }
 },
 "nbformat": 4,
 "nbformat_minor": 5
}
