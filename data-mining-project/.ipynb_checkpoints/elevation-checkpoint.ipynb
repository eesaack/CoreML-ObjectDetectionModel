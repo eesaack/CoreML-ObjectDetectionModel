{
 "cells": [
  {
   "cell_type": "code",
   "execution_count": 30,
   "id": "3f7a38f7-4cb2-4e5b-8ff4-9e73d3794742",
   "metadata": {},
   "outputs": [],
   "source": [
    "import pandas as pd\n",
    "\n",
    "df = pd.read_csv('cleaned.csv')[['lat', 'lon']]\n",
    "\n",
    "def assign_to_cells(latitude, longitude):\n",
    "    cell_size = 0.000898311 # 100 meters\n",
    "    # cell_size = 0.001796622  # 200 meters\n",
    "    # cell_size = 0.004491556  # 500 meters\n",
    "    \n",
    "    cell_latitude = (latitude / cell_size).astype(int) * cell_size\n",
    "    cell_longitude = (longitude / cell_size).astype(int) * cell_size\n",
    "    \n",
    "    return cell_latitude, cell_longitude\n",
    "\n",
    "df['cell_lat'], df['cell_lon'] = assign_to_cells(df['lat'], df['lon'])\n",
    "df.to_csv('cleaned.csv')\n",
    "\n",
    "cdf = df[['cell_lat', 'cell_lon']]\n",
    "cdf = cdf.drop_duplicates()\n",
    "cdf = cdf.sort_values(by=['cell_lat', 'cell_lon'])\n",
    "cdf.to_csv('cells_100.csv', index=False)"
   ]
  },
  {
   "cell_type": "code",
   "execution_count": 2,
   "id": "c19700b0-1b44-4c05-a46f-f70db7791df6",
   "metadata": {},
   "outputs": [],
   "source": [
    "import pandas as pd\n",
    "import folium\n",
    "\n",
    "sorted_cells = pd.read_csv('cells_100.csv')\n",
    "map_center = [sorted_cells['cell_lat'].iloc[0], sorted_cells['cell_lon'].iloc[0]]\n",
    "mymap = folium.Map(location=map_center, zoom_start=12)\n",
    "\n",
    "for index, row in sorted_cells.iterrows():\n",
    "    folium.Marker(\n",
    "        location=[row['cell_lat'], row['cell_lon']],\n",
    "        popup=f'Cell {index}',\n",
    "        icon=folium.Icon(color='blue')\n",
    "    ).add_to(mymap)\n",
    "\n",
    "mymap.save('sorted_cells_map_100m.html')"
   ]
  },
  {
   "cell_type": "code",
   "execution_count": null,
   "id": "6e5496c3-5210-48cb-b4cc-dd1f5268d4eb",
   "metadata": {},
   "outputs": [],
   "source": [
    "import logging\n",
    "import requests\n",
    "import pandas as pd\n",
    "# cells_100.csv >> elevation.csv\n",
    "def request_altitude(df): \n",
    "    for idx, row in df.iterrows():\n",
    "        # if idx < 3188:\n",
    "        #     continue\n",
    "        if 'elevation' in df.columns and not pd.isna(row['elevation']):\n",
    "            continue\n",
    "        # if not pd.isnull(row['elevation']): \n",
    "        #     continue\n",
    "        lat = row['cell_lat']\n",
    "        lon = row['cell_lon']\n",
    "        url = f\"https://api.open-elevation.com/api/v1/lookup?locations={lat},{lon}\"\n",
    "        response = requests.get(url)\n",
    "        if response.status_code == 200:\n",
    "            data = response.json()\n",
    "            print(f'index={idx}')\n",
    "            if 'results' not in data:\n",
    "                logging.info(url)\n",
    "                print(f'skipping url = {url}') \n",
    "                continue\n",
    "            altitude_object = data['results'][0] \n",
    "            elevation = altitude_object['elevation']\n",
    "        \n",
    "            df.loc[idx, 'elevation'] = elevation\n",
    "        else: \n",
    "            print(\"Request failed with status code:\", response.status_code)\n",
    "\n",
    "altitude_df = pd.read_csv('elevation.csv')\n",
    "request_altitude(altitude_df)\n",
    "altitude_df.to_csv('elevation.csv', index=False)"
   ]
  },
  {
   "cell_type": "code",
   "execution_count": null,
   "id": "92408e71-d00f-4e04-9d88-1398fc735a8a",
   "metadata": {},
   "outputs": [],
   "source": [
    "import pandas as pd\n",
    "import matplotlib.pyplot as plt\n",
    "\n",
    "df = pd.read_csv('elevation.csv')\n",
    "\n",
    "plt.scatter(df['cell_lon'], df['cell_lat'], c=df['elevation'], cmap='viridis', s=10)\n",
    "plt.colorbar(label='Elevation')\n",
    "plt.xlabel('Longitude')\n",
    "plt.ylabel('Latitude')\n",
    "plt.title('Elevation Levels on Map')\n",
    "plt.show()"
   ]
  },
  {
   "cell_type": "code",
   "execution_count": null,
   "id": "9da6605a-e876-459b-97bf-46f0c40fd612",
   "metadata": {},
   "outputs": [],
   "source": [
    "import pandas as pd\n",
    "df = pd.read_csv('cleaned2.csv')\n",
    "adf = pd.read_csv('elevation.csv')\n",
    "merged_df = pd.merge(df, adf, on=['cell_lat', 'cell_lon'], how='left')\n",
    "merged_df.drop(['cell_lat', 'cell_lon'], axis=1, inplace=True)\n",
    "merged_df.to_csv('cleaned2.csv', index=False)"
   ]
  },
  {
   "cell_type": "code",
   "execution_count": null,
   "id": "afca30d0-8806-4640-b06f-b990b1e41d29",
   "metadata": {},
   "outputs": [],
   "source": [
    "import pandas as pd\n",
    "df = pd.read_csv('grouped.csv')\n",
    "adf = pd.read_csv('cleaned2.csv')\n",
    "merged_df = pd.merge(df, adf, on=['lat', 'lon'], how='left')\n",
    "merged_df.to_csv('cleaned2.csv', index=False)"
   ]
  }
 ],
 "metadata": {
  "kernelspec": {
   "display_name": "Python 3 (ipykernel)",
   "language": "python",
   "name": "python3"
  },
  "language_info": {
   "codemirror_mode": {
    "name": "ipython",
    "version": 3
   },
   "file_extension": ".py",
   "mimetype": "text/x-python",
   "name": "python",
   "nbconvert_exporter": "python",
   "pygments_lexer": "ipython3",
   "version": "3.9.6"
  }
 },
 "nbformat": 4,
 "nbformat_minor": 5
}
