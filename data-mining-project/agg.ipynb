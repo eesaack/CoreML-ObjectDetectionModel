{
 "cells": [
  {
   "cell_type": "code",
   "execution_count": null,
   "id": "f141584e-91db-4107-b2d8-e0fbd284f639",
   "metadata": {},
   "outputs": [],
   "source": [
    "import pandas as pd\n",
    "df = pd.read_csv('ar41_for_ulb_cleaned.csv')\n",
    "df['timestamps_UTC'] = pd.to_datetime(df['timestamps_UTC'])\n",
    "df['date_hour'] = df['timestamps_UTC'].dt.to_period('H')\n",
    "agg_df = pd.read_csv('ar41_for_ulb_round.csv')\n",
    "agg_df['date_hour'] = pd.to_datetime(agg_df['date_hour'])\n",
    "agg_df['date_hour'] = agg_df['date_hour'].dt.to_period('H')\n",
    "\n",
    "merged_df = pd.merge(df, agg_df, on=['mapped_veh_id', 'date_hour'], how='left')\n",
    "merged_df.to_csv('grouped.csv', index=False)"
   ]
  },
  {
   "cell_type": "code",
   "execution_count": null,
   "id": "36b38d9b-af3b-4eb4-86b7-e7b62ba02bfa",
   "metadata": {},
   "outputs": [],
   "source": []
  }
 ],
 "metadata": {
  "kernelspec": {
   "display_name": "Python 3",
   "language": "python",
   "name": "python3"
  },
  "language_info": {
   "codemirror_mode": {
    "name": "ipython",
    "version": 3
   },
   "file_extension": ".py",
   "mimetype": "text/x-python",
   "name": "python",
   "nbconvert_exporter": "python",
   "pygments_lexer": "ipython3",
   "version": "3.8.8"
  }
 },
 "nbformat": 4,
 "nbformat_minor": 5
}
