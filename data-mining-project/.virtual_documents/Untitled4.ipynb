import pandas as pd
df_1 = pd.read_csv('ar41_for_ulb.csv', sep=';')


df_1.drop('Unnamed: 0', axis=1, inplace=True)


df_1['timestamps_UTC'] = pd.to_datetime(df_1['timestamps_UTC'])
df_1['date_hour'] = df_1['timestamps_UTC'].dt.to_period('H')


df_1


# splitting date and time components into separate columns
df_1['date'] = df_1['date_hour'].dt.strftime('%Y-%m-%d')
df_1['hour'] = df_1['date_hour'].dt.strftime('%H:%M')


df_2 = pd.read_csv('ar41_for_ulb_round.csv')
df_2


df_2['date_hour'] = pd.to_datetime(df_2['date_hour'])


# splitting date and time components into separate columns
df_2['date'] = df_2['date_hour'].dt.strftime('%Y-%m-%d')
df_2['hour'] = df_2['date_hour'].dt.strftime('%H:%M')


df_2


merged_df = pd.merge(df_1, df_2, on=['mapped_veh_id', 'date', 'hour'], how='left')
merged_df


merged_df.to_csv('ar41_for_ulb.csv', index=False)


columns_before_temp = merged_df.loc[:, :'temp']
specified_columns = merged_df[['weather_main', 'weather_description']]
final_df = pd.concat([columns_before_temp, specified_columns], axis=1)


merged_df.columns  #temp, weather_main, 'weather_description', 'elevation'


# Change datatypes
final_df['temp'] = final_df['temp'].astype('Float32')

# Rename 'weather_main' to 'weather'
final_df.rename(columns={'weather_main': 'weather'}, inplace=True)


df_3 = pd.read_csv('elevation.csv')


final_df





df_3['lat'] = df_3['cell_lat']
df_3['lon'] = df_3['cell_lon']


merged_df


merged_df['lat'] = merged_df['lat_x']
merged_df['lon'] = merged_df['lon_x']


final_df = pd.merge(merged_df, df_3, on=['lat', 'lon'], how='left')
final_df


# 'mapped_veh_id', 'timestamps_UTC', 'lat_x', 'lon_x',
#        'RS_E_InAirTemp_PC1', 'RS_E_InAirTemp_PC2', 'RS_E_OilPress_PC1',
#        'RS_E_OilPress_PC2', 'RS_E_RPM_PC1', 'RS_E_RPM_PC2', 'RS_E_WatTemp_PC1',
#        'RS_E_WatTemp_PC2', 'RS_T_OilTemp_PC1', 'RS_T_OilTemp_PC2',
#        'date_hour_x', 'date', 'hour', 'date_hour_y', 'lat_y', 'lon_y', 'temp',
#        'main_feels_like', 'main_pressure', 'main_humidity', 'main_temp_min',
#        'main_temp_max', 'wind_speed', 'wind_deg', 'wind_gust', 'clouds_all',
#        'weather_id', 'weather_main', 'weather_description', 'weather_icon',
#        'lat', 'lon'],
#       dtype='object')
#- Rename the lat, lon
# - Drop unnecessary columns.


final_df.rename(columns={'lat_x': 'lat'}, inplace=True)


result = final_df[(final_df['lat_x'] == 51.0163) & (final_df['lon_x'] == 3.7728)]
result


result = final_df[final_df['lat_x'] == 50.001787]
result


print(final_df['temp'])


final_df


merged_df.columns  #temp, weather_main, 'weather_description', 'elevation'


final_df['temp'] = final_df['temp'].astype('Float32')

# Rename 'weather_main' to 'weather'
final_df.rename(columns={'weather_main': 'weather'}, inplace=True)


final_df.columns


final_df.drop('lon_y', axis=1, inplace=True)


final_df.columns


final_df.rename(columns={'lon_x': 'lon'}, inplace=True)
final_df.head()


df_1 = pd.read_csv('ar41_for_ulb.csv')


df_1.columns


columns_to_drop = ['date_hour_x', 'date', 'hour', 'date_hour_y', 'lat_y', 'lon_y', 'main_feels_like', 'main_pressure', 'main_humidity', 'main_temp_min',
       'main_temp_max', 'wind_speed', 'wind_deg', 'wind_gust', 'clouds_all', 'weather_id', 'weather_icon']
df_dropped = df_1.drop(columns=columns_to_drop)


df_dropped.head()


final_df.to_csv('final.csv', index=False)


import pandas as pd
final_df = pd.read_csv('final.csv')
final_df.isna().sum()



