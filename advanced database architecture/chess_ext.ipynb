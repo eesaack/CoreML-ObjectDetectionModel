{
  "nbformat": 4,
  "nbformat_minor": 0,
  "metadata": {
    "colab": {
      "provenance": []
    },
    "kernelspec": {
      "name": "python3",
      "display_name": "Python 3"
    },
    "language_info": {
      "name": "python"
    }
  },
  "cells": [
    {
      "cell_type": "code",
      "source": [
        "!pip install chess"
      ],
      "metadata": {
        "colab": {
          "base_uri": "https://localhost:8080/"
        },
        "id": "mXXD5TRLAEgJ",
        "outputId": "cf6a022e-fe4f-4ad0-ef60-93286086ecf1"
      },
      "execution_count": 1,
      "outputs": [
        {
          "output_type": "stream",
          "name": "stdout",
          "text": [
            "Collecting chess\n",
            "  Downloading chess-1.10.0-py3-none-any.whl (154 kB)\n",
            "\u001b[?25l     \u001b[90m━━━━━━━━━━━━━━━━━━━━━━━━━━━━━━━━━━━━━━━━\u001b[0m \u001b[32m0.0/154.4 kB\u001b[0m \u001b[31m?\u001b[0m eta \u001b[36m-:--:--\u001b[0m\r\u001b[2K     \u001b[91m━━━━━━━━━━━━━━━\u001b[0m\u001b[91m╸\u001b[0m\u001b[90m━━━━━━━━━━━━━━━━━━━━━━━━\u001b[0m \u001b[32m61.4/154.4 kB\u001b[0m \u001b[31m1.8 MB/s\u001b[0m eta \u001b[36m0:00:01\u001b[0m\r\u001b[2K     \u001b[90m━━━━━━━━━━━━━━━━━━━━━━━━━━━━━━━━━━━━━━━━\u001b[0m \u001b[32m154.4/154.4 kB\u001b[0m \u001b[31m3.0 MB/s\u001b[0m eta \u001b[36m0:00:00\u001b[0m\n",
            "\u001b[?25hInstalling collected packages: chess\n",
            "Successfully installed chess-1.10.0\n"
          ]
        }
      ]
    },
    {
      "cell_type": "code",
      "source": [
        "import chess\n",
        "import re"
      ],
      "metadata": {
        "id": "EPGnO65UJBjN"
      },
      "execution_count": 1,
      "outputs": []
    },
    {
      "cell_type": "code",
      "source": [
        "def extract_numbers(chessgame):\n",
        "  pattern = r'\\ '\n",
        "  l = re.split(pattern, chessgame)\n",
        "  number = len(l) -2\n",
        "  start = 0\n",
        "  lit_num = []\n",
        "  while (start < number):\n",
        "    lit_num.append(start)\n",
        "    start = start + 3\n",
        "  for index in sorted(lit_num, reverse=True):\n",
        "    del l[index]\n",
        "  array = ' '.join(l)\n",
        "  return array"
      ],
      "metadata": {
        "id": "U9o60rnpJ442"
      },
      "execution_count": 2,
      "outputs": []
    },
    {
      "cell_type": "code",
      "source": [
        "def getFirstMoves(chessgame, half_moves):\n",
        "  array = []\n",
        "  pattern = r'\\ '\n",
        "  l = re.split(pattern, chessgame)\n",
        "  number = len(l) -2\n",
        "  start = 0\n",
        "  lit_num = []\n",
        "  while (start < number):\n",
        "    lit_num.append(start)\n",
        "    start = start + 3\n",
        "  for index in sorted(lit_num, reverse=True):\n",
        "    del l[index]\n",
        "  array = l[:half_moves]\n",
        "  n = 2\n",
        "  word = 2\n",
        "  for i in range(n, len(array) + n, n + 1):\n",
        "      array.insert(i, str(word))\n",
        "      word += 1\n",
        "  array.insert(0, str(1))\n",
        "  if half_moves == 4:\n",
        "    array = array[:-1]\n",
        "  elif half_moves in (1,2):\n",
        "    array = array[:-1]\n",
        "  string_array = ' '.join(array)\n",
        "  return string_array"
      ],
      "metadata": {
        "id": "Ba_ortvcJ7_e"
      },
      "execution_count": 3,
      "outputs": []
    },
    {
      "cell_type": "code",
      "execution_count": 4,
      "metadata": {
        "id": "-s3mLIgH_7f9"
      },
      "outputs": [],
      "source": [
        "def getBoard(chessgame):\n",
        "  board = chess.Board()\n",
        "  san_mainline = extract_numbers(chessgame)\n",
        "  for move in san_mainline.split():\n",
        "      board.push_san(move)\n",
        "  return board.fen()"
      ]
    },
    {
      "cell_type": "code",
      "source": [
        "chessgame = '1 e4 e5 2 Nf3 Nf6 3 d3 Nc6 4 Bg5 h6 5 Bxf6 Qxf6 6 Nc3 Bb4'\n",
        "half_moves = 5"
      ],
      "metadata": {
        "id": "ZTEMLKtM_8UQ"
      },
      "execution_count": 5,
      "outputs": []
    },
    {
      "cell_type": "code",
      "source": [
        "getBoard(chessgame)"
      ],
      "metadata": {
        "colab": {
          "base_uri": "https://localhost:8080/",
          "height": 35
        },
        "id": "2T8eST1IEImr",
        "outputId": "85084399-5a74-48b9-8488-a9e0dffac44e"
      },
      "execution_count": 6,
      "outputs": [
        {
          "output_type": "execute_result",
          "data": {
            "text/plain": [
              "'r1b1k2r/pppp1pp1/2n2q1p/4p3/1b2P3/2NP1N2/PPP2PPP/R2QKB1R w KQkq - 2 7'"
            ],
            "application/vnd.google.colaboratory.intrinsic+json": {
              "type": "string"
            }
          },
          "metadata": {},
          "execution_count": 6
        }
      ]
    },
    {
      "cell_type": "code",
      "source": [
        "getFirstMoves(chessgame, 7)"
      ],
      "metadata": {
        "colab": {
          "base_uri": "https://localhost:8080/",
          "height": 35
        },
        "id": "PwGmuDEpbgdS",
        "outputId": "a44a35fa-36a1-4ffc-efa2-bb7825dd3bbe"
      },
      "execution_count": 8,
      "outputs": [
        {
          "output_type": "execute_result",
          "data": {
            "text/plain": [
              "'1 e4 e5 2 Nf3 Nf6 3 d3 Nc6 4 Bg5'"
            ],
            "application/vnd.google.colaboratory.intrinsic+json": {
              "type": "string"
            }
          },
          "metadata": {},
          "execution_count": 8
        }
      ]
    },
    {
      "cell_type": "code",
      "source": [],
      "metadata": {
        "id": "3SG-zo6JJTCs"
      },
      "execution_count": null,
      "outputs": []
    }
  ]
}