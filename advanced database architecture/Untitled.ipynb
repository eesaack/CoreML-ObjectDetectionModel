{
 "cells": [
  {
   "cell_type": "code",
   "execution_count": 3,
   "id": "68c925f9-b40b-479d-be77-35c50fe6a64b",
   "metadata": {},
   "outputs": [],
   "source": [
    "from aif360.datasets import CompasDataset"
   ]
  },
  {
   "cell_type": "code",
   "execution_count": 4,
   "id": "a8a5423a-16a6-44e8-baa5-949d5ac76652",
   "metadata": {},
   "outputs": [],
   "source": [
    "from aif360.algorithms.preprocessing.optim_preproc_helpers.data_preproc_functions import load_preproc_data_compas"
   ]
  },
  {
   "cell_type": "code",
   "execution_count": 5,
   "id": "2ccda77a-7bbd-460f-bc28-f13373d00532",
   "metadata": {},
   "outputs": [],
   "source": [
    "from aif360.datasets import BinaryLabelDataset"
   ]
  },
  {
   "cell_type": "code",
   "execution_count": 19,
   "id": "99513759-8cab-4b32-9bdc-cc0b98c41ec2",
   "metadata": {},
   "outputs": [],
   "source": [
    "# Load and preprocess the COMPAS dataset\n",
    "dataset = load_preproc_data_compas(['race'])"
   ]
  },
  {
   "cell_type": "code",
   "execution_count": 20,
   "id": "2361a1a5-bfb2-4e8c-a773-90207d9ce6f2",
   "metadata": {},
   "outputs": [],
   "source": [
    "privileged_groups = [{'race': 1}]\n",
    "unprivileged_groups = [{'race': 0}]"
   ]
  },
  {
   "cell_type": "code",
   "execution_count": 21,
   "id": "7646da3a-241f-40cc-949c-8faa2896b2d1",
   "metadata": {},
   "outputs": [],
   "source": [
    "protected_attribute_names=['race']"
   ]
  },
  {
   "cell_type": "code",
   "execution_count": 22,
   "id": "e00586dd-7818-4141-898a-6995a6c8ee7c",
   "metadata": {},
   "outputs": [],
   "source": [
    "train, test = dataset.split([0.7], shuffle=True)"
   ]
  },
  {
   "cell_type": "markdown",
   "id": "b742e084-10e7-43ac-9f2f-5e4af05ac47b",
   "metadata": {},
   "source": [
    "<h3>Define Protected Attributes and Measure Initial Bias</h3>"
   ]
  },
  {
   "cell_type": "code",
   "execution_count": 23,
   "id": "ec504753-e963-46be-a8d0-a8d9891c8f7b",
   "metadata": {},
   "outputs": [
    {
     "name": "stdout",
     "output_type": "stream",
     "text": [
      "Original Disparate Impact (Race): 0.7828387025392317\n",
      "Original Statistical Parity Difference (Race): -0.13227942084985456\n"
     ]
    }
   ],
   "source": [
    "from aif360.metrics import BinaryLabelDatasetMetric\n",
    "metric_orig_compas_race = BinaryLabelDatasetMetric(dataset, \n",
    "                                                   unprivileged_groups=[{'race': 0}], \n",
    "                                                   privileged_groups=[{'race': 1}])\n",
    "print(\"Original Disparate Impact (Race):\", metric_orig_compas_race.disparate_impact())\n",
    "print(\"Original Statistical Parity Difference (Race):\", metric_orig_compas_race.statistical_parity_difference())"
   ]
  },
  {
   "cell_type": "markdown",
   "id": "51708f1f-5591-4e12-9f83-531a38bcd54a",
   "metadata": {},
   "source": [
    "<h3>Apply Reweighing Technique</h3>"
   ]
  },
  {
   "cell_type": "code",
   "execution_count": 35,
   "id": "f6bb6507-0605-45f6-8df5-bc69ba9b0797",
   "metadata": {},
   "outputs": [],
   "source": [
    "from aif360.algorithms.preprocessing import Reweighing\n",
    "RW = Reweighing(unprivileged_groups=[{'race': 0}], privileged_groups=[{'race': 1}])\n",
    "compas_dataset_rw = RW.fit_transform(train)"
   ]
  },
  {
   "cell_type": "code",
   "execution_count": 36,
   "id": "4a46f46b-0166-4dcf-a0a4-3beada976a18",
   "metadata": {},
   "outputs": [
    {
     "name": "stdout",
     "output_type": "stream",
     "text": [
      "               instance weights features                                       \\\n",
      "                                         protected attribute                    \n",
      "                                     sex                race age_cat=25 to 45   \n",
      "instance names                                                                  \n",
      "9049                   1.106623      0.0                 0.0              1.0   \n",
      "9440                   1.106623      0.0                 0.0              0.0   \n",
      "1631                   1.195783      0.0                 1.0              0.0   \n",
      "9269                   1.106623      1.0                 0.0              1.0   \n",
      "5130                   1.106623      0.0                 0.0              1.0   \n",
      "...                         ...      ...                 ...              ...   \n",
      "8954                   0.875626      0.0                 1.0              0.0   \n",
      "4262                   0.900041      0.0                 0.0              1.0   \n",
      "10584                  1.195783      0.0                 1.0              1.0   \n",
      "669                    0.900041      0.0                 0.0              0.0   \n",
      "7547                   0.875626      1.0                 1.0              0.0   \n",
      "\n",
      "                                                                            \\\n",
      "                                                                             \n",
      "               age_cat=Greater than 45 age_cat=Less than 25 priors_count=0   \n",
      "instance names                                                               \n",
      "9049                               0.0                  0.0            1.0   \n",
      "9440                               0.0                  1.0            1.0   \n",
      "1631                               1.0                  0.0            0.0   \n",
      "9269                               0.0                  0.0            1.0   \n",
      "5130                               0.0                  0.0            0.0   \n",
      "...                                ...                  ...            ...   \n",
      "8954                               1.0                  0.0            1.0   \n",
      "4262                               0.0                  0.0            0.0   \n",
      "10584                              0.0                  0.0            0.0   \n",
      "669                                0.0                  1.0            0.0   \n",
      "7547                               1.0                  0.0            1.0   \n",
      "\n",
      "                                                                               \\\n",
      "                                                                                \n",
      "               priors_count=1 to 3 priors_count=More than 3 c_charge_degree=F   \n",
      "instance names                                                                  \n",
      "9049                           0.0                      0.0               0.0   \n",
      "9440                           0.0                      0.0               1.0   \n",
      "1631                           1.0                      0.0               1.0   \n",
      "9269                           0.0                      0.0               0.0   \n",
      "5130                           1.0                      0.0               1.0   \n",
      "...                            ...                      ...               ...   \n",
      "8954                           0.0                      0.0               0.0   \n",
      "4262                           1.0                      0.0               1.0   \n",
      "10584                          1.0                      0.0               1.0   \n",
      "669                            1.0                      0.0               1.0   \n",
      "7547                           0.0                      0.0               1.0   \n",
      "\n",
      "                                 labels  \n",
      "                                         \n",
      "               c_charge_degree=M         \n",
      "instance names                           \n",
      "9049                         1.0    0.0  \n",
      "9440                         0.0    0.0  \n",
      "1631                         0.0    1.0  \n",
      "9269                         1.0    0.0  \n",
      "5130                         0.0    0.0  \n",
      "...                          ...    ...  \n",
      "8954                         1.0    0.0  \n",
      "4262                         0.0    1.0  \n",
      "10584                        0.0    1.0  \n",
      "669                          0.0    1.0  \n",
      "7547                         0.0    0.0  \n",
      "\n",
      "[3694 rows x 12 columns]\n"
     ]
    }
   ],
   "source": [
    "print(compas_dataset_rw)"
   ]
  },
  {
   "cell_type": "markdown",
   "id": "b4f0c4ab-f21f-465d-bda6-3fe370377e98",
   "metadata": {},
   "source": [
    "h3>Train on the training dataset</h3>"
   ]
  },
  {
   "cell_type": "code",
   "execution_count": 41,
   "id": "f1396cb8-8584-4174-8a4b-6bc3f631bd66",
   "metadata": {},
   "outputs": [],
   "source": [
    "from sklearn.linear_model import LogisticRegression\n",
    "from sklearn.preprocessing import StandardScaler\n",
    "import numpy as np"
   ]
  },
  {
   "cell_type": "code",
   "execution_count": 42,
   "id": "e67001cc-ce97-4cea-8c60-8e6b0447a9b1",
   "metadata": {},
   "outputs": [],
   "source": [
    "# Logistic regression classifier and predictions\n",
    "scale_orig = StandardScaler()\n",
    "X_train = scale_orig.fit_transform(train.features)\n",
    "y_train = train.labels.ravel()\n",
    "w_train = train.instance_weights.ravel()\n",
    "\n",
    "lmod = LogisticRegression()\n",
    "lmod.fit(X_train, y_train, \n",
    "         sample_weight=train.instance_weights)\n",
    "y_train_pred = lmod.predict(X_train)\n",
    "\n",
    "# positive class index\n",
    "pos_ind = np.where(lmod.classes_ == train.favorable_label)[0][0]\n",
    "\n",
    "train_pred = train.copy()\n",
    "train_pred.labels = y_train_pred"
   ]
  },
  {
   "cell_type": "code",
   "execution_count": null,
   "id": "f94d39fa-7305-485e-94aa-8e316293d2da",
   "metadata": {},
   "outputs": [],
   "source": [
    "dataset_orig_valid_pred = dataset_orig_valid.copy(deepcopy=True)\n",
    "X_valid = scale_orig.transform(dataset_orig_valid_pred.features)\n",
    "y_valid = dataset_orig_valid_pred.labels\n",
    "dataset_orig_valid_pred.scores = lmod.predict_proba(X_valid)[:,pos_ind].reshape(-1,1)\n",
    "print(dataset_orig_valid_pred.scores[:10])\n",
    "\n",
    "dataset_orig_test_pred = dataset_orig_test.copy(deepcopy=True)\n",
    "X_test = scale_orig.transform(dataset_orig_test_pred.features)\n",
    "y_test = dataset_orig_test_pred.labels\n",
    "dataset_orig_test_pred.scores = lmod.predict_proba(X_test)[:,pos_ind].reshape(-1,1)"
   ]
  },
  {
   "cell_type": "code",
   "execution_count": 26,
   "id": "7c7b630d-c514-4d24-a39f-45bc293a4a1c",
   "metadata": {},
   "outputs": [],
   "source": [
    "from IPython.display import Markdown, display"
   ]
  },
  {
   "cell_type": "code",
   "execution_count": 27,
   "id": "af77b356-f39e-4533-b54a-a2477a328b7c",
   "metadata": {},
   "outputs": [
    {
     "data": {
      "text/markdown": [
       "#### Training Dataset shape"
      ],
      "text/plain": [
       "<IPython.core.display.Markdown object>"
      ]
     },
     "metadata": {},
     "output_type": "display_data"
    },
    {
     "name": "stdout",
     "output_type": "stream",
     "text": [
      "(5278, 10)\n"
     ]
    },
    {
     "data": {
      "text/markdown": [
       "#### Favorable and unfavorable labels"
      ],
      "text/plain": [
       "<IPython.core.display.Markdown object>"
      ]
     },
     "metadata": {},
     "output_type": "display_data"
    },
    {
     "name": "stdout",
     "output_type": "stream",
     "text": [
      "0.0 1.0\n"
     ]
    },
    {
     "data": {
      "text/markdown": [
       "#### Protected attribute names"
      ],
      "text/plain": [
       "<IPython.core.display.Markdown object>"
      ]
     },
     "metadata": {},
     "output_type": "display_data"
    },
    {
     "name": "stdout",
     "output_type": "stream",
     "text": [
      "['race']\n"
     ]
    },
    {
     "data": {
      "text/markdown": [
       "#### Privileged and unprivileged protected attribute values"
      ],
      "text/plain": [
       "<IPython.core.display.Markdown object>"
      ]
     },
     "metadata": {},
     "output_type": "display_data"
    },
    {
     "name": "stdout",
     "output_type": "stream",
     "text": [
      "[array([1.])] [array([0.])]\n"
     ]
    },
    {
     "data": {
      "text/markdown": [
       "#### Dataset feature names"
      ],
      "text/plain": [
       "<IPython.core.display.Markdown object>"
      ]
     },
     "metadata": {},
     "output_type": "display_data"
    },
    {
     "name": "stdout",
     "output_type": "stream",
     "text": [
      "['sex', 'race', 'age_cat=25 to 45', 'age_cat=Greater than 45', 'age_cat=Less than 25', 'priors_count=0', 'priors_count=1 to 3', 'priors_count=More than 3', 'c_charge_degree=F', 'c_charge_degree=M']\n"
     ]
    }
   ],
   "source": [
    "# print out some labels, names, etc.\n",
    "display(Markdown(\"#### Training Dataset shape\"))\n",
    "print(dataset.features.shape)\n",
    "display(Markdown(\"#### Favorable and unfavorable labels\"))\n",
    "print(dataset.favorable_label, dataset.unfavorable_label)\n",
    "display(Markdown(\"#### Protected attribute names\"))\n",
    "print(dataset.protected_attribute_names)\n",
    "display(Markdown(\"#### Privileged and unprivileged protected attribute values\"))\n",
    "print(dataset.privileged_protected_attributes, \n",
    "      dataset.unprivileged_protected_attributes)\n",
    "display(Markdown(\"#### Dataset feature names\"))\n",
    "print(dataset.feature_names)"
   ]
  },
  {
   "cell_type": "code",
   "execution_count": 28,
   "id": "4228c317-3fa0-45c2-b8fa-8f13d4dde551",
   "metadata": {},
   "outputs": [
    {
     "ename": "ValueError",
     "evalue": "'sex' is not in list",
     "output_type": "error",
     "traceback": [
      "\u001b[0;31m---------------------------------------------------------------------------\u001b[0m",
      "\u001b[0;31mValueError\u001b[0m                                Traceback (most recent call last)",
      "Cell \u001b[0;32mIn[28], line 1\u001b[0m\n\u001b[0;32m----> 1\u001b[0m metric_rw_compas_sex \u001b[38;5;241m=\u001b[39m \u001b[43mBinaryLabelDatasetMetric\u001b[49m\u001b[43m(\u001b[49m\u001b[43mcompas_dataset_rw\u001b[49m\u001b[43m,\u001b[49m\u001b[43m \u001b[49m\n\u001b[1;32m      2\u001b[0m \u001b[43m                                                \u001b[49m\u001b[43munprivileged_groups\u001b[49m\u001b[38;5;241;43m=\u001b[39;49m\u001b[43m[\u001b[49m\u001b[43m{\u001b[49m\u001b[38;5;124;43m'\u001b[39;49m\u001b[38;5;124;43msex\u001b[39;49m\u001b[38;5;124;43m'\u001b[39;49m\u001b[43m:\u001b[49m\u001b[43m \u001b[49m\u001b[38;5;241;43m0\u001b[39;49m\u001b[43m}\u001b[49m\u001b[43m]\u001b[49m\u001b[43m,\u001b[49m\u001b[43m \u001b[49m\n\u001b[1;32m      3\u001b[0m \u001b[43m                                                \u001b[49m\u001b[43mprivileged_groups\u001b[49m\u001b[38;5;241;43m=\u001b[39;49m\u001b[43m[\u001b[49m\u001b[43m{\u001b[49m\u001b[38;5;124;43m'\u001b[39;49m\u001b[38;5;124;43msex\u001b[39;49m\u001b[38;5;124;43m'\u001b[39;49m\u001b[43m:\u001b[49m\u001b[43m \u001b[49m\u001b[38;5;241;43m1\u001b[39;49m\u001b[43m}\u001b[49m\u001b[43m]\u001b[49m\u001b[43m)\u001b[49m\n\u001b[1;32m      4\u001b[0m \u001b[38;5;28mprint\u001b[39m(\u001b[38;5;124m\"\u001b[39m\u001b[38;5;124mDisparate Impact After Reweighing (Sex):\u001b[39m\u001b[38;5;124m\"\u001b[39m, metric_rw_compas_sex\u001b[38;5;241m.\u001b[39mdisparate_impact())\n\u001b[1;32m      5\u001b[0m \u001b[38;5;28mprint\u001b[39m(\u001b[38;5;124m\"\u001b[39m\u001b[38;5;124mStatistical Parity Difference After Reweighing (Sex):\u001b[39m\u001b[38;5;124m\"\u001b[39m, metric_rw_compas_sex\u001b[38;5;241m.\u001b[39mstatistical_parity_difference())\n",
      "File \u001b[0;32m~/anaconda3/envs/bmpn4/lib/python3.9/site-packages/aif360/metrics/binary_label_dataset_metric.py:34\u001b[0m, in \u001b[0;36mBinaryLabelDatasetMetric.__init__\u001b[0;34m(self, dataset, unprivileged_groups, privileged_groups)\u001b[0m\n\u001b[1;32m     31\u001b[0m     \u001b[38;5;28;01mraise\u001b[39;00m \u001b[38;5;167;01mTypeError\u001b[39;00m(\u001b[38;5;124m\"\u001b[39m\u001b[38;5;124m'\u001b[39m\u001b[38;5;124mdataset\u001b[39m\u001b[38;5;124m'\u001b[39m\u001b[38;5;124m should be a BinaryLabelDataset or a MulticlassLabelDataset\u001b[39m\u001b[38;5;124m\"\u001b[39m)\n\u001b[1;32m     33\u001b[0m \u001b[38;5;66;03m# sets self.dataset, self.unprivileged_groups, self.privileged_groups\u001b[39;00m\n\u001b[0;32m---> 34\u001b[0m \u001b[38;5;28;43msuper\u001b[39;49m\u001b[43m(\u001b[49m\u001b[43mBinaryLabelDatasetMetric\u001b[49m\u001b[43m,\u001b[49m\u001b[43m \u001b[49m\u001b[38;5;28;43mself\u001b[39;49m\u001b[43m)\u001b[49m\u001b[38;5;241;43m.\u001b[39;49m\u001b[38;5;21;43m__init__\u001b[39;49m\u001b[43m(\u001b[49m\u001b[43mdataset\u001b[49m\u001b[43m,\u001b[49m\n\u001b[1;32m     35\u001b[0m \u001b[43m    \u001b[49m\u001b[43munprivileged_groups\u001b[49m\u001b[38;5;241;43m=\u001b[39;49m\u001b[43munprivileged_groups\u001b[49m\u001b[43m,\u001b[49m\n\u001b[1;32m     36\u001b[0m \u001b[43m    \u001b[49m\u001b[43mprivileged_groups\u001b[49m\u001b[38;5;241;43m=\u001b[39;49m\u001b[43mprivileged_groups\u001b[49m\u001b[43m)\u001b[49m\n\u001b[1;32m     38\u001b[0m \u001b[38;5;28;01mif\u001b[39;00m \u001b[38;5;28misinstance\u001b[39m(dataset, MulticlassLabelDataset):\n\u001b[1;32m     39\u001b[0m     fav_label_value \u001b[38;5;241m=\u001b[39m \u001b[38;5;241m1.\u001b[39m\n",
      "File \u001b[0;32m~/anaconda3/envs/bmpn4/lib/python3.9/site-packages/aif360/metrics/dataset_metric.py:48\u001b[0m, in \u001b[0;36mDatasetMetric.__init__\u001b[0;34m(self, dataset, unprivileged_groups, privileged_groups)\u001b[0m\n\u001b[1;32m     45\u001b[0m \u001b[38;5;28;01mif\u001b[39;00m \u001b[38;5;129;01mnot\u001b[39;00m \u001b[38;5;28mself\u001b[39m\u001b[38;5;241m.\u001b[39mprivileged_groups \u001b[38;5;129;01mor\u001b[39;00m \u001b[38;5;129;01mnot\u001b[39;00m \u001b[38;5;28mself\u001b[39m\u001b[38;5;241m.\u001b[39munprivileged_groups:\n\u001b[1;32m     46\u001b[0m     \u001b[38;5;28;01mreturn\u001b[39;00m\n\u001b[0;32m---> 48\u001b[0m priv_mask \u001b[38;5;241m=\u001b[39m \u001b[43mutils\u001b[49m\u001b[38;5;241;43m.\u001b[39;49m\u001b[43mcompute_boolean_conditioning_vector\u001b[49m\u001b[43m(\u001b[49m\n\u001b[1;32m     49\u001b[0m \u001b[43m    \u001b[49m\u001b[38;5;28;43mself\u001b[39;49m\u001b[38;5;241;43m.\u001b[39;49m\u001b[43mdataset\u001b[49m\u001b[38;5;241;43m.\u001b[39;49m\u001b[43mprotected_attributes\u001b[49m\u001b[43m,\u001b[49m\n\u001b[1;32m     50\u001b[0m \u001b[43m    \u001b[49m\u001b[38;5;28;43mself\u001b[39;49m\u001b[38;5;241;43m.\u001b[39;49m\u001b[43mdataset\u001b[49m\u001b[38;5;241;43m.\u001b[39;49m\u001b[43mprotected_attribute_names\u001b[49m\u001b[43m,\u001b[49m\u001b[43m \u001b[49m\u001b[38;5;28;43mself\u001b[39;49m\u001b[38;5;241;43m.\u001b[39;49m\u001b[43mprivileged_groups\u001b[49m\u001b[43m)\u001b[49m\n\u001b[1;32m     51\u001b[0m unpriv_mask \u001b[38;5;241m=\u001b[39m utils\u001b[38;5;241m.\u001b[39mcompute_boolean_conditioning_vector(\n\u001b[1;32m     52\u001b[0m     \u001b[38;5;28mself\u001b[39m\u001b[38;5;241m.\u001b[39mdataset\u001b[38;5;241m.\u001b[39mprotected_attributes,\n\u001b[1;32m     53\u001b[0m     \u001b[38;5;28mself\u001b[39m\u001b[38;5;241m.\u001b[39mdataset\u001b[38;5;241m.\u001b[39mprotected_attribute_names, \u001b[38;5;28mself\u001b[39m\u001b[38;5;241m.\u001b[39munprivileged_groups)\n\u001b[1;32m     54\u001b[0m \u001b[38;5;28;01mif\u001b[39;00m np\u001b[38;5;241m.\u001b[39many(np\u001b[38;5;241m.\u001b[39mlogical_and(priv_mask, unpriv_mask)):\n",
      "File \u001b[0;32m~/anaconda3/envs/bmpn4/lib/python3.9/site-packages/aif360/metrics/utils.py:35\u001b[0m, in \u001b[0;36mcompute_boolean_conditioning_vector\u001b[0;34m(X, feature_names, condition)\u001b[0m\n\u001b[1;32m     33\u001b[0m group_cond \u001b[38;5;241m=\u001b[39m np\u001b[38;5;241m.\u001b[39mones(X\u001b[38;5;241m.\u001b[39mshape[\u001b[38;5;241m0\u001b[39m], dtype\u001b[38;5;241m=\u001b[39m\u001b[38;5;28mbool\u001b[39m)\n\u001b[1;32m     34\u001b[0m \u001b[38;5;28;01mfor\u001b[39;00m name, val \u001b[38;5;129;01min\u001b[39;00m group\u001b[38;5;241m.\u001b[39mitems():\n\u001b[0;32m---> 35\u001b[0m     index \u001b[38;5;241m=\u001b[39m \u001b[43mfeature_names\u001b[49m\u001b[38;5;241;43m.\u001b[39;49m\u001b[43mindex\u001b[49m\u001b[43m(\u001b[49m\u001b[43mname\u001b[49m\u001b[43m)\u001b[49m\n\u001b[1;32m     36\u001b[0m     group_cond \u001b[38;5;241m=\u001b[39m np\u001b[38;5;241m.\u001b[39mlogical_and(group_cond, X[:, index] \u001b[38;5;241m==\u001b[39m val)\n\u001b[1;32m     37\u001b[0m overall_cond \u001b[38;5;241m=\u001b[39m np\u001b[38;5;241m.\u001b[39mlogical_or(overall_cond, group_cond)\n",
      "\u001b[0;31mValueError\u001b[0m: 'sex' is not in list"
     ]
    }
   ],
   "source": [
    "metric_rw_compas_sex = BinaryLabelDatasetMetric(compas_dataset_rw, \n",
    "                                                unprivileged_groups=[{'sex': 0}], \n",
    "                                                privileged_groups=[{'sex': 1}])\n",
    "print(\"Disparate Impact After Reweighing (Sex):\", metric_rw_compas_sex.disparate_impact())\n",
    "print(\"Statistical Parity Difference After Reweighing (Sex):\", metric_rw_compas_sex.statistical_parity_difference())"
   ]
  },
  {
   "cell_type": "code",
   "execution_count": 29,
   "id": "d35cabd8-a681-4044-b91d-60a6278433de",
   "metadata": {},
   "outputs": [],
   "source": [
    "dataset_sex = load_preproc_data_compas()"
   ]
  },
  {
   "cell_type": "code",
   "execution_count": 30,
   "id": "75077b97-7e01-4401-ad97-2f45e300ac09",
   "metadata": {},
   "outputs": [
    {
     "name": "stdout",
     "output_type": "stream",
     "text": [
      "               instance weights features                                       \\\n",
      "                                         protected attribute                    \n",
      "                                     sex                race age_cat=25 to 45   \n",
      "instance names                                                                  \n",
      "3                           1.0      0.0                 0.0              1.0   \n",
      "4                           1.0      0.0                 0.0              0.0   \n",
      "8                           1.0      0.0                 1.0              1.0   \n",
      "10                          1.0      1.0                 1.0              1.0   \n",
      "14                          1.0      0.0                 1.0              1.0   \n",
      "...                         ...      ...                 ...              ...   \n",
      "10994                       1.0      0.0                 0.0              1.0   \n",
      "10995                       1.0      0.0                 0.0              0.0   \n",
      "10996                       1.0      0.0                 0.0              0.0   \n",
      "10997                       1.0      0.0                 0.0              0.0   \n",
      "11000                       1.0      1.0                 0.0              1.0   \n",
      "\n",
      "                                                                            \\\n",
      "                                                                             \n",
      "               age_cat=Greater than 45 age_cat=Less than 25 priors_count=0   \n",
      "instance names                                                               \n",
      "3                                  0.0                  0.0            1.0   \n",
      "4                                  0.0                  1.0            0.0   \n",
      "8                                  0.0                  0.0            0.0   \n",
      "10                                 0.0                  0.0            1.0   \n",
      "14                                 0.0                  0.0            1.0   \n",
      "...                                ...                  ...            ...   \n",
      "10994                              0.0                  0.0            1.0   \n",
      "10995                              0.0                  1.0            1.0   \n",
      "10996                              0.0                  1.0            1.0   \n",
      "10997                              0.0                  1.0            1.0   \n",
      "11000                              0.0                  0.0            0.0   \n",
      "\n",
      "                                                                               \\\n",
      "                                                                                \n",
      "               priors_count=1 to 3 priors_count=More than 3 c_charge_degree=F   \n",
      "instance names                                                                  \n",
      "3                              0.0                      0.0               1.0   \n",
      "4                              0.0                      1.0               1.0   \n",
      "8                              0.0                      1.0               1.0   \n",
      "10                             0.0                      0.0               0.0   \n",
      "14                             0.0                      0.0               1.0   \n",
      "...                            ...                      ...               ...   \n",
      "10994                          0.0                      0.0               0.0   \n",
      "10995                          0.0                      0.0               1.0   \n",
      "10996                          0.0                      0.0               1.0   \n",
      "10997                          0.0                      0.0               1.0   \n",
      "11000                          1.0                      0.0               0.0   \n",
      "\n",
      "                                 labels  \n",
      "                                         \n",
      "               c_charge_degree=M         \n",
      "instance names                           \n",
      "3                            0.0    1.0  \n",
      "4                            0.0    1.0  \n",
      "8                            0.0    1.0  \n",
      "10                           1.0    0.0  \n",
      "14                           0.0    0.0  \n",
      "...                          ...    ...  \n",
      "10994                        1.0    1.0  \n",
      "10995                        0.0    0.0  \n",
      "10996                        0.0    0.0  \n",
      "10997                        0.0    0.0  \n",
      "11000                        1.0    0.0  \n",
      "\n",
      "[5278 rows x 12 columns]\n"
     ]
    }
   ],
   "source": [
    "print(dataset)"
   ]
  },
  {
   "cell_type": "code",
   "execution_count": 31,
   "id": "561f8e93-a5af-42f8-99d8-0b9f99432006",
   "metadata": {},
   "outputs": [],
   "source": [
    "privileged_groups = [{'sex': 1}]\n",
    "unprivileged_groups = [{'sex': 0}]"
   ]
  },
  {
   "cell_type": "code",
   "execution_count": 32,
   "id": "afe1f6e3-c923-46ea-be9a-f672e2f51183",
   "metadata": {},
   "outputs": [],
   "source": [
    "protected_attribute_names=['sex']"
   ]
  },
  {
   "cell_type": "code",
   "execution_count": 33,
   "id": "9e12c830-9fac-4f9a-a1dc-3864052e9603",
   "metadata": {},
   "outputs": [],
   "source": [
    "train, test = dataset_sex.split([0.7], shuffle=True)"
   ]
  },
  {
   "cell_type": "code",
   "execution_count": 34,
   "id": "cec3e872-2721-4f59-97ae-31e3dc38344d",
   "metadata": {},
   "outputs": [
    {
     "name": "stdout",
     "output_type": "stream",
     "text": [
      "Original Disparate Impact (Sex): 0.788415280444698\n",
      "Original Statistical Parity Difference (Sex): -0.1350366105406292\n"
     ]
    }
   ],
   "source": [
    "metric_orig_compas_sex = BinaryLabelDatasetMetric(dataset_sex, \n",
    "                                                   unprivileged_groups=[{'sex': 0}], \n",
    "                                                   privileged_groups=[{'sex': 1}])\n",
    "print(\"Original Disparate Impact (Sex):\", metric_orig_compas_sex.disparate_impact())\n",
    "print(\"Original Statistical Parity Difference (Sex):\", metric_orig_compas_sex.statistical_parity_difference())"
   ]
  },
  {
   "cell_type": "code",
   "execution_count": null,
   "id": "76c4a620-26d6-49e7-b9a3-6e028483c97b",
   "metadata": {},
   "outputs": [],
   "source": [
    "RW = Reweighing(unprivileged_groups=[{'sex': 0}], privileged_groups=[{'sex': 1}])\n",
    "compas_dataset_rw = RW.fit_transform(dataset_sex)"
   ]
  }
 ],
 "metadata": {
  "kernelspec": {
   "display_name": "Python 3 (ipykernel)",
   "language": "python",
   "name": "python3"
  },
  "language_info": {
   "codemirror_mode": {
    "name": "ipython",
    "version": 3
   },
   "file_extension": ".py",
   "mimetype": "text/x-python",
   "name": "python",
   "nbconvert_exporter": "python",
   "pygments_lexer": "ipython3",
   "version": "3.9.18"
  }
 },
 "nbformat": 4,
 "nbformat_minor": 5
}
