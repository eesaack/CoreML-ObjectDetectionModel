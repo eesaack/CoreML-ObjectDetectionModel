{
 "cells": [
  {
   "cell_type": "code",
   "execution_count": 1,
   "id": "9d371b9e-a39e-4ed1-adbc-cee88c914b12",
   "metadata": {},
   "outputs": [],
   "source": [
    "%matplotlib inline\n",
    "# Load all necessary packages\n",
    "# import sys\n",
    "# sys.path.append(\"../\")\n",
    "import numpy as np\n",
    "from tqdm import tqdm"
   ]
  },
  {
   "cell_type": "code",
   "execution_count": 3,
   "id": "bee60cf9-2fdd-4c0a-99dd-a3efdda3c058",
   "metadata": {},
   "outputs": [],
   "source": [
    "from aif360.datasets import BinaryLabelDataset"
   ]
  },
  {
   "cell_type": "code",
   "execution_count": 4,
   "id": "81d39651-280e-4162-9ab5-659d035d924f",
   "metadata": {},
   "outputs": [],
   "source": [
    "from aif360.datasets import CompasDataset"
   ]
  },
  {
   "cell_type": "code",
   "execution_count": 5,
   "id": "2eb6f43e-9a68-4506-bac0-6d353d725755",
   "metadata": {},
   "outputs": [],
   "source": [
    "from aif360.metrics import BinaryLabelDatasetMetric\n",
    "from aif360.metrics import ClassificationMetric\n",
    "from aif360.algorithms.preprocessing.reweighing import Reweighing\n",
    "from aif360.algorithms.preprocessing.optim_preproc_helpers.data_preproc_functions\\\n",
    "        import load_preproc_data_adult, load_preproc_data_german, load_preproc_data_compas\n",
    "from sklearn.linear_model import LogisticRegression\n",
    "from sklearn.preprocessing import StandardScaler\n",
    "from sklearn.metrics import accuracy_score\n",
    "\n",
    "from IPython.display import Markdown, display\n",
    "import matplotlib.pyplot as plt"
   ]
  },
  {
   "cell_type": "code",
   "execution_count": 6,
   "id": "d406738c-f906-4d38-9aba-be2e52c6dc72",
   "metadata": {},
   "outputs": [],
   "source": [
    "# Load and preprocess the COMPAS dataset\n",
    "dataset_race = load_preproc_data_compas(['race'])"
   ]
  },
  {
   "cell_type": "code",
   "execution_count": 7,
   "id": "6ee2ad5e-4ad4-4826-9c09-59dd36e629a1",
   "metadata": {},
   "outputs": [],
   "source": [
    "privileged_groups = [{'race': 1}]\n",
    "unprivileged_groups = [{'race': 0}]"
   ]
  },
  {
   "cell_type": "markdown",
   "id": "05447c45-27e4-4f2e-9ce4-8f03ad28b65c",
   "metadata": {},
   "source": [
    "<h3>1. Take the dataset with \"race\" as the protected attribute</h3>"
   ]
  },
  {
   "cell_type": "code",
   "execution_count": 8,
   "id": "c4649239-f218-4fde-84fb-a5fd9d3c7476",
   "metadata": {},
   "outputs": [],
   "source": [
    "protected_attribute_names=['race']"
   ]
  },
  {
   "cell_type": "markdown",
   "id": "9e0446aa-ea11-4518-906c-b142ac188bac",
   "metadata": {},
   "source": [
    "<h3>2. Split the dataset into training and test set</h3>"
   ]
  },
  {
   "cell_type": "code",
   "execution_count": 9,
   "id": "8dac9c08-8cf6-4e1b-85ea-0dcebe058495",
   "metadata": {},
   "outputs": [],
   "source": [
    "race_train, race_test = dataset_race.split([0.7], shuffle=True)\n",
    "\n",
    "dataset_race_train, dataset_race_vt = dataset_orig.split([0.7], shuffle=True)\n",
    "dataset_race_valid, dataset_race_test = dataset_orig_vt.split([0.5], shuffle=True)"
   ]
  },
  {
   "cell_type": "markdown",
   "id": "11d7a924-ffbf-4936-884f-1bd43bbbdb7e",
   "metadata": {},
   "source": [
    "<h3>3. Fix the bias for \"race\" using reweighing technique in the training set</h3>"
   ]
  },
  {
   "cell_type": "code",
   "execution_count": 11,
   "id": "0a2da41c-0a3e-4a26-9362-5cbb279e6294",
   "metadata": {},
   "outputs": [],
   "source": [
    "from aif360.algorithms.preprocessing import Reweighing\n",
    "RW = Reweighing(unprivileged_groups=[{'race': 0}], privileged_groups=[{'race': 1}])\n",
    "compas_dataset_rw = RW.fit_transform(race_train)"
   ]
  },
  {
   "cell_type": "markdown",
   "id": "81cdd0d5-8730-44eb-a368-4d711ab4238c",
   "metadata": {},
   "source": [
    "<h4>Define Protected Attributes and Measure Initial Bias</h4> "
   ]
  },
  {
   "cell_type": "code",
   "execution_count": 12,
   "id": "c8167d91-711a-4d6e-ae30-eec153d67d89",
   "metadata": {},
   "outputs": [
    {
     "name": "stdout",
     "output_type": "stream",
     "text": [
      "Original Disparate Impact (Race): 0.7828387025392317\n",
      "Original Statistical Parity Difference (Race): -0.13227942084985456\n"
     ]
    }
   ],
   "source": [
    "from aif360.metrics import BinaryLabelDatasetMetric\n",
    "metric_orig_compas_race = BinaryLabelDatasetMetric(dataset_race, \n",
    "                                                   unprivileged_groups=[{'race': 0}], \n",
    "                                                   privileged_groups=[{'race': 1}])\n",
    "print(\"Original Disparate Impact (Race):\", metric_orig_compas_race.disparate_impact())\n",
    "print(\"Original Statistical Parity Difference (Race):\", metric_orig_compas_race.statistical_parity_difference())"
   ]
  },
  {
   "cell_type": "markdown",
   "id": "f88fb8ca-b852-4972-b9d8-b8677682ce19",
   "metadata": {},
   "source": [
    "<h3>Metric with the transformed training data (race)</h3>"
   ]
  },
  {
   "cell_type": "code",
   "execution_count": 13,
   "id": "6c64c6bb-ca14-44f8-8066-0a31031bb63a",
   "metadata": {},
   "outputs": [
    {
     "data": {
      "text/markdown": [
       "#### Transformed training dataset"
      ],
      "text/plain": [
       "<IPython.core.display.Markdown object>"
      ]
     },
     "metadata": {},
     "output_type": "display_data"
    },
    {
     "name": "stdout",
     "output_type": "stream",
     "text": [
      "Difference in mean outcomes between unprivileged and privileged groups = -0.132279\n"
     ]
    }
   ],
   "source": [
    "metric_orig_compas_race = BinaryLabelDatasetMetric(dataset_race, \n",
    "                                         unprivileged_groups=unprivileged_groups,\n",
    "                                         privileged_groups=privileged_groups)\n",
    "display(Markdown(\"#### Transformed training dataset\"))\n",
    "print(\"Difference in mean outcomes between unprivileged and privileged groups = %f\" % metric_orig_compas_race.mean_difference())"
   ]
  },
  {
   "cell_type": "markdown",
   "id": "29eb33d3-73c1-455c-b91e-9a3a49db01c1",
   "metadata": {},
   "source": [
    "<h3>Train classifier on Race Dataset</h3>"
   ]
  },
  {
   "cell_type": "code",
   "execution_count": 15,
   "id": "1db59d50-3312-41af-9aef-9dbbe4826de6",
   "metadata": {},
   "outputs": [],
   "source": [
    "# Logistic regression classifier and predictions\n",
    "scale_orig = StandardScaler()\n",
    "X_train = scale_orig.fit_transform(race_train.features)\n",
    "y_train = race_train.labels.ravel()\n",
    "w_train = race_train.instance_weights.ravel()\n",
    "\n",
    "lmod = LogisticRegression()\n",
    "lmod.fit(X_train, y_train, \n",
    "         sample_weight=race_train.instance_weights)\n",
    "y_train_pred = lmod.predict(X_train)\n",
    "\n",
    "# positive class index\n",
    "pos_ind = np.where(lmod.classes_ == race_train.favorable_label)[0][0]\n",
    "\n",
    "dataset_race_train_pred = race_train.copy()\n",
    "dataset_race_train_pred.labels = y_train_pred"
   ]
  },
  {
   "cell_type": "code",
   "execution_count": null,
   "id": "44af04c7-88e9-4f19-b10c-6a96bf53aaf8",
   "metadata": {},
   "outputs": [],
   "source": [
    "dataset_race_test_pred = race_test.copy(deepcopy=True)\n",
    "X_valid = scale_orig.transform(dataset_race_test_pred.features)\n",
    "y_valid = dataset_race_test_pred.labels\n",
    "dataset_race_test_pred.scores = lmod.predict_proba(X_valid)[:,pos_ind].reshape(-1,1)\n",
    "print(dataset_race_test_pred.scores[:10])\n",
    "\n",
    "dataset_orig_test_pred = dataset_orig_test.copy(deepcopy=True)\n",
    "X_test = scale_orig.transform(dataset_orig_test_pred.features)\n",
    "y_test = dataset_orig_test_pred.labels\n",
    "dataset_orig_test_pred.scores = lmod.predict_proba(X_test)[:,pos_ind].reshape(-1,1)"
   ]
  },
  {
   "cell_type": "code",
   "execution_count": null,
   "id": "4b03a6b1-398f-4772-9969-4f05e9602f23",
   "metadata": {},
   "outputs": [],
   "source": [
    "#if you want to see the dataset run this\n",
    "print(compas_dataset_rw)"
   ]
  },
  {
   "cell_type": "code",
   "execution_count": 14,
   "id": "7cbd2ce4-85ce-4ff2-855a-39a066c36369",
   "metadata": {},
   "outputs": [
    {
     "data": {
      "text/markdown": [
       "#### Training Dataset shape"
      ],
      "text/plain": [
       "<IPython.core.display.Markdown object>"
      ]
     },
     "metadata": {},
     "output_type": "display_data"
    },
    {
     "name": "stdout",
     "output_type": "stream",
     "text": [
      "(5278, 10)\n"
     ]
    },
    {
     "data": {
      "text/markdown": [
       "#### Favorable and unfavorable labels"
      ],
      "text/plain": [
       "<IPython.core.display.Markdown object>"
      ]
     },
     "metadata": {},
     "output_type": "display_data"
    },
    {
     "name": "stdout",
     "output_type": "stream",
     "text": [
      "0.0 1.0\n"
     ]
    },
    {
     "data": {
      "text/markdown": [
       "#### Protected attribute names"
      ],
      "text/plain": [
       "<IPython.core.display.Markdown object>"
      ]
     },
     "metadata": {},
     "output_type": "display_data"
    },
    {
     "name": "stdout",
     "output_type": "stream",
     "text": [
      "['race']\n"
     ]
    },
    {
     "data": {
      "text/markdown": [
       "#### Privileged and unprivileged protected attribute values"
      ],
      "text/plain": [
       "<IPython.core.display.Markdown object>"
      ]
     },
     "metadata": {},
     "output_type": "display_data"
    },
    {
     "name": "stdout",
     "output_type": "stream",
     "text": [
      "[array([1.])] [array([0.])]\n"
     ]
    },
    {
     "data": {
      "text/markdown": [
       "#### Dataset feature names"
      ],
      "text/plain": [
       "<IPython.core.display.Markdown object>"
      ]
     },
     "metadata": {},
     "output_type": "display_data"
    },
    {
     "name": "stdout",
     "output_type": "stream",
     "text": [
      "['sex', 'race', 'age_cat=25 to 45', 'age_cat=Greater than 45', 'age_cat=Less than 25', 'priors_count=0', 'priors_count=1 to 3', 'priors_count=More than 3', 'c_charge_degree=F', 'c_charge_degree=M']\n"
     ]
    }
   ],
   "source": [
    "# print out some labels, names, etc.\n",
    "display(Markdown(\"#### Training Dataset shape\"))\n",
    "print(dataset_race.features.shape)\n",
    "display(Markdown(\"#### Favorable and unfavorable labels\"))\n",
    "print(dataset_race.favorable_label, dataset_race.unfavorable_label)\n",
    "display(Markdown(\"#### Protected attribute names\"))\n",
    "print(dataset_race.protected_attribute_names)\n",
    "display(Markdown(\"#### Privileged and unprivileged protected attribute values\"))\n",
    "print(dataset_race.privileged_protected_attributes, \n",
    "      dataset_race.unprivileged_protected_attributes)\n",
    "display(Markdown(\"#### Dataset feature names\"))\n",
    "print(dataset_race.feature_names)"
   ]
  },
  {
   "cell_type": "markdown",
   "id": "a18fac7d-d029-4094-abb9-676d69919e07",
   "metadata": {},
   "source": [
    "<h3>4. Change the protected attribute to \"sex\" and repeat all steps</h3>"
   ]
  },
  {
   "cell_type": "code",
   "execution_count": 15,
   "id": "763f0ece-cf95-4358-bccc-3f2573f5611f",
   "metadata": {},
   "outputs": [],
   "source": [
    "dataset_sex = load_preproc_data_compas(['sex'])"
   ]
  },
  {
   "cell_type": "code",
   "execution_count": 16,
   "id": "0349b36c-4f62-4ff5-93c2-41a4acd1eb6f",
   "metadata": {},
   "outputs": [],
   "source": [
    "privileged_groups = [{'sex': 1}]\n",
    "unprivileged_groups = [{'sex': 0}]"
   ]
  },
  {
   "cell_type": "code",
   "execution_count": 17,
   "id": "dbde00d3-87bf-440b-9bfb-91ee29647430",
   "metadata": {},
   "outputs": [],
   "source": [
    "protected_attribute_names=['sex']"
   ]
  },
  {
   "cell_type": "code",
   "execution_count": 18,
   "id": "82efed45-e1ea-4bd0-b837-795bd068fda2",
   "metadata": {},
   "outputs": [],
   "source": [
    "train, test = dataset_sex.split([0.7], shuffle=True)"
   ]
  },
  {
   "cell_type": "code",
   "execution_count": 19,
   "id": "89ec734b-8ddf-410f-8de6-1e40d20738df",
   "metadata": {},
   "outputs": [
    {
     "data": {
      "text/markdown": [
       "#### Training Dataset shape"
      ],
      "text/plain": [
       "<IPython.core.display.Markdown object>"
      ]
     },
     "metadata": {},
     "output_type": "display_data"
    },
    {
     "name": "stdout",
     "output_type": "stream",
     "text": [
      "(5278, 10)\n"
     ]
    },
    {
     "data": {
      "text/markdown": [
       "#### Favorable and unfavorable labels"
      ],
      "text/plain": [
       "<IPython.core.display.Markdown object>"
      ]
     },
     "metadata": {},
     "output_type": "display_data"
    },
    {
     "name": "stdout",
     "output_type": "stream",
     "text": [
      "0.0 1.0\n"
     ]
    },
    {
     "data": {
      "text/markdown": [
       "#### Protected attribute names"
      ],
      "text/plain": [
       "<IPython.core.display.Markdown object>"
      ]
     },
     "metadata": {},
     "output_type": "display_data"
    },
    {
     "name": "stdout",
     "output_type": "stream",
     "text": [
      "['sex']\n"
     ]
    },
    {
     "data": {
      "text/markdown": [
       "#### Privileged and unprivileged protected attribute values"
      ],
      "text/plain": [
       "<IPython.core.display.Markdown object>"
      ]
     },
     "metadata": {},
     "output_type": "display_data"
    },
    {
     "name": "stdout",
     "output_type": "stream",
     "text": [
      "[array([1.])] [array([0.])]\n"
     ]
    },
    {
     "data": {
      "text/markdown": [
       "#### Dataset feature names"
      ],
      "text/plain": [
       "<IPython.core.display.Markdown object>"
      ]
     },
     "metadata": {},
     "output_type": "display_data"
    },
    {
     "name": "stdout",
     "output_type": "stream",
     "text": [
      "['sex', 'race', 'age_cat=25 to 45', 'age_cat=Greater than 45', 'age_cat=Less than 25', 'priors_count=0', 'priors_count=1 to 3', 'priors_count=More than 3', 'c_charge_degree=F', 'c_charge_degree=M']\n"
     ]
    }
   ],
   "source": [
    "# print out some labels, names, etc.\n",
    "display(Markdown(\"#### Training Dataset shape\"))\n",
    "print(dataset_sex.features.shape)\n",
    "display(Markdown(\"#### Favorable and unfavorable labels\"))\n",
    "print(dataset_sex.favorable_label, dataset_sex.unfavorable_label)\n",
    "display(Markdown(\"#### Protected attribute names\"))\n",
    "print(dataset_sex.protected_attribute_names)\n",
    "display(Markdown(\"#### Privileged and unprivileged protected attribute values\"))\n",
    "print(dataset_sex.privileged_protected_attributes, \n",
    "      dataset_sex.unprivileged_protected_attributes)\n",
    "display(Markdown(\"#### Dataset feature names\"))\n",
    "print(dataset_sex.feature_names)"
   ]
  },
  {
   "cell_type": "code",
   "execution_count": null,
   "id": "2aeeb4ba-1f2d-4beb-b1be-518a866a37c4",
   "metadata": {},
   "outputs": [],
   "source": []
  },
  {
   "cell_type": "code",
   "execution_count": 20,
   "id": "e8ceee29-5321-4f5a-9bd7-0efee963307f",
   "metadata": {},
   "outputs": [],
   "source": [
    "from aif360.algorithms.preprocessing import Reweighing\n",
    "RW = Reweighing(unprivileged_groups=[{'sex': 0}], privileged_groups=[{'sex': 1}])\n",
    "compas_dataset_rw = RW.fit_transform(train)"
   ]
  },
  {
   "cell_type": "code",
   "execution_count": 21,
   "id": "3768ab97-ee13-4d70-85f8-207c7bf6fc2c",
   "metadata": {},
   "outputs": [],
   "source": [
    "from aif360.algorithms.preprocessing import Reweighing\n",
    "RW = Reweighing(unprivileged_groups=[{'sex': 0}], privileged_groups=[{'sex': 1}])\n",
    "compas_dataset_rw = RW.fit_transform(test)"
   ]
  },
  {
   "cell_type": "code",
   "execution_count": null,
   "id": "a27133c0-10cf-4686-8c1e-c9cb7a683199",
   "metadata": {},
   "outputs": [],
   "source": []
  },
  {
   "cell_type": "code",
   "execution_count": 22,
   "id": "0008456f-4d2d-46c9-b19e-bf7d7d0375d2",
   "metadata": {},
   "outputs": [
    {
     "name": "stdout",
     "output_type": "stream",
     "text": [
      "Original Disparate Impact (Sex): 0.788415280444698\n",
      "Original Statistical Parity Difference (Sex): -0.1350366105406292\n"
     ]
    }
   ],
   "source": [
    "from aif360.metrics import BinaryLabelDatasetMetric\n",
    "metric_orig_compas_sex = BinaryLabelDatasetMetric(dataset_sex, \n",
    "                                                   unprivileged_groups=[{'sex': 0}], \n",
    "                                                   privileged_groups=[{'sex': 1}])\n",
    "print(\"Original Disparate Impact (Sex):\", metric_orig_compas_sex.disparate_impact())\n",
    "print(\"Original Statistical Parity Difference (Sex):\", metric_orig_compas_sex.statistical_parity_difference())"
   ]
  },
  {
   "cell_type": "markdown",
   "id": "077a8ccb-2592-4d3c-a37d-26c36ab43566",
   "metadata": {},
   "source": [
    "<h3>Metric with the transformed training data (sex)</h3>"
   ]
  },
  {
   "cell_type": "code",
   "execution_count": 23,
   "id": "7d909882-1aba-4a92-81b9-e251efcff17e",
   "metadata": {},
   "outputs": [
    {
     "data": {
      "text/markdown": [
       "#### Transformed training dataset"
      ],
      "text/plain": [
       "<IPython.core.display.Markdown object>"
      ]
     },
     "metadata": {},
     "output_type": "display_data"
    },
    {
     "name": "stdout",
     "output_type": "stream",
     "text": [
      "Difference in mean outcomes between unprivileged and privileged groups = -0.135037\n"
     ]
    }
   ],
   "source": [
    "metric_orig_compas_sex = BinaryLabelDatasetMetric(dataset_sex, \n",
    "                                         unprivileged_groups=unprivileged_groups,\n",
    "                                         privileged_groups=privileged_groups)\n",
    "display(Markdown(\"#### Transformed training dataset\"))\n",
    "print(\"Difference in mean outcomes between unprivileged and privileged groups = %f\" % metric_orig_compas_sex.mean_difference())"
   ]
  },
  {
   "cell_type": "code",
   "execution_count": null,
   "id": "39f5a9fb-09c5-4032-9ba0-d554653b0316",
   "metadata": {},
   "outputs": [],
   "source": [
    "#if you want to see the dataset run this\n",
    "print(compas_dataset_rw)"
   ]
  },
  {
   "cell_type": "markdown",
   "id": "b1563173-fc83-4d96-8bb8-b5b0ada0af3f",
   "metadata": {},
   "source": [
    "<h3>Train a logistic regression classifier for the new transformed data</h3>"
   ]
  },
  {
   "cell_type": "code",
   "execution_count": null,
   "id": "aca5a316-f328-46be-8426-23b18ebc8872",
   "metadata": {},
   "outputs": [],
   "source": [
    "# Logistic regression classifier and predictions\n",
    "scale_orig = StandardScaler()\n",
    "X_train = scale_orig.fit_transform(dataset_orig_train.features)\n",
    "y_train = dataset_orig_train.labels.ravel()\n",
    "w_train = dataset_orig_train.instance_weights.ravel()\n",
    "\n",
    "lmod = LogisticRegression()\n",
    "lmod.fit(X_train, y_train, \n",
    "         sample_weight=dataset_orig_train.instance_weights)\n",
    "y_train_pred = lmod.predict(X_train)\n",
    "\n",
    "# positive class index\n",
    "pos_ind = np.where(lmod.classes_ == dataset_orig_train.favorable_label)[0][0]\n",
    "\n",
    "dataset_orig_train_pred = dataset_orig_train.copy()\n",
    "dataset_orig_train_pred.labels = y_train_pred"
   ]
  },
  {
   "cell_type": "code",
   "execution_count": null,
   "id": "dd8a51f0-83f1-4ba4-93d8-7e42b2123e5b",
   "metadata": {},
   "outputs": [],
   "source": []
  }
 ],
 "metadata": {
  "kernelspec": {
   "display_name": "Python 3 (ipykernel)",
   "language": "python",
   "name": "python3"
  },
  "language_info": {
   "codemirror_mode": {
    "name": "ipython",
    "version": 3
   },
   "file_extension": ".py",
   "mimetype": "text/x-python",
   "name": "python",
   "nbconvert_exporter": "python",
   "pygments_lexer": "ipython3",
   "version": "3.9.18"
  }
 },
 "nbformat": 4,
 "nbformat_minor": 5
}
