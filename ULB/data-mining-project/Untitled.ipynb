{
 "cells": [
  {
   "cell_type": "code",
   "execution_count": 3,
   "id": "3d6ed67a-d7e2-46d0-9d35-ac260abc857c",
   "metadata": {},
   "outputs": [
    {
     "name": "stdout",
     "output_type": "stream",
     "text": [
      "Collecting geopy\n",
      "  Downloading geopy-2.4.1-py3-none-any.whl (125 kB)\n",
      "\u001b[K     |████████████████████████████████| 125 kB 2.4 MB/s eta 0:00:01\n",
      "\u001b[?25hCollecting geographiclib<3,>=1.52\n",
      "  Downloading geographiclib-2.0-py3-none-any.whl (40 kB)\n",
      "\u001b[K     |████████████████████████████████| 40 kB 2.3 MB/s eta 0:00:011\n",
      "\u001b[?25hInstalling collected packages: geographiclib, geopy\n",
      "Successfully installed geographiclib-2.0 geopy-2.4.1\n",
      "Note: you may need to restart the kernel to use updated packages.\n"
     ]
    }
   ],
   "source": [
    "pip install geopy"
   ]
  },
  {
   "cell_type": "code",
   "execution_count": 5,
   "id": "2e7329d4-c740-441d-b8f1-f193b27637f5",
   "metadata": {},
   "outputs": [
    {
     "name": "stdout",
     "output_type": "stream",
     "text": [
      "Requirement already satisfied: scikit-learn in /opt/anaconda3/lib/python3.8/site-packages (0.24.1)\n",
      "Requirement already satisfied: scipy>=0.19.1 in /opt/anaconda3/lib/python3.8/site-packages (from scikit-learn) (1.6.2)\n",
      "Requirement already satisfied: numpy>=1.13.3 in /opt/anaconda3/lib/python3.8/site-packages (from scikit-learn) (1.20.1)\n",
      "Requirement already satisfied: joblib>=0.11 in /opt/anaconda3/lib/python3.8/site-packages (from scikit-learn) (1.0.1)\n",
      "Requirement already satisfied: threadpoolctl>=2.0.0 in /opt/anaconda3/lib/python3.8/site-packages (from scikit-learn) (2.1.0)\n",
      "Note: you may need to restart the kernel to use updated packages.\n"
     ]
    }
   ],
   "source": [
    "pip install scikit-learn"
   ]
  },
  {
   "cell_type": "code",
   "execution_count": 10,
   "id": "7df39fd2-a00a-4ecc-845b-c074c2bf176c",
   "metadata": {},
   "outputs": [
    {
     "name": "stdout",
     "output_type": "stream",
     "text": [
      "Collecting geopandas\n",
      "  Downloading geopandas-0.13.2-py3-none-any.whl (1.1 MB)\n",
      "\u001b[K     |████████████████████████████████| 1.1 MB 1.9 MB/s eta 0:00:01\n",
      "\u001b[?25hRequirement already satisfied: packaging in /opt/anaconda3/lib/python3.8/site-packages (from geopandas) (23.2)\n",
      "Collecting pyproj>=3.0.1\n",
      "  Downloading pyproj-3.5.0-cp38-cp38-macosx_10_9_x86_64.whl (8.5 MB)\n",
      "\u001b[K     |████████████████████████████████| 8.5 MB 3.9 MB/s eta 0:00:01\n",
      "\u001b[?25hCollecting shapely>=1.7.1\n",
      "  Downloading shapely-2.0.2-cp38-cp38-macosx_10_9_x86_64.whl (1.4 MB)\n",
      "\u001b[K     |████████████████████████████████| 1.4 MB 7.2 MB/s eta 0:00:01\n",
      "\u001b[?25hRequirement already satisfied: pandas>=1.1.0 in /opt/anaconda3/lib/python3.8/site-packages (from geopandas) (1.2.4)\n",
      "Collecting fiona>=1.8.19\n",
      "  Downloading fiona-1.9.5-cp38-cp38-macosx_10_15_x86_64.whl (18.5 MB)\n",
      "\u001b[K     |████████████████████████████████| 18.5 MB 4.8 MB/s eta 0:00:01\n",
      "\u001b[?25hRequirement already satisfied: six in /opt/anaconda3/lib/python3.8/site-packages (from fiona>=1.8.19->geopandas) (1.16.0)\n",
      "Requirement already satisfied: setuptools in /opt/anaconda3/lib/python3.8/site-packages (from fiona>=1.8.19->geopandas) (68.2.2)\n",
      "Requirement already satisfied: attrs>=19.2.0 in /opt/anaconda3/lib/python3.8/site-packages (from fiona>=1.8.19->geopandas) (23.1.0)\n",
      "Requirement already satisfied: certifi in /opt/anaconda3/lib/python3.8/site-packages (from fiona>=1.8.19->geopandas) (2023.7.22)\n",
      "Requirement already satisfied: click~=8.0 in /opt/anaconda3/lib/python3.8/site-packages (from fiona>=1.8.19->geopandas) (8.1.7)\n",
      "Collecting click-plugins>=1.0\n",
      "  Downloading click_plugins-1.1.1-py2.py3-none-any.whl (7.5 kB)\n",
      "Requirement already satisfied: importlib-metadata in /opt/anaconda3/lib/python3.8/site-packages (from fiona>=1.8.19->geopandas) (6.8.0)\n",
      "Collecting cligj>=0.5\n",
      "  Downloading cligj-0.7.2-py3-none-any.whl (7.1 kB)\n",
      "Requirement already satisfied: python-dateutil>=2.7.3 in /opt/anaconda3/lib/python3.8/site-packages (from pandas>=1.1.0->geopandas) (2.8.2)\n",
      "Requirement already satisfied: pytz>=2017.3 in /opt/anaconda3/lib/python3.8/site-packages (from pandas>=1.1.0->geopandas) (2023.3.post1)\n",
      "Requirement already satisfied: numpy>=1.16.5 in /opt/anaconda3/lib/python3.8/site-packages (from pandas>=1.1.0->geopandas) (1.20.1)\n",
      "Requirement already satisfied: zipp>=0.5 in /opt/anaconda3/lib/python3.8/site-packages (from importlib-metadata->fiona>=1.8.19->geopandas) (3.17.0)\n",
      "Installing collected packages: cligj, click-plugins, shapely, pyproj, fiona, geopandas\n",
      "Successfully installed click-plugins-1.1.1 cligj-0.7.2 fiona-1.9.5 geopandas-0.13.2 pyproj-3.5.0 shapely-2.0.2\n",
      "Note: you may need to restart the kernel to use updated packages.\n"
     ]
    }
   ],
   "source": [
    "pip install geopandas"
   ]
  },
  {
   "cell_type": "code",
   "execution_count": 8,
   "id": "2948e7db-cd91-499c-9ca6-bffbee07d80c",
   "metadata": {},
   "outputs": [
    {
     "name": "stdout",
     "output_type": "stream",
     "text": [
      "coords_i = (34.0522, -118.2437) distance = 0.0\n",
      "coords_i = (34.0522, -118.2437) distance = 43.32058643645249\n",
      "coords_i = (34.0522, -118.2437) distance = 64.56268944273597\n",
      "coords_i = (34.0522, -118.2437) distance = 114.57845499155918\n",
      "coords_i = (34.0522, -118.2437) distance = 141.89863265036692\n",
      "coords_i = (34.0522, -118.2437) distance = 162.2582250971223\n",
      "coords_i = (34.0522, -118.2437) distance = 9035684.971983694\n",
      "coords_i = (34.0525, -118.2434) distance = 43.320586436480426\n",
      "coords_i = (34.0525, -118.2434) distance = 0.0\n",
      "coords_i = (34.0525, -118.2434) distance = 72.21529966920973\n",
      "coords_i = (34.0525, -118.2434) distance = 95.467386361827\n",
      "coords_i = (34.0525, -118.2434) distance = 99.82965434589771\n",
      "coords_i = (34.0525, -118.2434) distance = 150.44653011176842\n",
      "coords_i = (34.0525, -118.2434) distance = 9035641.98104991\n",
      "coords_i = (34.0519, -118.2431) distance = 64.56268944281766\n",
      "coords_i = (34.0519, -118.2431) distance = 72.21529966933375\n",
      "coords_i = (34.0519, -118.2431) distance = 0.0\n",
      "coords_i = (34.0519, -118.2431) distance = 166.64528643809305\n",
      "coords_i = (34.0519, -118.2431) distance = 134.2251104521261\n",
      "coords_i = (34.0519, -118.2431) distance = 219.74585943030814\n",
      "coords_i = (34.0519, -118.2431) distance = 9035683.327287486\n",
      "coords_i = (34.0532, -118.244) distance = 114.57845499129408\n",
      "coords_i = (34.0532, -118.244) distance = 95.46738636206891\n",
      "coords_i = (34.0532, -118.244) distance = 166.64528643800384\n",
      "coords_i = (34.0532, -118.244) distance = 0.0\n",
      "coords_i = (34.0532, -118.244) distance = 139.96887601620244\n",
      "coords_i = (34.0532, -118.244) distance = 56.87385704508968\n",
      "coords_i = (34.0532, -118.244) distance = 9035606.142120238\n",
      "coords_i = (34.053, -118.2425) distance = 141.8986326502557\n",
      "coords_i = (34.053, -118.2425) distance = 99.82965434579818\n",
      "coords_i = (34.053, -118.2425) distance = 134.22511045235038\n",
      "coords_i = (34.053, -118.2425) distance = 139.96887601626807\n",
      "coords_i = (34.053, -118.2425) distance = 0.0\n",
      "coords_i = (34.053, -118.2425) distance = 192.4595475162185\n",
      "coords_i = (34.053, -118.2425) distance = 9035550.491502387\n",
      "coords_i = (34.0535, -118.2445) distance = 162.2582250969621\n",
      "coords_i = (34.0535, -118.2445) distance = 150.44653011171658\n",
      "coords_i = (34.0535, -118.2445) distance = 219.74585943032747\n",
      "coords_i = (34.0535, -118.2445) distance = 56.87385704499566\n",
      "coords_i = (34.0535, -118.2445) distance = 192.4595475161635\n",
      "coords_i = (34.0535, -118.2445) distance = 0.0\n",
      "coords_i = (34.0535, -118.2445) distance = 9035602.826640837\n",
      "coords_i = (50.8240566, 4.3742187) distance = 9035684.971983694\n",
      "coords_i = (50.8240566, 4.3742187) distance = 9035641.98104991\n",
      "coords_i = (50.8240566, 4.3742187) distance = 9035683.327287486\n",
      "coords_i = (50.8240566, 4.3742187) distance = 9035606.142120238\n",
      "coords_i = (50.8240566, 4.3742187) distance = 9035550.491502387\n",
      "coords_i = (50.8240566, 4.3742187) distance = 9035602.826640837\n",
      "coords_i = (50.8240566, 4.3742187) distance = 0.0\n",
      "    latitude   longitude  cluster\n",
      "0  34.052200 -118.243700        0\n",
      "1  34.052500 -118.243400        0\n",
      "2  34.051900 -118.243100        0\n",
      "3  34.053200 -118.244000        0\n",
      "4  34.053000 -118.242500        0\n",
      "5  34.053500 -118.244500        0\n",
      "6  50.824057    4.374219       -1\n"
     ]
    }
   ],
   "source": [
    "import pandas as pd\n",
    "from sklearn.cluster import DBSCAN\n",
    "from geopy.distance import great_circle\n",
    "\n",
    "# Sample DataFrame with latitude and longitude columns\n",
    "data = {\n",
    "    'latitude': [34.0522, 34.0525, 34.0519, 34.0532, 34.0530, 34.0535, 50.8240566],\n",
    "    'longitude': [-118.2437, -118.2434, -118.2431, -118.2440, -118.2425, -118.2445, 4.3742187],\n",
    "}\n",
    "\n",
    "df = pd.DataFrame(data)\n",
    "\n",
    "# Function to create a distance matrix\n",
    "def create_distance_matrix(coords):\n",
    "    distance_matrix = []\n",
    "    for i in range(len(coords)):\n",
    "        row = []\n",
    "        for j in range(len(coords)):\n",
    "            coords_i = (coords['latitude'].iloc[i], coords['longitude'].iloc[i])\n",
    "            coords_j = (coords['latitude'].iloc[j], coords['longitude'].iloc[j])\n",
    "            distance = great_circle(coords_i, coords_j).meters\n",
    "            print(f'coords_i = {coords_i} distance = {distance}')\n",
    "            row.append(distance)\n",
    "        distance_matrix.append(row)\n",
    "    return distance_matrix\n",
    "\n",
    "# Create a distance matrix\n",
    "distance_matrix = create_distance_matrix(df)\n",
    "\n",
    "# Apply DBSCAN clustering\n",
    "eps = 500  # Epsilon parameter: maximum distance between two samples for one to be considered as in the neighborhood of the other\n",
    "min_samples = 2  # Minimum number of samples in a neighborhood for a point to be considered as a core point\n",
    "dbscan = DBSCAN(eps=eps, min_samples=min_samples, metric='precomputed')\n",
    "clusters = dbscan.fit_predict(distance_matrix)\n",
    "\n",
    "# Add the cluster labels to the DataFrame\n",
    "df['cluster'] = clusters\n",
    "\n",
    "print(df)"
   ]
  },
  {
   "cell_type": "code",
   "execution_count": 12,
   "id": "d4e34ea6-6139-4267-b333-4c7866c512de",
   "metadata": {},
   "outputs": [],
   "source": [
    "df = pd.read_csv('ar41_for_ulb_cleaned.csv')"
   ]
  },
  {
   "cell_type": "code",
   "execution_count": 13,
   "id": "c02a1cc2-9f38-4bd0-a221-d80c296498da",
   "metadata": {},
   "outputs": [
    {
     "ename": "KeyboardInterrupt",
     "evalue": "",
     "output_type": "error",
     "traceback": [
      "\u001b[0;31m---------------------------------------------------------------------------\u001b[0m",
      "\u001b[0;31mKeyboardInterrupt\u001b[0m                         Traceback (most recent call last)",
      "\u001b[0;32m<ipython-input-13-838fe159feb0>\u001b[0m in \u001b[0;36m<module>\u001b[0;34m\u001b[0m\n\u001b[1;32m     44\u001b[0m \u001b[0;34m\u001b[0m\u001b[0m\n\u001b[1;32m     45\u001b[0m \u001b[0;31m# Apply DBSCAN and compute mean for each chunk in parallel\u001b[0m\u001b[0;34m\u001b[0m\u001b[0;34m\u001b[0m\u001b[0;34m\u001b[0m\u001b[0m\n\u001b[0;32m---> 46\u001b[0;31m \u001b[0mcluster_mean_results\u001b[0m \u001b[0;34m=\u001b[0m \u001b[0;34m[\u001b[0m\u001b[0mdbscan_and_mean_chunk\u001b[0m\u001b[0;34m(\u001b[0m\u001b[0mchunk\u001b[0m\u001b[0;34m)\u001b[0m \u001b[0;32mfor\u001b[0m \u001b[0mchunk\u001b[0m \u001b[0;32min\u001b[0m \u001b[0mchunks\u001b[0m\u001b[0;34m]\u001b[0m\u001b[0;34m\u001b[0m\u001b[0;34m\u001b[0m\u001b[0m\n\u001b[0m\u001b[1;32m     47\u001b[0m \u001b[0;34m\u001b[0m\u001b[0m\n\u001b[1;32m     48\u001b[0m \u001b[0;31m# Concatenate the results\u001b[0m\u001b[0;34m\u001b[0m\u001b[0;34m\u001b[0m\u001b[0;34m\u001b[0m\u001b[0m\n",
      "\u001b[0;32m<ipython-input-13-838fe159feb0>\u001b[0m in \u001b[0;36m<listcomp>\u001b[0;34m(.0)\u001b[0m\n\u001b[1;32m     44\u001b[0m \u001b[0;34m\u001b[0m\u001b[0m\n\u001b[1;32m     45\u001b[0m \u001b[0;31m# Apply DBSCAN and compute mean for each chunk in parallel\u001b[0m\u001b[0;34m\u001b[0m\u001b[0;34m\u001b[0m\u001b[0;34m\u001b[0m\u001b[0m\n\u001b[0;32m---> 46\u001b[0;31m \u001b[0mcluster_mean_results\u001b[0m \u001b[0;34m=\u001b[0m \u001b[0;34m[\u001b[0m\u001b[0mdbscan_and_mean_chunk\u001b[0m\u001b[0;34m(\u001b[0m\u001b[0mchunk\u001b[0m\u001b[0;34m)\u001b[0m \u001b[0;32mfor\u001b[0m \u001b[0mchunk\u001b[0m \u001b[0;32min\u001b[0m \u001b[0mchunks\u001b[0m\u001b[0;34m]\u001b[0m\u001b[0;34m\u001b[0m\u001b[0;34m\u001b[0m\u001b[0m\n\u001b[0m\u001b[1;32m     47\u001b[0m \u001b[0;34m\u001b[0m\u001b[0m\n\u001b[1;32m     48\u001b[0m \u001b[0;31m# Concatenate the results\u001b[0m\u001b[0;34m\u001b[0m\u001b[0;34m\u001b[0m\u001b[0;34m\u001b[0m\u001b[0m\n",
      "\u001b[0;32m<ipython-input-13-838fe159feb0>\u001b[0m in \u001b[0;36mdbscan_and_mean_chunk\u001b[0;34m(coords_chunk, eps, min_samples)\u001b[0m\n\u001b[1;32m     21\u001b[0m \u001b[0;31m# Function to apply DBSCAN clustering and compute the mean for a chunk of data\u001b[0m\u001b[0;34m\u001b[0m\u001b[0;34m\u001b[0m\u001b[0;34m\u001b[0m\u001b[0m\n\u001b[1;32m     22\u001b[0m \u001b[0;32mdef\u001b[0m \u001b[0mdbscan_and_mean_chunk\u001b[0m\u001b[0;34m(\u001b[0m\u001b[0mcoords_chunk\u001b[0m\u001b[0;34m,\u001b[0m \u001b[0meps\u001b[0m\u001b[0;34m=\u001b[0m\u001b[0;36m500\u001b[0m\u001b[0;34m,\u001b[0m \u001b[0mmin_samples\u001b[0m\u001b[0;34m=\u001b[0m\u001b[0;36m2\u001b[0m\u001b[0;34m)\u001b[0m\u001b[0;34m:\u001b[0m\u001b[0;34m\u001b[0m\u001b[0;34m\u001b[0m\u001b[0m\n\u001b[0;32m---> 23\u001b[0;31m     \u001b[0mdistance_matrix\u001b[0m \u001b[0;34m=\u001b[0m \u001b[0mcreate_distance_matrix_chunk\u001b[0m\u001b[0;34m(\u001b[0m\u001b[0mcoords_chunk\u001b[0m\u001b[0;34m,\u001b[0m \u001b[0mdf\u001b[0m\u001b[0;34m)\u001b[0m\u001b[0;34m\u001b[0m\u001b[0;34m\u001b[0m\u001b[0m\n\u001b[0m\u001b[1;32m     24\u001b[0m     \u001b[0mdbscan\u001b[0m \u001b[0;34m=\u001b[0m \u001b[0mDBSCAN\u001b[0m\u001b[0;34m(\u001b[0m\u001b[0meps\u001b[0m\u001b[0;34m=\u001b[0m\u001b[0meps\u001b[0m\u001b[0;34m,\u001b[0m \u001b[0mmin_samples\u001b[0m\u001b[0;34m=\u001b[0m\u001b[0mmin_samples\u001b[0m\u001b[0;34m,\u001b[0m \u001b[0mmetric\u001b[0m\u001b[0;34m=\u001b[0m\u001b[0;34m'precomputed'\u001b[0m\u001b[0;34m)\u001b[0m\u001b[0;34m\u001b[0m\u001b[0;34m\u001b[0m\u001b[0m\n\u001b[1;32m     25\u001b[0m     \u001b[0mclusters\u001b[0m \u001b[0;34m=\u001b[0m \u001b[0mdbscan\u001b[0m\u001b[0;34m.\u001b[0m\u001b[0mfit_predict\u001b[0m\u001b[0;34m(\u001b[0m\u001b[0mdistance_matrix\u001b[0m\u001b[0;34m)\u001b[0m\u001b[0;34m\u001b[0m\u001b[0;34m\u001b[0m\u001b[0m\n",
      "\u001b[0;32m<ipython-input-13-838fe159feb0>\u001b[0m in \u001b[0;36mcreate_distance_matrix_chunk\u001b[0;34m(coords_chunk, coords_full)\u001b[0m\n\u001b[1;32m     14\u001b[0m             \u001b[0mcoords_i\u001b[0m \u001b[0;34m=\u001b[0m \u001b[0;34m(\u001b[0m\u001b[0mcoords_chunk\u001b[0m\u001b[0;34m[\u001b[0m\u001b[0;34m'lat'\u001b[0m\u001b[0;34m]\u001b[0m\u001b[0;34m.\u001b[0m\u001b[0miloc\u001b[0m\u001b[0;34m[\u001b[0m\u001b[0mi\u001b[0m\u001b[0;34m]\u001b[0m\u001b[0;34m,\u001b[0m \u001b[0mcoords_chunk\u001b[0m\u001b[0;34m[\u001b[0m\u001b[0;34m'lon'\u001b[0m\u001b[0;34m]\u001b[0m\u001b[0;34m.\u001b[0m\u001b[0miloc\u001b[0m\u001b[0;34m[\u001b[0m\u001b[0mi\u001b[0m\u001b[0;34m]\u001b[0m\u001b[0;34m)\u001b[0m\u001b[0;34m\u001b[0m\u001b[0;34m\u001b[0m\u001b[0m\n\u001b[1;32m     15\u001b[0m             \u001b[0mcoords_j\u001b[0m \u001b[0;34m=\u001b[0m \u001b[0;34m(\u001b[0m\u001b[0mcoords_full\u001b[0m\u001b[0;34m[\u001b[0m\u001b[0;34m'lat'\u001b[0m\u001b[0;34m]\u001b[0m\u001b[0;34m.\u001b[0m\u001b[0miloc\u001b[0m\u001b[0;34m[\u001b[0m\u001b[0mj\u001b[0m\u001b[0;34m]\u001b[0m\u001b[0;34m,\u001b[0m \u001b[0mcoords_full\u001b[0m\u001b[0;34m[\u001b[0m\u001b[0;34m'lon'\u001b[0m\u001b[0;34m]\u001b[0m\u001b[0;34m.\u001b[0m\u001b[0miloc\u001b[0m\u001b[0;34m[\u001b[0m\u001b[0mj\u001b[0m\u001b[0;34m]\u001b[0m\u001b[0;34m)\u001b[0m\u001b[0;34m\u001b[0m\u001b[0;34m\u001b[0m\u001b[0m\n\u001b[0;32m---> 16\u001b[0;31m             \u001b[0mdistance\u001b[0m \u001b[0;34m=\u001b[0m \u001b[0mgreat_circle\u001b[0m\u001b[0;34m(\u001b[0m\u001b[0mcoords_i\u001b[0m\u001b[0;34m,\u001b[0m \u001b[0mcoords_j\u001b[0m\u001b[0;34m)\u001b[0m\u001b[0;34m.\u001b[0m\u001b[0mmeters\u001b[0m\u001b[0;34m\u001b[0m\u001b[0;34m\u001b[0m\u001b[0m\n\u001b[0m\u001b[1;32m     17\u001b[0m             \u001b[0mrow\u001b[0m\u001b[0;34m.\u001b[0m\u001b[0mappend\u001b[0m\u001b[0;34m(\u001b[0m\u001b[0mdistance\u001b[0m\u001b[0;34m)\u001b[0m\u001b[0;34m\u001b[0m\u001b[0;34m\u001b[0m\u001b[0m\n\u001b[1;32m     18\u001b[0m         \u001b[0mdistance_matrix\u001b[0m\u001b[0;34m.\u001b[0m\u001b[0mappend\u001b[0m\u001b[0;34m(\u001b[0m\u001b[0mrow\u001b[0m\u001b[0;34m)\u001b[0m\u001b[0;34m\u001b[0m\u001b[0;34m\u001b[0m\u001b[0m\n",
      "\u001b[0;32m/opt/anaconda3/lib/python3.8/site-packages/geopy/distance.py\u001b[0m in \u001b[0;36m__init__\u001b[0;34m(self, *args, **kwargs)\u001b[0m\n\u001b[1;32m    459\u001b[0m     \u001b[0;32mdef\u001b[0m \u001b[0m__init__\u001b[0m\u001b[0;34m(\u001b[0m\u001b[0mself\u001b[0m\u001b[0;34m,\u001b[0m \u001b[0;34m*\u001b[0m\u001b[0margs\u001b[0m\u001b[0;34m,\u001b[0m \u001b[0;34m**\u001b[0m\u001b[0mkwargs\u001b[0m\u001b[0;34m)\u001b[0m\u001b[0;34m:\u001b[0m\u001b[0;34m\u001b[0m\u001b[0;34m\u001b[0m\u001b[0m\n\u001b[1;32m    460\u001b[0m         \u001b[0mself\u001b[0m\u001b[0;34m.\u001b[0m\u001b[0mRADIUS\u001b[0m \u001b[0;34m=\u001b[0m \u001b[0mkwargs\u001b[0m\u001b[0;34m.\u001b[0m\u001b[0mpop\u001b[0m\u001b[0;34m(\u001b[0m\u001b[0;34m'radius'\u001b[0m\u001b[0;34m,\u001b[0m \u001b[0mEARTH_RADIUS\u001b[0m\u001b[0;34m)\u001b[0m\u001b[0;34m\u001b[0m\u001b[0;34m\u001b[0m\u001b[0m\n\u001b[0;32m--> 461\u001b[0;31m         \u001b[0msuper\u001b[0m\u001b[0;34m(\u001b[0m\u001b[0;34m)\u001b[0m\u001b[0;34m.\u001b[0m\u001b[0m__init__\u001b[0m\u001b[0;34m(\u001b[0m\u001b[0;34m*\u001b[0m\u001b[0margs\u001b[0m\u001b[0;34m,\u001b[0m \u001b[0;34m**\u001b[0m\u001b[0mkwargs\u001b[0m\u001b[0;34m)\u001b[0m\u001b[0;34m\u001b[0m\u001b[0;34m\u001b[0m\u001b[0m\n\u001b[0m\u001b[1;32m    462\u001b[0m \u001b[0;34m\u001b[0m\u001b[0m\n\u001b[1;32m    463\u001b[0m     \u001b[0;32mdef\u001b[0m \u001b[0mmeasure\u001b[0m\u001b[0;34m(\u001b[0m\u001b[0mself\u001b[0m\u001b[0;34m,\u001b[0m \u001b[0ma\u001b[0m\u001b[0;34m,\u001b[0m \u001b[0mb\u001b[0m\u001b[0;34m)\u001b[0m\u001b[0;34m:\u001b[0m\u001b[0;34m\u001b[0m\u001b[0;34m\u001b[0m\u001b[0m\n",
      "\u001b[0;32m/opt/anaconda3/lib/python3.8/site-packages/geopy/distance.py\u001b[0m in \u001b[0;36m__init__\u001b[0;34m(self, *args, **kwargs)\u001b[0m\n\u001b[1;32m    274\u001b[0m         \u001b[0;32melif\u001b[0m \u001b[0mlen\u001b[0m\u001b[0;34m(\u001b[0m\u001b[0margs\u001b[0m\u001b[0;34m)\u001b[0m \u001b[0;34m>\u001b[0m \u001b[0;36m1\u001b[0m\u001b[0;34m:\u001b[0m\u001b[0;34m\u001b[0m\u001b[0;34m\u001b[0m\u001b[0m\n\u001b[1;32m    275\u001b[0m             \u001b[0;32mfor\u001b[0m \u001b[0ma\u001b[0m\u001b[0;34m,\u001b[0m \u001b[0mb\u001b[0m \u001b[0;32min\u001b[0m \u001b[0mutil\u001b[0m\u001b[0;34m.\u001b[0m\u001b[0mpairwise\u001b[0m\u001b[0;34m(\u001b[0m\u001b[0margs\u001b[0m\u001b[0;34m)\u001b[0m\u001b[0;34m:\u001b[0m\u001b[0;34m\u001b[0m\u001b[0;34m\u001b[0m\u001b[0m\n\u001b[0;32m--> 276\u001b[0;31m                 \u001b[0mkilometers\u001b[0m \u001b[0;34m+=\u001b[0m \u001b[0mself\u001b[0m\u001b[0;34m.\u001b[0m\u001b[0mmeasure\u001b[0m\u001b[0;34m(\u001b[0m\u001b[0ma\u001b[0m\u001b[0;34m,\u001b[0m \u001b[0mb\u001b[0m\u001b[0;34m)\u001b[0m\u001b[0;34m\u001b[0m\u001b[0;34m\u001b[0m\u001b[0m\n\u001b[0m\u001b[1;32m    277\u001b[0m \u001b[0;34m\u001b[0m\u001b[0m\n\u001b[1;32m    278\u001b[0m         \u001b[0mkilometers\u001b[0m \u001b[0;34m+=\u001b[0m \u001b[0munits\u001b[0m\u001b[0;34m.\u001b[0m\u001b[0mkilometers\u001b[0m\u001b[0;34m(\u001b[0m\u001b[0;34m**\u001b[0m\u001b[0mkwargs\u001b[0m\u001b[0;34m)\u001b[0m\u001b[0;34m\u001b[0m\u001b[0;34m\u001b[0m\u001b[0m\n",
      "\u001b[0;32m/opt/anaconda3/lib/python3.8/site-packages/geopy/distance.py\u001b[0m in \u001b[0;36mmeasure\u001b[0;34m(self, a, b)\u001b[0m\n\u001b[1;32m    465\u001b[0m         \u001b[0m_ensure_same_altitude\u001b[0m\u001b[0;34m(\u001b[0m\u001b[0ma\u001b[0m\u001b[0;34m,\u001b[0m \u001b[0mb\u001b[0m\u001b[0;34m)\u001b[0m\u001b[0;34m\u001b[0m\u001b[0;34m\u001b[0m\u001b[0m\n\u001b[1;32m    466\u001b[0m \u001b[0;34m\u001b[0m\u001b[0m\n\u001b[0;32m--> 467\u001b[0;31m         \u001b[0mlat1\u001b[0m\u001b[0;34m,\u001b[0m \u001b[0mlng1\u001b[0m \u001b[0;34m=\u001b[0m \u001b[0mradians\u001b[0m\u001b[0;34m(\u001b[0m\u001b[0mdegrees\u001b[0m\u001b[0;34m=\u001b[0m\u001b[0ma\u001b[0m\u001b[0;34m.\u001b[0m\u001b[0mlatitude\u001b[0m\u001b[0;34m)\u001b[0m\u001b[0;34m,\u001b[0m \u001b[0mradians\u001b[0m\u001b[0;34m(\u001b[0m\u001b[0mdegrees\u001b[0m\u001b[0;34m=\u001b[0m\u001b[0ma\u001b[0m\u001b[0;34m.\u001b[0m\u001b[0mlongitude\u001b[0m\u001b[0;34m)\u001b[0m\u001b[0;34m\u001b[0m\u001b[0;34m\u001b[0m\u001b[0m\n\u001b[0m\u001b[1;32m    468\u001b[0m         \u001b[0mlat2\u001b[0m\u001b[0;34m,\u001b[0m \u001b[0mlng2\u001b[0m \u001b[0;34m=\u001b[0m \u001b[0mradians\u001b[0m\u001b[0;34m(\u001b[0m\u001b[0mdegrees\u001b[0m\u001b[0;34m=\u001b[0m\u001b[0mb\u001b[0m\u001b[0;34m.\u001b[0m\u001b[0mlatitude\u001b[0m\u001b[0;34m)\u001b[0m\u001b[0;34m,\u001b[0m \u001b[0mradians\u001b[0m\u001b[0;34m(\u001b[0m\u001b[0mdegrees\u001b[0m\u001b[0;34m=\u001b[0m\u001b[0mb\u001b[0m\u001b[0;34m.\u001b[0m\u001b[0mlongitude\u001b[0m\u001b[0;34m)\u001b[0m\u001b[0;34m\u001b[0m\u001b[0;34m\u001b[0m\u001b[0m\n\u001b[1;32m    469\u001b[0m \u001b[0;34m\u001b[0m\u001b[0m\n",
      "\u001b[0;32m/opt/anaconda3/lib/python3.8/site-packages/geopy/units.py\u001b[0m in \u001b[0;36mradians\u001b[0;34m(degrees, arcminutes, arcseconds)\u001b[0m\n\u001b[1;32m     29\u001b[0m     \u001b[0mConvert\u001b[0m \u001b[0mangle\u001b[0m \u001b[0mto\u001b[0m \u001b[0mradians\u001b[0m\u001b[0;34m.\u001b[0m\u001b[0;34m\u001b[0m\u001b[0;34m\u001b[0m\u001b[0m\n\u001b[1;32m     30\u001b[0m     \"\"\"\n\u001b[0;32m---> 31\u001b[0;31m     \u001b[0;32mif\u001b[0m \u001b[0marcminutes\u001b[0m\u001b[0;34m:\u001b[0m\u001b[0;34m\u001b[0m\u001b[0;34m\u001b[0m\u001b[0m\n\u001b[0m\u001b[1;32m     32\u001b[0m         \u001b[0mdegrees\u001b[0m \u001b[0;34m+=\u001b[0m \u001b[0marcminutes\u001b[0m \u001b[0;34m/\u001b[0m \u001b[0marcmin\u001b[0m\u001b[0;34m(\u001b[0m\u001b[0mdegrees\u001b[0m\u001b[0;34m=\u001b[0m\u001b[0;36m1.\u001b[0m\u001b[0;34m)\u001b[0m\u001b[0;34m\u001b[0m\u001b[0;34m\u001b[0m\u001b[0m\n\u001b[1;32m     33\u001b[0m     \u001b[0;32mif\u001b[0m \u001b[0marcseconds\u001b[0m\u001b[0;34m:\u001b[0m\u001b[0;34m\u001b[0m\u001b[0;34m\u001b[0m\u001b[0m\n",
      "\u001b[0;31mKeyboardInterrupt\u001b[0m: "
     ]
    }
   ],
   "source": [
    "import pandas as pd\n",
    "import geopandas as gpd\n",
    "from sklearn.cluster import DBSCAN\n",
    "from geopy.distance import great_circle\n",
    "\n",
    "# Assume df is your large DataFrame with latitude and longitude columns\n",
    "\n",
    "# Function to create a distance matrix for a chunk of data\n",
    "def create_distance_matrix_chunk(coords_chunk, coords_full):\n",
    "    distance_matrix = []\n",
    "    for i in range(len(coords_chunk)):\n",
    "        row = []\n",
    "        for j in range(len(coords_full)):\n",
    "            coords_i = (coords_chunk['lat'].iloc[i], coords_chunk['lon'].iloc[i])\n",
    "            coords_j = (coords_full['lat'].iloc[j], coords_full['lon'].iloc[j])\n",
    "            distance = great_circle(coords_i, coords_j).meters\n",
    "            row.append(distance)\n",
    "        distance_matrix.append(row)\n",
    "    return distance_matrix\n",
    "\n",
    "# Function to apply DBSCAN clustering and compute the mean for a chunk of data\n",
    "def dbscan_and_mean_chunk(coords_chunk, eps=500, min_samples=2):\n",
    "    distance_matrix = create_distance_matrix_chunk(coords_chunk, df)\n",
    "    dbscan = DBSCAN(eps=eps, min_samples=min_samples, metric='precomputed')\n",
    "    clusters = dbscan.fit_predict(distance_matrix)\n",
    "    \n",
    "    # Add cluster labels to the chunk\n",
    "    coords_chunk['cluster'] = clusters\n",
    "    \n",
    "    # Compute the mean coordinates for each cluster\n",
    "    cluster_means = coords_chunk.groupby('cluster').agg({\n",
    "        'lat': 'mean',\n",
    "        'lon': 'mean',\n",
    "        'cluster': 'count'  # Optional: count of points in each cluster\n",
    "    }).reset_index()\n",
    "    \n",
    "    return cluster_means\n",
    "\n",
    "# Define the chunk size\n",
    "chunk_size = 1000000\n",
    "\n",
    "# Split the data into chunks\n",
    "chunks = [df[i:i + chunk_size] for i in range(0, len(df), chunk_size)]\n",
    "\n",
    "# Apply DBSCAN and compute mean for each chunk in parallel\n",
    "cluster_mean_results = [dbscan_and_mean_chunk(chunk) for chunk in chunks]\n",
    "\n",
    "# Concatenate the results\n",
    "final_cluster_means = pd.concat(cluster_mean_results)\n",
    "\n",
    "print(final_cluster_means)"
   ]
  },
  {
   "cell_type": "code",
   "execution_count": null,
   "id": "92b84c02-6c3e-4fef-9bd6-cbcd85fae881",
   "metadata": {},
   "outputs": [],
   "source": []
  }
 ],
 "metadata": {
  "kernelspec": {
   "display_name": "Python 3",
   "language": "python",
   "name": "python3"
  },
  "language_info": {
   "codemirror_mode": {
    "name": "ipython",
    "version": 3
   },
   "file_extension": ".py",
   "mimetype": "text/x-python",
   "name": "python",
   "nbconvert_exporter": "python",
   "pygments_lexer": "ipython3",
   "version": "3.8.8"
  }
 },
 "nbformat": 4,
 "nbformat_minor": 5
}
