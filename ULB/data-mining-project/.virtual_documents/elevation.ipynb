import pandas as pd

df = pd.read_csv('cleaned.csv')[['lat', 'lon']]

def assign_to_cells(latitude, longitude):
    cell_size = 0.000898311 # 100 meters
    # cell_size = 0.001796622  # 200 meters
    # cell_size = 0.004491556  # 500 meters
    
    cell_latitude = (latitude / cell_size).astype(int) * cell_size
    cell_longitude = (longitude / cell_size).astype(int) * cell_size
    
    return cell_latitude, cell_longitude

df['cell_lat'], df['cell_lon'] = assign_to_cells(df['lat'], df['lon'])
df.to_csv('cleaned.csv')

cdf = df[['cell_lat', 'cell_lon']]
cdf = cdf.drop_duplicates()
cdf = cdf.sort_values(by=['cell_lat', 'cell_lon'])
cdf.to_csv('cells_100.csv', index=False)


import pandas as pd
import folium

sorted_cells = pd.read_csv('cells_100.csv')
map_center = [sorted_cells['cell_lat'].iloc[0], sorted_cells['cell_lon'].iloc[0]]
mymap = folium.Map(location=map_center, zoom_start=12)

for index, row in sorted_cells.iterrows():
    folium.Marker(
        location=[row['cell_lat'], row['cell_lon']],
        popup=f'Cell {index}',
        icon=folium.Icon(color='blue')
    ).add_to(mymap)

mymap.save('sorted_cells_map_100m.html')


import logging
import requests
import pandas as pd
# cells_100.csv >> elevation.csv
def request_altitude(df): 
    for idx, row in df.iterrows():
        # if idx < 3188:
        #     continue
        if 'elevation' in df.columns and not pd.isna(row['elevation']):
            continue
        # if not pd.isnull(row['elevation']): 
        #     continue
        lat = row['cell_lat']
        lon = row['cell_lon']
        url = f"https://api.open-elevation.com/api/v1/lookup?locations={lat},{lon}"
        response = requests.get(url)
        if response.status_code == 200:
            data = response.json()
            print(f'index={idx}')
            if 'results' not in data:
                logging.info(url)
                print(f'skipping url = {url}') 
                continue
            altitude_object = data['results'][0] 
            elevation = altitude_object['elevation']
        
            df.loc[idx, 'elevation'] = elevation
        else: 
            print("Request failed with status code:", response.status_code)

altitude_df = pd.read_csv('elevation.csv')
request_altitude(altitude_df)
altitude_df.to_csv('elevation.csv', index=False)


import pandas as pd
import matplotlib.pyplot as plt

df = pd.read_csv('elevation.csv')

plt.scatter(df['cell_lon'], df['cell_lat'], c=df['elevation'], cmap='viridis', s=10)
plt.colorbar(label='Elevation')
plt.xlabel('Longitude')
plt.ylabel('Latitude')
plt.title('Elevation Levels on Map')
plt.show()


import pandas as pd
df = pd.read_csv('cleaned2.csv')
adf = pd.read_csv('elevation.csv')
merged_df = pd.merge(df, adf, on=['cell_lat', 'cell_lon'], how='left')
merged_df.drop(['cell_lat', 'cell_lon'], axis=1, inplace=True)
merged_df.to_csv('cleaned2.csv', index=False)


import pandas as pd
df = pd.read_csv('grouped.csv')
adf = pd.read_csv('cleaned2.csv')
merged_df = pd.merge(df, adf, on=['lat', 'lon'], how='left')
merged_df.to_csv('cleaned2.csv', index=False)
