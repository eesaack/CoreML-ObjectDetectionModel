{
 "cells": [
  {
   "cell_type": "code",
   "execution_count": 1,
   "metadata": {},
   "outputs": [],
   "source": [
    "import numpy as np\n",
    "import pandas as pd\n",
    "import matplotlib.pyplot as plt\n",
    "from pathlib import Path\n",
    "import torchvision.io as io\n",
    "from tqdm import tqdm\n",
    "from torch.utils.data import Dataset, DataLoader, Subset"
   ]
  },
  {
   "cell_type": "code",
   "execution_count": 2,
   "metadata": {},
   "outputs": [],
   "source": [
    "import torch\n",
    "import torch.nn as nn\n",
    "import torch.nn.functional as F "
   ]
  },
  {
   "cell_type": "code",
   "execution_count": null,
   "metadata": {},
   "outputs": [],
   "source": [
    "from transformers import AutoImageProcessor, AutoModelForImageClassification\n",
    "from torch.optim import Adam\n",
    "from tqdm import tqdm\n",
    "\n",
    "device='cuda' if torch.cuda.is_available() else 'cpu'\n",
    "device"
   ]
  },
  {
   "cell_type": "code",
   "execution_count": null,
   "metadata": {
    "execution": {
     "iopub.execute_input": "2024-10-20T21:17:20.483355Z",
     "iopub.status.busy": "2024-10-20T21:17:20.482355Z",
     "iopub.status.idle": "2024-10-20T21:21:43.558418Z",
     "shell.execute_reply": "2024-10-20T21:21:43.557446Z",
     "shell.execute_reply.started": "2024-10-20T21:17:20.483319Z"
    }
   },
   "outputs": [],
   "source": [
    "#get a list of all the files of the dataset\n",
    "casia_path=Path(\"/kaggle/input/casiadataset/imgs/imgs\")\n",
    "casia_files=casia_path.glob(\"*/*.jpg\")\n",
    "casia_file_list=list(casia_files)"
   ]
  },
  {
   "cell_type": "code",
   "execution_count": null,
   "metadata": {},
   "outputs": [],
   "source": []
  },
  {
   "cell_type": "code",
   "execution_count": null,
   "metadata": {
    "execution": {
     "iopub.execute_input": "2024-10-20T21:21:43.560085Z",
     "iopub.status.busy": "2024-10-20T21:21:43.559726Z",
     "iopub.status.idle": "2024-10-20T21:21:43.565291Z",
     "shell.execute_reply": "2024-10-20T21:21:43.564172Z",
     "shell.execute_reply.started": "2024-10-20T21:21:43.560045Z"
    }
   },
   "outputs": [],
   "source": [
    "# a function that takes a path and returns the image tensor/kaggle/input/casiadataset/imgs\n",
    "def read_image(path):\n",
    "    image_tensor = io.read_image(path)\n",
    "    return image_tensor"
   ]
  },
  {
   "cell_type": "code",
   "execution_count": null,
   "metadata": {
    "execution": {
     "iopub.execute_input": "2024-10-20T21:21:43.567524Z",
     "iopub.status.busy": "2024-10-20T21:21:43.566611Z",
     "iopub.status.idle": "2024-10-20T21:21:45.596032Z",
     "shell.execute_reply": "2024-10-20T21:21:45.594985Z",
     "shell.execute_reply.started": "2024-10-20T21:21:43.567481Z"
    }
   },
   "outputs": [],
   "source": [
    "casia_df=pd.DataFrame(\n",
    "    data={\n",
    "        \"subject\": [str(file).split(\"/\")[-2] for file in casia_file_list],\n",
    "        \"file_name\": [str(file).split(\"/\")[-1] for file in casia_file_list],\n",
    "        \"file_path\": [str(file) for file in casia_file_list],\n",
    "        # 'tensor': [load_image(str(file)) for file in tqdm(casia_file_list)]\n",
    "    }\n",
    ")\n",
    "casia_df['subject'] = casia_df['subject'].astype(int)\n",
    "print(casia_df)"
   ]
  },
  {
   "cell_type": "code",
   "execution_count": null,
   "metadata": {
    "execution": {
     "iopub.execute_input": "2024-10-20T21:21:45.635182Z",
     "iopub.status.busy": "2024-10-20T21:21:45.634815Z",
     "iopub.status.idle": "2024-10-20T21:21:45.66729Z",
     "shell.execute_reply": "2024-10-20T21:21:45.666463Z",
     "shell.execute_reply.started": "2024-10-20T21:21:45.635135Z"
    }
   },
   "outputs": [],
   "source": [
    "casia_df['split']='train'\n",
    "test_indices = casia_df[casia_df['split']=='train'].groupby(by='subject').sample(frac=0.1).index #prendre 10% par subject\n",
    "casia_df.loc[test_indices,'split']='test'\n",
    "val_indices = casia_df[casia_df['split']=='train'].groupby(by='subject').sample(frac=0.1).index #prendre 10% par subject\n",
    "casia_df.loc[val_indices,'split']='val'\n",
    "casia_df"
   ]
  },
  {
   "cell_type": "code",
   "execution_count": null,
   "metadata": {
    "execution": {
     "iopub.execute_input": "2024-10-20T21:21:45.668748Z",
     "iopub.status.busy": "2024-10-20T21:21:45.668281Z",
     "iopub.status.idle": "2024-10-20T21:21:45.674876Z",
     "shell.execute_reply": "2024-10-20T21:21:45.673855Z",
     "shell.execute_reply.started": "2024-10-20T21:21:45.668712Z"
    }
   },
   "outputs": [],
   "source": [
    "class CasiaDataset(Dataset):\n",
    "    def __init__(self, dataframe):\n",
    "        self.dataframe=dataframe\n",
    "    def __len__(self):\n",
    "        return len(self.dataframe)\n",
    "    def __getitem__(self,idx): #this function returns a pair of images\n",
    "\n",
    "        image_tensor_1=read_image(self.dataframe.iloc[idx]['file_path']) #we read the first image\n",
    "        subject_1=self.dataframe.iloc[idx]['subject'] #we get the subject of the image (the person)\n",
    "\n",
    "        return image_tensor_1, subject_1\n",
    "    "
   ]
  },
  {
   "cell_type": "code",
   "execution_count": null,
   "metadata": {
    "execution": {
     "iopub.execute_input": "2024-10-20T21:21:45.676427Z",
     "iopub.status.busy": "2024-10-20T21:21:45.676075Z",
     "iopub.status.idle": "2024-10-20T21:21:45.692801Z",
     "shell.execute_reply": "2024-10-20T21:21:45.691996Z",
     "shell.execute_reply.started": "2024-10-20T21:21:45.676382Z"
    }
   },
   "outputs": [],
   "source": [
    "#create the object dataset\n",
    "casia_train=CasiaDataset(casia_df[casia_df['split']=='train'])\n",
    "casia_val=CasiaDataset(casia_df[casia_df['split']=='val'])\n",
    "casia_test=CasiaDataset(casia_df[casia_df['split']=='test'])"
   ]
  },
  {
   "cell_type": "code",
   "execution_count": null,
   "metadata": {
    "execution": {
     "iopub.execute_input": "2024-10-20T21:21:45.694187Z",
     "iopub.status.busy": "2024-10-20T21:21:45.693887Z",
     "iopub.status.idle": "2024-10-20T21:21:45.971142Z",
     "shell.execute_reply": "2024-10-20T21:21:45.970277Z",
     "shell.execute_reply.started": "2024-10-20T21:21:45.694156Z"
    }
   },
   "outputs": [],
   "source": [
    "image_tensor_1, subject_1 = casia_train[500]\n",
    "plt.imshow(image_tensor_1.numpy().transpose(1,2,0))\n",
    "plt.show()"
   ]
  },
  {
   "cell_type": "code",
   "execution_count": null,
   "metadata": {
    "execution": {
     "iopub.execute_input": "2024-10-20T21:21:45.972567Z",
     "iopub.status.busy": "2024-10-20T21:21:45.972273Z",
     "iopub.status.idle": "2024-10-20T21:21:45.977623Z",
     "shell.execute_reply": "2024-10-20T21:21:45.976777Z",
     "shell.execute_reply.started": "2024-10-20T21:21:45.972533Z"
    }
   },
   "outputs": [],
   "source": [
    "casia_dataloader_train = DataLoader(casia_train, batch_size=128, shuffle=True, drop_last=True)\n",
    "casia_dataloader_val = DataLoader(casia_val, batch_size=128, shuffle=False, drop_last=True)\n",
    "casia_dataloader_test = DataLoader(casia_test, batch_size=128, shuffle=False, drop_last=True)"
   ]
  },
  {
   "cell_type": "code",
   "execution_count": null,
   "metadata": {
    "execution": {
     "iopub.execute_input": "2024-10-20T21:21:45.979129Z",
     "iopub.status.busy": "2024-10-20T21:21:45.978823Z",
     "iopub.status.idle": "2024-10-20T21:21:47.539887Z",
     "shell.execute_reply": "2024-10-20T21:21:47.538881Z",
     "shell.execute_reply.started": "2024-10-20T21:21:45.979097Z"
    }
   },
   "outputs": [],
   "source": [
    "image_processor = AutoImageProcessor.from_pretrained(\"microsoft/resnet-18\") #pour traiter l'image\n",
    "model = AutoModelForImageClassification.from_pretrained(\"microsoft/resnet-18\") #mon modèle"
   ]
  },
  {
   "cell_type": "code",
   "execution_count": null,
   "metadata": {
    "execution": {
     "iopub.execute_input": "2024-10-20T21:21:47.541258Z",
     "iopub.status.busy": "2024-10-20T21:21:47.540974Z",
     "iopub.status.idle": "2024-10-20T21:21:47.548037Z",
     "shell.execute_reply": "2024-10-20T21:21:47.546811Z",
     "shell.execute_reply.started": "2024-10-20T21:21:47.541227Z"
    }
   },
   "outputs": [],
   "source": [
    "nb_classes = casia_df['subject'].unique().shape[0]\n",
    "print(nb_classes)"
   ]
  },
  {
   "cell_type": "code",
   "execution_count": null,
   "metadata": {
    "execution": {
     "iopub.execute_input": "2024-10-20T21:21:47.549719Z",
     "iopub.status.busy": "2024-10-20T21:21:47.549365Z",
     "iopub.status.idle": "2024-10-20T21:21:47.560879Z",
     "shell.execute_reply": "2024-10-20T21:21:47.559655Z",
     "shell.execute_reply.started": "2024-10-20T21:21:47.549676Z"
    }
   },
   "outputs": [],
   "source": [
    "#modifier la derniere couche du modèle pour avoir 10572 classes\n",
    "model.classifier = nn.Sequential(\n",
    "    nn.Flatten(start_dim=1, end_dim=-1),\n",
    "    nn.Linear(in_features=512, out_features=nb_classes, bias=True)             \n",
    ")"
   ]
  },
  {
   "cell_type": "code",
   "execution_count": null,
   "metadata": {
    "execution": {
     "iopub.execute_input": "2024-10-20T21:21:47.56475Z",
     "iopub.status.busy": "2024-10-20T21:21:47.56428Z",
     "iopub.status.idle": "2024-10-20T21:21:47.57063Z",
     "shell.execute_reply": "2024-10-20T21:21:47.569439Z",
     "shell.execute_reply.started": "2024-10-20T21:21:47.564702Z"
    }
   },
   "outputs": [],
   "source": [
    "def accuracy_fn(logits, labels):\n",
    "    y_probs=F.softmax(logits, dim=-1)\n",
    "    y_preds=y_probs.argmax(dim=-1)\n",
    "    accuracy=(y_preds==labels).sum()/len(labels)\n",
    "    return accuracy"
   ]
  },
  {
   "cell_type": "code",
   "execution_count": null,
   "metadata": {
    "execution": {
     "iopub.execute_input": "2024-10-20T21:31:31.488868Z",
     "iopub.status.busy": "2024-10-20T21:31:31.488213Z",
     "iopub.status.idle": "2024-10-20T21:35:24.843024Z",
     "shell.execute_reply": "2024-10-20T21:35:24.841632Z",
     "shell.execute_reply.started": "2024-10-20T21:31:31.488826Z"
    }
   },
   "outputs": [],
   "source": [
    "model.to(device)\n",
    "#boucle d'entrainement\n",
    "optimizer = Adam(params = model.parameters(), lr=1e-4)\n",
    "loss_fn = nn.CrossEntropyLoss().to(device)\n",
    "\n",
    "nb_epochs=100\n",
    "accuracies_g=[]\n",
    "train_losses_g=[]\n",
    "val_losses_g=[]\n",
    "best_validation=1e9\n",
    "\n",
    "for epoch in range(nb_epochs):\n",
    "    accuracies=[]\n",
    "    train_losses=[]\n",
    "    val_losses=[]\n",
    "    \n",
    "    model.train()\n",
    "    for batch, labels in tqdm(casia_dataloader_train):\n",
    "        batch=batch.to(device)\n",
    "        labels=labels.to(device)\n",
    "        optimizer.zero_grad() #mettre à zero les gradients\n",
    "        processed_batch=image_processor(batch, return_tensors=\"pt\")\n",
    "        logits = model(processed_batch['pixel_values'].to(device))['logits']\n",
    "        loss = loss_fn(logits, labels)\n",
    "        loss.backward()\n",
    "        optimizer.step()\n",
    "        train_losses.append(loss.item())\n",
    "    \n",
    "    model.eval()\n",
    "    with torch.no_grad():\n",
    "        for batch, labels in tqdm(casia_dataloader_val):\n",
    "            batch=batch.to(device)\n",
    "            labels=labels.to(device)\n",
    "            processed_batch=image_processor(batch, return_tensors=\"pt\")\n",
    "            logits = model(processed_batch['pixel_values'].to(device))['logits']\n",
    "            loss=loss_fn(logits, labels)\n",
    "            accuracy=accuracy_fn(logits, labels)\n",
    "            accuracies.append(accuracy.item())\n",
    "            val_losses.append(loss.item())\n",
    "            \n",
    "    accuracies_g.append(torch.tensor(accuracies).mean().item())\n",
    "    train_losses_g.append(torch.tensor(train_losses).mean().item())\n",
    "    val_losses_g.append(torch.tensor(val_losses).mean().item())\n",
    "    print(f\"Epoch: {epoch}, train_loss: {train_losses_g[-1]}, val_loss: {val_losses_g[-1]}, accuracy: {accuracies_g[-1]}\")\n",
    "    if best_validation>val_losses_g[-1]:\n",
    "        torch.save(model.state_dict(), '/kaggle/working/model.pt')\n",
    "        best_validation=val_losses_g[-1]\n",
    "    #sil ya cinq loss sans amélioration de la validation, on arrete\n",
    "    if len(val_losses_g)>4 and (np.array(val_losses_g[-3:]).min() > train_losses_g[-4]):\n",
    "        break\n",
    "    torch.save({'val_loss': val_losses_g,\n",
    "               'train_loss': train_losses_g,\n",
    "               'accuracy': accuracies_g}, '/kaggle/working/train_stats.pt')\n"
   ]
  },
  {
   "cell_type": "code",
   "execution_count": null,
   "metadata": {
    "execution": {
     "iopub.status.busy": "2024-10-20T21:23:53.838653Z",
     "iopub.status.idle": "2024-10-20T21:23:53.839104Z",
     "shell.execute_reply": "2024-10-20T21:23:53.8389Z",
     "shell.execute_reply.started": "2024-10-20T21:23:53.838876Z"
    }
   },
   "outputs": [],
   "source": [
    "# loaded_metrics = torch.load('/kaggle/working/train_stats.pt')\n",
    "# loaded_metrics"
   ]
  },
  {
   "cell_type": "code",
   "execution_count": null,
   "metadata": {},
   "outputs": [],
   "source": []
  }
 ],
 "metadata": {
  "kaggle": {
   "accelerator": "gpu",
   "dataSources": [
    {
     "datasetId": 5875904,
     "sourceId": 9626044,
     "sourceType": "datasetVersion"
    }
   ],
   "dockerImageVersionId": 30787,
   "isGpuEnabled": true,
   "isInternetEnabled": true,
   "language": "python",
   "sourceType": "notebook"
  },
  "kernelspec": {
   "display_name": "Python 3 (ipykernel)",
   "language": "python",
   "name": "python3"
  },
  "language_info": {
   "codemirror_mode": {
    "name": "ipython",
    "version": 3
   },
   "file_extension": ".py",
   "mimetype": "text/x-python",
   "name": "python",
   "nbconvert_exporter": "python",
   "pygments_lexer": "ipython3",
   "version": "3.12.7"
  }
 },
 "nbformat": 4,
 "nbformat_minor": 4
}
