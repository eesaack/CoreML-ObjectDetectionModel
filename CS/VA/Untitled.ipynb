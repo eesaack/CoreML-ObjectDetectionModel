{
 "cells": [
  {
   "cell_type": "code",
   "execution_count": 1,
   "id": "42d91a0b-5426-43f1-8957-27c5de381f5e",
   "metadata": {},
   "outputs": [
    {
     "name": "stdout",
     "output_type": "stream",
     "text": [
      "    Valeurs  Unite_temps                                         Titre  \\\n",
      "5      3405         2023  Sexist insults recorded by security services   \n",
      "62      152         2023      Offences for other breaches of integrity   \n",
      "70       75         2023                       Offenses for favoritism   \n",
      "78      182         2023      Offences for illegal taking of interests   \n",
      "86      158         2023     Offences for embezzlement of public funds   \n",
      "\n",
      "               Ordonnees          Indicateur  \\\n",
      "5   Number of violations      Sexist insults   \n",
      "62  Number of violations  Attacks on probity   \n",
      "70  Number of violations  Attacks on probity   \n",
      "78  Number of violations  Attacks on probity   \n",
      "86  Number of violations  Attacks on probity   \n",
      "\n",
      "                                      SourceGraphique  \\\n",
      "5   SSMSI, statistical database of offences record...   \n",
      "62  SSMSI, statistical database of offences record...   \n",
      "70  SSMSI, statistical database of offences record...   \n",
      "78  SSMSI, statistical database of offences record...   \n",
      "86  SSMSI, statistical database of offences record...   \n",
      "\n",
      "                 Sous_indicateur   Nomenclature    Declinaison Statistique  \\\n",
      "5                  Not specified  Not specified  Not specified        Name   \n",
      "62   Other breaches of integrity  Not specified  Not specified        Name   \n",
      "70                    Favoritism  Not specified  Not specified        Name   \n",
      "78   Illegal taking of interests  Not specified  Not specified        Name   \n",
      "86  Embezzlement of public funds  Not specified  Not specified        Name   \n",
      "\n",
      "   Zone_geographique  longitude   latitude Unite_de_compte  \n",
      "5             France   1.888334  46.603354     Infractions  \n",
      "62            France   1.888334  46.603354     Infractions  \n",
      "70            France   1.888334  46.603354     Infractions  \n",
      "78            France   1.888334  46.603354     Infractions  \n",
      "86            France   1.888334  46.603354     Infractions  \n"
     ]
    }
   ],
   "source": [
    "import pandas as pd\n",
    "\n",
    "# Load the data\n",
    "data = pd.read_csv('final_translated_data_V3.csv')\n",
    "\n",
    "# Filter rows where 'Unite_temps' column values are 2020, 2021, or 2022\n",
    "filtered_data = data[data['Unite_temps'].isin([2023])]\n",
    "\n",
    "# Output the filtered data\n",
    "print(filtered_data.head())"
   ]
  },
  {
   "cell_type": "code",
   "execution_count": 2,
   "id": "a17f1042-1a8e-4518-8f71-836e60131cb9",
   "metadata": {},
   "outputs": [],
   "source": [
    "filtered_data.to_csv('final_translated_data_V3.csv', index=False) "
   ]
  },
  {
   "cell_type": "code",
   "execution_count": null,
   "id": "fcccb2c3-29db-4a57-947a-d70fe649d481",
   "metadata": {},
   "outputs": [],
   "source": []
  }
 ],
 "metadata": {
  "kernelspec": {
   "display_name": "Python 3 (ipykernel)",
   "language": "python",
   "name": "python3"
  },
  "language_info": {
   "codemirror_mode": {
    "name": "ipython",
    "version": 3
   },
   "file_extension": ".py",
   "mimetype": "text/x-python",
   "name": "python",
   "nbconvert_exporter": "python",
   "pygments_lexer": "ipython3",
   "version": "3.12.7"
  }
 },
 "nbformat": 4,
 "nbformat_minor": 5
}
