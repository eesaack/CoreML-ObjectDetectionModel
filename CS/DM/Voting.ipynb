{
 "cells": [
  {
   "cell_type": "code",
   "execution_count": 1,
   "id": "0c608db4-6458-41ca-a895-f98a5a450314",
   "metadata": {},
   "outputs": [],
   "source": [
    "import numpy as np\n",
    "from collections import defaultdict\n",
    "import pandas as pd"
   ]
  },
  {
   "cell_type": "code",
   "execution_count": 15,
   "id": "e6002833-5371-4ae9-bf38-96723501c336",
   "metadata": {},
   "outputs": [],
   "source": [
    "voting_data = [\n",
    "        [5, ['a', 'b', 'c', 'd']],\n",
    "        [4, ['a', 'c', 'b', 'd']],\n",
    "        [2, ['d', 'b', 'a', 'c']],\n",
    "        [6, ['d', 'b', 'c', 'a']],\n",
    "        [8, ['c', 'b', 'a', 'd']],\n",
    "        [2, ['d', 'c', 'b', 'a']]\n",
    "    ]"
   ]
  },
  {
   "cell_type": "code",
   "execution_count": 16,
   "id": "45a9036f-6ce2-4eb0-8eb1-fef4e618347a",
   "metadata": {},
   "outputs": [
    {
     "name": "stdout",
     "output_type": "stream",
     "text": [
      "The plurality winner is: d\n"
     ]
    }
   ],
   "source": [
    "def plurality(voting_data):\n",
    "    vote_counts = {}\n",
    "    for candidate, votes in voting_data.items():\n",
    "        if candidate in vote_counts:\n",
    "            vote_counts[candidate] += votes\n",
    "        else:\n",
    "            vote_counts[candidate] = votes\n",
    "    return max(vote_counts, key=vote_counts.get)\n",
    "\n",
    "voting_data = {'a': 9, 'd': 10, 'c': 8}\n",
    "winner = plurality(voting_data)\n",
    "print(f\"The plurality winner is: {winner}\")"
   ]
  },
  {
   "cell_type": "code",
   "execution_count": 17,
   "id": "90d86f24-3098-46db-bf99-2e3c18bfc6c0",
   "metadata": {},
   "outputs": [
    {
     "name": "stdout",
     "output_type": "stream",
     "text": [
      "The winner of the plurality runoff vote is: d\n"
     ]
    }
   ],
   "source": [
    "def PluralityRunoff(voting_data):\n",
    "    total_votes = sum(voting_data.values())\n",
    "    first_place_counts = {}\n",
    "\n",
    "    for preference, count in voting_data.items():\n",
    "        first_choice = preference.split(' ≻ ')[0]\n",
    "        if first_choice in first_place_counts:\n",
    "            first_place_counts[first_choice] += count\n",
    "        else:\n",
    "            first_place_counts[first_choice] = count\n",
    "\n",
    "    for candidate, count in first_place_counts.items():\n",
    "        if count > total_votes / 2:\n",
    "            return candidate\n",
    "\n",
    "    if len(first_place_counts) > 1:  \n",
    "        top_two = sorted(first_place_counts, key=first_place_counts.get, reverse=True)[:2]\n",
    "        \n",
    "        runoff_counts = {candidate: 0 for candidate in top_two}\n",
    "        for preference, count in voting_data.items():\n",
    "            first_choice = preference.split(' ≻ ')[0]\n",
    "            if first_choice in runoff_counts:\n",
    "                runoff_counts[first_choice] += count\n",
    "                \n",
    "        return max(runoff_counts, key=runoff_counts.get)\n",
    "\n",
    "winner = PluralityRunoff(voting_data)\n",
    "print(f\"The winner of the plurality runoff vote is: {winner}\")"
   ]
  },
  {
   "cell_type": "code",
   "execution_count": 21,
   "id": "f8038e04-5257-4d25-b36f-e0716033db78",
   "metadata": {},
   "outputs": [
    {
     "name": "stdout",
     "output_type": "stream",
     "text": [
      "There is no Condorcet winner.\n"
     ]
    }
   ],
   "source": [
    "def CondorcetVoting(voting_data):\n",
    "    # Extract candidates and initialize win count for pairwise comparisons\n",
    "    candidates = set()\n",
    "    for preference in voting_data:\n",
    "        candidates.update(preference.split(' ≻ '))\n",
    "    wins = {candidate: {other: 0 for other in candidates if other != candidate} for candidate in candidates}\n",
    "\n",
    "    # Count pairwise wins\n",
    "    for preference, count in voting_data.items():\n",
    "        ordered_candidates = preference.split(' ≻ ')\n",
    "        for i, winner in enumerate(ordered_candidates):\n",
    "            for loser in ordered_candidates[i+1:]:\n",
    "                wins[winner][loser] += count\n",
    "\n",
    "    # Determine if there's a Condorcet winner\n",
    "    condorcet_winner = None\n",
    "    for candidate in candidates:\n",
    "        if all(wins[candidate][opponent] > sum(voting_data.values()) / 2 for opponent in wins[candidate]):\n",
    "            condorcet_winner = candidate\n",
    "            break\n",
    "\n",
    "    return condorcet_winner\n",
    "\n",
    "winner = CondorcetVoting(voting_data)\n",
    "if winner:\n",
    "    print(f\"The Condorcet winner is: {winner}\")\n",
    "else:\n",
    "    print(\"There is no Condorcet winner.\")"
   ]
  },
  {
   "cell_type": "code",
   "execution_count": 1,
   "id": "7ec95046-f90d-4571-9013-af6fd020732c",
   "metadata": {},
   "outputs": [
    {
     "name": "stdout",
     "output_type": "stream",
     "text": [
      "Plurality Winner: d\n",
      "Runoff Winner: d\n",
      "Condorcet Winner: c\n",
      "Borda Winner: c\n"
     ]
    }
   ],
   "source": [
    "import pandas as pd\n",
    "from collections import Counter\n",
    "\n",
    "# Data from the example\n",
    "voting_data = {\n",
    "    'a ≻ b ≻ c ≻ d': 5,\n",
    "    'a ≻ c ≻ b ≻ d': 4,\n",
    "    'd ≻ b ≻ a ≻ c': 2,\n",
    "    'd ≻ b ≻ c ≻ a': 6,\n",
    "    'c ≻ b ≻ a ≻ d': 8,\n",
    "    'd ≻ c ≻ b ≻ a': 2\n",
    "}\n",
    "\n",
    "# Transform data into a more manageable format\n",
    "def expand_voting_data(voting_data):\n",
    "    expanded_list = []\n",
    "    for preference, count in voting_data.items():\n",
    "        for _ in range(count):\n",
    "            expanded_list.append(preference.split(' ≻ '))\n",
    "    return expanded_list\n",
    "\n",
    "# Convert the list to DataFrame for easier manipulation\n",
    "def create_voter_df(expanded_list):\n",
    "    return pd.DataFrame(expanded_list, columns=['1st', '2nd', '3rd', '4th'])\n",
    "\n",
    "voter_df = create_voter_df(expand_voting_data(voting_data))\n",
    "\n",
    "# Implement Plurality Voting\n",
    "def plurality(voter_df):\n",
    "    return voter_df['1st'].value_counts().idxmax()\n",
    "\n",
    "# Implement Plurality with Runoff\n",
    "def runoff(voter_df):\n",
    "    first_round = voter_df['1st'].value_counts()\n",
    "    if first_round.max() > len(voter_df) / 2:\n",
    "        return first_round.idxmax()\n",
    "    else:\n",
    "        # Runoff between top two\n",
    "        top_two = first_round.nlargest(2).index\n",
    "        second_round = voter_df[voter_df['1st'].isin(top_two)]['1st'].value_counts()\n",
    "        return second_round.idxmax()\n",
    "\n",
    "# Implement Condorcet Method\n",
    "def condorcet(voter_df):\n",
    "    candidates = voter_df['1st'].unique()\n",
    "    wins = {candidate: 0 for candidate in candidates}\n",
    "    for candidate in candidates:\n",
    "        for opponent in candidates:\n",
    "            if candidate != opponent:\n",
    "                # Win if candidate beats opponent in more voter preferences\n",
    "                wins[candidate] += int(sum(voter_df.apply(lambda row: row.tolist().index(candidate) < row.tolist().index(opponent), axis=1)) > len(voter_df) / 2)\n",
    "    # Candidate who beats all others\n",
    "    for candidate, win_count in wins.items():\n",
    "        if win_count == len(candidates) - 1:\n",
    "            return candidate\n",
    "    return None  # No Condorcet winner\n",
    "\n",
    "# Implement Borda Count\n",
    "def borda(voter_df):\n",
    "    candidates = voter_df['1st'].unique()\n",
    "    scores = {candidate: 0 for candidate in candidates}\n",
    "    positions = ['1st', '2nd', '3rd', '4th']\n",
    "    for position in positions:\n",
    "        for candidate in candidates:\n",
    "            scores[candidate] += sum((4 - positions.index(position)) * (voter_df[position] == candidate))\n",
    "    return max(scores, key=scores.get)\n",
    "\n",
    "# Execute the voting methods\n",
    "print(\"Plurality Winner:\", plurality(voter_df))\n",
    "print(\"Runoff Winner:\", runoff(voter_df))\n",
    "print(\"Condorcet Winner:\", condorcet(voter_df))\n",
    "print(\"Borda Winner:\", borda(voter_df))"
   ]
  },
  {
   "cell_type": "code",
   "execution_count": null,
   "id": "4c265268-a704-4d99-b645-6de96801870c",
   "metadata": {},
   "outputs": [],
   "source": []
  }
 ],
 "metadata": {
  "kernelspec": {
   "display_name": "Python 3",
   "language": "python",
   "name": "python3"
  },
  "language_info": {
   "codemirror_mode": {
    "name": "ipython",
    "version": 3
   },
   "file_extension": ".py",
   "mimetype": "text/x-python",
   "name": "python",
   "nbconvert_exporter": "python",
   "pygments_lexer": "ipython3",
   "version": "3.8.8"
  }
 },
 "nbformat": 4,
 "nbformat_minor": 5
}
