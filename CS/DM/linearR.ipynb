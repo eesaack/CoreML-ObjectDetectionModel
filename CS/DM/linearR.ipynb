{
 "cells": [
  {
   "cell_type": "markdown",
   "id": "8b9db14c-6eaa-4b05-bcca-1e737b86525d",
   "metadata": {},
   "source": [
    "# Question 1"
   ]
  },
  {
   "cell_type": "code",
   "execution_count": 1,
   "id": "b60ffbd9-bf18-4e79-85e1-a30b9ceb2308",
   "metadata": {},
   "outputs": [],
   "source": [
    "import pulp"
   ]
  },
  {
   "cell_type": "code",
   "execution_count": 2,
   "id": "e374a2d0-5466-442c-937f-967e30f4f204",
   "metadata": {},
   "outputs": [],
   "source": [
    "values = [10, 8, 12, 4, 5, 10, 6, 9, 7, 9]  \n",
    "weights = [5, 7, 4, 3, 5, 3, 4, 6, 4, 6]   \n",
    "n = len(values)"
   ]
  },
  {
   "cell_type": "code",
   "execution_count": 3,
   "id": "5b803aa9-dda5-4145-ab3d-b6cf89e1bf69",
   "metadata": {},
   "outputs": [
    {
     "name": "stdout",
     "output_type": "stream",
     "text": [
      "Total value for 23 kg: 49.0, Items: [0, 2, 3, 5, 6, 8]\n",
      "Total value for 20 kg: 45.0, Items: [0, 2, 5, 6, 8]\n",
      "Total value for 26 kg: 54.0, Items: [0, 2, 5, 6, 7, 8]\n"
     ]
    },
    {
     "name": "stderr",
     "output_type": "stream",
     "text": [
      "/opt/anaconda3/lib/python3.8/site-packages/pulp/pulp.py:1298: UserWarning: Spaces are not permitted in the name. Converted to '_'\n",
      "  warnings.warn(\"Spaces are not permitted in the name. Converted to '_'\")\n"
     ]
    }
   ],
   "source": [
    "def solve_knapsack(max_weight):\n",
    "\n",
    "    prob = pulp.LpProblem(\"Knapsack Problem\", pulp.LpMaximize)\n",
    "    \n",
    "    # list of binary decision variables\n",
    "    item_vars = [pulp.LpVariable(f\"item_{i}\", cat=\"Binary\") for i in range(n)]\n",
    "\n",
    "    # function to maximize total value of the selected items\n",
    "    prob += pulp.lpSum([values[i] * item_vars[i] for i in range(n)])\n",
    "    \n",
    "    # constraint for total weight < max weight\n",
    "    prob += pulp.lpSum([weights[i] * item_vars[i] for i in range(n)]) <= max_weight\n",
    "    \n",
    "    status = prob.solve(pulp.PULP_CBC_CMD(msg=True))\n",
    "    if status == pulp.LpStatusOptimal:\n",
    "        selected_items_pulp = [i for i in range(n) if pulp.value(item_vars[i]) == 1]\n",
    "        total_value_pulp = pulp.value(prob.objective)\n",
    "        return total_value_pulp, selected_items_pulp\n",
    "    else:\n",
    "        return None, []\n",
    "\n",
    "result_23_kg = solve_knapsack(23)\n",
    "result_20_kg = solve_knapsack(20)\n",
    "result_26_kg = solve_knapsack(26)\n",
    "\n",
    "if result_23_kg:\n",
    "    print(f\"Total value for 23 kg: {result_23_kg[0]}, Items: {result_23_kg[1]}\")\n",
    "if result_20_kg:\n",
    "    print(f\"Total value for 20 kg: {result_20_kg[0]}, Items: {result_20_kg[1]}\")\n",
    "if result_26_kg:\n",
    "    print(f\"Total value for 26 kg: {result_26_kg[0]}, Items: {result_26_kg[1]}\")"
   ]
  },
  {
   "cell_type": "markdown",
   "id": "718ca8dc-059b-4e59-bdfd-03130aaf024f",
   "metadata": {},
   "source": [
    "# Question 2"
   ]
  },
  {
   "cell_type": "code",
   "execution_count": 4,
   "id": "23a8f3a9-1c4f-4a17-b3d1-b3a35ba795f9",
   "metadata": {},
   "outputs": [],
   "source": [
    "import numpy as np\n",
    "from scipy.optimize import linprog"
   ]
  },
  {
   "cell_type": "markdown",
   "id": "d8bf5fae-637a-4ded-83dc-dfb99ba74bd0",
   "metadata": {},
   "source": [
    "### Task 1:\n",
    "- (a) Which list(s) of places could you recommend to him? This solution will be called ListVisit 1.\n",
    "- (b) Which list(s) of places could you recommend to him if Doe’s budget is now 65 e, the maximum duration still being 14\n",
    "hours ?\n",
    "- (c) Which list(s) of places could you recommend to him if Doe’s budget is now 90 eand the maximum duration being 10 hours?"
   ]
  },
  {
   "cell_type": "code",
   "execution_count": 5,
   "id": "7168c4c3-b1e2-497e-87d0-f196007e6e46",
   "metadata": {},
   "outputs": [
    {
     "name": "stdout",
     "output_type": "stream",
     "text": [
      "ListVisit1: ['AT', 'JT', 'CA', 'CN', 'BS', 'SC', 'PC', 'TM', 'AC'], Total Duration: 14.25, Total Cost: 58.0\n",
      "ListVisit2: ['AT', 'JT', 'CA', 'CN', 'BS', 'SC', 'PC', 'TM', 'AC'], Total Duration: 14.25, Total Cost: 58.0\n",
      "ListVisit3: ['AT', 'JT', 'CN', 'BS', 'SC', 'PC', 'AC'], Total Duration: 10.25, Total Cost: 36.0\n"
     ]
    }
   ],
   "source": [
    "# Sites and their attributes\n",
    "sites = ['TE', 'ML', 'AT', 'MO', 'JT', 'CA', 'CP', 'CN', 'BS', 'SC', 'PC', 'TM', 'AC']\n",
    "durations = np.array([9/2, 3, 1, 2, 3/2, 2, 5/2, 2, 2, 3/2, 3/4, 2, 3/2])  # in hours\n",
    "prices = np.array([16.5, 14, 10.5, 11, 0, 10, 10, 7, 10, 8.5, 0, 12, 0])  # in euros\n",
    "distances = np.array([\n",
    "    [0, 3.8, 2.1, 2.4, 3.5, 4.2, 5.0, 4.4, 5.5, 4.2, 2.5, 3.1, 1.9],\n",
    "    [3.8, 0, 3.8, 1.1, 1.3, 3.3, 1.3, 1.1, 3.4, 0.8, 1.7, 2.5, 2.8],\n",
    "    [2.1, 3.8, 0, 3.1, 3.0, 5.8, 4.8, 4.9, 4.3, 4.6, 2.2, 4.4, 1.0],\n",
    "    [2.4, 1.1, 3.1, 0, 0.9, 3.1, 2.5, 2.0, 3.9, 1.8, 1.0, 2.3, 2.1],\n",
    "    [3.5, 1.3, 3.0, 0.9, 0, 4.2, 2.0, 2.4, 2.7, 2.0, 1.0, 3.4, 2.1],\n",
    "    [4.2, 3.3, 5.8, 3.1, 4.2, 0, 2.0, 2.7, 2.7, 2.0, 1.0, 3.4, 2.1],\n",
    "    [5.0, 1.3, 4.8, 2.5, 2.0, 2.0, 0, 2.5, 6.5, 2.6, 3.8, 1.3, 4.9],\n",
    "    [4.4, 1.1, 4.9, 2.0, 2.4, 2.7, 2.5, 0, 3.7, 0.9, 2.7, 3.4, 3.8],\n",
    "    [5.5, 3.4, 4.3, 3.9, 2.7, 2.7, 6.5, 3.7, 0, 4.5, 0.4, 2.7, 3.9],\n",
    "    [4.2, 0.8, 4.6, 1.8, 2.0, 2.0, 2.6, 0.9, 4.5, 0, 2.8, 2.7, 3.8],\n",
    "    [2.5, 1.7, 2.2, 1.0, 1.0, 1.0, 3.8, 2.7, 0.4, 2.8, 0, 3.0, 1.2],\n",
    "    [3.1, 2.5, 4.4, 2.3, 3.4, 3.4, 1.3, 3.4, 2.7, 2.7, 3.0, 0, 3.6],\n",
    "    [1.9, 2.8, 1.0, 2.1, 2.1, 2.1, 4.9, 3.8, 3.9, 3.8, 1.2, 3.6, 0]\n",
    "])\n",
    "\n",
    "# Average walking speed is about 5 km/h; converting distances to walking time in hours\n",
    "walking_speed = 5\n",
    "travel_time = np.array(distances) / walking_speed\n",
    "total_durations = durations + np.min(travel_time + travel_time.T, axis=0) * 2\n",
    "\n",
    "# Constraints for each scenario\n",
    "constraints = {\n",
    "    \"ListVisit1\": {\"budget\": 75, \"duration\": 14},\n",
    "    \"ListVisit2\": {\"budget\": 65, \"duration\": 14},\n",
    "    \"ListVisit3\": {\"budget\": 90, \"duration\": 10}\n",
    "}\n",
    "\n",
    "results = {}\n",
    "\n",
    "# Solving each case using linear programming\n",
    "for name, constraint in constraints.items():\n",
    "    c = -np.ones(len(sites))  # Objective function to maximize number of sites visited\n",
    "    A = [total_durations, prices]  # Constraints: total duration including travel, and cost\n",
    "    b = [constraint[\"duration\"], constraint[\"budget\"]]  # Bounds from each scenario's constraints\n",
    "\n",
    "    result = linprog(c, A_ub=A, b_ub=b, bounds=[(0, 1) for _ in sites], method='highs')\n",
    "    visited_sites = np.where(result.x > 0.5)[0]  # Sites where x_i > 0.5 are considered visited\n",
    "    selected_sites = [sites[i] for i in visited_sites]\n",
    "    total_duration = np.sum(durations[visited_sites])\n",
    "    total_cost = np.sum(prices[visited_sites])\n",
    "\n",
    "    results[name] = (selected_sites, total_duration, total_cost)\n",
    "\n",
    "# Display the results for each scenario\n",
    "for scenario, (sites_list, duration, cost) in results.items():\n",
    "    print(f\"{scenario}: {sites_list}, Total Duration: {duration}, Total Cost: {cost}\")"
   ]
  },
  {
   "cell_type": "markdown",
   "id": "726469ba-273f-4d5f-a9bf-c26a61a5d19b",
   "metadata": {},
   "source": [
    "<b>Observations:</b>\n",
    "- In ListVisit 1 and ListVisit 2, both with a time constraint of 14 hours, we see a consistent selection of sites, maximizing the number of visits within the budget 75 and 65 euros.\n",
    "- ListVisit 3, despite having only 10 hours includes high-value sites, making full use of a larger budget but the total budget resulted 36 euros. This shows the algorithm's flexibility in adapting to varying budget and time constraints while still optimizing the visits."
   ]
  },
  {
   "cell_type": "code",
   "execution_count": 6,
   "id": "fb669430-d8cb-40be-a227-07c30602e002",
   "metadata": {},
   "outputs": [],
   "source": [
    "# List of sites\n",
    "sites = ['TE', 'ML', 'AT', 'MO', 'JT', 'CA', 'CP', 'CN', 'BS', 'SC', 'PC', 'TM', 'AC']\n",
    "\n",
    "# Durations (in hours)\n",
    "durations = [9/2, 3, 1, 2, 3/2, 2, 5/2, 2, 2, 3/2, 3/4, 2, 3/2]\n",
    "\n",
    "# Prices (in euros)\n",
    "prices = [16.5, 14, 10.5, 11, 0, 10, 10, 7, 10, 8.5, 0, 12, 0]\n",
    "\n",
    "# Appreciations (from 1 to 5 stars)\n",
    "appreciations = [5, 4, 3, 2, 3, 4, 1, 5, 4, 1, 3, 2, 5]\n",
    "\n",
    "# Distances (in kms of walking) between pairs of sites\n",
    "distances = {\n",
    "    (\"TE\", \"ML\"): 3.8, (\"TE\", \"AT\"): 2.1, (\"TE\", \"MO\"): 2.4, (\"TE\", \"JT\"): 3.5, (\"TE\", \"CA\"): 4.2, \n",
    "    (\"TE\", \"CP\"): 5.0, (\"TE\", \"CN\"): 4.4, (\"TE\", \"BS\"): 5.5, (\"TE\", \"SC\"): 4.2, (\"TE\", \"PC\"): 2.5, \n",
    "    (\"TE\", \"TM\"): 3.1, (\"TE\", \"AC\"): 1.9, (\"ML\", \"AT\"): 3.8, (\"ML\", \"MO\"): 1.1, (\"ML\", \"JT\"): 1.3, \n",
    "    (\"ML\", \"CA\"): 3.3, (\"ML\", \"CP\"): 1.3, (\"ML\", \"CN\"): 1.1, (\"ML\", \"BS\"): 3.4, (\"ML\", \"SC\"): 0.8, \n",
    "    (\"ML\", \"PC\"): 1.7, (\"ML\", \"TM\"): 2.5, (\"ML\", \"AC\"): 2.8, (\"AT\", \"MO\"): 3.1, (\"AT\", \"JT\"): 3.0, \n",
    "    (\"AT\", \"CA\"): 5.8, (\"AT\", \"CP\"): 4.8, (\"AT\", \"CN\"): 4.9, (\"AT\", \"BS\"): 4.3, (\"AT\", \"SC\"): 4.6, \n",
    "    (\"AT\", \"PC\"): 2.2, (\"AT\", \"TM\"): 4.4, (\"AT\", \"AC\"): 1.0, (\"MO\", \"JT\"): 0.9, (\"MO\", \"CA\"): 3.1, \n",
    "    (\"MO\", \"CP\"): 2.5, (\"MO\", \"CN\"): 2.0, (\"MO\", \"BS\"): 3.9, (\"MO\", \"SC\"): 1.8, (\"MO\", \"PC\"): 1.0, \n",
    "    (\"MO\", \"TM\"): 2.3, (\"MO\", \"AC\"): 2.1, (\"JT\", \"CA\"): 4.2, (\"JT\", \"CP\"): 2.0, (\"JT\", \"CN\"): 2.4, \n",
    "    (\"JT\", \"BS\"): 2.7, (\"JT\", \"SC\"): 2.0, (\"JT\", \"PC\"): 1.0, (\"JT\", \"TM\"): 3.4, (\"JT\", \"AC\"): 2.1, \n",
    "    (\"CA\", \"CP\"): 3.5, (\"CA\", \"CN\"): 2.7, (\"CA\", \"BS\"): 6.5, (\"CA\", \"SC\"): 2.6, (\"CA\", \"PC\"): 3.8, \n",
    "    (\"CA\", \"TM\"): 1.3, (\"CA\", \"AC\"): 4.9, (\"CP\", \"CN\"): 0.85, (\"CP\", \"BS\"): 3.7, (\"CP\", \"SC\"): 0.9, \n",
    "    (\"CP\", \"PC\"): 2.7, (\"CP\", \"TM\"): 3.4, (\"CP\", \"AC\"): 3.8, (\"CN\", \"BS\"): 4.5, (\"CN\", \"SC\"): 0.4, \n",
    "    (\"CN\", \"PC\"): 2.8, (\"CN\", \"TM\"): 2.7, (\"CN\", \"AC\"): 3.9, (\"BS\", \"SC\"): 4.2, (\"BS\", \"PC\"): 3.3, \n",
    "    (\"BS\", \"TM\"): 5.7, (\"BS\", \"AC\"): 3.8, (\"SC\", \"PC\"): 2.5, (\"SC\", \"TM\"): 2.6, (\"SC\", \"AC\"): 3.6, \n",
    "    (\"PC\", \"TM\"): 3.0, (\"PC\", \"AC\"): 1.2, (\"TM\", \"AC\"): 2.1\n",
    "}"
   ]
  },
  {
   "cell_type": "code",
   "execution_count": 7,
   "id": "9451eb47-fd76-4a37-a08d-f8bd1bdd45c4",
   "metadata": {},
   "outputs": [
    {
     "name": "stdout",
     "output_type": "stream",
     "text": [
      "ListVisit 1: ['PC', 'JT', 'AC', 'CN', 'SC', 'CA', 'BS', 'CP']\n",
      "Cost: 45.5 Total Time: 13.75\n",
      "ListVisit 2: ['PC', 'JT', 'AC', 'CN', 'SC', 'CA', 'BS', 'CP']\n",
      "Cost: 45.5 Total Time: 13.75\n",
      "ListVisit 3: ['PC', 'JT', 'AC', 'CN', 'SC', 'CA']\n",
      "Cost: 25.5 Total Time: 9.25\n"
     ]
    }
   ],
   "source": [
    "def custom_maximize_visits(budget, hours, prices, durations, sites):\n",
    "    site_data = sorted(zip(sites, prices, durations), key=lambda x: (x[1], x[2]))\n",
    "\n",
    "    visited_sites = []\n",
    "    total_cost = 0\n",
    "    total_duration = 0\n",
    "\n",
    "    for site, price, duration in site_data:\n",
    "        if total_cost + price <= budget and total_duration + duration <= hours:\n",
    "            visited_sites.append(site)\n",
    "            total_cost += price\n",
    "            total_duration += duration\n",
    "    \n",
    "    return visited_sites, total_cost, total_duration\n",
    "\n",
    "# Case (a): Budget = 75 euros, Time = 14 hours\n",
    "list_visit_1, cost_1, time_1 = custom_maximize_visits(75, 14, prices, durations, sites)\n",
    "\n",
    "# Case (b): Budget = 65 euros, Time = 14 hours\n",
    "list_visit_2, cost_2, time_2 = custom_maximize_visits(65, 14, prices, durations, sites)\n",
    "\n",
    "# Case (c): Budget = 90 euros, Time = 10 hours\n",
    "list_visit_3, cost_3, time_3 = custom_maximize_visits(90, 10, prices, durations, sites)\n",
    "\n",
    "print(\"ListVisit 1:\", list_visit_1)\n",
    "print(\"Cost:\", cost_1, \"Total Time:\", time_1)\n",
    "\n",
    "print(\"ListVisit 2:\", list_visit_2)\n",
    "print(\"Cost:\", cost_2, \"Total Time:\", time_2)\n",
    "\n",
    "print(\"ListVisit 3:\", list_visit_3)\n",
    "print(\"Cost:\", cost_3, \"Total Time:\", time_3)"
   ]
  },
  {
   "cell_type": "markdown",
   "id": "a66b57c4-a371-42cf-911e-f3cbd46331e6",
   "metadata": {},
   "source": [
    "### Task 2 \n",
    "\n",
    "##### We keep the budget of **75 euros** and the maximum duration being **14 hours**. Actually, Mr. Doe has some preferences among these tourist sites, and he expresses them as follows:\n",
    "\n",
    "- **Preference 1**: If two sites are geographically very close (within a radius of 1 km of walking), he will prefer to visit these two sites instead of visiting only one.\n",
    "- **Preference 2**: He absolutely wants to visit the **Eiffel Tower (TE)** and **Catacombes (CA)**.\n",
    "- **Preference 3**: If he visits **Avenue des Champs-Elysées (AC)**, then he will not visit the **Sainte-Chapelle (SC)**.\n",
    "- **Preference 4**: He absolutely wants to visit the **Arc de Triomphe (AT)**.\n",
    "- **Preference 5**: If he visits the **Louvre Museum (ML)**, then he must visit the **Musée d’Orsay (MO)**.\n",
    "\n",
    "\n",
    "- **(a)** For each of the five preferences above, suggest to Mr. Doe, one or more lists of tourist sites to visit. Are the obtained lists\n",
    "different from the solution ListVisit1?"
   ]
  },
  {
   "cell_type": "code",
   "execution_count": 11,
   "id": "b99fa598-93b9-47f0-be71-2d4a08b437a4",
   "metadata": {},
   "outputs": [
    {
     "ename": "NameError",
     "evalue": "name 'distances_km' is not defined",
     "output_type": "error",
     "traceback": [
      "\u001b[0;31m---------------------------------------------------------------------------\u001b[0m",
      "\u001b[0;31mNameError\u001b[0m                                 Traceback (most recent call last)",
      "\u001b[0;32m<ipython-input-11-b72ccb6399e7>\u001b[0m in \u001b[0;36m<module>\u001b[0;34m\u001b[0m\n\u001b[1;32m     43\u001b[0m \u001b[0;34m\u001b[0m\u001b[0m\n\u001b[1;32m     44\u001b[0m \u001b[0;31m# Apply preferences individually\u001b[0m\u001b[0;34m\u001b[0m\u001b[0;34m\u001b[0m\u001b[0;34m\u001b[0m\u001b[0m\n\u001b[0;32m---> 45\u001b[0;31m \u001b[0mindividual_preferences\u001b[0m \u001b[0;34m=\u001b[0m \u001b[0mapply_preferences_individually\u001b[0m\u001b[0;34m(\u001b[0m\u001b[0;36m75\u001b[0m\u001b[0;34m,\u001b[0m \u001b[0;36m14\u001b[0m\u001b[0;34m,\u001b[0m \u001b[0mprices\u001b[0m\u001b[0;34m,\u001b[0m \u001b[0mdurations\u001b[0m\u001b[0;34m,\u001b[0m \u001b[0msites\u001b[0m\u001b[0;34m,\u001b[0m \u001b[0mdistances_km\u001b[0m\u001b[0;34m)\u001b[0m\u001b[0;34m\u001b[0m\u001b[0;34m\u001b[0m\u001b[0m\n\u001b[0m\u001b[1;32m     46\u001b[0m \u001b[0;34m\u001b[0m\u001b[0m\n\u001b[1;32m     47\u001b[0m \u001b[0;31m# Output results and check against ListVisit 1\u001b[0m\u001b[0;34m\u001b[0m\u001b[0;34m\u001b[0m\u001b[0;34m\u001b[0m\u001b[0m\n",
      "\u001b[0;31mNameError\u001b[0m: name 'distances_km' is not defined"
     ]
    }
   ],
   "source": [
    "def apply_preferences_individually(budget, hours, prices, durations, sites, distances):\n",
    "    results = {}\n",
    "\n",
    "    # Base settings\n",
    "    base_sites = ['TE', 'CA', 'AT']  # Mandatory for all scenarios due to absolute preferences\n",
    "    if 'ML' in sites:\n",
    "        base_sites.append('MO')  # Dependency of ML on MO\n",
    "\n",
    "    # Preferences application\n",
    "    preferences = {\n",
    "        'Preference 1': lambda visited, site: any(distances[sites.index(site)][sites.index(vs)] <= 1.0 for vs in visited),\n",
    "        'Preference 2': lambda visited, site: site in ['TE', 'CA'],\n",
    "        'Preference 3': lambda visited, site: not ('AC' in visited and site == 'SC' or 'SC' in visited and site == 'AC'),\n",
    "        'Preference 4': lambda visited, site: site in ['AT'],\n",
    "        'Preference 5': lambda visited, site: not ('ML' in visited and 'MO' not in visited)\n",
    "    }\n",
    "\n",
    "    # Apply each preference separately\n",
    "    for pref, condition in preferences.items():\n",
    "        visited_sites = set(base_sites)\n",
    "        total_cost = sum(prices[sites.index(site)] for site in visited_sites)\n",
    "        total_duration = sum(durations[sites.index(site)] for site in visited_sites)\n",
    "\n",
    "        for site, price, duration in zip(sites, prices, durations):\n",
    "            if site in visited_sites:\n",
    "                continue\n",
    "            if total_cost + price > budget or total_duration + duration > hours:\n",
    "                continue\n",
    "            if condition(visited_sites, site):\n",
    "                visited_sites.add(site)\n",
    "                total_cost += price\n",
    "                total_duration += duration\n",
    "\n",
    "        results[pref] = (visited_sites, total_cost, total_duration)\n",
    "\n",
    "    return results\n",
    "\n",
    "def check_lists_similarity(list1, list2):\n",
    "    return set(list1) == set(list2)\n",
    "    \n",
    "\n",
    "list_visit_1 = {'PC', 'JT', 'AC', 'CN', 'SC', 'CA', 'BS', 'CP'}\n",
    "\n",
    "# Apply preferences individually\n",
    "individual_preferences = apply_preferences_individually(75, 14, prices, durations, sites, distances_km)\n",
    "\n",
    "# Output results and check against ListVisit 1\n",
    "comparison_results = {}\n",
    "for pref, result in individual_preferences.items():\n",
    "    visited, cost, duration = result\n",
    "    comparison_results[pref] = {\n",
    "        'Visited Sites': visited,\n",
    "        'Total Cost': cost,\n",
    "        'Total Time': duration,\n",
    "        'Matches ListVisit 1': check_lists_similarity(visited, list_visit_1)\n",
    "    }\n",
    "\n",
    "# Print results\n",
    "for pref, data in comparison_results.items():\n",
    "    print(f\"{pref}:\")\n",
    "    print(f\"  Visited Sites: {data['Visited Sites']}\")\n",
    "    print(f\"  Total Cost: {data['Total Cost']}\")\n",
    "    print(f\"  Total Time: {data['Total Time']}\")\n",
    "    print(f\"  Matches ListVisit 1: {data['Matches ListVisit 1']}\\n\")"
   ]
  },
  {
   "cell_type": "markdown",
   "id": "87299d0a-de30-4ca0-9afd-f0c37b011159",
   "metadata": {},
   "source": [
    "### (b) If Mr. Doe wishes, at the same time, to take into account Preference 1 and Preference 2, which list(s) would you recommend to him?"
   ]
  },
  {
   "cell_type": "code",
   "execution_count": 10,
   "id": "00a00fa1-6e42-4aef-a8ff-a6048894e1fa",
   "metadata": {},
   "outputs": [
    {
     "ename": "KeyError",
     "evalue": "1",
     "output_type": "error",
     "traceback": [
      "\u001b[0;31m---------------------------------------------------------------------------\u001b[0m",
      "\u001b[0;31mKeyError\u001b[0m                                  Traceback (most recent call last)",
      "\u001b[0;32m<ipython-input-10-07787bcf8427>\u001b[0m in \u001b[0;36m<module>\u001b[0;34m\u001b[0m\n\u001b[1;32m     35\u001b[0m     \u001b[0;32mreturn\u001b[0m \u001b[0mvisited_sites\u001b[0m\u001b[0;34m,\u001b[0m \u001b[0mtotal_cost\u001b[0m\u001b[0;34m,\u001b[0m \u001b[0mtotal_duration\u001b[0m\u001b[0;34m\u001b[0m\u001b[0;34m\u001b[0m\u001b[0m\n\u001b[1;32m     36\u001b[0m \u001b[0;34m\u001b[0m\u001b[0m\n\u001b[0;32m---> 37\u001b[0;31m combined_list_visit, combined_cost, combined_time = optimize_combined_preferences(\n\u001b[0m\u001b[1;32m     38\u001b[0m     75, 14, prices, durations, sites, distances)\n\u001b[1;32m     39\u001b[0m \u001b[0;34m\u001b[0m\u001b[0m\n",
      "\u001b[0;32m<ipython-input-10-07787bcf8427>\u001b[0m in \u001b[0;36moptimize_combined_preferences\u001b[0;34m(budget, hours, prices, durations, sites, distances)\u001b[0m\n\u001b[1;32m     23\u001b[0m         \u001b[0;32mfor\u001b[0m \u001b[0madded_site\u001b[0m \u001b[0;32min\u001b[0m \u001b[0mlist\u001b[0m\u001b[0;34m(\u001b[0m\u001b[0mvisited_sites\u001b[0m\u001b[0;34m)\u001b[0m\u001b[0;34m:\u001b[0m\u001b[0;34m\u001b[0m\u001b[0;34m\u001b[0m\u001b[0m\n\u001b[1;32m     24\u001b[0m             \u001b[0madded_index\u001b[0m \u001b[0;34m=\u001b[0m \u001b[0msites\u001b[0m\u001b[0;34m.\u001b[0m\u001b[0mindex\u001b[0m\u001b[0;34m(\u001b[0m\u001b[0madded_site\u001b[0m\u001b[0;34m)\u001b[0m\u001b[0;34m\u001b[0m\u001b[0;34m\u001b[0m\u001b[0m\n\u001b[0;32m---> 25\u001b[0;31m             \u001b[0;32mif\u001b[0m \u001b[0mdistances\u001b[0m\u001b[0;34m[\u001b[0m\u001b[0msite_index\u001b[0m\u001b[0;34m]\u001b[0m\u001b[0;34m[\u001b[0m\u001b[0madded_index\u001b[0m\u001b[0;34m]\u001b[0m \u001b[0;34m<=\u001b[0m \u001b[0;36m1.0\u001b[0m\u001b[0;34m:\u001b[0m  \u001b[0;31m# Within 1 km\u001b[0m\u001b[0;34m\u001b[0m\u001b[0;34m\u001b[0m\u001b[0m\n\u001b[0m\u001b[1;32m     26\u001b[0m                 \u001b[0madd_site\u001b[0m \u001b[0;34m=\u001b[0m \u001b[0;32mTrue\u001b[0m\u001b[0;34m\u001b[0m\u001b[0;34m\u001b[0m\u001b[0m\n\u001b[1;32m     27\u001b[0m                 \u001b[0;32mbreak\u001b[0m\u001b[0;34m\u001b[0m\u001b[0;34m\u001b[0m\u001b[0m\n",
      "\u001b[0;31mKeyError\u001b[0m: 1"
     ]
    }
   ],
   "source": [
    "def optimize_combined_preferences(budget, hours, prices, durations, sites, distances):\n",
    "    # Start with mandatory sites from Preference 2\n",
    "    mandatory_sites = {'TE', 'CA'}\n",
    "    \n",
    "    visited_sites = set(mandatory_sites)\n",
    "    total_cost = sum(prices[sites.index(site)] for site in visited_sites)\n",
    "    total_duration = sum(durations[sites.index(site)] for site in visited_sites)\n",
    "\n",
    "    # Site data for iteration\n",
    "    site_data = list(zip(sites, prices, durations))\n",
    "\n",
    "    # Combine Preference 1: visit geographically close sites\n",
    "    # with Preference 2: mandatory visits to TE and CA\n",
    "    for site, price, duration in site_data:\n",
    "        if site in visited_sites:\n",
    "            continue  # Skip if already included in the plan\n",
    "        if total_cost + price > budget or total_duration + duration > hours:\n",
    "            continue  # Skip if adding this site exceeds budget or time\n",
    "\n",
    "        # Check for geographic proximity for Preference 1\n",
    "        site_index = sites.index(site)\n",
    "        add_site = False\n",
    "        for added_site in list(visited_sites):\n",
    "            added_index = sites.index(added_site)\n",
    "            if distances[site_index][added_index] <= 1.0:  # Within 1 km\n",
    "                add_site = True\n",
    "                break\n",
    "\n",
    "        # Add site if it meets proximity requirement or is part of the mandatory sites\n",
    "        if add_site:\n",
    "            visited_sites.add(site)\n",
    "            total_cost += price\n",
    "            total_duration += duration\n",
    "\n",
    "    return visited_sites, total_cost, total_duration\n",
    "\n",
    "combined_list_visit, combined_cost, combined_time = optimize_combined_preferences(\n",
    "    75, 14, prices, durations, sites, distances)\n",
    "\n",
    "print(\"Recommended Sites:\", combined_list_visit)\n",
    "print(\"Total Cost:\", combined_cost)\n",
    "print(\"Total Time:\", combined_time)"
   ]
  },
  {
   "cell_type": "code",
   "execution_count": 12,
   "id": "23fe7b75-d161-49e4-8eba-cb400609dfe8",
   "metadata": {},
   "outputs": [
    {
     "name": "stdout",
     "output_type": "stream",
     "text": [
      "Recommended Sites: {'TE'}\n",
      "Total Cost: 16.5\n",
      "Total Time: 4.5\n"
     ]
    }
   ],
   "source": [
    "def optimize_preferences_1_and_3(budget, hours, prices, durations, sites, distances):\n",
    "    visited_sites = set()\n",
    "    total_cost = 0\n",
    "    total_duration = 0\n",
    "    site_data = list(zip(sites, prices, durations))\n",
    "\n",
    "    for site, price, duration in site_data:\n",
    "        if total_cost + price > budget or total_duration + duration > hours:\n",
    "            continue  # Skip if adding this site exceeds budget or time\n",
    "\n",
    "        # Preference 3: Mutual Exclusivity\n",
    "        if ('AC' in visited_sites and site == 'SC') or ('SC' in visited_sites and site == 'AC'):\n",
    "            continue\n",
    "\n",
    "        # Preference 1: Geographic Proximity\n",
    "        site_index = sites.index(site)\n",
    "        add_site = True  # Assume we can add the site unless proven otherwise by lack of proximity\n",
    "        if visited_sites:  # Check proximity if there are already sites visited\n",
    "            add_site = any(distances[site_index][sites.index(vs)] <= 1.0 for vs in visited_sites)\n",
    "\n",
    "        if add_site:\n",
    "            visited_sites.add(site)\n",
    "            total_cost += price\n",
    "            total_duration += duration\n",
    "\n",
    "    return visited_sites, total_cost, total_duration\n",
    "\n",
    "combined_list_visit, combined_cost, combined_time = optimize_preferences_1_and_3(\n",
    "    75, 14, prices, durations, sites, distances_km)\n",
    "\n",
    "print(\"Recommended Sites:\", combined_list_visit)\n",
    "print(\"Total Cost:\", combined_cost)\n",
    "print(\"Total Time:\", combined_time)"
   ]
  },
  {
   "cell_type": "markdown",
   "id": "4cb7278b-df4b-4558-a638-c139b08eae9b",
   "metadata": {},
   "source": [
    "### (d) If Mr. Doe wishes, at the same time, to take into account Preference 1 and Preference 4, which list(s) would you recommend to him?"
   ]
  },
  {
   "cell_type": "code",
   "execution_count": 14,
   "id": "524159ef-4eae-4f75-b705-d25a846ae486",
   "metadata": {},
   "outputs": [
    {
     "name": "stdout",
     "output_type": "stream",
     "text": [
      "Recommended Sites: {'AC', 'AT'}\n",
      "Total Cost: 10.5\n",
      "Total Time: 2.5\n"
     ]
    }
   ],
   "source": [
    "def optimize_preferences_1_and_4(budget, hours, prices, durations, sites, distances):\n",
    "    # Start with mandatory site from Preference 4\n",
    "    mandatory_sites = {'AT'}\n",
    "    \n",
    "    visited_sites = set(mandatory_sites)\n",
    "    total_cost = sum(prices[sites.index(site)] for site in visited_sites)\n",
    "    total_duration = sum(durations[sites.index(site)] for site in visited_sites)\n",
    "\n",
    "    # Site data for iteration\n",
    "    site_data = list(zip(sites, prices, durations))\n",
    "\n",
    "    # Preference 1: Geographic proximity, starting with AT as a mandatory visit\n",
    "    for site, price, duration in site_data:\n",
    "        if site in visited_sites:\n",
    "            continue  # Skip if already included in the plan\n",
    "        if total_cost + price > budget or total_duration + duration > hours:\n",
    "            continue  # Skip if adding this site exceeds budget or time\n",
    "\n",
    "        # Check for geographic proximity\n",
    "        site_index = sites.index(site)\n",
    "        add_site = False\n",
    "        for added_site in visited_sites:\n",
    "            added_index = sites.index(added_site)\n",
    "            if distances[site_index][added_index] <= 1.0:  # Within 1 km\n",
    "                add_site = True\n",
    "                break\n",
    "\n",
    "        if add_site:\n",
    "            visited_sites.add(site)\n",
    "            total_cost += price\n",
    "            total_duration += duration\n",
    "\n",
    "    return visited_sites, total_cost, total_duration\n",
    "\n",
    "# Example call to the function with data and distances as previously defined\n",
    "combined_list_visit, combined_cost, combined_time = optimize_preferences_1_and_4(\n",
    "    75, 14, prices, durations, sites, distances_km)\n",
    "\n",
    "print(\"Recommended Sites:\", combined_list_visit)\n",
    "print(\"Total Cost:\", combined_cost)\n",
    "print(\"Total Time:\", combined_time)"
   ]
  },
  {
   "cell_type": "markdown",
   "id": "683293d7-bea4-4248-82e7-69d48c4c49fe",
   "metadata": {},
   "source": [
    "### (e) If Mr. Doe wishes, at the same time, to take into account Preference 2 and Preference 5, which list(s) would you recommend to him?"
   ]
  },
  {
   "cell_type": "code",
   "execution_count": 15,
   "id": "e5c9fe3c-3414-4561-8314-9f0702a7e8bd",
   "metadata": {},
   "outputs": [
    {
     "name": "stdout",
     "output_type": "stream",
     "text": [
      "Recommended Sites: {'TE', 'CA', 'AT', 'ML', 'MO', 'JT'}\n",
      "Total Cost: 62.0\n",
      "Total Time: 14.0\n"
     ]
    }
   ],
   "source": [
    "def optimize_preferences_2_and_5(budget, hours, prices, durations, sites, distances):\n",
    "    # Start with mandatory sites from Preference 2\n",
    "    mandatory_sites = {'TE', 'CA'}\n",
    "    \n",
    "    visited_sites = set(mandatory_sites)\n",
    "    total_cost = sum(prices[sites.index(site)] for site in visited_sites)\n",
    "    total_duration = sum(durations[sites.index(site)] for site in visited_sites)\n",
    "\n",
    "    # Site data for iteration, adding MO if ML is chosen\n",
    "    site_data = list(zip(sites, prices, durations))\n",
    "\n",
    "    for site, price, duration in site_data:\n",
    "        if site in visited_sites:\n",
    "            continue  # Skip if already included\n",
    "        if total_cost + price > budget or total_duration + duration > hours:\n",
    "            continue  # Skip if adding this site exceeds budget or time\n",
    "\n",
    "        # Implementing Preference 5: Dependency between ML and MO\n",
    "        if site == 'ML' and 'MO' not in visited_sites:\n",
    "            mo_index = sites.index('MO')\n",
    "            mo_price = prices[mo_index]\n",
    "            mo_duration = durations[mo_index]\n",
    "\n",
    "            # Check if adding both ML and MO exceeds budget or time\n",
    "            if total_cost + price + mo_price <= budget and total_duration + duration + mo_duration <= hours:\n",
    "                visited_sites.update(['ML', 'MO'])\n",
    "                total_cost += price + mo_price\n",
    "                total_duration += duration + mo_duration\n",
    "        elif site == 'MO' and 'ML' in visited_sites:\n",
    "            # Add MO if ML is already added\n",
    "            visited_sites.add('MO')\n",
    "            total_cost += price\n",
    "            total_duration += duration\n",
    "        else:\n",
    "            # Add other sites normally\n",
    "            visited_sites.add(site)\n",
    "            total_cost += price\n",
    "            total_duration += duration\n",
    "\n",
    "    return visited_sites, total_cost, total_duration\n",
    "\n",
    "# Example call to the function with the given data and distances\n",
    "combined_list_visit, combined_cost, combined_time = optimize_preferences_2_and_5(\n",
    "    75, 14, prices, durations, sites, distances_km)\n",
    "\n",
    "print(\"Recommended Sites:\", combined_list_visit)\n",
    "print(\"Total Cost:\", combined_cost)\n",
    "print(\"Total Time:\", combined_time)"
   ]
  },
  {
   "cell_type": "markdown",
   "id": "18ca689e-0bf0-4941-8980-70ec951fb553",
   "metadata": {},
   "source": [
    "### (f) If Mr. Doe wishes, at the same time, to take into account Preference 3 and Preference 4, which list(s) would you recommend to him?"
   ]
  },
  {
   "cell_type": "code",
   "execution_count": 17,
   "id": "cb229224-a1d3-41bd-954b-59c83fb48cdf",
   "metadata": {},
   "outputs": [
    {
     "name": "stdout",
     "output_type": "stream",
     "text": [
      "Recommended Sites: {'TE', 'CA', 'AT', 'ML', 'MO', 'JT'}\n",
      "Total Cost: 62.0\n",
      "Total Time: 14.0\n"
     ]
    }
   ],
   "source": [
    "def optimize_preferences_3_and_4(budget, hours, prices, durations, sites, distances):\n",
    "    # Mandatory site from Preference 4\n",
    "    mandatory_sites = {'AT'}\n",
    "    \n",
    "    visited_sites = set(mandatory_sites)\n",
    "    at_index = sites.index('AT')  # Get index of Arc de Triomphe\n",
    "    total_cost = prices[at_index]  # Start with the cost of visiting Arc de Triomphe\n",
    "    total_duration = durations[at_index]  # Start with the duration of visiting Arc de Triomphe\n",
    "\n",
    "    # Iterate over the site data\n",
    "    for site, price, duration in zip(sites, prices, durations):\n",
    "        if site in visited_sites:\n",
    "            continue  # Already visited\n",
    "        if total_cost + price > budget or total_duration + duration > hours:\n",
    "            continue  # Exceeds budget or time\n",
    "\n",
    "        # Preference 3: Mutual Exclusivity between AC and SC\n",
    "        if (site == 'AC' and 'SC' in visited_sites) or (site == 'SC' and 'AC' in visited_sites):\n",
    "            continue  # Cannot visit both AC and SC\n",
    "\n",
    "        # Adding site if it's neither AC nor SC involved in mutual exclusivity\n",
    "        visited_sites.add(site)\n",
    "        total_cost += price\n",
    "        total_duration += duration\n",
    "\n",
    "    return visited_sites, total_cost, total_duration\n",
    "\n",
    "combined_list_visit, combined_cost, combined_time = optimize_preferences_3_and_4(\n",
    "    75, 14, prices, durations, sites, distances_km)\n",
    "\n",
    "print(\"Recommended Sites:\", combined_list_visit)\n",
    "print(\"Total Cost:\", combined_cost)\n",
    "print(\"Total Time:\", combined_time)"
   ]
  },
  {
   "cell_type": "markdown",
   "id": "ec8c7327-17c9-4653-b19f-fca36a3f11a0",
   "metadata": {},
   "source": [
    "### (g) If Mr. Doe wishes, at the same time, to take into account Preference 4 and Preference 5, which list(s) would you recommend to him?"
   ]
  },
  {
   "cell_type": "code",
   "execution_count": 18,
   "id": "8fcc634c-33a5-46ce-91d0-c978df9d1d98",
   "metadata": {},
   "outputs": [
    {
     "name": "stdout",
     "output_type": "stream",
     "text": [
      "Recommended Sites: {'TE', 'CA', 'AT', 'ML', 'MO', 'JT'}\n",
      "Total Cost: 62.0\n",
      "Total Time: 14.0\n"
     ]
    }
   ],
   "source": [
    "def optimize_preferences_4_and_5(budget, hours, prices, durations, sites, distances):\n",
    "    # Mandatory site from Preference 4\n",
    "    mandatory_sites = {'AT'}\n",
    "    \n",
    "    visited_sites = set(mandatory_sites)\n",
    "    at_index = sites.index('AT')  # Get index of Arc de Triomphe\n",
    "    total_cost = prices[at_index]  # Start with the cost of visiting Arc de Triomphe\n",
    "    total_duration = durations[at_index]  # Start with the duration of visiting Arc de Triomphe\n",
    "\n",
    "    # Check if adding ML and MO can fit within the budget and time constraints\n",
    "    if 'ML' in sites:\n",
    "        ml_index = sites.index('ML')\n",
    "        mo_index = sites.index('MO')\n",
    "        additional_cost = prices[ml_index] + prices[mo_index]\n",
    "        additional_duration = durations[ml_index] + durations[mo_index]\n",
    "\n",
    "        if total_cost + additional_cost <= budget and total_duration + additional_duration <= hours:\n",
    "            # Add both ML and MO to the plan if they fit\n",
    "            visited_sites.update(['ML', 'MO'])\n",
    "            total_cost += additional_cost\n",
    "            total_duration += additional_duration\n",
    "\n",
    "    # Iterate over remaining sites to see if more can be added without exceeding constraints\n",
    "    for site, price, duration in zip(sites, prices, durations):\n",
    "        if site in visited_sites or site in ['ML', 'MO']:\n",
    "            continue  # Skip if already included or handled by the ML-MO dependency\n",
    "        if total_cost + price > budget or total_duration + duration > hours:\n",
    "            continue  # Skip if adding this site exceeds budget or time\n",
    "\n",
    "        # Add site normally\n",
    "        visited_sites.add(site)\n",
    "        total_cost += price\n",
    "        total_duration += duration\n",
    "\n",
    "    return visited_sites, total_cost, total_duration\n",
    "\n",
    "combined_list_visit, combined_cost, combined_time = optimize_preferences_4_and_5(\n",
    "    75, 14, prices, durations, sites, distances_km)\n",
    "\n",
    "print(\"Recommended Sites:\", combined_list_visit)\n",
    "print(\"Total Cost:\", combined_cost)\n",
    "print(\"Total Time:\", combined_time)"
   ]
  },
  {
   "cell_type": "markdown",
   "id": "d275283a-929b-4a53-ae91-df81e473b1a8",
   "metadata": {},
   "source": [
    "### (h) If Mr. Doe wishes, at the same time, to take into account Preference 1, Preference 2 and Preference 4, which list(s) would you recommend to him?"
   ]
  },
  {
   "cell_type": "code",
   "execution_count": 19,
   "id": "bdce49fc-01a7-41d7-a3a4-fb588534c7fa",
   "metadata": {},
   "outputs": [
    {
     "name": "stdout",
     "output_type": "stream",
     "text": [
      "Recommended Sites: {'TE', 'CA', 'AC', 'AT', 'PC'}\n",
      "Total Cost: 37.0\n",
      "Total Time: 9.75\n"
     ]
    }
   ],
   "source": [
    "def optimize_combined_preferences_1_2_4(budget, hours, prices, durations, sites, distances):\n",
    "    # Start with mandatory sites from Preferences 2 and 4\n",
    "    mandatory_sites = {'TE', 'CA', 'AT'}\n",
    "    \n",
    "    visited_sites = set(mandatory_sites)\n",
    "    total_cost = sum(prices[sites.index(site)] for site in mandatory_sites)\n",
    "    total_duration = sum(durations[sites.index(site)] for site in mandatory_sites)\n",
    "\n",
    "    # Site data for iteration\n",
    "    site_data = list(zip(sites, prices, durations))\n",
    "\n",
    "    for site, price, duration in site_data:\n",
    "        if site in visited_sites:\n",
    "            continue  # Skip if already included\n",
    "        if total_cost + price > budget or total_duration + duration > hours:\n",
    "            continue  # Skip if adding this site exceeds budget or time\n",
    "\n",
    "        # Check for geographic proximity for Preference 1\n",
    "        site_index = sites.index(site)\n",
    "        add_site = any(distances[site_index][sites.index(vs)] <= 1.0 for vs in visited_sites)\n",
    "\n",
    "        if add_site:\n",
    "            visited_sites.add(site)\n",
    "            total_cost += price\n",
    "            total_duration += duration\n",
    "\n",
    "    return visited_sites, total_cost, total_duration\n",
    "\n",
    "combined_list_visit, combined_cost, combined_time = optimize_combined_preferences_1_2_4(\n",
    "    75, 14, prices, durations, sites, distances_km)\n",
    "\n",
    "print(\"Recommended Sites:\", combined_list_visit)\n",
    "print(\"Total Cost:\", combined_cost)\n",
    "print(\"Total Time:\", combined_time)"
   ]
  },
  {
   "cell_type": "markdown",
   "id": "2e6dd2b9-0199-4ecd-a236-8f4c59b430ff",
   "metadata": {},
   "source": [
    "### (i) If Mr. Doe wishes, at the same time, to take into account Preference 2, Preference 3 and Preference 5, which list(s) would you recommend to him?"
   ]
  },
  {
   "cell_type": "code",
   "execution_count": 20,
   "id": "c8358dcc-fd99-4698-9277-c969ffb903f1",
   "metadata": {},
   "outputs": [
    {
     "name": "stdout",
     "output_type": "stream",
     "text": [
      "Recommended Sites: {'TE', 'CA', 'AT', 'ML', 'MO', 'JT'}\n",
      "Total Cost: 62.0\n",
      "Total Time: 14.0\n"
     ]
    }
   ],
   "source": [
    "def optimize_preferences_2_3_5(budget, hours, prices, durations, sites, distances):\n",
    "    # Start with mandatory sites from Preference 2\n",
    "    mandatory_sites = {'TE', 'CA'}\n",
    "    \n",
    "    visited_sites = set(mandatory_sites)\n",
    "    total_cost = sum(prices[sites.index(site)] for site in mandatory_sites)\n",
    "    total_duration = sum(durations[sites.index(site)] for site in mandatory_sites)\n",
    "\n",
    "    # Site data for iteration\n",
    "    site_data = list(zip(sites, prices, durations))\n",
    "\n",
    "    for site, price, duration in site_data:\n",
    "        if site in visited_sites:\n",
    "            continue  # Skip if already included\n",
    "        if total_cost + price > budget or total_duration + duration > hours:\n",
    "            continue  # Skip if adding this site exceeds budget or time\n",
    "\n",
    "        # Implementing Preference 3: Mutual exclusivity between AC and SC\n",
    "        if site == 'AC' and 'SC' in visited_sites or site == 'SC' and 'AC' in visited_sites:\n",
    "            continue\n",
    "        \n",
    "        # Implementing Preference 5: Dependency between ML and MO\n",
    "        if site == 'ML':\n",
    "            mo_index = sites.index('MO')\n",
    "            mo_price = prices[mo_index]\n",
    "            mo_duration = durations[mo_index]\n",
    "            # Check if adding ML and MO exceeds budget or time\n",
    "            if total_cost + price + mo_price <= budget and total_duration + duration + mo_duration <= hours:\n",
    "                visited_sites.update([site, 'MO'])\n",
    "                total_cost += price + mo_price\n",
    "                total_duration += duration + mo_duration\n",
    "        else:\n",
    "            # Add other sites normally if not ML or conflicting with AC and SC\n",
    "            visited_sites.add(site)\n",
    "            total_cost += price\n",
    "            total_duration += duration\n",
    "\n",
    "    return visited_sites, total_cost, total_duration\n",
    "\n",
    "combined_list_visit, combined_cost, combined_time = optimize_preferences_2_3_5(\n",
    "    75, 14, prices, durations, sites, distances_km)\n",
    "\n",
    "print(\"Recommended Sites:\", combined_list_visit)\n",
    "print(\"Total Cost:\", combined_cost)\n",
    "print(\"Total Time:\", combined_time)"
   ]
  },
  {
   "cell_type": "markdown",
   "id": "b078144d-9cf9-4acb-8045-c0951b510453",
   "metadata": {},
   "source": [
    "### (j) If Mr. Doe wishes, at the same time, to take into account Preference 2, Preference 3, Preference 4 and Preference 5, which list(s) would you recommend to him ?"
   ]
  },
  {
   "cell_type": "code",
   "execution_count": 21,
   "id": "e66687d6-0698-43ef-928f-1df38d56335a",
   "metadata": {},
   "outputs": [
    {
     "name": "stdout",
     "output_type": "stream",
     "text": [
      "Recommended Sites: {'TE', 'CA', 'AT', 'ML', 'MO', 'JT'}\n",
      "Total Cost: 62.0\n",
      "Total Time: 14.0\n"
     ]
    }
   ],
   "source": [
    "def optimize_complex_preferences(budget, hours, prices, durations, sites, distances):\n",
    "    # Mandatory sites from Preferences 2 and 4\n",
    "    mandatory_sites = {'TE', 'CA', 'AT'}\n",
    "    \n",
    "    visited_sites = set(mandatory_sites)\n",
    "    total_cost = sum(prices[sites.index(site)] for site in mandatory_sites)\n",
    "    total_duration = sum(durations[sites.index(site)] for site in mandatory_sites)\n",
    "\n",
    "    # Check if adding ML and MO can fit within the budget and time constraints\n",
    "    if 'ML' in sites:\n",
    "        ml_index = sites.index('ML')\n",
    "        mo_index = sites.index('MO')\n",
    "        if total_cost + prices[ml_index] + prices[mo_index] <= budget and total_duration + durations[ml_index] + durations[mo_index] <= hours:\n",
    "            visited_sites.update(['ML', 'MO'])\n",
    "            total_cost += prices[ml_index] + prices[mo_index]\n",
    "            total_duration += durations[ml_index] + durations[mo_index]\n",
    "\n",
    "    # Site data for iteration\n",
    "    site_data = list(zip(sites, prices, durations))\n",
    "\n",
    "    for site, price, duration in site_data:\n",
    "        if site in visited_sites:\n",
    "            continue  # Skip if already included\n",
    "        if total_cost + price > budget or total_duration + duration > hours:\n",
    "            continue  # Skip if adding this site exceeds budget or time\n",
    "\n",
    "        # Implementing Preference 3: Mutual exclusivity between AC and SC\n",
    "        if (site == 'AC' and 'SC' in visited_sites) or (site == 'SC' and 'AC' in visited_sites):\n",
    "            continue\n",
    "        \n",
    "        # Add other sites normally if not conflicting with AC and SC\n",
    "        visited_sites.add(site)\n",
    "        total_cost += price\n",
    "        total_duration += duration\n",
    "\n",
    "    return visited_sites, total_cost, total_duration\n",
    "\n",
    "# Example data setup and function call\n",
    "sites = ['TE', 'ML', 'AT', 'MO', 'JT', 'CA', 'CP', 'CN', 'BS', 'SC', 'PC', 'TM', 'AC']\n",
    "prices = [16.5, 14, 10.5, 11, 0, 10, 10, 7, 10, 8.5, 0, 12, 0]\n",
    "durations = [9/2, 3, 1, 2, 3/2, 2, 5/2, 2, 2, 3/2, 3/4, 2, 3/2]\n",
    "\n",
    "combined_list_visit, combined_cost, combined_time = optimize_complex_preferences(\n",
    "    75, 14, prices, durations, sites, distances_km)\n",
    "\n",
    "print(\"Recommended Sites:\", combined_list_visit)\n",
    "print(\"Total Cost:\", combined_cost)\n",
    "print(\"Total Time:\", combined_time)"
   ]
  },
  {
   "cell_type": "markdown",
   "id": "187262e4-51a4-4f8e-b6d3-6045eb2bb4e7",
   "metadata": {},
   "source": [
    "### (k) If Mr. Doe wishes, at the same time, to take into account Preference 1, Preference 2, Preference 4 and Preference 5, which list(s) would you recommend to him ?"
   ]
  },
  {
   "cell_type": "code",
   "execution_count": 22,
   "id": "a8d43431-8492-4089-8dae-6f360b757025",
   "metadata": {},
   "outputs": [
    {
     "name": "stdout",
     "output_type": "stream",
     "text": [
      "Recommended Sites: {'TE', 'CA', 'AT', 'ML', 'MO', 'JT'}\n",
      "Total Cost: 62.0\n",
      "Total Time: 14.0\n"
     ]
    }
   ],
   "source": [
    "def optimize_preferences_1_2_4_5(budget, hours, prices, durations, sites, distances):\n",
    "    # Start with mandatory sites from Preferences 2 and 4\n",
    "    mandatory_sites = {'TE', 'CA', 'AT'}\n",
    "    \n",
    "    visited_sites = set(mandatory_sites)\n",
    "    total_cost = sum(prices[sites.index(site)] for site in mandatory_sites)\n",
    "    total_duration = sum(durations[sites.index(site)] for site in mandatory_sites)\n",
    "\n",
    "    # Check if adding ML and MO can fit within the budget and time constraints\n",
    "    if 'ML' in sites:\n",
    "        ml_index = sites.index('ML')\n",
    "        mo_index = sites.index('MO')\n",
    "        if total_cost + prices[ml_index] + prices[mo_index] <= budget and total_duration + durations[ml_index] + durations[mo_index] <= hours:\n",
    "            visited_sites.update(['ML', 'MO'])\n",
    "            total_cost += prices[ml_index] + prices[mo_index]\n",
    "            total_duration += durations[ml_index] + durations[mo_index]\n",
    "\n",
    "    # Site data for iteration, considering geographic proximity\n",
    "    for site, price, duration in zip(sites, prices, durations):\n",
    "        if site in visited_sites:\n",
    "            continue  # Skip if already included\n",
    "        if total_cost + price > budget or total_duration + duration > hours:\n",
    "            continue  # Skip if adding this site exceeds budget or time\n",
    "\n",
    "        # Checking geographic proximity for Preference 1\n",
    "        site_index = sites.index(site)\n",
    "        add_site = any(distances[site_index][sites.index(vs)] <= 1.0 for vs in visited_sites)\n",
    "\n",
    "        if add_site:\n",
    "            visited_sites.add(site)\n",
    "            total_cost += price\n",
    "            total_duration += duration\n",
    "\n",
    "    return visited_sites, total_cost, total_duration\n",
    "\n",
    "combined_list_visit, combined_cost, combined_time = optimize_preferences_1_2_4_5(\n",
    "    75, 14, prices, durations, sites, distances_km)\n",
    "\n",
    "print(\"Recommended Sites:\", combined_list_visit)\n",
    "print(\"Total Cost:\", combined_cost)\n",
    "print(\"Total Time:\", combined_time)"
   ]
  },
  {
   "cell_type": "markdown",
   "id": "57172004-7d03-49f3-acba-066e6fafff0d",
   "metadata": {},
   "source": [
    "### (l) If Mr. Doe wishes, at the same time, to take into account Preference 1, Preference 2, Preference 3, Preference 4 and Preference 5, which list(s) would you recommend to him ?"
   ]
  },
  {
   "cell_type": "code",
   "execution_count": 23,
   "id": "efbd283c-2a83-438b-b0d8-e026358e156b",
   "metadata": {},
   "outputs": [
    {
     "name": "stdout",
     "output_type": "stream",
     "text": [
      "Recommended Sites: {'TE', 'CA', 'AT', 'ML', 'MO', 'JT'}\n",
      "Total Cost: 62.0\n",
      "Total Time: 14.0\n"
     ]
    }
   ],
   "source": [
    "def optimize_all_preferences(budget, hours, prices, durations, sites, distances):\n",
    "    # Mandatory sites from Preferences 2 and 4\n",
    "    mandatory_sites = {'TE', 'CA', 'AT'}\n",
    "    \n",
    "    visited_sites = set(mandatory_sites)\n",
    "    total_cost = sum(prices[sites.index(site)] for site in mandatory_sites)\n",
    "    total_duration = sum(durations[sites.index(site)] for site in mandatory_sites)\n",
    "\n",
    "    # Attempt to include ML and MO together if ML is selected\n",
    "    if 'ML' in sites:\n",
    "        ml_index = sites.index('ML')\n",
    "        mo_index = sites.index('MO')\n",
    "        ml_mo_cost = prices[ml_index] + prices[mo_index]\n",
    "        ml_mo_duration = durations[ml_index] + durations[mo_index]\n",
    "        \n",
    "        if total_cost + ml_mo_cost <= budget and total_duration + ml_mo_duration <= hours:\n",
    "            visited_sites.update(['ML', 'MO'])\n",
    "            total_cost += ml_mo_cost\n",
    "            total_duration += ml_mo_duration\n",
    "\n",
    "    # Iterate over the rest of the sites considering all preferences\n",
    "    for site, price, duration in zip(sites, prices, durations):\n",
    "        if site in visited_sites:\n",
    "            continue  # Already visited\n",
    "        if total_cost + price > budget or total_duration + duration > hours:\n",
    "            continue  # Exceeds budget or time\n",
    "\n",
    "        # Preference 3: Mutual exclusivity between AC and SC\n",
    "        if (site == 'AC' and 'SC' in visited_sites) or (site == 'SC' and 'AC' in visited_sites):\n",
    "            continue\n",
    "\n",
    "        # Check geographic proximity for Preference 1\n",
    "        site_index = sites.index(site)\n",
    "        is_close = any(distances[site_index][sites.index(vs)] <= 1.0 for vs in visited_sites)\n",
    "\n",
    "        if is_close:\n",
    "            visited_sites.add(site)\n",
    "            total_cost += price\n",
    "            total_duration += duration\n",
    "\n",
    "    return visited_sites, total_cost, total_duration\n",
    "\n",
    "combined_list_visit, combined_cost, combined_time = optimize_all_preferences(\n",
    "    75, 14, prices, durations, sites, distances_km)\n",
    "\n",
    "print(\"Recommended Sites:\", combined_list_visit)\n",
    "print(\"Total Cost:\", combined_cost)\n",
    "print(\"Total Time:\", combined_time)"
   ]
  },
  {
   "cell_type": "markdown",
   "id": "b73c6f9b-dfbf-48ba-853d-fce8b6fcede0",
   "metadata": {},
   "source": [
    "# Question 3"
   ]
  },
  {
   "cell_type": "code",
   "execution_count": 13,
   "id": "ca5d2805-3a71-4eba-ab05-bc5cd78c7b73",
   "metadata": {},
   "outputs": [],
   "source": [
    "import scipy.stats as stats"
   ]
  },
  {
   "cell_type": "code",
   "execution_count": 15,
   "id": "cc3e5072-ba7a-4e6a-81f6-794b23c3ef94",
   "metadata": {},
   "outputs": [],
   "source": [
    "appreciations = [5, 4, 3, 2, 3, 4, 1, 5, 4, 1, 3, 2, 5]"
   ]
  },
  {
   "cell_type": "code",
   "execution_count": 20,
   "id": "42b3a9a1-08da-4830-8bc9-9032009c8083",
   "metadata": {},
   "outputs": [
    {
     "name": "stdout",
     "output_type": "stream",
     "text": [
      "\n",
      "Ranked by Duration (Low to High):\n",
      "PC: 1\n",
      "AT: 2\n",
      "JT: 3\n",
      "SC: 4\n",
      "AC: 5\n",
      "MO: 6\n",
      "CA: 7\n",
      "CN: 8\n",
      "BS: 9\n",
      "TM: 10\n",
      "CP: 11\n",
      "ML: 12\n",
      "TE: 13\n",
      "\n",
      "Ranked by Appreciations (High to Low):\n",
      "AC: 13\n",
      "CN: 12\n",
      "TE: 11\n",
      "BS: 10\n",
      "CA: 9\n",
      "ML: 8\n",
      "PC: 7\n",
      "JT: 6\n",
      "AT: 5\n",
      "TM: 4\n",
      "MO: 3\n",
      "SC: 2\n",
      "CP: 1\n",
      "\n",
      "Ranked by Price (Low to High):\n",
      "JT: 1\n",
      "PC: 2\n",
      "AC: 3\n",
      "CN: 4\n",
      "SC: 5\n",
      "CA: 6\n",
      "CP: 7\n",
      "BS: 8\n",
      "AT: 9\n",
      "MO: 10\n",
      "TM: 11\n",
      "ML: 12\n",
      "TE: 13\n"
     ]
    }
   ],
   "source": [
    "def rank_and_display(sites, values, criterion_name, reverse=False):\n",
    "    \n",
    "    ranks = stats.rankdata(values, method='ordinal') # rank the values(high to low)\n",
    "    sorted_sites = sorted(zip(sites, ranks), key=lambda x: x[1], reverse=reverse)  # sort sites by rank\n",
    "    \n",
    "    print(f\"\\nRanked by {criterion_name} ({'High to Low' if reverse else 'Low to High'}):\")\n",
    "    for site, rank in sorted_sites:\n",
    "        print(f\"{site}: {rank}\")\n",
    "\n",
    "rank_and_display(sites, durations, \"Duration\")\n",
    "rank_and_display(sites, appreciations, \"Appreciations\", reverse=True)  \n",
    "rank_and_display(sites, prices, \"Price\") "
   ]
  },
  {
   "cell_type": "code",
   "execution_count": 22,
   "id": "3ad9c044-8b6f-4956-a1c0-ef9167358d12",
   "metadata": {},
   "outputs": [
    {
     "name": "stdout",
     "output_type": "stream",
     "text": [
      "Kendall's Tau (Duration vs Appreciation): KendalltauResult(correlation=0.07692307692307691, pvalue=0.7650248459102625)\n",
      "Kendall's Tau (Duration vs Price): KendalltauResult(correlation=0.564102564102564, pvalue=0.006677354602701825)\n",
      "Kendall's Tau (Appreciation vs Price): KendalltauResult(correlation=-0.05128205128205127, pvalue=0.8577337519090992)\n",
      "Spearman's Rho (Duration vs Appreciation): SpearmanrResult(correlation=0.15384615384615383, pvalue=0.6157988686488814)\n",
      "Spearman's Rho (Duration vs Price): SpearmanrResult(correlation=0.6978021978021978, pvalue=0.008000717411226549)\n",
      "Spearman's Rho (Appreciation vs Price): SpearmanrResult(correlation=-0.11538461538461539, pvalue=0.7073898735142602)\n"
     ]
    }
   ],
   "source": [
    "rank_durations = stats.rankdata(durations, method='ordinal')\n",
    "rank_appreciations = stats.rankdata(appreciations, method='ordinal') \n",
    "rank_prices = stats.rankdata(prices, method='ordinal') \n",
    "\n",
    "# calculating the Kendall's Tau and Spearman's Rho between these rankings\n",
    "kendall_tau_duration_appreciation = stats.kendalltau(rank_durations, rank_appreciations)\n",
    "kendall_tau_duration_prices = stats.kendalltau(rank_durations, rank_prices)\n",
    "kendall_tau_appreciation_prices = stats.kendalltau(rank_appreciations, rank_prices)\n",
    "\n",
    "spearman_rho_duration_appreciation = stats.spearmanr(rank_durations, rank_appreciations)\n",
    "spearman_rho_duration_prices = stats.spearmanr(rank_durations, rank_prices)\n",
    "spearman_rho_appreciation_prices = stats.spearmanr(rank_appreciations, rank_prices)\n",
    "\n",
    "print(\"Kendall's Tau (Duration vs Appreciation):\", kendall_tau_duration_appreciation)\n",
    "print(\"Kendall's Tau (Duration vs Price):\", kendall_tau_duration_prices)\n",
    "print(\"Kendall's Tau (Appreciation vs Price):\", kendall_tau_appreciation_prices)\n",
    "\n",
    "print(\"Spearman's Rho (Duration vs Appreciation):\", spearman_rho_duration_appreciation)\n",
    "print(\"Spearman's Rho (Duration vs Price):\", spearman_rho_duration_prices)\n",
    "print(\"Spearman's Rho (Appreciation vs Price):\", spearman_rho_appreciation_prices)"
   ]
  },
  {
   "cell_type": "code",
   "execution_count": null,
   "id": "6c7b9e90-d04d-4232-8f45-4e255cfb99ef",
   "metadata": {},
   "outputs": [],
   "source": []
  },
  {
   "cell_type": "code",
   "execution_count": null,
   "id": "3c550047-baa8-4fb9-86f8-e10ff73b2445",
   "metadata": {},
   "outputs": [],
   "source": []
  }
 ],
 "metadata": {
  "kernelspec": {
   "display_name": "Python 3",
   "language": "python",
   "name": "python3"
  },
  "language_info": {
   "codemirror_mode": {
    "name": "ipython",
    "version": 3
   },
   "file_extension": ".py",
   "mimetype": "text/x-python",
   "name": "python",
   "nbconvert_exporter": "python",
   "pygments_lexer": "ipython3",
   "version": "3.8.8"
  }
 },
 "nbformat": 4,
 "nbformat_minor": 5
}
