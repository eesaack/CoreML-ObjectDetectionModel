{
 "cells": [
  {
   "cell_type": "code",
   "execution_count": 117,
   "metadata": {},
   "outputs": [],
   "source": [
    "from sklearn.metrics import confusion_matrix, ConfusionMatrixDisplay, accuracy_score, precision_score, recall_score, f1_score\n",
    "import matplotlib.pyplot as plt\n",
    "import pandas as pd\n",
    "from sklearn.cluster import KMeans\n",
    "import numpy as np\n",
    "import json"
   ]
  },
  {
   "cell_type": "code",
   "execution_count": 118,
   "metadata": {},
   "outputs": [],
   "source": [
    "input_file = \"data-nutri-score-project.xlsx\"\n",
    "\n",
    "weights_w1 = {\n",
    "    \"Energy (kcal)\": 4,\n",
    "    \"Sugars (g)\": 3,\n",
    "    \"Saturated Fat (g)\": 3,\n",
    "    \"Salt (g)\": 3,\n",
    "    \"Proteins (g)\": 2,\n",
    "    \"Fiber (g)\": 2,\n",
    "    \"Fruits/Vegetables (%)\": 1,\n",
    "}\n",
    "\n",
    "thresholds = [0.5, 0.55, 0.6]"
   ]
  },
  {
   "cell_type": "code",
   "execution_count": 119,
   "metadata": {},
   "outputs": [],
   "source": [
    "def transform_criteria(row):\n",
    "\n",
    "    transformed_row = row.copy()\n",
    "    for criterion in row.index:\n",
    "        if criterion in [\"Energy (kcal)\", \"Sugars (g)\", \"Saturated Fat (g)\", \"Salt (g)\"]:  # Minimized\n",
    "            transformed_row[criterion] = 10 - row[criterion]\n",
    "        elif criterion in [\"Proteins (g)\", \"Fiber (g)\", \"Fruits/Vegetables (%)\"]:  # Maximized\n",
    "            transformed_row[criterion] = 2 * row[criterion]\n",
    "    return transformed_row\n",
    "\n",
    "def compute_concordance(item, profile, weights):\n",
    "\n",
    "    transformed_item = transform_criteria(item)\n",
    "    concordance = 0\n",
    "    total_weight = sum(weights.values())\n",
    "    for criterion, value in profile.items():\n",
    "        if criterion in [\"Proteins (g)\", \"Fiber (g)\", \"Fruits/Vegetables (%)\"]:\n",
    "            # Criteria to maximize\n",
    "            if transformed_item[criterion] >= value:\n",
    "                concordance += weights[criterion]\n",
    "        else:\n",
    "            # Criteria to minimize\n",
    "            if transformed_item[criterion] <= value:\n",
    "                concordance += weights[criterion]\n",
    "    return concordance / total_weight\n",
    "\n",
    "def pessimistic_majority_sorting(item, profiles, weights, lambda_threshold):\n",
    "    for category, profile in sorted(profiles.items()):\n",
    "        concordance = compute_concordance(item, profile, weights)\n",
    "        if concordance >= lambda_threshold:\n",
    "            return category"
   ]
  },
  {
   "cell_type": "markdown",
   "metadata": {
    "id": "r8hMII_A_wj0"
   },
   "source": [
    "## 1. Setting the limiting profiles manually (for instance, you could play yourself the role of the Decision Maker)"
   ]
  },
  {
   "cell_type": "code",
   "execution_count": 120,
   "metadata": {},
   "outputs": [],
   "source": [
    "# Define limiting profiles for Nutri-Score categories (A to E)\n",
    "limiting_profiles_1 = {\n",
    "    \"A\": {\"Energy (kcal)\": 335, \"Sugars (g)\": 5, \"Saturated Fat (g)\": 1, \"Salt (g)\": 0.1, \"Proteins (g)\": 8, \"Fiber (g)\": 10, \"Fruits/Vegetables (%)\": 40},\n",
    "    \"B\": {\"Energy (kcal)\": 400, \"Sugars (g)\": 10, \"Saturated Fat (g)\": 2, \"Salt (g)\": 0.3, \"Proteins (g)\": 6, \"Fiber (g)\": 8, \"Fruits/Vegetables (%)\": 20},\n",
    "    \"C\": {\"Energy (kcal)\": 500, \"Sugars (g)\": 15, \"Saturated Fat (g)\": 3, \"Salt (g)\": 0.5, \"Proteins (g)\": 4, \"Fiber (g)\": 5, \"Fruits/Vegetables (%)\": 10},\n",
    "    \"D\": {\"Energy (kcal)\": 700, \"Sugars (g)\": 20, \"Saturated Fat (g)\": 5, \"Salt (g)\": 1.0, \"Proteins (g)\": 2, \"Fiber (g)\": 3, \"Fruits/Vegetables (%)\": 5},\n",
    "    \"E\": {\"Energy (kcal)\": 900, \"Sugars (g)\": 30, \"Saturated Fat (g)\": 8, \"Salt (g)\": 2.0, \"Proteins (g)\": 0, \"Fiber (g)\": 0, \"Fruits/Vegetables (%)\": 0},\n",
    "}"
   ]
  },
  {
   "cell_type": "code",
   "execution_count": 121,
   "metadata": {
    "colab": {
     "base_uri": "https://localhost:8080/",
     "height": 687
    },
    "id": "uEZXB_IV51X1",
    "outputId": "d289fef9-8123-4de4-8256-2acad7e116f8"
   },
   "outputs": [
    {
     "data": {
      "text/html": [
       "<div>\n",
       "<style scoped>\n",
       "    .dataframe tbody tr th:only-of-type {\n",
       "        vertical-align: middle;\n",
       "    }\n",
       "\n",
       "    .dataframe tbody tr th {\n",
       "        vertical-align: top;\n",
       "    }\n",
       "\n",
       "    .dataframe thead th {\n",
       "        text-align: right;\n",
       "    }\n",
       "</style>\n",
       "<table border=\"1\" class=\"dataframe\">\n",
       "  <thead>\n",
       "    <tr style=\"text-align: right;\">\n",
       "      <th></th>\n",
       "      <th>Product Name</th>\n",
       "      <th>Nutri score</th>\n",
       "      <th>Lambda</th>\n",
       "      <th>Pessimistic Category</th>\n",
       "    </tr>\n",
       "  </thead>\n",
       "  <tbody>\n",
       "    <tr>\n",
       "      <th>0</th>\n",
       "      <td>cruesly mélange de noix</td>\n",
       "      <td>A</td>\n",
       "      <td>0.50</td>\n",
       "      <td>A</td>\n",
       "    </tr>\n",
       "    <tr>\n",
       "      <th>1</th>\n",
       "      <td>cruesly mélange de noix</td>\n",
       "      <td>A</td>\n",
       "      <td>0.55</td>\n",
       "      <td>A</td>\n",
       "    </tr>\n",
       "    <tr>\n",
       "      <th>2</th>\n",
       "      <td>cruesly mélange de noix</td>\n",
       "      <td>A</td>\n",
       "      <td>0.60</td>\n",
       "      <td>A</td>\n",
       "    </tr>\n",
       "    <tr>\n",
       "      <th>3</th>\n",
       "      <td>Céréales Chocapic</td>\n",
       "      <td>A</td>\n",
       "      <td>0.50</td>\n",
       "      <td>A</td>\n",
       "    </tr>\n",
       "    <tr>\n",
       "      <th>4</th>\n",
       "      <td>Céréales Chocapic</td>\n",
       "      <td>A</td>\n",
       "      <td>0.55</td>\n",
       "      <td>A</td>\n",
       "    </tr>\n",
       "    <tr>\n",
       "      <th>...</th>\n",
       "      <td>...</td>\n",
       "      <td>...</td>\n",
       "      <td>...</td>\n",
       "      <td>...</td>\n",
       "    </tr>\n",
       "    <tr>\n",
       "      <th>2824</th>\n",
       "      <td>Bamboo</td>\n",
       "      <td>A</td>\n",
       "      <td>0.55</td>\n",
       "      <td>A</td>\n",
       "    </tr>\n",
       "    <tr>\n",
       "      <th>2825</th>\n",
       "      <td>Bamboo</td>\n",
       "      <td>A</td>\n",
       "      <td>0.60</td>\n",
       "      <td>A</td>\n",
       "    </tr>\n",
       "    <tr>\n",
       "      <th>2826</th>\n",
       "      <td>Müesli croccante all'avena</td>\n",
       "      <td>C</td>\n",
       "      <td>0.50</td>\n",
       "      <td>A</td>\n",
       "    </tr>\n",
       "    <tr>\n",
       "      <th>2827</th>\n",
       "      <td>Müesli croccante all'avena</td>\n",
       "      <td>C</td>\n",
       "      <td>0.55</td>\n",
       "      <td>A</td>\n",
       "    </tr>\n",
       "    <tr>\n",
       "      <th>2828</th>\n",
       "      <td>Müesli croccante all'avena</td>\n",
       "      <td>C</td>\n",
       "      <td>0.60</td>\n",
       "      <td>A</td>\n",
       "    </tr>\n",
       "  </tbody>\n",
       "</table>\n",
       "<p>2829 rows × 4 columns</p>\n",
       "</div>"
      ],
      "text/plain": [
       "                    Product Name Nutri score  Lambda Pessimistic Category\n",
       "0        cruesly mélange de noix           A    0.50                    A\n",
       "1        cruesly mélange de noix           A    0.55                    A\n",
       "2        cruesly mélange de noix           A    0.60                    A\n",
       "3              Céréales Chocapic           A    0.50                    A\n",
       "4              Céréales Chocapic           A    0.55                    A\n",
       "...                          ...         ...     ...                  ...\n",
       "2824                      Bamboo           A    0.55                    A\n",
       "2825                      Bamboo           A    0.60                    A\n",
       "2826  Müesli croccante all'avena           C    0.50                    A\n",
       "2827  Müesli croccante all'avena           C    0.55                    A\n",
       "2828  Müesli croccante all'avena           C    0.60                    A\n",
       "\n",
       "[2829 rows x 4 columns]"
      ]
     },
     "execution_count": 121,
     "metadata": {},
     "output_type": "execute_result"
    }
   ],
   "source": [
    "data = pd.read_excel(input_file)\n",
    "results = []\n",
    "for _, row in data.iterrows():\n",
    "    for lambda_value in thresholds:\n",
    "        pessimistic_category = pessimistic_majority_sorting(row, limiting_profiles_1, weights_w1, lambda_value)\n",
    "\n",
    "        results.append({\n",
    "            \"Product Name\": row[\"Product Name\"],\n",
    "            \"Nutri score\": row[\"Nutri-Score\"].upper(),\n",
    "            \"Lambda\": lambda_value,\n",
    "            \"Pessimistic Category\": pessimistic_category\n",
    "        })\n",
    "df = pd.DataFrame(results)\n",
    "df"
   ]
  },
  {
   "cell_type": "markdown",
   "metadata": {
    "id": "iwzcuUAj_8BC"
   },
   "source": [
    "## 2. Finding limiting profiles using quintile approach"
   ]
  },
  {
   "cell_type": "code",
   "execution_count": 122,
   "metadata": {
    "colab": {
     "base_uri": "https://localhost:8080/"
    },
    "id": "f4uEAUoX8M4L",
    "outputId": "dd4ddcf4-cbfc-4808-e31c-11b2935d5807"
   },
   "outputs": [
    {
     "name": "stdout",
     "output_type": "stream",
     "text": [
      "To minimize : \n",
      "     Energy (kcal)  Sugars (g)  Saturated Fat (g)  Salt (g)\n",
      "0.2          369.0    5.620000                0.6    0.0200\n",
      "0.4          380.0   13.580000                1.2    0.0766\n",
      "0.6          401.2   17.673333                2.0    0.2800\n",
      "0.8          443.0   22.000000                3.8    0.6600\n",
      "To maximize : \n",
      "     Proteins (g)  Fiber (g)  Fruits/Vegetables (%)\n",
      "0.2           8.0        5.5                 0.0000\n",
      "0.4           9.0        7.0                 0.0000\n",
      "0.6          10.0        8.5                 1.5875\n",
      "0.8          12.0       10.0                12.9800\n"
     ]
    }
   ],
   "source": [
    "#using segmentation approach (quantile approach) to find limiting profiles:\n",
    "columns_to_min = [\"Energy (kcal)\", \"Sugars (g)\", \"Saturated Fat (g)\", \"Salt (g)\"]\n",
    "columns_to_max = [\"Proteins (g)\", \"Fiber (g)\", \"Fruits/Vegetables (%)\"]\n",
    "\n",
    "quintiles_min = data[columns_to_min].quantile([0.2, 0.4, 0.6, 0.8])\n",
    "quintiles_max = data[columns_to_max].quantile([0.2, 0.4, 0.6, 0.8])\n",
    "\n",
    "print(f\"To minimize : \\n{quintiles_min}\")\n",
    "print(f\"To maximize : \\n{quintiles_max}\")"
   ]
  },
  {
   "cell_type": "code",
   "execution_count": 123,
   "metadata": {
    "colab": {
     "base_uri": "https://localhost:8080/"
    },
    "id": "Ht-zLt3dDWcP",
    "outputId": "66c7c08c-7a3d-43fa-9bc2-c666c96a1497"
   },
   "outputs": [
    {
     "data": {
      "text/plain": [
       "{'Proteins (g)': 80.0, 'Fiber (g)': 33.0, 'Fruits/Vegetables (%)': 99.796875}"
      ]
     },
     "execution_count": 123,
     "metadata": {},
     "output_type": "execute_result"
    }
   ],
   "source": [
    "data[columns_to_max].max().to_dict()"
   ]
  },
  {
   "cell_type": "code",
   "execution_count": 124,
   "metadata": {
    "colab": {
     "base_uri": "https://localhost:8080/"
    },
    "id": "kaPawBuWCs0r",
    "outputId": "1cac5af5-d797-4fb1-9299-c51e9105e568"
   },
   "outputs": [
    {
     "data": {
      "text/plain": [
       "{'A': {'Energy (kcal)': 369.0,\n",
       "  'Sugars (g)': 5.620000000000002,\n",
       "  'Saturated Fat (g)': 0.6,\n",
       "  'Salt (g)': 0.02,\n",
       "  'Proteins (g)': 80.0,\n",
       "  'Fiber (g)': 33.0,\n",
       "  'Fruits/Vegetables (%)': 99.796875},\n",
       " 'B': {'Energy (kcal)': 380.0,\n",
       "  'Sugars (g)': 13.58,\n",
       "  'Saturated Fat (g)': 1.2,\n",
       "  'Salt (g)': 0.07660000000000002,\n",
       "  'Proteins (g)': 12.0,\n",
       "  'Fiber (g)': 10.0,\n",
       "  'Fruits/Vegetables (%)': 12.98},\n",
       " 'C': {'Energy (kcal)': 401.19999999999993,\n",
       "  'Sugars (g)': 17.673333333333595,\n",
       "  'Saturated Fat (g)': 2.0,\n",
       "  'Salt (g)': 0.28,\n",
       "  'Proteins (g)': 10.0,\n",
       "  'Fiber (g)': 8.5,\n",
       "  'Fruits/Vegetables (%)': 1.5874999999999995},\n",
       " 'D': {'Energy (kcal)': 443.0,\n",
       "  'Sugars (g)': 22.0,\n",
       "  'Saturated Fat (g)': 3.8,\n",
       "  'Salt (g)': 0.66,\n",
       "  'Proteins (g)': 9.0,\n",
       "  'Fiber (g)': 7.0,\n",
       "  'Fruits/Vegetables (%)': 0.0},\n",
       " 'E': {'Energy (kcal)': 601.0,\n",
       "  'Sugars (g)': 48.0,\n",
       "  'Saturated Fat (g)': 20.7,\n",
       "  'Salt (g)': 8.4,\n",
       "  'Proteins (g)': 8.0,\n",
       "  'Fiber (g)': 5.5,\n",
       "  'Fruits/Vegetables (%)': 0.0}}"
      ]
     },
     "execution_count": 124,
     "metadata": {},
     "output_type": "execute_result"
    }
   ],
   "source": [
    "limiting_profiles_2 = {\n",
    "    \"A\": {**quintiles_min.loc[0.2].to_dict(), **data[columns_to_max].max().to_dict()},  # Min Q1 + Max valeurs\n",
    "    \"B\": {**quintiles_min.loc[0.4].to_dict(), **quintiles_max.loc[0.8].to_dict()},     # Min Q2 + Max Q4\n",
    "    \"C\": {**quintiles_min.loc[0.6].to_dict(), **quintiles_max.loc[0.6].to_dict()},     # Min Q3 + Max Q3\n",
    "    \"D\": {**quintiles_min.loc[0.8].to_dict(), **quintiles_max.loc[0.4].to_dict()},     # Min Q4 + Max Q2\n",
    "    \"E\": {**data[columns_to_min].max().to_dict(), **quintiles_max.loc[0.2].to_dict()}  # Max valeurs + Min Q1\n",
    "}\n",
    "\n",
    "limiting_profiles_2"
   ]
  },
  {
   "cell_type": "code",
   "execution_count": 125,
   "metadata": {
    "colab": {
     "base_uri": "https://localhost:8080/",
     "height": 290
    },
    "id": "-VKBtj5NINeY",
    "outputId": "b87137ae-2901-4dc5-da04-ae9e91d80080"
   },
   "outputs": [
    {
     "data": {
      "text/html": [
       "<div>\n",
       "<style scoped>\n",
       "    .dataframe tbody tr th:only-of-type {\n",
       "        vertical-align: middle;\n",
       "    }\n",
       "\n",
       "    .dataframe tbody tr th {\n",
       "        vertical-align: top;\n",
       "    }\n",
       "\n",
       "    .dataframe thead th {\n",
       "        text-align: right;\n",
       "    }\n",
       "</style>\n",
       "<table border=\"1\" class=\"dataframe\">\n",
       "  <thead>\n",
       "    <tr style=\"text-align: right;\">\n",
       "      <th></th>\n",
       "      <th>A</th>\n",
       "      <th>B</th>\n",
       "      <th>C</th>\n",
       "      <th>D</th>\n",
       "      <th>E</th>\n",
       "    </tr>\n",
       "  </thead>\n",
       "  <tbody>\n",
       "    <tr>\n",
       "      <th>Energy (kcal)</th>\n",
       "      <td>369.000000</td>\n",
       "      <td>380.0000</td>\n",
       "      <td>401.200000</td>\n",
       "      <td>443.00</td>\n",
       "      <td>601.0</td>\n",
       "    </tr>\n",
       "    <tr>\n",
       "      <th>Sugars (g)</th>\n",
       "      <td>5.620000</td>\n",
       "      <td>13.5800</td>\n",
       "      <td>17.673333</td>\n",
       "      <td>22.00</td>\n",
       "      <td>48.0</td>\n",
       "    </tr>\n",
       "    <tr>\n",
       "      <th>Saturated Fat (g)</th>\n",
       "      <td>0.600000</td>\n",
       "      <td>1.2000</td>\n",
       "      <td>2.000000</td>\n",
       "      <td>3.80</td>\n",
       "      <td>20.7</td>\n",
       "    </tr>\n",
       "    <tr>\n",
       "      <th>Salt (g)</th>\n",
       "      <td>0.020000</td>\n",
       "      <td>0.0766</td>\n",
       "      <td>0.280000</td>\n",
       "      <td>0.66</td>\n",
       "      <td>8.4</td>\n",
       "    </tr>\n",
       "    <tr>\n",
       "      <th>Proteins (g)</th>\n",
       "      <td>80.000000</td>\n",
       "      <td>12.0000</td>\n",
       "      <td>10.000000</td>\n",
       "      <td>9.00</td>\n",
       "      <td>8.0</td>\n",
       "    </tr>\n",
       "    <tr>\n",
       "      <th>Fiber (g)</th>\n",
       "      <td>33.000000</td>\n",
       "      <td>10.0000</td>\n",
       "      <td>8.500000</td>\n",
       "      <td>7.00</td>\n",
       "      <td>5.5</td>\n",
       "    </tr>\n",
       "    <tr>\n",
       "      <th>Fruits/Vegetables (%)</th>\n",
       "      <td>99.796875</td>\n",
       "      <td>12.9800</td>\n",
       "      <td>1.587500</td>\n",
       "      <td>0.00</td>\n",
       "      <td>0.0</td>\n",
       "    </tr>\n",
       "  </tbody>\n",
       "</table>\n",
       "</div>"
      ],
      "text/plain": [
       "                                A         B           C       D      E\n",
       "Energy (kcal)          369.000000  380.0000  401.200000  443.00  601.0\n",
       "Sugars (g)               5.620000   13.5800   17.673333   22.00   48.0\n",
       "Saturated Fat (g)        0.600000    1.2000    2.000000    3.80   20.7\n",
       "Salt (g)                 0.020000    0.0766    0.280000    0.66    8.4\n",
       "Proteins (g)            80.000000   12.0000   10.000000    9.00    8.0\n",
       "Fiber (g)               33.000000   10.0000    8.500000    7.00    5.5\n",
       "Fruits/Vegetables (%)   99.796875   12.9800    1.587500    0.00    0.0"
      ]
     },
     "execution_count": 125,
     "metadata": {},
     "output_type": "execute_result"
    }
   ],
   "source": [
    "df_limit_profiles_2 = pd.DataFrame(limiting_profiles_2)\n",
    "df_limit_profiles_2"
   ]
  },
  {
   "cell_type": "code",
   "execution_count": 126,
   "metadata": {
    "colab": {
     "base_uri": "https://localhost:8080/",
     "height": 687
    },
    "id": "nvbwB3wXDtqb",
    "outputId": "ebf1fbe2-6a11-4dcc-8317-7ba99be5d923"
   },
   "outputs": [
    {
     "data": {
      "text/html": [
       "<div>\n",
       "<style scoped>\n",
       "    .dataframe tbody tr th:only-of-type {\n",
       "        vertical-align: middle;\n",
       "    }\n",
       "\n",
       "    .dataframe tbody tr th {\n",
       "        vertical-align: top;\n",
       "    }\n",
       "\n",
       "    .dataframe thead th {\n",
       "        text-align: right;\n",
       "    }\n",
       "</style>\n",
       "<table border=\"1\" class=\"dataframe\">\n",
       "  <thead>\n",
       "    <tr style=\"text-align: right;\">\n",
       "      <th></th>\n",
       "      <th>Product Name</th>\n",
       "      <th>Nutri score</th>\n",
       "      <th>Lambda</th>\n",
       "      <th>Pessimistic Category</th>\n",
       "    </tr>\n",
       "  </thead>\n",
       "  <tbody>\n",
       "    <tr>\n",
       "      <th>0</th>\n",
       "      <td>cruesly mélange de noix</td>\n",
       "      <td>A</td>\n",
       "      <td>0.50</td>\n",
       "      <td>B</td>\n",
       "    </tr>\n",
       "    <tr>\n",
       "      <th>1</th>\n",
       "      <td>cruesly mélange de noix</td>\n",
       "      <td>A</td>\n",
       "      <td>0.55</td>\n",
       "      <td>B</td>\n",
       "    </tr>\n",
       "    <tr>\n",
       "      <th>2</th>\n",
       "      <td>cruesly mélange de noix</td>\n",
       "      <td>A</td>\n",
       "      <td>0.60</td>\n",
       "      <td>B</td>\n",
       "    </tr>\n",
       "    <tr>\n",
       "      <th>3</th>\n",
       "      <td>Céréales Chocapic</td>\n",
       "      <td>A</td>\n",
       "      <td>0.50</td>\n",
       "      <td>B</td>\n",
       "    </tr>\n",
       "    <tr>\n",
       "      <th>4</th>\n",
       "      <td>Céréales Chocapic</td>\n",
       "      <td>A</td>\n",
       "      <td>0.55</td>\n",
       "      <td>B</td>\n",
       "    </tr>\n",
       "    <tr>\n",
       "      <th>...</th>\n",
       "      <td>...</td>\n",
       "      <td>...</td>\n",
       "      <td>...</td>\n",
       "      <td>...</td>\n",
       "    </tr>\n",
       "    <tr>\n",
       "      <th>2824</th>\n",
       "      <td>Bamboo</td>\n",
       "      <td>A</td>\n",
       "      <td>0.55</td>\n",
       "      <td>B</td>\n",
       "    </tr>\n",
       "    <tr>\n",
       "      <th>2825</th>\n",
       "      <td>Bamboo</td>\n",
       "      <td>A</td>\n",
       "      <td>0.60</td>\n",
       "      <td>B</td>\n",
       "    </tr>\n",
       "    <tr>\n",
       "      <th>2826</th>\n",
       "      <td>Müesli croccante all'avena</td>\n",
       "      <td>C</td>\n",
       "      <td>0.50</td>\n",
       "      <td>B</td>\n",
       "    </tr>\n",
       "    <tr>\n",
       "      <th>2827</th>\n",
       "      <td>Müesli croccante all'avena</td>\n",
       "      <td>C</td>\n",
       "      <td>0.55</td>\n",
       "      <td>B</td>\n",
       "    </tr>\n",
       "    <tr>\n",
       "      <th>2828</th>\n",
       "      <td>Müesli croccante all'avena</td>\n",
       "      <td>C</td>\n",
       "      <td>0.60</td>\n",
       "      <td>B</td>\n",
       "    </tr>\n",
       "  </tbody>\n",
       "</table>\n",
       "<p>2829 rows × 4 columns</p>\n",
       "</div>"
      ],
      "text/plain": [
       "                    Product Name Nutri score  Lambda Pessimistic Category\n",
       "0        cruesly mélange de noix           A    0.50                    B\n",
       "1        cruesly mélange de noix           A    0.55                    B\n",
       "2        cruesly mélange de noix           A    0.60                    B\n",
       "3              Céréales Chocapic           A    0.50                    B\n",
       "4              Céréales Chocapic           A    0.55                    B\n",
       "...                          ...         ...     ...                  ...\n",
       "2824                      Bamboo           A    0.55                    B\n",
       "2825                      Bamboo           A    0.60                    B\n",
       "2826  Müesli croccante all'avena           C    0.50                    B\n",
       "2827  Müesli croccante all'avena           C    0.55                    B\n",
       "2828  Müesli croccante all'avena           C    0.60                    B\n",
       "\n",
       "[2829 rows x 4 columns]"
      ]
     },
     "execution_count": 126,
     "metadata": {},
     "output_type": "execute_result"
    }
   ],
   "source": [
    "data = pd.read_excel(input_file)\n",
    "results_2 = []\n",
    "for _, row in data.iterrows():\n",
    "    for lambda_value in thresholds:\n",
    "        pessimistic_category_2 = pessimistic_majority_sorting(row, limiting_profiles_2, weights_w1, lambda_value)\n",
    "\n",
    "        results_2.append({\n",
    "            \"Product Name\": row[\"Product Name\"],\n",
    "            \"Nutri score\": row[\"Nutri-Score\"].upper(),\n",
    "            \"Lambda\": lambda_value,\n",
    "            \"Pessimistic Category\": pessimistic_category_2\n",
    "        })\n",
    "\n",
    "df_2 = pd.DataFrame(results_2)\n",
    "df_2"
   ]
  },
  {
   "cell_type": "markdown",
   "metadata": {},
   "source": [
    "## 3. Finding limiting profiles using K-means"
   ]
  },
  {
   "cell_type": "code",
   "execution_count": 127,
   "metadata": {},
   "outputs": [],
   "source": [
    "def calculate_limiting_profiles(input_file, num_clusters=5):\n",
    "    df = pd.read_excel(input_file)\n",
    "    nutritional_features = [\n",
    "        \"Energy (kcal)\",\n",
    "        \"Sugars (g)\",\n",
    "        \"Saturated Fat (g)\",\n",
    "        \"Salt (g)\",\n",
    "        \"Proteins (g)\",\n",
    "        \"Fiber (g)\",\n",
    "        \"Fruits/Vegetables (%)\"\n",
    "    ]\n",
    "    data = df[nutritional_features].dropna()\n",
    "    kmeans = KMeans(n_clusters=num_clusters, random_state=42)\n",
    "    kmeans.fit(data)\n",
    "\n",
    "    centroids = kmeans.cluster_centers_\n",
    "\n",
    "    limiting_profiles = pd.DataFrame(\n",
    "        centroids.T,  # Transpose to have rows as criteria\n",
    "        index=nutritional_features,\n",
    "        columns=[\"A\", \"B\", \"C\", \"D\", \"E\"][:num_clusters]  # Nutri-Score categories as columns\n",
    "    )\n",
    "\n",
    "    return limiting_profiles"
   ]
  },
  {
   "cell_type": "code",
   "execution_count": 128,
   "metadata": {},
   "outputs": [
    {
     "name": "stderr",
     "output_type": "stream",
     "text": [
      "/home/melissa/miniconda3/envs/bdma/lib/python3.8/site-packages/sklearn/cluster/_kmeans.py:1412: FutureWarning: The default value of `n_init` will change from 10 to 'auto' in 1.4. Set the value of `n_init` explicitly to suppress the warning\n",
      "  super()._check_params_vs_input(X, default_n_init=10)\n"
     ]
    },
    {
     "data": {
      "text/html": [
       "<div>\n",
       "<style scoped>\n",
       "    .dataframe tbody tr th:only-of-type {\n",
       "        vertical-align: middle;\n",
       "    }\n",
       "\n",
       "    .dataframe tbody tr th {\n",
       "        vertical-align: top;\n",
       "    }\n",
       "\n",
       "    .dataframe thead th {\n",
       "        text-align: right;\n",
       "    }\n",
       "</style>\n",
       "<table border=\"1\" class=\"dataframe\">\n",
       "  <thead>\n",
       "    <tr style=\"text-align: right;\">\n",
       "      <th></th>\n",
       "      <th>A</th>\n",
       "      <th>B</th>\n",
       "      <th>C</th>\n",
       "      <th>D</th>\n",
       "      <th>E</th>\n",
       "    </tr>\n",
       "  </thead>\n",
       "  <tbody>\n",
       "    <tr>\n",
       "      <th>Energy (kcal)</th>\n",
       "      <td>374.109269</td>\n",
       "      <td>213.000000</td>\n",
       "      <td>466.003286</td>\n",
       "      <td>426.291030</td>\n",
       "      <td>0.000000</td>\n",
       "    </tr>\n",
       "    <tr>\n",
       "      <th>Sugars (g)</th>\n",
       "      <td>12.247907</td>\n",
       "      <td>7.866667</td>\n",
       "      <td>17.544085</td>\n",
       "      <td>19.060652</td>\n",
       "      <td>10.040000</td>\n",
       "    </tr>\n",
       "    <tr>\n",
       "      <th>Saturated Fat (g)</th>\n",
       "      <td>1.173311</td>\n",
       "      <td>1.966667</td>\n",
       "      <td>4.853713</td>\n",
       "      <td>3.043512</td>\n",
       "      <td>1.050000</td>\n",
       "    </tr>\n",
       "    <tr>\n",
       "      <th>Salt (g)</th>\n",
       "      <td>0.362684</td>\n",
       "      <td>0.260000</td>\n",
       "      <td>0.277018</td>\n",
       "      <td>0.325902</td>\n",
       "      <td>0.250500</td>\n",
       "    </tr>\n",
       "    <tr>\n",
       "      <th>Proteins (g)</th>\n",
       "      <td>10.233188</td>\n",
       "      <td>6.500000</td>\n",
       "      <td>9.734885</td>\n",
       "      <td>9.870209</td>\n",
       "      <td>6.700000</td>\n",
       "    </tr>\n",
       "    <tr>\n",
       "      <th>Fiber (g)</th>\n",
       "      <td>8.249171</td>\n",
       "      <td>5.766667</td>\n",
       "      <td>7.494956</td>\n",
       "      <td>7.200275</td>\n",
       "      <td>9.020000</td>\n",
       "    </tr>\n",
       "    <tr>\n",
       "      <th>Fruits/Vegetables (%)</th>\n",
       "      <td>5.256934</td>\n",
       "      <td>7.518136</td>\n",
       "      <td>9.344656</td>\n",
       "      <td>8.114808</td>\n",
       "      <td>6.359783</td>\n",
       "    </tr>\n",
       "  </tbody>\n",
       "</table>\n",
       "</div>"
      ],
      "text/plain": [
       "                                A           B           C           D  \\\n",
       "Energy (kcal)          374.109269  213.000000  466.003286  426.291030   \n",
       "Sugars (g)              12.247907    7.866667   17.544085   19.060652   \n",
       "Saturated Fat (g)        1.173311    1.966667    4.853713    3.043512   \n",
       "Salt (g)                 0.362684    0.260000    0.277018    0.325902   \n",
       "Proteins (g)            10.233188    6.500000    9.734885    9.870209   \n",
       "Fiber (g)                8.249171    5.766667    7.494956    7.200275   \n",
       "Fruits/Vegetables (%)    5.256934    7.518136    9.344656    8.114808   \n",
       "\n",
       "                               E  \n",
       "Energy (kcal)           0.000000  \n",
       "Sugars (g)             10.040000  \n",
       "Saturated Fat (g)       1.050000  \n",
       "Salt (g)                0.250500  \n",
       "Proteins (g)            6.700000  \n",
       "Fiber (g)               9.020000  \n",
       "Fruits/Vegetables (%)   6.359783  "
      ]
     },
     "execution_count": 128,
     "metadata": {},
     "output_type": "execute_result"
    }
   ],
   "source": [
    "limiting_profiles_3 = calculate_limiting_profiles(input_file)\n",
    "limiting_profiles_3"
   ]
  },
  {
   "cell_type": "code",
   "execution_count": 129,
   "metadata": {},
   "outputs": [
    {
     "data": {
      "text/html": [
       "<div>\n",
       "<style scoped>\n",
       "    .dataframe tbody tr th:only-of-type {\n",
       "        vertical-align: middle;\n",
       "    }\n",
       "\n",
       "    .dataframe tbody tr th {\n",
       "        vertical-align: top;\n",
       "    }\n",
       "\n",
       "    .dataframe thead th {\n",
       "        text-align: right;\n",
       "    }\n",
       "</style>\n",
       "<table border=\"1\" class=\"dataframe\">\n",
       "  <thead>\n",
       "    <tr style=\"text-align: right;\">\n",
       "      <th></th>\n",
       "      <th>Product Name</th>\n",
       "      <th>Nutri score</th>\n",
       "      <th>Lambda</th>\n",
       "      <th>Pessimistic Category</th>\n",
       "    </tr>\n",
       "  </thead>\n",
       "  <tbody>\n",
       "    <tr>\n",
       "      <th>0</th>\n",
       "      <td>cruesly mélange de noix</td>\n",
       "      <td>A</td>\n",
       "      <td>0.50</td>\n",
       "      <td>A</td>\n",
       "    </tr>\n",
       "    <tr>\n",
       "      <th>1</th>\n",
       "      <td>cruesly mélange de noix</td>\n",
       "      <td>A</td>\n",
       "      <td>0.55</td>\n",
       "      <td>A</td>\n",
       "    </tr>\n",
       "    <tr>\n",
       "      <th>2</th>\n",
       "      <td>cruesly mélange de noix</td>\n",
       "      <td>A</td>\n",
       "      <td>0.60</td>\n",
       "      <td>A</td>\n",
       "    </tr>\n",
       "    <tr>\n",
       "      <th>3</th>\n",
       "      <td>Céréales Chocapic</td>\n",
       "      <td>A</td>\n",
       "      <td>0.50</td>\n",
       "      <td>A</td>\n",
       "    </tr>\n",
       "    <tr>\n",
       "      <th>4</th>\n",
       "      <td>Céréales Chocapic</td>\n",
       "      <td>A</td>\n",
       "      <td>0.55</td>\n",
       "      <td>A</td>\n",
       "    </tr>\n",
       "    <tr>\n",
       "      <th>...</th>\n",
       "      <td>...</td>\n",
       "      <td>...</td>\n",
       "      <td>...</td>\n",
       "      <td>...</td>\n",
       "    </tr>\n",
       "    <tr>\n",
       "      <th>2824</th>\n",
       "      <td>Bamboo</td>\n",
       "      <td>A</td>\n",
       "      <td>0.55</td>\n",
       "      <td>A</td>\n",
       "    </tr>\n",
       "    <tr>\n",
       "      <th>2825</th>\n",
       "      <td>Bamboo</td>\n",
       "      <td>A</td>\n",
       "      <td>0.60</td>\n",
       "      <td>A</td>\n",
       "    </tr>\n",
       "    <tr>\n",
       "      <th>2826</th>\n",
       "      <td>Müesli croccante all'avena</td>\n",
       "      <td>C</td>\n",
       "      <td>0.50</td>\n",
       "      <td>A</td>\n",
       "    </tr>\n",
       "    <tr>\n",
       "      <th>2827</th>\n",
       "      <td>Müesli croccante all'avena</td>\n",
       "      <td>C</td>\n",
       "      <td>0.55</td>\n",
       "      <td>A</td>\n",
       "    </tr>\n",
       "    <tr>\n",
       "      <th>2828</th>\n",
       "      <td>Müesli croccante all'avena</td>\n",
       "      <td>C</td>\n",
       "      <td>0.60</td>\n",
       "      <td>A</td>\n",
       "    </tr>\n",
       "  </tbody>\n",
       "</table>\n",
       "<p>2829 rows × 4 columns</p>\n",
       "</div>"
      ],
      "text/plain": [
       "                    Product Name Nutri score  Lambda Pessimistic Category\n",
       "0        cruesly mélange de noix           A    0.50                    A\n",
       "1        cruesly mélange de noix           A    0.55                    A\n",
       "2        cruesly mélange de noix           A    0.60                    A\n",
       "3              Céréales Chocapic           A    0.50                    A\n",
       "4              Céréales Chocapic           A    0.55                    A\n",
       "...                          ...         ...     ...                  ...\n",
       "2824                      Bamboo           A    0.55                    A\n",
       "2825                      Bamboo           A    0.60                    A\n",
       "2826  Müesli croccante all'avena           C    0.50                    A\n",
       "2827  Müesli croccante all'avena           C    0.55                    A\n",
       "2828  Müesli croccante all'avena           C    0.60                    A\n",
       "\n",
       "[2829 rows x 4 columns]"
      ]
     },
     "execution_count": 129,
     "metadata": {},
     "output_type": "execute_result"
    }
   ],
   "source": [
    "results_3 = []\n",
    "for _, row in data.iterrows():\n",
    "    for lambda_value in thresholds:\n",
    "        pessimistic_category_3 = pessimistic_majority_sorting(row, limiting_profiles_3, weights_w1, lambda_value)\n",
    "\n",
    "        results_3.append({\n",
    "            \"Product Name\": row[\"Product Name\"],\n",
    "            \"Nutri score\": row[\"Nutri-Score\"].upper(),\n",
    "            \"Lambda\": lambda_value,\n",
    "            \"Pessimistic Category\": pessimistic_category_3\n",
    "        })\n",
    "\n",
    "df_3 = pd.DataFrame(results_3)\n",
    "df_3"
   ]
  },
  {
   "cell_type": "markdown",
   "metadata": {},
   "source": [
    "## 4. Finding limiting profiles using UTA approach (voir notebook UTA_approach.ipynb)"
   ]
  },
  {
   "cell_type": "code",
   "execution_count": 130,
   "metadata": {},
   "outputs": [
    {
     "data": {
      "text/plain": [
       "{'A': {'Energy (kcal)': 494.0,\n",
       "  'Sugars (g)': 25.0,\n",
       "  'Salt (g)': 1.1,\n",
       "  'Saturated Fat (g)': 4.8,\n",
       "  'Proteins (g)': 80.0,\n",
       "  'Fiber (g)': 27.5,\n",
       "  'Fruits/Vegetables (%)': 99.796875},\n",
       " 'B': {'Energy (kcal)': 508.0,\n",
       "  'Sugars (g)': 27.1,\n",
       "  'Salt (g)': 1.3075,\n",
       "  'Saturated Fat (g)': 5.0,\n",
       "  'Proteins (g)': 22.1,\n",
       "  'Fiber (g)': 27.0,\n",
       "  'Fruits/Vegetables (%)': 56.1875},\n",
       " 'C': {'Energy (kcal)': 524.0,\n",
       "  'Sugars (g)': 48.0,\n",
       "  'Salt (g)': 2.0,\n",
       "  'Saturated Fat (g)': 9.2,\n",
       "  'Proteins (g)': 27.9,\n",
       "  'Fiber (g)': 27.0,\n",
       "  'Fruits/Vegetables (%)': 63.25},\n",
       " 'D': {'Energy (kcal)': 601.0,\n",
       "  'Sugars (g)': 39.0,\n",
       "  'Salt (g)': 1.42,\n",
       "  'Saturated Fat (g)': 20.7,\n",
       "  'Proteins (g)': 16.0,\n",
       "  'Fiber (g)': 14.0,\n",
       "  'Fruits/Vegetables (%)': 70.0},\n",
       " 'E': {'Energy (kcal)': 534.0,\n",
       "  'Sugars (g)': 40.0,\n",
       "  'Salt (g)': 1.67,\n",
       "  'Saturated Fat (g)': 16.0,\n",
       "  'Proteins (g)': 10.0,\n",
       "  'Fiber (g)': 7.11,\n",
       "  'Fruits/Vegetables (%)': 3.07161458333333}}"
      ]
     },
     "execution_count": 130,
     "metadata": {},
     "output_type": "execute_result"
    }
   ],
   "source": [
    "file_path = \"limiting_profiles_uta.json\"\n",
    "with open(file_path, \"r\") as file:\n",
    "    limiting_profiles_4 = json.load(file)\n",
    "\n",
    "limiting_profiles_4"
   ]
  },
  {
   "cell_type": "code",
   "execution_count": 131,
   "metadata": {},
   "outputs": [
    {
     "data": {
      "text/html": [
       "<div>\n",
       "<style scoped>\n",
       "    .dataframe tbody tr th:only-of-type {\n",
       "        vertical-align: middle;\n",
       "    }\n",
       "\n",
       "    .dataframe tbody tr th {\n",
       "        vertical-align: top;\n",
       "    }\n",
       "\n",
       "    .dataframe thead th {\n",
       "        text-align: right;\n",
       "    }\n",
       "</style>\n",
       "<table border=\"1\" class=\"dataframe\">\n",
       "  <thead>\n",
       "    <tr style=\"text-align: right;\">\n",
       "      <th></th>\n",
       "      <th>A</th>\n",
       "      <th>B</th>\n",
       "      <th>C</th>\n",
       "      <th>D</th>\n",
       "      <th>E</th>\n",
       "    </tr>\n",
       "  </thead>\n",
       "  <tbody>\n",
       "    <tr>\n",
       "      <th>Energy (kcal)</th>\n",
       "      <td>494.000000</td>\n",
       "      <td>508.0000</td>\n",
       "      <td>524.00</td>\n",
       "      <td>601.00</td>\n",
       "      <td>534.000000</td>\n",
       "    </tr>\n",
       "    <tr>\n",
       "      <th>Sugars (g)</th>\n",
       "      <td>25.000000</td>\n",
       "      <td>27.1000</td>\n",
       "      <td>48.00</td>\n",
       "      <td>39.00</td>\n",
       "      <td>40.000000</td>\n",
       "    </tr>\n",
       "    <tr>\n",
       "      <th>Salt (g)</th>\n",
       "      <td>1.100000</td>\n",
       "      <td>1.3075</td>\n",
       "      <td>2.00</td>\n",
       "      <td>1.42</td>\n",
       "      <td>1.670000</td>\n",
       "    </tr>\n",
       "    <tr>\n",
       "      <th>Saturated Fat (g)</th>\n",
       "      <td>4.800000</td>\n",
       "      <td>5.0000</td>\n",
       "      <td>9.20</td>\n",
       "      <td>20.70</td>\n",
       "      <td>16.000000</td>\n",
       "    </tr>\n",
       "    <tr>\n",
       "      <th>Proteins (g)</th>\n",
       "      <td>80.000000</td>\n",
       "      <td>22.1000</td>\n",
       "      <td>27.90</td>\n",
       "      <td>16.00</td>\n",
       "      <td>10.000000</td>\n",
       "    </tr>\n",
       "    <tr>\n",
       "      <th>Fiber (g)</th>\n",
       "      <td>27.500000</td>\n",
       "      <td>27.0000</td>\n",
       "      <td>27.00</td>\n",
       "      <td>14.00</td>\n",
       "      <td>7.110000</td>\n",
       "    </tr>\n",
       "    <tr>\n",
       "      <th>Fruits/Vegetables (%)</th>\n",
       "      <td>99.796875</td>\n",
       "      <td>56.1875</td>\n",
       "      <td>63.25</td>\n",
       "      <td>70.00</td>\n",
       "      <td>3.071615</td>\n",
       "    </tr>\n",
       "  </tbody>\n",
       "</table>\n",
       "</div>"
      ],
      "text/plain": [
       "                                A         B       C       D           E\n",
       "Energy (kcal)          494.000000  508.0000  524.00  601.00  534.000000\n",
       "Sugars (g)              25.000000   27.1000   48.00   39.00   40.000000\n",
       "Salt (g)                 1.100000    1.3075    2.00    1.42    1.670000\n",
       "Saturated Fat (g)        4.800000    5.0000    9.20   20.70   16.000000\n",
       "Proteins (g)            80.000000   22.1000   27.90   16.00   10.000000\n",
       "Fiber (g)               27.500000   27.0000   27.00   14.00    7.110000\n",
       "Fruits/Vegetables (%)   99.796875   56.1875   63.25   70.00    3.071615"
      ]
     },
     "execution_count": 131,
     "metadata": {},
     "output_type": "execute_result"
    }
   ],
   "source": [
    "df_limit_profiles_4 = pd.DataFrame(limiting_profiles_4)\n",
    "df_limit_profiles_4"
   ]
  },
  {
   "cell_type": "code",
   "execution_count": 132,
   "metadata": {},
   "outputs": [
    {
     "data": {
      "text/html": [
       "<div>\n",
       "<style scoped>\n",
       "    .dataframe tbody tr th:only-of-type {\n",
       "        vertical-align: middle;\n",
       "    }\n",
       "\n",
       "    .dataframe tbody tr th {\n",
       "        vertical-align: top;\n",
       "    }\n",
       "\n",
       "    .dataframe thead th {\n",
       "        text-align: right;\n",
       "    }\n",
       "</style>\n",
       "<table border=\"1\" class=\"dataframe\">\n",
       "  <thead>\n",
       "    <tr style=\"text-align: right;\">\n",
       "      <th></th>\n",
       "      <th>Product Name</th>\n",
       "      <th>Nutri score</th>\n",
       "      <th>Lambda</th>\n",
       "      <th>Pessimistic Category</th>\n",
       "    </tr>\n",
       "  </thead>\n",
       "  <tbody>\n",
       "    <tr>\n",
       "      <th>0</th>\n",
       "      <td>cruesly mélange de noix</td>\n",
       "      <td>A</td>\n",
       "      <td>0.50</td>\n",
       "      <td>C</td>\n",
       "    </tr>\n",
       "    <tr>\n",
       "      <th>1</th>\n",
       "      <td>cruesly mélange de noix</td>\n",
       "      <td>A</td>\n",
       "      <td>0.55</td>\n",
       "      <td>C</td>\n",
       "    </tr>\n",
       "    <tr>\n",
       "      <th>2</th>\n",
       "      <td>cruesly mélange de noix</td>\n",
       "      <td>A</td>\n",
       "      <td>0.60</td>\n",
       "      <td>D</td>\n",
       "    </tr>\n",
       "    <tr>\n",
       "      <th>3</th>\n",
       "      <td>Céréales Chocapic</td>\n",
       "      <td>A</td>\n",
       "      <td>0.50</td>\n",
       "      <td>C</td>\n",
       "    </tr>\n",
       "    <tr>\n",
       "      <th>4</th>\n",
       "      <td>Céréales Chocapic</td>\n",
       "      <td>A</td>\n",
       "      <td>0.55</td>\n",
       "      <td>C</td>\n",
       "    </tr>\n",
       "    <tr>\n",
       "      <th>...</th>\n",
       "      <td>...</td>\n",
       "      <td>...</td>\n",
       "      <td>...</td>\n",
       "      <td>...</td>\n",
       "    </tr>\n",
       "    <tr>\n",
       "      <th>2824</th>\n",
       "      <td>Bamboo</td>\n",
       "      <td>A</td>\n",
       "      <td>0.55</td>\n",
       "      <td>C</td>\n",
       "    </tr>\n",
       "    <tr>\n",
       "      <th>2825</th>\n",
       "      <td>Bamboo</td>\n",
       "      <td>A</td>\n",
       "      <td>0.60</td>\n",
       "      <td>D</td>\n",
       "    </tr>\n",
       "    <tr>\n",
       "      <th>2826</th>\n",
       "      <td>Müesli croccante all'avena</td>\n",
       "      <td>C</td>\n",
       "      <td>0.50</td>\n",
       "      <td>C</td>\n",
       "    </tr>\n",
       "    <tr>\n",
       "      <th>2827</th>\n",
       "      <td>Müesli croccante all'avena</td>\n",
       "      <td>C</td>\n",
       "      <td>0.55</td>\n",
       "      <td>C</td>\n",
       "    </tr>\n",
       "    <tr>\n",
       "      <th>2828</th>\n",
       "      <td>Müesli croccante all'avena</td>\n",
       "      <td>C</td>\n",
       "      <td>0.60</td>\n",
       "      <td>D</td>\n",
       "    </tr>\n",
       "  </tbody>\n",
       "</table>\n",
       "<p>2829 rows × 4 columns</p>\n",
       "</div>"
      ],
      "text/plain": [
       "                    Product Name Nutri score  Lambda Pessimistic Category\n",
       "0        cruesly mélange de noix           A    0.50                    C\n",
       "1        cruesly mélange de noix           A    0.55                    C\n",
       "2        cruesly mélange de noix           A    0.60                    D\n",
       "3              Céréales Chocapic           A    0.50                    C\n",
       "4              Céréales Chocapic           A    0.55                    C\n",
       "...                          ...         ...     ...                  ...\n",
       "2824                      Bamboo           A    0.55                    C\n",
       "2825                      Bamboo           A    0.60                    D\n",
       "2826  Müesli croccante all'avena           C    0.50                    C\n",
       "2827  Müesli croccante all'avena           C    0.55                    C\n",
       "2828  Müesli croccante all'avena           C    0.60                    D\n",
       "\n",
       "[2829 rows x 4 columns]"
      ]
     },
     "execution_count": 132,
     "metadata": {},
     "output_type": "execute_result"
    }
   ],
   "source": [
    "results_4 = []\n",
    "for _, row in data.iterrows():\n",
    "    for lambda_value in thresholds:\n",
    "        pessimistic_category_4 = pessimistic_majority_sorting(row, limiting_profiles_4, weights_w1, lambda_value)\n",
    "\n",
    "        results_4.append({\n",
    "            \"Product Name\": row[\"Product Name\"],\n",
    "            \"Nutri score\": row[\"Nutri-Score\"].upper(),\n",
    "            \"Lambda\": lambda_value,\n",
    "            \"Pessimistic Category\": pessimistic_category_4\n",
    "        })\n",
    "\n",
    "df_4 = pd.DataFrame(results_4)\n",
    "df_4"
   ]
  },
  {
   "cell_type": "markdown",
   "metadata": {
    "id": "pglan0afE7We"
   },
   "source": [
    "## 5. Comparing results with the real Nutri-Score assignments (by using, for instance, a confusion matrix)\n",
    "\n",
    "#### Limiting profiles set manually:"
   ]
  },
  {
   "cell_type": "code",
   "execution_count": 133,
   "metadata": {
    "colab": {
     "base_uri": "https://localhost:8080/",
     "height": 472
    },
    "id": "cYPGQYMSFG7Q",
    "outputId": "e421f11b-8417-47b4-e67f-a4109539dd8a"
   },
   "outputs": [
    {
     "data": {
      "image/png": "[encoded data removed]",
      "text/plain": [
       "<Figure size 640x480 with 2 Axes>"
      ]
     },
     "metadata": {},
     "output_type": "display_data"
    }
   ],
   "source": [
    "# Select Lambda value to analyze\n",
    "lambda_to_analyze = 0.5\n",
    "subset = df[df[\"Lambda\"] == lambda_to_analyze]\n",
    "y_true = subset[\"Nutri score\"]\n",
    "y_pred = subset[\"Pessimistic Category\"]\n",
    "\n",
    "cm = confusion_matrix(y_true, y_pred, labels=[\"A\", \"B\", \"C\", \"D\", \"E\"])\n",
    "\n",
    "disp = ConfusionMatrixDisplay(confusion_matrix=cm, display_labels=[\"A\", \"B\", \"C\", \"D\", \"E\"])\n",
    "disp.plot(cmap=plt.cm.Blues)\n",
    "plt.title(f\"Confusion Matrix (Lambda = {lambda_to_analyze})\")\n",
    "plt.show()\n"
   ]
  },
  {
   "cell_type": "code",
   "execution_count": 134,
   "metadata": {},
   "outputs": [
    {
     "name": "stdout",
     "output_type": "stream",
     "text": [
      "Accuracy: 0.28\n",
      "Precision: 0.08\n",
      "Recall: 0.13\n",
      "F1 Score: 0.10\n"
     ]
    },
    {
     "name": "stderr",
     "output_type": "stream",
     "text": [
      "/home/melissa/miniconda3/envs/bdma/lib/python3.8/site-packages/sklearn/metrics/_classification.py:1469: UndefinedMetricWarning: Precision is ill-defined and being set to 0.0 in labels with no predicted samples. Use `zero_division` parameter to control this behavior.\n",
      "  _warn_prf(average, modifier, msg_start, len(result))\n"
     ]
    }
   ],
   "source": [
    "# Calculate and print accuracy\n",
    "accuracy_1 = accuracy_score(y_true, y_pred)\n",
    "print(f\"Accuracy: {accuracy_1:.2f}\")\n",
    "\n",
    "# Calculate and print precision\n",
    "precision_1 = precision_score(y_true, y_pred, labels=[\"A\", \"B\", \"C\", \"D\", \"E\"], average='macro')  # Adjust 'macro' as needed\n",
    "print(f\"Precision: {precision_1:.2f}\")\n",
    "\n",
    "# Calculate and print recall\n",
    "recall_1 = recall_score(y_true, y_pred, labels=[\"A\", \"B\", \"C\", \"D\", \"E\"], average='macro')  # Adjust 'macro' as needed\n",
    "print(f\"Recall: {recall_1:.2f}\")\n",
    "\n",
    "# Calculate and print F1 score\n",
    "f1 = f1_score(y_true, y_pred, labels=[\"A\", \"B\", \"C\", \"D\", \"E\"], average='macro')  # Adjust 'macro' as needed\n",
    "print(f\"F1 Score: {f1:.2f}\")"
   ]
  },
  {
   "cell_type": "code",
   "execution_count": 135,
   "metadata": {},
   "outputs": [
    {
     "data": {
      "image/png": "[encoded data removed]",
      "text/plain": [
       "<Figure size 1000x600 with 1 Axes>"
      ]
     },
     "metadata": {},
     "output_type": "display_data"
    }
   ],
   "source": [
    "df['Well Classified'] = df['Nutri score'] == df['Pessimistic Category']\n",
    "classification_counts = df.groupby('Lambda')['Well Classified'].value_counts().unstack(fill_value=0)\n",
    "\n",
    "ax = classification_counts.plot(\n",
    "    kind='bar', \n",
    "    stacked=False, \n",
    "    figsize=(10, 6), \n",
    "    color=['red', 'green'], \n",
    "    width=0.8\n",
    ")\n",
    "\n",
    "plt.title('Classification Results Across Lambda Thresholds')\n",
    "plt.xlabel('Lambda')\n",
    "plt.ylabel('Number of Products')\n",
    "plt.legend(['Misclassified', 'Well Classified'], title='Classification')\n",
    "plt.tight_layout()\n",
    "\n",
    "plt.show()"
   ]
  },
  {
   "cell_type": "markdown",
   "metadata": {},
   "source": [
    "#### Limiting profiles found with quantile approach:"
   ]
  },
  {
   "cell_type": "code",
   "execution_count": 136,
   "metadata": {
    "colab": {
     "base_uri": "https://localhost:8080/",
     "height": 472
    },
    "id": "E-N-8ujoRJY9",
    "outputId": "f4bc71e3-fbf5-4c68-a0ca-55e67a018af1"
   },
   "outputs": [
    {
     "data": {
      "image/png": "[encoded data removed]",
      "text/plain": [
       "<Figure size 640x480 with 2 Axes>"
      ]
     },
     "metadata": {},
     "output_type": "display_data"
    }
   ],
   "source": [
    "subset = df_2[df_2[\"Lambda\"] == lambda_to_analyze]\n",
    "y_true = subset[\"Nutri score\"]\n",
    "y_pred = subset[\"Pessimistic Category\"]\n",
    "\n",
    "cm = confusion_matrix(y_true, y_pred, labels=[\"A\", \"B\", \"C\", \"D\", \"E\"])\n",
    "\n",
    "disp = ConfusionMatrixDisplay(confusion_matrix=cm, display_labels=[\"A\", \"B\", \"C\", \"D\", \"E\"])\n",
    "disp.plot(cmap=plt.cm.Blues)\n",
    "plt.title(f\"Confusion Matrix (Lambda = {lambda_to_analyze})\")\n",
    "plt.show()"
   ]
  },
  {
   "cell_type": "code",
   "execution_count": 137,
   "metadata": {},
   "outputs": [
    {
     "name": "stdout",
     "output_type": "stream",
     "text": [
      "Accuracy: 0.21\n",
      "Precision: 0.42\n",
      "Recall: 0.21\n",
      "F1 Score: 0.11\n"
     ]
    }
   ],
   "source": [
    "# Calculate and print accuracy\n",
    "accuracy_2 = accuracy_score(y_true, y_pred)\n",
    "print(f\"Accuracy: {accuracy_2:.2f}\")\n",
    "\n",
    "# Calculate and print precision\n",
    "precision_2 = precision_score(y_true, y_pred, labels=[\"A\", \"B\", \"C\", \"D\", \"E\"], average='macro')  # Adjust 'macro' as needed\n",
    "print(f\"Precision: {precision_2:.2f}\")\n",
    "\n",
    "# Calculate and print recall\n",
    "recall_2 = recall_score(y_true, y_pred, labels=[\"A\", \"B\", \"C\", \"D\", \"E\"], average='macro')  # Adjust 'macro' as needed\n",
    "print(f\"Recall: {recall_2:.2f}\")\n",
    "\n",
    "# Calculate and print F1 score\n",
    "f2 = f1_score(y_true, y_pred, labels=[\"A\", \"B\", \"C\", \"D\", \"E\"], average='macro')  # Adjust 'macro' as needed\n",
    "print(f\"F1 Score: {f2:.2f}\")"
   ]
  },
  {
   "cell_type": "code",
   "execution_count": 138,
   "metadata": {},
   "outputs": [
    {
     "data": {
      "image/png": "[encoded data removed]",
      "text/plain": [
       "<Figure size 1000x600 with 1 Axes>"
      ]
     },
     "metadata": {},
     "output_type": "display_data"
    }
   ],
   "source": [
    "df_2['Well Classified'] = df_2['Nutri score'] == df_2['Pessimistic Category']\n",
    "classification_counts = df_2.groupby('Lambda')['Well Classified'].value_counts().unstack(fill_value=0)\n",
    "\n",
    "ax = classification_counts.plot(\n",
    "    kind='bar', \n",
    "    stacked=False, \n",
    "    figsize=(10, 6), \n",
    "    color=['red', 'green'], \n",
    "    width=0.8\n",
    ")\n",
    "\n",
    "plt.title('Classification Results Across Lambda Thresholds')\n",
    "plt.xlabel('Lambda')\n",
    "plt.ylabel('Number of Products')\n",
    "plt.legend(['Misclassified', 'Well Classified'], title='Classification')\n",
    "plt.tight_layout()\n",
    "\n",
    "plt.show()"
   ]
  },
  {
   "cell_type": "markdown",
   "metadata": {},
   "source": [
    "#### Limiting profiles found using K-means:"
   ]
  },
  {
   "cell_type": "code",
   "execution_count": 139,
   "metadata": {},
   "outputs": [
    {
     "data": {
      "image/png": "[encoded data removed]",
      "text/plain": [
       "<Figure size 640x480 with 2 Axes>"
      ]
     },
     "metadata": {},
     "output_type": "display_data"
    }
   ],
   "source": [
    "subset = df_3[df_3[\"Lambda\"] == lambda_to_analyze]\n",
    "y_true = subset[\"Nutri score\"].dropna()\n",
    "y_pred = subset[\"Pessimistic Category\"].dropna()\n",
    "valid_indices = y_true.notnull() & y_pred.notnull()\n",
    "y_true = y_true[valid_indices]\n",
    "y_pred = y_pred[valid_indices]\n",
    "\n",
    "cm = confusion_matrix(y_true, y_pred, labels=[\"A\", \"B\", \"C\", \"D\", \"E\"])\n",
    "\n",
    "disp = ConfusionMatrixDisplay(confusion_matrix=cm, display_labels=[\"A\", \"B\", \"C\", \"D\", \"E\"])\n",
    "disp.plot(cmap=plt.cm.Blues)\n",
    "plt.title(f\"Confusion Matrix (Lambda = {lambda_to_analyze})\")\n",
    "plt.show()"
   ]
  },
  {
   "cell_type": "code",
   "execution_count": 140,
   "metadata": {},
   "outputs": [
    {
     "name": "stdout",
     "output_type": "stream",
     "text": [
      "Accuracy: 0.43\n",
      "Precision: 0.12\n",
      "Recall: 0.20\n",
      "F1 Score: 0.12\n"
     ]
    },
    {
     "name": "stderr",
     "output_type": "stream",
     "text": [
      "/home/melissa/miniconda3/envs/bdma/lib/python3.8/site-packages/sklearn/metrics/_classification.py:1469: UndefinedMetricWarning: Precision is ill-defined and being set to 0.0 in labels with no predicted samples. Use `zero_division` parameter to control this behavior.\n",
      "  _warn_prf(average, modifier, msg_start, len(result))\n"
     ]
    }
   ],
   "source": [
    "# Calculate and print accuracy\n",
    "accuracy_3 = accuracy_score(y_true, y_pred)\n",
    "print(f\"Accuracy: {accuracy_3:.2f}\")\n",
    "\n",
    "# Calculate and print precision\n",
    "precision_3 = precision_score(y_true, y_pred, labels=[\"A\", \"B\", \"C\", \"D\", \"E\"], average='macro')  # Adjust 'macro' as needed\n",
    "print(f\"Precision: {precision_3:.2f}\")\n",
    "\n",
    "# Calculate and print recall\n",
    "recall_3 = recall_score(y_true, y_pred, labels=[\"A\", \"B\", \"C\", \"D\", \"E\"], average='macro')  # Adjust 'macro' as needed\n",
    "print(f\"Recall: {recall_3:.2f}\")\n",
    "\n",
    "# Calculate and print F1 score\n",
    "f3 = f1_score(y_true, y_pred, labels=[\"A\", \"B\", \"C\", \"D\", \"E\"], average='macro')  # Adjust 'macro' as needed\n",
    "print(f\"F1 Score: {f3:.2f}\")"
   ]
  },
  {
   "cell_type": "code",
   "execution_count": 141,
   "metadata": {},
   "outputs": [
    {
     "data": {
      "image/png": "[encoded data removed]",
      "text/plain": [
       "<Figure size 1000x600 with 1 Axes>"
      ]
     },
     "metadata": {},
     "output_type": "display_data"
    }
   ],
   "source": [
    "df_3['Well Classified'] = df_3['Nutri score'] == df_3['Pessimistic Category']\n",
    "classification_counts = df_3.groupby('Lambda')['Well Classified'].value_counts().unstack(fill_value=0)\n",
    "\n",
    "ax = classification_counts.plot(\n",
    "    kind='bar', \n",
    "    stacked=False, \n",
    "    figsize=(10, 6), \n",
    "    color=['red', 'green'], \n",
    "    width=0.8\n",
    ")\n",
    "\n",
    "plt.title('Classification Results Across Lambda Thresholds')\n",
    "plt.xlabel('Lambda')\n",
    "plt.ylabel('Number of Products')\n",
    "plt.legend(['Misclassified', 'Well Classified'], title='Classification')\n",
    "plt.tight_layout()\n",
    "\n",
    "plt.show()"
   ]
  },
  {
   "cell_type": "markdown",
   "metadata": {},
   "source": [
    "#### Limiting profiles found usin UTA approach:"
   ]
  },
  {
   "cell_type": "code",
   "execution_count": 142,
   "metadata": {},
   "outputs": [
    {
     "data": {
      "image/png": "[encoded data removed]",
      "text/plain": [
       "<Figure size 640x480 with 2 Axes>"
      ]
     },
     "metadata": {},
     "output_type": "display_data"
    }
   ],
   "source": [
    "subset = df_4[df_4[\"Lambda\"] == lambda_to_analyze]\n",
    "y_true = subset[\"Nutri score\"]\n",
    "y_pred = subset[\"Pessimistic Category\"]\n",
    "\n",
    "cm = confusion_matrix(y_true, y_pred, labels=[\"A\", \"B\", \"C\", \"D\", \"E\"])\n",
    "\n",
    "disp = ConfusionMatrixDisplay(confusion_matrix=cm, display_labels=[\"A\", \"B\", \"C\", \"D\", \"E\"])\n",
    "disp.plot(cmap=plt.cm.Blues)\n",
    "plt.title(f\"Confusion Matrix (Lambda = {lambda_to_analyze})\")\n",
    "plt.show()"
   ]
  },
  {
   "cell_type": "code",
   "execution_count": 143,
   "metadata": {},
   "outputs": [
    {
     "name": "stdout",
     "output_type": "stream",
     "text": [
      "Accuracy: 0.24\n",
      "Precision: 0.17\n",
      "Recall: 0.19\n",
      "F1 Score: 0.16\n"
     ]
    },
    {
     "name": "stderr",
     "output_type": "stream",
     "text": [
      "/home/melissa/miniconda3/envs/bdma/lib/python3.8/site-packages/sklearn/metrics/_classification.py:1469: UndefinedMetricWarning: Precision is ill-defined and being set to 0.0 in labels with no predicted samples. Use `zero_division` parameter to control this behavior.\n",
      "  _warn_prf(average, modifier, msg_start, len(result))\n"
     ]
    }
   ],
   "source": [
    "# Calculate and print accuracy\n",
    "accuracy_4 = accuracy_score(y_true, y_pred)\n",
    "print(f\"Accuracy: {accuracy_4:.2f}\")\n",
    "\n",
    "# Calculate and print precision\n",
    "precision_4 = precision_score(y_true, y_pred, labels=[\"A\", \"B\", \"C\", \"D\", \"E\"], average='macro')  # Adjust 'macro' as needed\n",
    "print(f\"Precision: {precision_4:.2f}\")\n",
    "\n",
    "# Calculate and print recall\n",
    "recall_4 = recall_score(y_true, y_pred, labels=[\"A\", \"B\", \"C\", \"D\", \"E\"], average='macro')  # Adjust 'macro' as needed\n",
    "print(f\"Recall: {recall_4:.2f}\")\n",
    "\n",
    "# Calculate and print F1 score\n",
    "f4 = f1_score(y_true, y_pred, labels=[\"A\", \"B\", \"C\", \"D\", \"E\"], average='macro')  # Adjust 'macro' as needed\n",
    "print(f\"F1 Score: {f4:.2f}\")"
   ]
  },
  {
   "cell_type": "code",
   "execution_count": 144,
   "metadata": {},
   "outputs": [
    {
     "data": {
      "image/png": "[encoded data removed]",
      "text/plain": [
       "<Figure size 1000x600 with 1 Axes>"
      ]
     },
     "metadata": {},
     "output_type": "display_data"
    }
   ],
   "source": [
    "df_4['Well Classified'] = df_4['Nutri score'] == df_4['Pessimistic Category']\n",
    "classification_counts = df_4.groupby('Lambda')['Well Classified'].value_counts().unstack(fill_value=0)\n",
    "\n",
    "ax = classification_counts.plot(\n",
    "    kind='bar', \n",
    "    stacked=False, \n",
    "    figsize=(10, 6), \n",
    "    color=['red', 'green'], \n",
    "    width=0.8\n",
    ")\n",
    "\n",
    "plt.title('Classification Results Across Lambda Thresholds')\n",
    "plt.xlabel('Lambda')\n",
    "plt.ylabel('Number of Products')\n",
    "plt.legend(['Misclassified', 'Well Classified'], title='Classification')\n",
    "plt.tight_layout()\n",
    "\n",
    "plt.show()"
   ]
  },
  {
   "cell_type": "markdown",
   "metadata": {},
   "source": [
    "## 6. Performance measures summary"
   ]
  },
  {
   "cell_type": "code",
   "execution_count": 145,
   "metadata": {},
   "outputs": [
    {
     "data": {
      "text/html": [
       "<div>\n",
       "<style scoped>\n",
       "    .dataframe tbody tr th:only-of-type {\n",
       "        vertical-align: middle;\n",
       "    }\n",
       "\n",
       "    .dataframe tbody tr th {\n",
       "        vertical-align: top;\n",
       "    }\n",
       "\n",
       "    .dataframe thead th {\n",
       "        text-align: right;\n",
       "    }\n",
       "</style>\n",
       "<table border=\"1\" class=\"dataframe\">\n",
       "  <thead>\n",
       "    <tr style=\"text-align: right;\">\n",
       "      <th></th>\n",
       "      <th>Limiting profiles - Approach</th>\n",
       "      <th>Accuracy</th>\n",
       "      <th>Precision</th>\n",
       "      <th>Recall</th>\n",
       "      <th>F1 Score</th>\n",
       "    </tr>\n",
       "  </thead>\n",
       "  <tbody>\n",
       "    <tr>\n",
       "      <th>0</th>\n",
       "      <td>Manually</td>\n",
       "      <td>0.275716</td>\n",
       "      <td>0.076817</td>\n",
       "      <td>0.133785</td>\n",
       "      <td>0.096535</td>\n",
       "    </tr>\n",
       "    <tr>\n",
       "      <th>1</th>\n",
       "      <td>Quintiles</td>\n",
       "      <td>0.206787</td>\n",
       "      <td>0.420555</td>\n",
       "      <td>0.213565</td>\n",
       "      <td>0.106030</td>\n",
       "    </tr>\n",
       "    <tr>\n",
       "      <th>2</th>\n",
       "      <td>K-means</td>\n",
       "      <td>0.434505</td>\n",
       "      <td>0.120672</td>\n",
       "      <td>0.200646</td>\n",
       "      <td>0.123690</td>\n",
       "    </tr>\n",
       "    <tr>\n",
       "      <th>3</th>\n",
       "      <td>UTA</td>\n",
       "      <td>0.243902</td>\n",
       "      <td>0.167584</td>\n",
       "      <td>0.188718</td>\n",
       "      <td>0.158146</td>\n",
       "    </tr>\n",
       "  </tbody>\n",
       "</table>\n",
       "</div>"
      ],
      "text/plain": [
       "  Limiting profiles - Approach  Accuracy  Precision    Recall  F1 Score\n",
       "0                     Manually  0.275716   0.076817  0.133785  0.096535\n",
       "1                    Quintiles  0.206787   0.420555  0.213565  0.106030\n",
       "2                      K-means  0.434505   0.120672  0.200646  0.123690\n",
       "3                          UTA  0.243902   0.167584  0.188718  0.158146"
      ]
     },
     "execution_count": 145,
     "metadata": {},
     "output_type": "execute_result"
    }
   ],
   "source": [
    "data_sum = {\n",
    "    \"Limiting profiles - Approach\": ['Manually', 'Quintiles', 'K-means', 'UTA'],\n",
    "    \"Accuracy\": [accuracy_1, accuracy_2, accuracy_3, accuracy_4],\n",
    "    \"Precision\": [precision_1, precision_2, precision_3, precision_4],\n",
    "    \"Recall\": [recall_1, recall_2, recall_3, recall_4],\n",
    "    \"F1 Score\": [f1, f2, f3, f4],\n",
    "}\n",
    "performance_df = pd.DataFrame(data_sum)\n",
    "performance_df"
   ]
  }
 ],
 "metadata": {
  "colab": {
   "provenance": []
  },
  "kernelspec": {
   "display_name": "Python 3 (ipykernel)",
   "language": "python",
   "name": "python3"
  },
  "language_info": {
   "codemirror_mode": {
    "name": "ipython",
    "version": 3
   },
   "file_extension": ".py",
   "mimetype": "text/x-python",
   "name": "python",
   "nbconvert_exporter": "python",
   "pygments_lexer": "ipython3",
   "version": "3.12.7"
  }
 },
 "nbformat": 4,
 "nbformat_minor": 4
}
