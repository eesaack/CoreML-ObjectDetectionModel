{
 "cells": [
  {
   "cell_type": "code",
   "execution_count": 1,
   "id": "c0ce0665-18d4-4a35-bf40-94f53526d556",
   "metadata": {},
   "outputs": [
    {
     "name": "stdout",
     "output_type": "stream",
     "text": [
      "Collecting pulp\n",
      "  Downloading PuLP-2.9.0-py3-none-any.whl (17.7 MB)\n",
      "\u001b[K     |████████████████████████████████| 17.7 MB 11.9 MB/s eta 0:00:01\n",
      "\u001b[?25hInstalling collected packages: pulp\n",
      "Successfully installed pulp-2.9.0\n",
      "Note: you may need to restart the kernel to use updated packages.\n"
     ]
    }
   ],
   "source": [
    "pip install pulp"
   ]
  },
  {
   "cell_type": "code",
   "execution_count": 2,
   "id": "384a9973-a3c8-4998-95be-8b1c70d37b3c",
   "metadata": {},
   "outputs": [],
   "source": [
    "import pulp as pl"
   ]
  },
  {
   "cell_type": "code",
   "execution_count": 3,
   "id": "d6148593-2a53-43d9-8c20-254542212a2e",
   "metadata": {},
   "outputs": [],
   "source": [
    "# Create a problem variable:\n",
    "prob = pl.LpProblem(\"Vacation_Knapsack_Problem\", pl.LpMaximize)"
   ]
  },
  {
   "cell_type": "code",
   "execution_count": 4,
   "id": "a9c7a528-d503-493c-889d-2dafee8846e8",
   "metadata": {},
   "outputs": [],
   "source": [
    "# Decision variables\n",
    "items = ['A', 'B', 'C', 'D', 'E', 'F', 'G', 'H', 'I', 'J']\n",
    "values = {'A': 10, 'B': 8, 'C': 12, 'D': 4, 'E': 5, 'F': 10, 'G': 6, 'H': 9, 'I': 7, 'J': 9}\n",
    "weights = {'A': 5, 'B': 7, 'C': 4, 'D': 3, 'E': 5, 'F': 3, 'G': 4, 'H': 6, 'I': 4, 'J': 6}\n",
    "x = pl.LpVariable.dicts(\"item\", items, 0, 1, pl.LpBinary)"
   ]
  },
  {
   "cell_type": "code",
   "execution_count": 5,
   "id": "55d173bf-9fa6-4ad7-ba21-bf6e38debaad",
   "metadata": {},
   "outputs": [],
   "source": [
    "# Objective function\n",
    "prob += pl.lpSum([values[i] * x[i] for i in items]), \"Total Value of Items\"\n",
    "\n",
    "# Weight constraint\n",
    "prob += pl.lpSum([weights[i] * x[i] for i in items]) <= 23, \"Total Weight Constraint\""
   ]
  },
  {
   "cell_type": "code",
   "execution_count": 6,
   "id": "28d48d1c-5903-45a2-aeb3-c84ac66262ca",
   "metadata": {},
   "outputs": [
    {
     "data": {
      "text/plain": [
       "1"
      ]
     },
     "execution_count": 6,
     "metadata": {},
     "output_type": "execute_result"
    }
   ],
   "source": [
    "prob.solve()"
   ]
  },
  {
   "cell_type": "code",
   "execution_count": null,
   "id": "c570389e-4e47-493a-9940-a00db556dd82",
   "metadata": {},
   "outputs": [],
   "source": []
  },
  {
   "cell_type": "code",
   "execution_count": null,
   "id": "f4518ed1-cd97-468a-bd82-0113db3133c5",
   "metadata": {},
   "outputs": [],
   "source": []
  },
  {
   "cell_type": "code",
   "execution_count": 3,
   "id": "eec11c72-dcf3-4a5b-a40b-56e5f3dc9676",
   "metadata": {},
   "outputs": [
    {
     "name": "stdout",
     "output_type": "stream",
     "text": [
      "Status: Optimal\n",
      "The items to be included in the bag to maximize the total value are:\n",
      "Item A with value €10 and weight 5kg\n",
      "Item C with value €12 and weight 4kg\n",
      "Item D with value €4 and weight 3kg\n",
      "Item F with value €10 and weight 3kg\n",
      "Item G with value €6 and weight 4kg\n",
      "Item I with value €7 and weight 4kg\n"
     ]
    }
   ],
   "source": [
    "# Create the LP problem\n",
    "prob = pl.LpProblem(\"Vacation_Knapsack_Problem\", pl.LpMaximize)\n",
    "\n",
    "# Decision variables\n",
    "items = ['A', 'B', 'C', 'D', 'E', 'F', 'G', 'H', 'I', 'J']\n",
    "values = {'A': 10, 'B': 8, 'C': 12, 'D': 4, 'E': 5, 'F': 10, 'G': 6, 'H': 9, 'I': 7, 'J': 9}\n",
    "weights = {'A': 5, 'B': 7, 'C': 4, 'D': 3, 'E': 5, 'F': 3, 'G': 4, 'H': 6, 'I': 4, 'J': 6}\n",
    "x = pl.LpVariable.dicts(\"item\", items, 0, 1, pl.LpBinary)\n",
    "\n",
    "# Objective function\n",
    "prob += pl.lpSum([values[i] * x[i] for i in items]), \"Total Value of Items\"\n",
    "\n",
    "# Weight constraint\n",
    "prob += pl.lpSum([weights[i] * x[i] for i in items]) <= 23, \"Total Weight Constraint\"\n",
    "\n",
    "# Solve the problem\n",
    "prob.solve()\n",
    "\n",
    "# Output results\n",
    "print(\"Status:\", pl.LpStatus[prob.status])\n",
    "print(\"The items to be included in the bag to maximize the total value are:\")\n",
    "for item in items:\n",
    "    if pl.value(x[item]) == 1:\n",
    "        print(f\"Item {item} with value €{values[item]} and weight {weights[item]}kg\")"
   ]
  },
  {
   "cell_type": "code",
   "execution_count": 4,
   "id": "10856abe-3ff7-4946-ae80-cd6f80db8521",
   "metadata": {},
   "outputs": [
    {
     "name": "stdout",
     "output_type": "stream",
     "text": [
      "Status for weight limit 20kg: Optimal\n",
      "Items to be included for weight limit 20kg:\n",
      "Status for weight limit 26kg: Optimal\n",
      "Items to be included for weight limit 26kg:\n",
      "Results for 20 kg weight limit:\n",
      "Item A (Value €10, Weight 5kg)\n",
      "Item C (Value €12, Weight 4kg)\n",
      "Item F (Value €10, Weight 3kg)\n",
      "Item G (Value €6, Weight 4kg)\n",
      "Item I (Value €7, Weight 4kg)\n",
      "\n",
      "Results for 26 kg weight limit:\n",
      "Item A (Value €10, Weight 5kg)\n",
      "Item C (Value €12, Weight 4kg)\n",
      "Item F (Value €10, Weight 3kg)\n",
      "Item G (Value €6, Weight 4kg)\n",
      "Item H (Value €9, Weight 6kg)\n",
      "Item I (Value €7, Weight 4kg)\n"
     ]
    }
   ],
   "source": [
    "# Define the LP problem\n",
    "def solve_knapsack(weight_limit):\n",
    "    prob = pl.LpProblem(\"Vacation_Knapsack_Problem\", pl.LpMaximize)\n",
    "\n",
    "    # Decision variables\n",
    "    items = ['A', 'B', 'C', 'D', 'E', 'F', 'G', 'H', 'I', 'J']\n",
    "    values = {'A': 10, 'B': 8, 'C': 12, 'D': 4, 'E': 5, 'F': 10, 'G': 6, 'H': 9, 'I': 7, 'J': 9}\n",
    "    weights = {'A': 5, 'B': 7, 'C': 4, 'D': 3, 'E': 5, 'F': 3, 'G': 4, 'H': 6, 'I': 4, 'J': 6}\n",
    "    x = pl.LpVariable.dicts(\"item\", items, 0, 1, pl.LpBinary)\n",
    "\n",
    "    # Objective function\n",
    "    prob += pl.lpSum([values[i] * x[i] for i in items]), \"Total Value of Items\"\n",
    "\n",
    "    # Weight constraint modified according to the limit passed to the function\n",
    "    prob += pl.lpSum([weights[i] * x[i] for i in items]) <= weight_limit, \"Total Weight Constraint\"\n",
    "\n",
    "    # Solve the problem\n",
    "    prob.solve()\n",
    "\n",
    "    # Output results\n",
    "    print(f\"Status for weight limit {weight_limit}kg:\", pl.LpStatus[prob.status])\n",
    "    print(f\"Items to be included for weight limit {weight_limit}kg:\")\n",
    "    included_items = []\n",
    "    for item in items:\n",
    "        if pl.value(x[item]) == 1:\n",
    "            included_items.append(f\"Item {item} (Value €{values[item]}, Weight {weights[item]}kg)\")\n",
    "    return included_items\n",
    "\n",
    "# Solve for different weight limits\n",
    "results_20kg = solve_knapsack(20)\n",
    "results_26kg = solve_knapsack(26)\n",
    "\n",
    "# Print the results\n",
    "print(\"Results for 20 kg weight limit:\")\n",
    "for result in results_20kg:\n",
    "    print(result)\n",
    "\n",
    "print(\"\\nResults for 26 kg weight limit:\")\n",
    "for result in results_26kg:\n",
    "    print(result)"
   ]
  },
  {
   "cell_type": "code",
   "execution_count": null,
   "id": "1abc85a8-c310-4ed3-b4d9-0b5c1f4a98ac",
   "metadata": {},
   "outputs": [],
   "source": []
  },
  {
   "cell_type": "code",
   "execution_count": null,
   "id": "5766619e-097e-40df-9b44-e08531b692b0",
   "metadata": {},
   "outputs": [],
   "source": []
  },
  {
   "cell_type": "code",
   "execution_count": null,
   "id": "5af4ccf2-909b-4e14-bbd0-85489c7dfcbe",
   "metadata": {},
   "outputs": [],
   "source": []
  },
  {
   "cell_type": "code",
   "execution_count": null,
   "id": "21ca9ff1-532c-4873-9526-658c422307f3",
   "metadata": {},
   "outputs": [],
   "source": []
  },
  {
   "cell_type": "code",
   "execution_count": null,
   "id": "b9b6cd22-a85f-4d6f-8f93-b29156360b20",
   "metadata": {},
   "outputs": [],
   "source": []
  },
  {
   "cell_type": "markdown",
   "id": "b37e5c7a-bf40-4a79-91f9-7e3a2a3a9d75",
   "metadata": {},
   "source": [
    "## How to visit Paris?"
   ]
  },
  {
   "cell_type": "code",
   "execution_count": 8,
   "id": "461be16c-27b7-4c9e-ad33-43af7e9c3b72",
   "metadata": {},
   "outputs": [],
   "source": [
    "import pulp as pl"
   ]
  },
  {
   "cell_type": "code",
   "execution_count": 9,
   "id": "4162c2b8-0c25-4b59-b3d8-19058fed1e6d",
   "metadata": {},
   "outputs": [],
   "source": [
    "# Data from the problem statement\n",
    "sites = {\n",
    "    'TE': {'duration': 4.5, 'cost': 16.50},\n",
    "    'ML': {'duration': 3, 'cost': 14},\n",
    "    'AT': {'duration': 1, 'cost': 10.50},\n",
    "    'MO': {'duration': 2, 'cost': 11},\n",
    "    'JT': {'duration': 1.5, 'cost': 0},\n",
    "    'CA': {'duration': 2, 'cost': 10},\n",
    "    'CP': {'duration': 2.5, 'cost': 10},\n",
    "    'CN': {'duration': 2, 'cost': 7},\n",
    "    'BS': {'duration': 2, 'cost': 10},\n",
    "    'SC': {'duration': 1.5, 'cost': 8.50},\n",
    "    'PC': {'duration': 0.75, 'cost': 0},\n",
    "    'TM': {'duration': 2, 'cost': 12},\n",
    "    'AC': {'duration': 1.5, 'cost': 0}\n",
    "}"
   ]
  },
  {
   "cell_type": "code",
   "execution_count": 10,
   "id": "f56742cc-75d5-47cd-ab61-e0be004031a9",
   "metadata": {},
   "outputs": [],
   "source": [
    "# Budget scenarios\n",
    "budgets = [75, 65, 90]  # Different budgets as per scenarios\n",
    "\n",
    "# Maximum duration allowed\n",
    "max_duration = 14"
   ]
  },
  {
   "cell_type": "code",
   "execution_count": 11,
   "id": "ce4c6c15-a0a9-4e11-aa6d-42ebf998b42a",
   "metadata": {},
   "outputs": [
    {
     "ename": "NameError",
     "evalue": "name 'pulp' is not defined",
     "output_type": "error",
     "traceback": [
      "\u001b[0;31m---------------------------------------------------------------------------\u001b[0m",
      "\u001b[0;31mNameError\u001b[0m                                 Traceback (most recent call last)",
      "\u001b[0;32m<ipython-input-11-0aa8d7d59402>\u001b[0m in \u001b[0;36m<module>\u001b[0;34m\u001b[0m\n\u001b[1;32m     31\u001b[0m \u001b[0;31m# Run optimization for each budget scenario\u001b[0m\u001b[0;34m\u001b[0m\u001b[0;34m\u001b[0m\u001b[0;34m\u001b[0m\u001b[0m\n\u001b[1;32m     32\u001b[0m \u001b[0;32mfor\u001b[0m \u001b[0mbudget\u001b[0m \u001b[0;32min\u001b[0m \u001b[0mbudgets\u001b[0m\u001b[0;34m:\u001b[0m\u001b[0;34m\u001b[0m\u001b[0;34m\u001b[0m\u001b[0m\n\u001b[0;32m---> 33\u001b[0;31m     \u001b[0moptimize_visit\u001b[0m\u001b[0;34m(\u001b[0m\u001b[0mbudget\u001b[0m\u001b[0;34m)\u001b[0m\u001b[0;34m\u001b[0m\u001b[0;34m\u001b[0m\u001b[0m\n\u001b[0m",
      "\u001b[0;32m<ipython-input-11-0aa8d7d59402>\u001b[0m in \u001b[0;36moptimize_visit\u001b[0;34m(budget)\u001b[0m\n\u001b[1;32m      1\u001b[0m \u001b[0;32mdef\u001b[0m \u001b[0moptimize_visit\u001b[0m\u001b[0;34m(\u001b[0m\u001b[0mbudget\u001b[0m\u001b[0;34m)\u001b[0m\u001b[0;34m:\u001b[0m\u001b[0;34m\u001b[0m\u001b[0;34m\u001b[0m\u001b[0m\n\u001b[1;32m      2\u001b[0m     \u001b[0;31m# Create a linear programming problem\u001b[0m\u001b[0;34m\u001b[0m\u001b[0;34m\u001b[0m\u001b[0;34m\u001b[0m\u001b[0m\n\u001b[0;32m----> 3\u001b[0;31m     \u001b[0mproblem\u001b[0m \u001b[0;34m=\u001b[0m \u001b[0mpulp\u001b[0m\u001b[0;34m.\u001b[0m\u001b[0mLpProblem\u001b[0m\u001b[0;34m(\u001b[0m\u001b[0;34m\"Maximize_Sites\"\u001b[0m\u001b[0;34m,\u001b[0m \u001b[0mpulp\u001b[0m\u001b[0;34m.\u001b[0m\u001b[0mLpMaximize\u001b[0m\u001b[0;34m)\u001b[0m\u001b[0;34m\u001b[0m\u001b[0;34m\u001b[0m\u001b[0m\n\u001b[0m\u001b[1;32m      4\u001b[0m \u001b[0;34m\u001b[0m\u001b[0m\n\u001b[1;32m      5\u001b[0m     \u001b[0;31m# Create decision variables\u001b[0m\u001b[0;34m\u001b[0m\u001b[0;34m\u001b[0m\u001b[0;34m\u001b[0m\u001b[0m\n",
      "\u001b[0;31mNameError\u001b[0m: name 'pulp' is not defined"
     ]
    }
   ],
   "source": [
    "def optimize_visit(budget):\n",
    "    # Create a linear programming problem\n",
    "    problem = pulp.LpProblem(\"Maximize_Sites\", pulp.LpMaximize)\n",
    "\n",
    "    # Create decision variables\n",
    "    decision_vars = {site: pulp.LpVariable(f'visit_{site}', cat='Binary') for site in sites}\n",
    "\n",
    "    # Objective Function: Maximize the number of sites visited\n",
    "    problem += pulp.lpSum(decision_vars[site] for site in sites)\n",
    "\n",
    "    # Constraints\n",
    "    # Time constraint\n",
    "    problem += pulp.lpSum(decision_vars[site] * sites[site]['duration'] for site in sites) <= max_duration\n",
    "\n",
    "    # Budget constraint\n",
    "    problem += pulp.lpSum(decision_vars[site] * sites[site]['cost'] for site in sites) <= budget\n",
    "\n",
    "    # Solve the problem\n",
    "    problem.solve()\n",
    "\n",
    "    # Output the results\n",
    "    if pulp.LpStatus[problem.status] == 'Optimal':\n",
    "        print(f\"Optimal solution found for budget {budget}€:\")\n",
    "        for site in sites:\n",
    "            if pulp.value(decision_vars[site]) == 1:\n",
    "                print(f\"Visit {site}\")\n",
    "        print(\"\\n\")\n",
    "    else:\n",
    "        print(f\"No optimal solution found for budget {budget}€.\\n\")\n",
    "\n",
    "# Run optimization for each budget scenario\n",
    "for budget in budgets:\n",
    "    optimize_visit(budget)"
   ]
  },
  {
   "cell_type": "code",
   "execution_count": null,
   "id": "2fd752a4-4d58-4026-b7f5-f3c8d71412c1",
   "metadata": {},
   "outputs": [],
   "source": []
  }
 ],
 "metadata": {
  "kernelspec": {
   "display_name": "Python 3",
   "language": "python",
   "name": "python3"
  },
  "language_info": {
   "codemirror_mode": {
    "name": "ipython",
    "version": 3
   },
   "file_extension": ".py",
   "mimetype": "text/x-python",
   "name": "python",
   "nbconvert_exporter": "python",
   "pygments_lexer": "ipython3",
   "version": "3.8.8"
  }
 },
 "nbformat": 4,
 "nbformat_minor": 5
}
