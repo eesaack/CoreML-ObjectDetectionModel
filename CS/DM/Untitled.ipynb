{
 "cells": [
  {
   "cell_type": "markdown",
   "id": "d8bf5fae-637a-4ded-83dc-dfb99ba74bd0",
   "metadata": {},
   "source": [
    "### Task 1:\n",
    "- (a) Which list(s) of places could you recommend to him? This solution will be called ListVisit 1.\n",
    "- (b) Which list(s) of places could you recommend to him if Doe’s budget is now 65 e, the maximum duration still being 14\n",
    "hours ?\n",
    "- (c) Which list(s) of places could you recommend to him if Doe’s budget is now 90 eand the maximum duration being 10 hours?"
   ]
  },
  {
   "cell_type": "code",
   "execution_count": 10,
   "id": "7168c4c3-b1e2-497e-87d0-f196007e6e46",
   "metadata": {},
   "outputs": [
    {
     "name": "stdout",
     "output_type": "stream",
     "text": [
      "ListVisit1: ['AT', 'JT', 'CA', 'CN', 'BS', 'SC', 'PC', 'TM', 'AC'], Total Duration: 14.25, Total Cost: 58.0\n",
      "ListVisit2: ['AT', 'JT', 'CA', 'CN', 'BS', 'SC', 'PC', 'TM', 'AC'], Total Duration: 14.25, Total Cost: 58.0\n",
      "ListVisit3: ['AT', 'JT', 'CN', 'BS', 'SC', 'PC', 'AC'], Total Duration: 10.25, Total Cost: 36.0\n"
     ]
    }
   ],
   "source": [
    "import numpy as np\n",
    "from scipy.optimize import linprog\n",
    "\n",
    "# Sites and their attributes\n",
    "sites = ['TE', 'ML', 'AT', 'MO', 'JT', 'CA', 'CP', 'CN', 'BS', 'SC', 'PC', 'TM', 'AC']\n",
    "durations = np.array([9/2, 3, 1, 2, 3/2, 2, 5/2, 2, 2, 3/2, 3/4, 2, 3/2])  # in hours\n",
    "prices = np.array([16.5, 14, 10.5, 11, 0, 10, 10, 7, 10, 8.5, 0, 12, 0])  # in euros\n",
    "distances = np.array([\n",
    "    [0, 3.8, 2.1, 2.4, 3.5, 4.2, 5.0, 4.4, 5.5, 4.2, 2.5, 3.1, 1.9],\n",
    "    [3.8, 0, 3.8, 1.1, 1.3, 3.3, 1.3, 1.1, 3.4, 0.8, 1.7, 2.5, 2.8],\n",
    "    [2.1, 3.8, 0, 3.1, 3.0, 5.8, 4.8, 4.9, 4.3, 4.6, 2.2, 4.4, 1.0],\n",
    "    [2.4, 1.1, 3.1, 0, 0.9, 3.1, 2.5, 2.0, 3.9, 1.8, 1.0, 2.3, 2.1],\n",
    "    [3.5, 1.3, 3.0, 0.9, 0, 4.2, 2.0, 2.4, 2.7, 2.0, 1.0, 3.4, 2.1],\n",
    "    [4.2, 3.3, 5.8, 3.1, 4.2, 0, 2.0, 2.7, 2.7, 2.0, 1.0, 3.4, 2.1],\n",
    "    [5.0, 1.3, 4.8, 2.5, 2.0, 2.0, 0, 2.5, 6.5, 2.6, 3.8, 1.3, 4.9],\n",
    "    [4.4, 1.1, 4.9, 2.0, 2.4, 2.7, 2.5, 0, 3.7, 0.9, 2.7, 3.4, 3.8],\n",
    "    [5.5, 3.4, 4.3, 3.9, 2.7, 2.7, 6.5, 3.7, 0, 4.5, 0.4, 2.7, 3.9],\n",
    "    [4.2, 0.8, 4.6, 1.8, 2.0, 2.0, 2.6, 0.9, 4.5, 0, 2.8, 2.7, 3.8],\n",
    "    [2.5, 1.7, 2.2, 1.0, 1.0, 1.0, 3.8, 2.7, 0.4, 2.8, 0, 3.0, 1.2],\n",
    "    [3.1, 2.5, 4.4, 2.3, 3.4, 3.4, 1.3, 3.4, 2.7, 2.7, 3.0, 0, 3.6],\n",
    "    [1.9, 2.8, 1.0, 2.1, 2.1, 2.1, 4.9, 3.8, 3.9, 3.8, 1.2, 3.6, 0]\n",
    "])\n",
    "\n",
    "# Average walking speed is about 5 km/h; converting distances to walking time in hours\n",
    "walking_speed = 5\n",
    "travel_time = np.array(distances) / walking_speed\n",
    "total_durations = durations + np.min(travel_time + travel_time.T, axis=0) * 2\n",
    "\n",
    "# Constraints for each scenario\n",
    "constraints = {\n",
    "    \"ListVisit1\": {\"budget\": 75, \"duration\": 14},\n",
    "    \"ListVisit2\": {\"budget\": 65, \"duration\": 14},\n",
    "    \"ListVisit3\": {\"budget\": 90, \"duration\": 10}\n",
    "}\n",
    "\n",
    "results = {}\n",
    "\n",
    "# Solving each case using linear programming\n",
    "for name, constraint in constraints.items():\n",
    "    c = -np.ones(len(sites))  # Objective function to maximize number of sites visited\n",
    "    A = [total_durations, prices]  # Constraints: total duration including travel, and cost\n",
    "    b = [constraint[\"duration\"], constraint[\"budget\"]]  # Bounds from each scenario's constraints\n",
    "\n",
    "    result = linprog(c, A_ub=A, b_ub=b, bounds=[(0, 1) for _ in sites], method='highs')\n",
    "    visited_sites = np.where(result.x > 0.5)[0]  # Sites where x_i > 0.5 are considered visited\n",
    "    selected_sites = [sites[i] for i in visited_sites]\n",
    "    total_duration = np.sum(durations[visited_sites])\n",
    "    total_cost = np.sum(prices[visited_sites])\n",
    "\n",
    "    results[name] = (selected_sites, total_duration, total_cost)\n",
    "\n",
    "# Display the results for each scenario\n",
    "for scenario, (sites_list, duration, cost) in results.items():\n",
    "    print(f\"{scenario}: {sites_list}, Total Duration: {duration}, Total Cost: {cost}\")"
   ]
  },
  {
   "cell_type": "markdown",
   "id": "726469ba-273f-4d5f-a9bf-c26a61a5d19b",
   "metadata": {},
   "source": [
    "<b>Observations:</b>\n",
    "- In ListVisit 1 and ListVisit 2, both with a time constraint of 14 hours, we see a consistent selection of sites, maximizing the number of visits within the budget 75 and 65 euros.\n",
    "- ListVisit 3, despite having only 10 hours includes high-value sites, making full use of a larger budget but the total budget resulted 36 euros. This shows the algorithm's flexibility in adapting to varying budget and time constraints while still optimizing the visits."
   ]
  },
  {
   "cell_type": "markdown",
   "id": "a66b57c4-a371-42cf-911e-f3cbd46331e6",
   "metadata": {},
   "source": [
    "### Task 2 (a)\n",
    "- (a) For each of the five preferences above, suggest to Mr. Doe, one or more lists of tourist sites to visit. Are the obtained lists\n",
    "different from the solution ListVisit1?"
   ]
  },
  {
   "cell_type": "code",
   "execution_count": 16,
   "id": "bd6276cb-4144-4871-a633-885a95de9c9a",
   "metadata": {},
   "outputs": [
    {
     "ename": "TypeError",
     "evalue": "solve_lp() missing 2 required positional arguments: 'c' and 'bounds'",
     "output_type": "error",
     "traceback": [
      "\u001b[0;31m---------------------------------------------------------------------------\u001b[0m",
      "\u001b[0;31mTypeError\u001b[0m                                 Traceback (most recent call last)",
      "\u001b[0;32m<ipython-input-16-faa49a0e4992>\u001b[0m in \u001b[0;36m<module>\u001b[0;34m\u001b[0m\n\u001b[1;32m     52\u001b[0m         \u001b[0mb_mod\u001b[0m \u001b[0;34m=\u001b[0m \u001b[0mnp\u001b[0m\u001b[0;34m.\u001b[0m\u001b[0mappend\u001b[0m\u001b[0;34m(\u001b[0m\u001b[0mb_mod\u001b[0m\u001b[0;34m,\u001b[0m \u001b[0mlen\u001b[0m\u001b[0;34m(\u001b[0m\u001b[0mindices\u001b[0m\u001b[0;34m)\u001b[0m \u001b[0;32mif\u001b[0m \u001b[0mpref\u001b[0m \u001b[0;34m!=\u001b[0m \u001b[0;34m\"Preference 5\"\u001b[0m \u001b[0;32melse\u001b[0m \u001b[0;36m0\u001b[0m\u001b[0;34m)\u001b[0m\u001b[0;34m\u001b[0m\u001b[0;34m\u001b[0m\u001b[0m\n\u001b[1;32m     53\u001b[0m \u001b[0;34m\u001b[0m\u001b[0m\n\u001b[0;32m---> 54\u001b[0;31m     \u001b[0mresults\u001b[0m\u001b[0;34m[\u001b[0m\u001b[0mpref\u001b[0m\u001b[0;34m]\u001b[0m \u001b[0;34m=\u001b[0m \u001b[0msolve_lp\u001b[0m\u001b[0;34m(\u001b[0m\u001b[0mA_mod\u001b[0m\u001b[0;34m,\u001b[0m \u001b[0mb_mod\u001b[0m\u001b[0;34m)\u001b[0m\u001b[0;34m\u001b[0m\u001b[0;34m\u001b[0m\u001b[0m\n\u001b[0m\u001b[1;32m     55\u001b[0m \u001b[0;34m\u001b[0m\u001b[0m\n\u001b[1;32m     56\u001b[0m \u001b[0;31m# Function to compare lists\u001b[0m\u001b[0;34m\u001b[0m\u001b[0;34m\u001b[0m\u001b[0;34m\u001b[0m\u001b[0m\n",
      "\u001b[0;31mTypeError\u001b[0m: solve_lp() missing 2 required positional arguments: 'c' and 'bounds'"
     ]
    }
   ],
   "source": [
    "import numpy as np\n",
    "from scipy.optimize import linprog\n",
    "\n",
    "# Assuming these variables are defined: sites, durations, prices, c, bounds\n",
    "# Proximity pairs (hypothetical, should be based on actual data)\n",
    "proximity_pairs = [('ML', 'MO'), ('TE', 'AC'), ('BS', 'SC')]\n",
    "\n",
    "# Define additional constraints for each preference\n",
    "def get_indices(site_list):\n",
    "    return [sites.index(site) for site in site_list if site in sites]\n",
    "\n",
    "preferences = {\n",
    "    \"Preference 1\": [pair for pair in proximity_pairs if all(site in sites for site in pair)],\n",
    "    \"Preference 2\": get_indices([\"TE\", \"CA\"]),\n",
    "    \"Preference 3\": get_indices([\"AC\", \"SC\"]),\n",
    "    \"Preference 4\": get_indices([\"AT\"]),\n",
    "    \"Preference 5\": get_indices([\"ML\", \"MO\"])\n",
    "}\n",
    "\n",
    "# Initial constraints\n",
    "A = np.array([durations, prices])\n",
    "b = [14, 75]  # Constraints on total duration and price\n",
    "\n",
    "results = {}\n",
    "\n",
    "# Solve the problem for each preference\n",
    "for pref, indices in preferences.items():\n",
    "    A_mod = np.vstack([A])\n",
    "    b_mod = np.array(b)\n",
    "    \n",
    "    if pref == \"Preference 1\":\n",
    "        for (site1, site2) in indices:\n",
    "            # Add constraints that enforce both sites are either visited or not\n",
    "            index1, index2 = sites.index(site1), sites.index(site2)\n",
    "            constraint = np.zeros(len(sites))\n",
    "            constraint[index1] = 1\n",
    "            constraint[index2] = 1\n",
    "            A_mod = np.vstack([A_mod, constraint])\n",
    "            b_mod = np.append(b_mod, 2)  # Both or none\n",
    "    elif pref == \"Preference 3\":\n",
    "        # Exclusive condition\n",
    "        constraint = np.zeros(len(sites))\n",
    "        constraint[indices[0]] = 1   # AC\n",
    "        constraint[indices[1]] = -1  # SC\n",
    "        A_mod = np.vstack([A_mod, constraint])\n",
    "        b_mod = np.append(b_mod, 0)\n",
    "    else:\n",
    "        # Mandatory and dependency conditions\n",
    "        constraint = np.zeros(len(sites))\n",
    "        constraint[indices] = 1\n",
    "        A_mod = np.vstack([A_mod, constraint])\n",
    "        b_mod = np.append(b_mod, len(indices) if pref != \"Preference 5\" else 0)\n",
    "    \n",
    "    results[pref] = solve_lp(A_mod, b_mod)\n",
    "\n",
    "# Function to compare lists\n",
    "def compare_lists(list1, list2):\n",
    "    return set(list1) == set(list2)\n",
    "\n",
    "# ListVisit1 for comparison\n",
    "list_visit1 = ['AT', 'JT', 'CA', 'CN', 'BS', 'SC', 'PC', 'TM', 'AC']\n",
    "\n",
    "# Compare each result with ListVisit1\n",
    "comparisons = {pref: compare_lists(list_visit1, results[pref]) for pref in preferences}\n",
    "\n",
    "# Output the results and comparisons\n",
    "for pref, is_identical in comparisons.items():\n",
    "    print(f\"{pref} comparison with ListVisit1: {'Identical' if is_identical else 'Different'}\")\n",
    "    print(f\"Visits for {pref}: {results[pref]}\")"
   ]
  },
  {
   "cell_type": "code",
   "execution_count": null,
   "id": "1bef172b-bc76-4b48-ae38-2e016c0a7d40",
   "metadata": {},
   "outputs": [],
   "source": []
  }
 ],
 "metadata": {
  "kernelspec": {
   "display_name": "Python 3",
   "language": "python",
   "name": "python3"
  },
  "language_info": {
   "codemirror_mode": {
    "name": "ipython",
    "version": 3
   },
   "file_extension": ".py",
   "mimetype": "text/x-python",
   "name": "python",
   "nbconvert_exporter": "python",
   "pygments_lexer": "ipython3",
   "version": "3.8.8"
  }
 },
 "nbformat": 4,
 "nbformat_minor": 5
}
