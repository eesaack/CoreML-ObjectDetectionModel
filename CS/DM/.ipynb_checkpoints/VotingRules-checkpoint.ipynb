{
 "cells": [
  {
   "cell_type": "markdown",
   "id": "10d72692",
   "metadata": {},
   "source": [
    "### <center> VOTING RULES IN PYTHON </center>\n",
    "#### <center> MASTER BDMA - DECISION MODELING </center>\n",
    "##### <center> Authors: Dilbar Isakova, MD Kamrul Islam </center>\n",
    "##### <center> Professor: Brice Mayag </center>\n",
    "###### <center> CentraleSupeléc, Fall, 2024 </center>"
   ]
  },
  {
   "cell_type": "markdown",
   "id": "06afcf83",
   "metadata": {},
   "source": [
    "## Problem Statement\n",
    "\n",
    "Let us consider an election with *n* voters (0 ≤ n ≤ 200) and *m* candidates (0 ≤ m ≤ 20). We assume that:\n",
    "\n",
    "- The preferences of each voter are given as a linear order (total order) on the set of candidates.\n",
    "- All the preferences (of the *n* voters) are contained in an Excel file or a csv file.\n",
    "\n",
    "This work aims at computing in python language the voting rules introduced in Chapter 2. You can use the examples of this chapter to test your functionalities, especially the following example where we have *m = 4* candidates {a, b, c, d} and *n = 27* voters:\n",
    "\n",
    "| Number of Voters | Preference Order           |\n",
    "|------------------|----------------------------|\n",
    "| 5 voters         | a > b > c > d              |\n",
    "| 4 voters         | a > c > b > d              |\n",
    "| 2 voters         | d > b > a > c              |\n",
    "| 6 voters         | d > b > c > a              |\n",
    "| 8 voters         | c > b > a > d              |\n",
    "| 2 voters         | d > c > b > a              |\n",
    "\n",
    "For the questions 2, 3, 4, and 5, you will have to manage yourself any possible ties among the winners.\n"
   ]
  },
  {
   "cell_type": "markdown",
   "id": "f8667c3c",
   "metadata": {},
   "source": [
    "#### Generate the data in csv format and read it for further analysis "
   ]
  },
  {
   "cell_type": "code",
   "execution_count": 6,
   "id": "711c4fd9",
   "metadata": {},
   "outputs": [],
   "source": [
    "import csv\n",
    "from collections import Counter\n",
    "\n",
    "def generate_voting_csv(file_path):\n",
    "    voting_data = [\n",
    "        (5, ['a', 'b', 'c', 'd']),\n",
    "        (4, ['a', 'c', 'b', 'd']),\n",
    "        (2, ['d', 'b', 'a', 'c']),\n",
    "        (6, ['d', 'b', 'c', 'a']),\n",
    "        (8, ['c', 'b', 'a', 'd']),\n",
    "        (2, ['d', 'c', 'b', 'a'])\n",
    "    ]\n",
    "    \n",
    "    with open(file_path, mode='w', newline='') as file:\n",
    "        csv_writer = csv.writer(file)\n",
    "\n",
    "        csv_writer.writerow(['Voter Count', '1st Choice', '2nd Choice', '3rd Choice', '4th Choice'])\n",
    "\n",
    "        for num_voters, preference in voting_data:\n",
    "            csv_writer.writerow([num_voters] + preference)\n",
    "\n",
    "\n",
    "file_path = 'voter_preferences.csv'\n",
    "generate_optimized_voting_csv(file_path)\n",
    "\n",
    "\n",
    "def read_voting_data(file_path):\n",
    "    voting_data = []\n",
    "    \n",
    "    with open(file_path, mode='r') as file:\n",
    "        csv_reader = csv.reader(file)\n",
    "        next(csv_reader)\n",
    "        for row in csv_reader:\n",
    "            if row:\n",
    "                num_voters = int(row[0])\n",
    "                preferences = row[1:]\n",
    "                voting_data.append((num_voters, preferences))\n",
    "    \n",
    "    return voting_data"
   ]
  },
  {
   "cell_type": "markdown",
   "id": "3be7a1f2",
   "metadata": {},
   "source": [
    "### Question 01\n",
    "1. Compute a function Plurality returning the result of a plurality voting."
   ]
  },
  {
   "cell_type": "code",
   "execution_count": 8,
   "id": "f8618631",
   "metadata": {},
   "outputs": [
    {
     "name": "stdout",
     "output_type": "stream",
     "text": [
      "Winner of the election (Plurality): d\n",
      "Vote Tally:\n",
      "a: 9 votes\n",
      "d: 10 votes\n",
      "c: 8 votes\n"
     ]
    }
   ],
   "source": [
    "def plurality_voting(file_path):\n",
    "    \"\"\"\n",
    "    Implements the plurality voting rule using the voting data format.\n",
    "    The candidate with the most first-choice votes is the winner.\n",
    "    \"\"\"\n",
    "    voting_data = read_voting_data(file_path)\n",
    "    \n",
    "    first_choice_votes = Counter()\n",
    "    for num_voters, preferences in voting_data:\n",
    "        first_choice = preferences[0] \n",
    "        first_choice_votes[first_choice] += num_voters\n",
    "    \n",
    "    winner = max(first_choice_votes, key=first_choice_votes.get)\n",
    "    \n",
    "    return winner, dict(first_choice_votes)\n",
    "\n",
    "winner, vote_count = plurality_voting(file_path)\n",
    "\n",
    "print(f\"Winner of the election (Plurality): {winner}\")\n",
    "print(\"Vote Tally:\")\n",
    "for candidate, votes in vote_count.items():\n",
    "    print(f\"{candidate}: {votes} votes\")"
   ]
  },
  {
   "cell_type": "markdown",
   "id": "a8b20a0a",
   "metadata": {},
   "source": [
    "### Question 02\n",
    "2. Compute a function PluralityRunoff returning the result of a plurality Runoff voting (plurality with two\n",
    "rounds)."
   ]
  },
  {
   "cell_type": "code",
   "execution_count": 12,
   "id": "ea0e7b2c",
   "metadata": {},
   "outputs": [
    {
     "name": "stdout",
     "output_type": "stream",
     "text": [
      "Winner of the election (Plurality Runoff): a\n",
      "First Round Vote Tally:\n",
      "a: 9 votes\n",
      "d: 10 votes\n",
      "c: 8 votes\n",
      "\n",
      "Runoff Round Vote Tally:\n",
      "d: 10 votes\n",
      "a: 17 votes\n"
     ]
    }
   ],
   "source": [
    "def plurality_runoff_voting(file_path):\n",
    "    \"\"\"\n",
    "    Implements the plurality runoff voting rule using the optimized voting data format.\n",
    "    The candidate with the most first-choice votes wins if they get more than 50% of the votes in the first round.\n",
    "    If no candidate has more than 50%, a runoff is held between the top two candidates.\n",
    "    \"\"\"\n",
    "    voting_data = read_voting_data(file_path)\n",
    "\n",
    "    first_choice_votes = Counter()\n",
    "    total_votes = 0\n",
    "    \n",
    "    # Tally the first-choice votes based on the number of voters and their preferences\n",
    "    for num_voters, preferences in voting_data:\n",
    "        first_choice = preferences[0]\n",
    "        first_choice_votes[first_choice] += num_voters\n",
    "        total_votes += num_voters\n",
    "    \n",
    "    # Check if any candidate has more than 50% of the total votes in the first round\n",
    "    for candidate, votes in first_choice_votes.items():\n",
    "        if votes > total_votes / 2:\n",
    "            return candidate, dict(first_choice_votes),\n",
    "    \n",
    "    # If no one wins in the first round, we proceed to a runoff between the top two candidates\n",
    "    top_two_candidates = first_choice_votes.most_common(2)\n",
    "    candidate_1, candidate_2 = top_two_candidates[0][0], top_two_candidates[1][0]\n",
    "    \n",
    "    runoff_votes = {candidate_1: 0, candidate_2: 0}\n",
    "    \n",
    "    # Count votes for the top two candidates in the second round based on preferences\n",
    "    for num_voters, preferences in voting_data:\n",
    "        if preferences[0] == candidate_1 or preferences[0] == candidate_2:\n",
    "            # If the first choice is one of the top two candidates, keep it\n",
    "            runoff_votes[preferences[0]] += num_voters\n",
    "        else:\n",
    "            # If the first choice is not in the top two, use the highest-ranked candidate from the two\n",
    "            for preference in preferences:\n",
    "                if preference == candidate_1 or preference == candidate_2:\n",
    "                    runoff_votes[preference] += num_voters\n",
    "                    break\n",
    "    \n",
    "    runoff_winner = max(runoff_votes, key=runoff_votes.get)\n",
    "    \n",
    "    return runoff_winner, dict(first_choice_votes), dict(runoff_votes)\n",
    "\n",
    "\n",
    "runoff_winner, first_round_results, second_round_results = plurality_runoff_voting(file_path)\n",
    "\n",
    "print(f\"Winner of the election (Plurality Runoff): {runoff_winner}\")\n",
    "print(\"First Round Vote Tally:\")\n",
    "for candidate, votes in first_round_results.items():\n",
    "    print(f\"{candidate}: {votes} votes\")\n",
    "\n",
    "if second_round_results:\n",
    "    print(\"\\nRunoff Round Vote Tally:\")\n",
    "    for candidate, votes in second_round_results.items():\n",
    "        print(f\"{candidate}: {votes} votes\")\n"
   ]
  },
  {
   "cell_type": "markdown",
   "id": "a7237633",
   "metadata": {},
   "source": [
    "### Question 03\n",
    "3. Compute a function CondorcetVoting returning the result of the application of the Condorcet principle (the existence of the Condorcet winner)."
   ]
  },
  {
   "cell_type": "code",
   "execution_count": 13,
   "id": "af29e5ef",
   "metadata": {},
   "outputs": [
    {
     "name": "stdout",
     "output_type": "stream",
     "text": [
      "Condorcet Winner: c\n",
      "\n",
      "Pairwise Comparison Results:\n",
      "c vs b: 14 votes\n",
      "c vs d: 17 votes\n",
      "c vs a: 16 votes\n",
      "b vs c: 13 votes\n",
      "b vs d: 17 votes\n",
      "b vs a: 18 votes\n",
      "d vs c: 10 votes\n",
      "d vs b: 10 votes\n",
      "d vs a: 10 votes\n",
      "a vs c: 11 votes\n",
      "a vs b: 9 votes\n",
      "a vs d: 17 votes\n"
     ]
    }
   ],
   "source": [
    "def condorcet_voting(file_path):\n",
    "    \"\"\"\n",
    "    Implements the Condorcet voting rule using the optimized voting data format.\n",
    "    A Condorcet winner is a candidate who wins against every other candidate in pairwise comparisons.\n",
    "    \"\"\"\n",
    "    voting_data = read_voting_data(file_path)\n",
    "    \n",
    "    # Get the list of all candidates\n",
    "    all_candidates = set()\n",
    "    for _, preferences in voting_data:\n",
    "        all_candidates.update(preferences)\n",
    "    \n",
    "    all_candidates = list(all_candidates)\n",
    "    \n",
    "    # Initialize pairwise comparison matrix\n",
    "    pairwise_comparisons = {candidate: {other: 0 for other in all_candidates if other != candidate} for candidate in all_candidates}\n",
    "    \n",
    "    # Conduct pairwise comparisons\n",
    "    for num_voters, preferences in voting_data:\n",
    "        for i, candidate in enumerate(preferences):\n",
    "            for other in preferences[i + 1:]:\n",
    "                pairwise_comparisons[candidate][other] += num_voters\n",
    "    \n",
    "    # Check if there is a Condorcet winner\n",
    "    condorcet_winner = None\n",
    "    for candidate in all_candidates:\n",
    "        is_winner = True\n",
    "        for other in all_candidates:\n",
    "            if candidate != other and pairwise_comparisons[candidate][other] <= pairwise_comparisons[other][candidate]:\n",
    "                is_winner = False\n",
    "                break\n",
    "        if is_winner:\n",
    "            condorcet_winner = candidate\n",
    "            break\n",
    "    \n",
    "    return condorcet_winner, pairwise_comparisons\n",
    "\n",
    "\n",
    "condorcet_winner, pairwise_results = condorcet_voting(file_path)\n",
    "\n",
    "if condorcet_winner:\n",
    "    print(f\"Condorcet Winner: {condorcet_winner}\")\n",
    "else:\n",
    "    print(\"No Condorcet Winner\")\n",
    "\n",
    "print(\"\\nPairwise Comparison Results:\")\n",
    "for candidate, comparisons in pairwise_results.items():\n",
    "    for other, votes in comparisons.items():\n",
    "        print(f\"{candidate} vs {other}: {votes} votes\")"
   ]
  },
  {
   "cell_type": "markdown",
   "id": "24e6cae9",
   "metadata": {},
   "source": [
    "### Question 04\n",
    "4. Compute a function BordaVoting returning the result of the application of the Borda principle."
   ]
  },
  {
   "cell_type": "code",
   "execution_count": 16,
   "id": "c81f69b0",
   "metadata": {},
   "outputs": [
    {
     "name": "stdout",
     "output_type": "stream",
     "text": [
      "Winner of the election (Borda Voting): b\n",
      "Borda Scores:\n",
      "c: 47 points\n",
      "b: 48 points\n",
      "d: 30 points\n",
      "a: 37 points\n"
     ]
    }
   ],
   "source": [
    "def borda_voting(file_path):\n",
    "    \"\"\"\n",
    "    Implements the Borda voting rule using the optimized voting data format.\n",
    "    Each candidate is assigned points based on their rank in each voter's preference. \n",
    "    The candidate with the highest total score is the winner.\n",
    "    \"\"\"\n",
    "    \n",
    "    voting_data = read_voting_data(file_path)\n",
    "    \n",
    "    # Get the list of all candidates\n",
    "    all_candidates = set()\n",
    "    for _, preferences in voting_data:\n",
    "        all_candidates.update(preferences)\n",
    "    \n",
    "    all_candidates = list(all_candidates)\n",
    "    \n",
    "    # Initialize Borda scores for each candidate\n",
    "    borda_scores = {candidate: 0 for candidate in all_candidates}\n",
    "    \n",
    "    # Assign points based on rank\n",
    "    num_candidates = len(all_candidates)\n",
    "    \n",
    "    for num_voters, preferences in voting_data:\n",
    "        for i, candidate in enumerate(preferences):\n",
    "            # Assign points inversely proportional to the rank (n-1 points for first, n-2 for second, ..., 0 for last)\n",
    "            borda_scores[candidate] += num_voters * (num_candidates - 1 - i)\n",
    "    \n",
    "    # Find the candidate with the highest Borda score\n",
    "    winner = max(borda_scores, key=borda_scores.get)\n",
    "    \n",
    "    return winner, borda_scores\n",
    "\n",
    "\n",
    "borda_winner, borda_scores = borda_voting(file_path)\n",
    "\n",
    "print(f\"Winner of the election (Borda Voting): {borda_winner}\")\n",
    "print(\"Borda Scores:\")\n",
    "for candidate, score in borda_scores.items():\n",
    "    print(f\"{candidate}: {score} points\")"
   ]
  },
  {
   "cell_type": "code",
   "execution_count": null,
   "id": "4a57806e",
   "metadata": {},
   "outputs": [],
   "source": []
  }
 ],
 "metadata": {
  "kernelspec": {
   "display_name": "Python 3 (ipykernel)",
   "language": "python",
   "name": "python3"
  },
  "language_info": {
   "codemirror_mode": {
    "name": "ipython",
    "version": 3
   },
   "file_extension": ".py",
   "mimetype": "text/x-python",
   "name": "python",
   "nbconvert_exporter": "python",
   "pygments_lexer": "ipython3",
   "version": "3.11.5"
  }
 },
 "nbformat": 4,
 "nbformat_minor": 5
}
