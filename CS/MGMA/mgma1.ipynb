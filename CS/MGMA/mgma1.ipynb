{
 "cells": [
  {
   "cell_type": "code",
   "execution_count": 1,
   "id": "c6862334-b8c8-4b83-99cd-35c1562feaf5",
   "metadata": {},
   "outputs": [],
   "source": [
    "import numpy as np\n",
    "from scipy.linalg import eig, inv, det"
   ]
  },
  {
   "cell_type": "code",
   "execution_count": 2,
   "id": "1f30d38f-ceac-408e-907c-baad5412614c",
   "metadata": {},
   "outputs": [
    {
     "name": "stdout",
     "output_type": "stream",
     "text": [
      "Determinant:\n",
      "36.0 \n",
      "\n",
      "Trace:\n",
      "11 \n",
      "\n",
      "Rank:\n",
      "3 \n",
      "\n",
      "Is Symmetric:\n",
      "True \n",
      "\n",
      "Inverse:\n",
      "[[ 0.33333333  0.         -0.16666667]\n",
      " [ 0.          0.33333333 -0.        ]\n",
      " [-0.16666667  0.          0.33333333]] \n",
      "\n",
      "Eigenvalues:\n",
      "[6.+0.j 2.+0.j 3.+0.j] \n",
      "\n",
      "Eigenvectors:\n",
      "[[ 0.70710678 -0.70710678  0.        ]\n",
      " [ 0.          0.          1.        ]\n",
      " [ 0.70710678  0.70710678  0.        ]] \n",
      "\n"
     ]
    }
   ],
   "source": [
    "def matrix_properties(matrix):\n",
    "    properties = {}\n",
    "    properties['Determinant'] = det(matrix)\n",
    "    properties['Trace'] = np.trace(matrix)\n",
    "    properties['Rank'] = np.linalg.matrix_rank(matrix)\n",
    "    properties['Is Symmetric'] = np.allclose(matrix, matrix.T)\n",
    "    \n",
    "    try:\n",
    "        properties['Inverse'] = inv(matrix)\n",
    "    except np.linalg.LinAlgError:\n",
    "        properties['Inverse'] = \"Non-invertible matrix\"\n",
    "\n",
    "    eigenvalues, eigenvectors = eig(matrix)\n",
    "    properties['Eigenvalues'] = eigenvalues\n",
    "    properties['Eigenvectors'] = eigenvectors\n",
    "    \n",
    "    return properties\n",
    "\n",
    "# Example matrix\n",
    "matrix = np.array([\n",
    "    [4, 0, 2],\n",
    "    [0, 3, 0],\n",
    "    [2, 0, 4]\n",
    "])\n",
    "\n",
    "# Get matrix properties\n",
    "props = matrix_properties(matrix)\n",
    "\n",
    "# Print the properties\n",
    "for prop, value in props.items():\n",
    "    print(f\"{prop}:\")\n",
    "    print(value, \"\\n\")"
   ]
  },
  {
   "cell_type": "markdown",
   "id": "adff193f-35f6-469d-968d-ed8318b4762b",
   "metadata": {},
   "source": [
    "##### Explanation:\n",
    "- Determinant and Trace: Basic properties calculated directly from the matrix.\n",
    "- Inverse: Computed if the matrix is non-singular (determinant is not zero).\n",
    "- Eigenvalues and Eigenvectors: Obtained using the eig function, which returns both.\n",
    "- Rank: The number of linearly independent rows or columns.\n",
    "- Symmetry Check: Determines if the matrix is symmetric by checking if it equals its transpose."
   ]
  },
  {
   "cell_type": "code",
   "execution_count": 3,
   "id": "86afca9f-08a5-461c-8067-0e16ba037d43",
   "metadata": {},
   "outputs": [],
   "source": [
    "import numpy as np\n",
    "from numpy.linalg import eig, det, matrix_power, norm\n",
    "from scipy.linalg import eigh"
   ]
  },
  {
   "cell_type": "markdown",
   "id": "a5639712-9de1-4957-aa12-8db17d63cf65",
   "metadata": {},
   "source": [
    "([[-1, 3/2]])\n",
    "([[1, 1]])\n",
    "\n",
    "([[-1, 3/2]])\n",
    "([[2/3, 1]])"
   ]
  },
  {
   "cell_type": "code",
   "execution_count": 4,
   "id": "d36775e4-8a6c-4afd-8f69-b6e67256e029",
   "metadata": {},
   "outputs": [
    {
     "name": "stdout",
     "output_type": "stream",
     "text": [
      "Matrix 1 determinant: -0.5\n",
      "Matrix 1 eigenvalues: [ 0.22474487 -2.22474487]\n",
      "\n",
      "Matrix 2 determinant: 0.0\n",
      "Matrix 2 eigenvalues: [-1.11022302e-16 -2.00000000e+00]\n",
      "\n",
      "Matrix 3 determinant: 1.0\n",
      "Matrix 3 eigenvalues: [1. 1. 1.]\n",
      "\n"
     ]
    }
   ],
   "source": [
    "# Question 1: Matrix properties\n",
    "matrices = [\n",
    "    np.array([[-1, 3/2], [1, -1]]),\n",
    "    np.array([[-1, 3/2], [2/3, -1]]),\n",
    "    np.eye(3)  # Identity matrix 3x3\n",
    "]\n",
    "\n",
    "# Show properties of matrices\n",
    "for i, matrix in enumerate(matrices):\n",
    "    print(f\"Matrix {i+1} determinant: {det(matrix)}\")\n",
    "    print(f\"Matrix {i+1} eigenvalues: {eig(matrix)[0]}\")\n",
    "    print()"
   ]
  },
  {
   "cell_type": "markdown",
   "id": "03eee806-9a7f-4d6b-b8db-2b4d9b84aef7",
   "metadata": {},
   "source": [
    "- first of all the matrix multiplication doesn't work becaue the dimentions of the identity matrix don't match the previous matrices."
   ]
  },
  {
   "cell_type": "code",
   "execution_count": 5,
   "id": "23584fd6-f979-4a34-9a15-6ced6820db31",
   "metadata": {},
   "outputs": [
    {
     "name": "stdout",
     "output_type": "stream",
     "text": [
      "A^n calculated: \n",
      "[[8 5]\n",
      " [5 3]]\n",
      "A^n using formula: \n",
      "[[8. 5.]\n",
      " [5. 3.]]\n"
     ]
    }
   ],
   "source": [
    "# Question 2: Show that A^n = XΛ^nX^-1\n",
    "A = np.array([[1, 1], [1, 0]])\n",
    "eigenvalues, eigenvectors = eig(A)\n",
    "Lambda = np.diag(eigenvalues)\n",
    "n = 5  # Example power\n",
    "A_n = matrix_power(A, n)\n",
    "X = eigenvectors\n",
    "X_inv = np.linalg.inv(X)\n",
    "A_n_formulated = X @ matrix_power(Lambda, n) @ X_inv\n",
    "print(f\"A^n calculated: \\n{A_n}\")\n",
    "print(f\"A^n using formula: \\n{A_n_formulated}\")"
   ]
  },
  {
   "cell_type": "code",
   "execution_count": null,
   "id": "77f6dac9-898b-43f9-ad11-f646ce64ac4d",
   "metadata": {},
   "outputs": [],
   "source": []
  }
 ],
 "metadata": {
  "kernelspec": {
   "display_name": "Python 3",
   "language": "python",
   "name": "python3"
  },
  "language_info": {
   "codemirror_mode": {
    "name": "ipython",
    "version": 3
   },
   "file_extension": ".py",
   "mimetype": "text/x-python",
   "name": "python",
   "nbconvert_exporter": "python",
   "pygments_lexer": "ipython3",
   "version": "3.8.8"
  }
 },
 "nbformat": 4,
 "nbformat_minor": 5
}
