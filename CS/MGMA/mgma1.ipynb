{
 "cells": [
  {
   "cell_type": "code",
   "execution_count": 1,
   "id": "c6862334-b8c8-4b83-99cd-35c1562feaf5",
   "metadata": {},
   "outputs": [],
   "source": [
    "import numpy as np\n",
    "from scipy.linalg import eig, inv, det"
   ]
  },
  {
   "cell_type": "code",
   "execution_count": 2,
   "id": "1f30d38f-ceac-408e-907c-baad5412614c",
   "metadata": {},
   "outputs": [
    {
     "name": "stdout",
     "output_type": "stream",
     "text": [
      "Determinant:\n",
      "36.0 \n",
      "\n",
      "Trace:\n",
      "11 \n",
      "\n",
      "Rank:\n",
      "3 \n",
      "\n",
      "Is Symmetric:\n",
      "True \n",
      "\n",
      "Inverse:\n",
      "[[ 0.33333333  0.         -0.16666667]\n",
      " [ 0.          0.33333333 -0.        ]\n",
      " [-0.16666667  0.          0.33333333]] \n",
      "\n",
      "Eigenvalues:\n",
      "[6.+0.j 2.+0.j 3.+0.j] \n",
      "\n",
      "Eigenvectors:\n",
      "[[ 0.70710678 -0.70710678  0.        ]\n",
      " [ 0.          0.          1.        ]\n",
      " [ 0.70710678  0.70710678  0.        ]] \n",
      "\n"
     ]
    }
   ],
   "source": [
    "def matrix_properties(matrix):\n",
    "    properties = {}\n",
    "    properties['Determinant'] = det(matrix)\n",
    "    properties['Trace'] = np.trace(matrix)\n",
    "    properties['Rank'] = np.linalg.matrix_rank(matrix)\n",
    "    properties['Is Symmetric'] = np.allclose(matrix, matrix.T)\n",
    "    \n",
    "    try:\n",
    "        properties['Inverse'] = inv(matrix)\n",
    "    except np.linalg.LinAlgError:\n",
    "        properties['Inverse'] = \"Non-invertible matrix\"\n",
    "\n",
    "    eigenvalues, eigenvectors = eig(matrix)\n",
    "    properties['Eigenvalues'] = eigenvalues\n",
    "    properties['Eigenvectors'] = eigenvectors\n",
    "    \n",
    "    return properties\n",
    "\n",
    "# Example matrix\n",
    "matrix = np.array([\n",
    "    [4, 0, 2],\n",
    "    [0, 3, 0],\n",
    "    [2, 0, 4]\n",
    "])\n",
    "\n",
    "# Get matrix properties\n",
    "props = matrix_properties(matrix)\n",
    "\n",
    "# Print the properties\n",
    "for prop, value in props.items():\n",
    "    print(f\"{prop}:\")\n",
    "    print(value, \"\\n\")"
   ]
  },
  {
   "cell_type": "markdown",
   "id": "adff193f-35f6-469d-968d-ed8318b4762b",
   "metadata": {},
   "source": [
    "##### Explanation:\n",
    "- Determinant and Trace: Basic properties calculated directly from the matrix.\n",
    "- Inverse: Computed if the matrix is non-singular (determinant is not zero).\n",
    "- Eigenvalues and Eigenvectors: Obtained using the eig function, which returns both.\n",
    "- Rank: The number of linearly independent rows or columns.\n",
    "- Symmetry Check: Determines if the matrix is symmetric by checking if it equals its transpose."
   ]
  },
  {
   "cell_type": "code",
   "execution_count": 3,
   "id": "86afca9f-08a5-461c-8067-0e16ba037d43",
   "metadata": {},
   "outputs": [],
   "source": [
    "import numpy as np\n",
    "from numpy.linalg import eig, det, matrix_power, norm\n",
    "from scipy.linalg import eigh"
   ]
  },
  {
   "cell_type": "markdown",
   "id": "a5639712-9de1-4957-aa12-8db17d63cf65",
   "metadata": {},
   "source": [
    "([[-1, 3/2]])\n",
    "([[1, 1]])\n",
    "\n",
    "([[-1, 3/2]])\n",
    "([[2/3, 1]])"
   ]
  },
  {
   "cell_type": "code",
   "execution_count": 4,
   "id": "d36775e4-8a6c-4afd-8f69-b6e67256e029",
   "metadata": {},
   "outputs": [
    {
     "name": "stdout",
     "output_type": "stream",
     "text": [
      "Matrix 1 determinant: -0.5\n",
      "Matrix 1 eigenvalues: [ 0.22474487 -2.22474487]\n",
      "\n",
      "Matrix 2 determinant: 0.0\n",
      "Matrix 2 eigenvalues: [-1.11022302e-16 -2.00000000e+00]\n",
      "\n",
      "Matrix 3 determinant: 1.0\n",
      "Matrix 3 eigenvalues: [1. 1. 1.]\n",
      "\n"
     ]
    }
   ],
   "source": [
    "# Question 1: Matrix properties\n",
    "matrices = [\n",
    "    np.array([[-1, 3/2], [1, -1]]),\n",
    "    np.array([[-1, 3/2], [2/3, -1]]),\n",
    "    np.eye(3)  # Identity matrix 3x3\n",
    "]\n",
    "\n",
    "# Show properties of matrices\n",
    "for i, matrix in enumerate(matrices):\n",
    "    print(f\"Matrix {i+1} determinant: {det(matrix)}\")\n",
    "    print(f\"Matrix {i+1} eigenvalues: {eig(matrix)[0]}\")\n",
    "    print()"
   ]
  },
  {
   "cell_type": "markdown",
   "id": "03eee806-9a7f-4d6b-b8db-2b4d9b84aef7",
   "metadata": {},
   "source": [
    "- first of all the matrix multiplication doesn't work becaue the dimentions of the identity matrix don't match the previous matrices."
   ]
  },
  {
   "cell_type": "code",
   "execution_count": 5,
   "id": "23584fd6-f979-4a34-9a15-6ced6820db31",
   "metadata": {},
   "outputs": [
    {
     "name": "stdout",
     "output_type": "stream",
     "text": [
      "A^n calculated: \n",
      "[[8 5]\n",
      " [5 3]]\n",
      "A^n using formula: \n",
      "[[8. 5.]\n",
      " [5. 3.]]\n"
     ]
    }
   ],
   "source": [
    "# Question 2: Show that A^n = XΛ^nX^-1\n",
    "A = np.array([[1, 1], [1, 0]])\n",
    "eigenvalues, eigenvectors = eig(A)\n",
    "Lambda = np.diag(eigenvalues)\n",
    "n = 5  # Example power\n",
    "A_n = matrix_power(A, n)\n",
    "X = eigenvectors\n",
    "X_inv = np.linalg.inv(X)\n",
    "A_n_formulated = X @ matrix_power(Lambda, n) @ X_inv\n",
    "print(f\"A^n calculated: \\n{A_n}\")\n",
    "print(f\"A^n using formula: \\n{A_n_formulated}\")"
   ]
  },
  {
   "cell_type": "markdown",
   "id": "eeed426e-ea00-4d9c-8e3a-600bd05b5e4a",
   "metadata": {},
   "source": [
    "# <center> **First Mini Project - Preliminaries </center>**\n",
    "\n",
    "### <center>Massive Graph Management and Analytics </center>\n",
    "\n",
    "---\n",
    "\n",
    "\n",
    "---\n",
    "\n",
    "##### <center>Authors: Benjamin Gold & Dilbar Isakova</center>\n",
    "##### <center>Professor: Nacera Seghuoani</center>"
   ]
  },
  {
   "cell_type": "code",
   "execution_count": 1,
   "id": "77f6dac9-898b-43f9-ad11-f646ce64ac4d",
   "metadata": {},
   "outputs": [],
   "source": [
    "import numpy as np\n",
    "import matplotlib.pyplot as plt\n",
    "from scipy.sparse import csgraph\n",
    "import networkx as nx"
   ]
  },
  {
   "cell_type": "markdown",
   "id": "447c644f-baf5-481f-9c0f-4cbdbb416418",
   "metadata": {},
   "source": [
    "### Vectors and Matrices"
   ]
  },
  {
   "cell_type": "markdown",
   "id": "b6bf42c0-230f-4ed3-a66b-cb63b41fea87",
   "metadata": {},
   "source": [
    "- Here, we are using numpy to define vectors and matrices and performing operations on them\n",
    "- Also, we can operate with them as we would do in linear algebra"
   ]
  },
  {
   "cell_type": "code",
   "execution_count": 9,
   "id": "7c075f75-1ff2-4275-b210-2e6d1532cb35",
   "metadata": {},
   "outputs": [
    {
     "data": {
      "image/png": "[encoded data removed]",
      "text/plain": [
       "<Figure size 432x288 with 1 Axes>"
      ]
     },
     "metadata": {
      "needs_background": "light"
     },
     "output_type": "display_data"
    }
   ],
   "source": [
    "vector = np.array([3, 6])\n",
    "\n",
    "# show the vector as an arrow\n",
    "plt.arrow(0, 0, vector[0], vector[1], head_width=.05, head_length=0.05, color='green')\n",
    "plt.axis([0, 7, 0, 7])\n",
    "plt.grid()\n",
    "plt.show()"
   ]
  },
  {
   "cell_type": "code",
   "execution_count": 10,
   "id": "30cb4abb-66ae-4f04-be66-9d658a154b0d",
   "metadata": {},
   "outputs": [
    {
     "name": "stdout",
     "output_type": "stream",
     "text": [
      "[[1 4]\n",
      " [6 1]]\n"
     ]
    }
   ],
   "source": [
    "matrix = np.array([[1, 4], [6, 1]])\n",
    "print(matrix)"
   ]
  },
  {
   "cell_type": "code",
   "execution_count": 16,
   "id": "ebcc86bb-3c2e-4d71-85f5-653ccc56e5ec",
   "metadata": {},
   "outputs": [
    {
     "data": {
      "image/png": "[encoded data removed]",
      "text/plain": [
       "<Figure size 432x288 with 2 Axes>"
      ]
     },
     "metadata": {
      "needs_background": "light"
     },
     "output_type": "display_data"
    }
   ],
   "source": [
    "## vector2 = np.array([3, 1])\n",
    "\n",
    "vector_sum = vector + vector2\n",
    "vector_sub = vector - vector2\n",
    "\n",
    "plt.subplot(1, 2, 1)\n",
    "plt.arrow(0, 0, vector[0], vector[1], head_width=.05, head_length=0.05, color='red', label='vector')\n",
    "plt.arrow(0, 0, vector2[0], vector2[1], head_width=.05, head_length=0.05, color='blue', label='vector2')\n",
    "plt.arrow(0, 0, vector_sum[0], vector_sum[1], head_width=.05, head_length=0.05, color='green', label='vector_sum')\n",
    "plt.axis([0, 6, 0, 6])\n",
    "plt.grid()\n",
    "plt.legend()\n",
    "\n",
    "plt.subplot(1, 2, 2)\n",
    "plt.arrow(0, 0, vector[0], vector[1], head_width=.05, head_length=0.05, color='red', label='vector')\n",
    "plt.arrow(0, 0, vector2[0], vector2[1], head_width=.05, head_length=0.05, color='blue', label='vector2')\n",
    "plt.arrow(vector2[0], vector2[1], vector_sub[0], vector_sub[1], head_width=.05, head_length=0.05, color='green', label='vector_sub')\n",
    "plt.axis([0, 6, 0, 6])\n",
    "plt.grid()\n",
    "plt.legend()\n",
    "\n",
    "plt.show()"
   ]
  },
  {
   "cell_type": "code",
   "execution_count": 17,
   "id": "af3dfae3-38cf-45eb-a79f-4934f7d60d52",
   "metadata": {},
   "outputs": [
    {
     "name": "stdout",
     "output_type": "stream",
     "text": [
      "[[1 6]\n",
      " [4 1]]\n"
     ]
    }
   ],
   "source": [
    "transposed = matrix.T\n",
    "print(transposed)"
   ]
  },
  {
   "cell_type": "code",
   "execution_count": 18,
   "id": "d4af3585-f819-4f7f-bc97-c1fb972adcf1",
   "metadata": {},
   "outputs": [
    {
     "name": "stdout",
     "output_type": "stream",
     "text": [
      "[[25  8]\n",
      " [12 25]]\n"
     ]
    }
   ],
   "source": [
    "squared = matrix.dot(matrix)\n",
    "print(squared)"
   ]
  },
  {
   "cell_type": "markdown",
   "id": "bef0da3c-c2ca-473a-b49b-6fffd6f29c47",
   "metadata": {},
   "source": [
    "Other option"
   ]
  },
  {
   "cell_type": "code",
   "execution_count": 19,
   "id": "1036c069-ba56-43fa-b7e6-5725ba2c3a38",
   "metadata": {},
   "outputs": [
    {
     "name": "stdout",
     "output_type": "stream",
     "text": [
      "[[25  8]\n",
      " [12 25]]\n"
     ]
    }
   ],
   "source": [
    "squared = matrix @ matrix\n",
    "print(squared)"
   ]
  },
  {
   "cell_type": "code",
   "execution_count": 20,
   "id": "f85c02b5-e338-4a56-8143-2773a33a9a47",
   "metadata": {},
   "outputs": [
    {
     "name": "stdout",
     "output_type": "stream",
     "text": [
      "[[-0.04347826  0.17391304]\n",
      " [ 0.26086957 -0.04347826]]\n"
     ]
    }
   ],
   "source": [
    "inverse = np.linalg.inv(matrix)\n",
    "print(inverse)"
   ]
  },
  {
   "cell_type": "markdown",
   "id": "c535e5b4-88c8-4549-b30e-e3e36048474b",
   "metadata": {},
   "source": [
    "or matrix @ inverse, should be identity matrix"
   ]
  },
  {
   "cell_type": "code",
   "execution_count": 21,
   "id": "4102b941-5e85-4f84-83f6-1c7e7c547c74",
   "metadata": {},
   "outputs": [
    {
     "name": "stdout",
     "output_type": "stream",
     "text": [
      "[[1. 0.]\n",
      " [0. 1.]]\n"
     ]
    }
   ],
   "source": [
    "check = matrix.dot(inverse)\n",
    "\n",
    "print(check)"
   ]
  },
  {
   "cell_type": "markdown",
   "id": "1ddf5d7b-9797-4577-9b24-fbac5f21c362",
   "metadata": {},
   "source": [
    "Usually, when checking if two matrices are equal, we have to take into account that the result of the operations might not be exactly the same as the expected result due to the precision of the floating point numbers. Therefore, we have to check if the difference between the two matrices is smaller than a certain threshold."
   ]
  },
  {
   "cell_type": "code",
   "execution_count": 22,
   "id": "2c502a33-0acf-401f-bdef-d039931817f5",
   "metadata": {},
   "outputs": [
    {
     "name": "stdout",
     "output_type": "stream",
     "text": [
      "[[ True  True]\n",
      " [ True  True]]\n"
     ]
    }
   ],
   "source": [
    "# checking if check is identity matrix\n",
    "print(np.isclose(check, np.eye(2)))"
   ]
  },
  {
   "cell_type": "code",
   "execution_count": 23,
   "id": "90b24c09-e501-4f4e-b258-dc82662f5437",
   "metadata": {},
   "outputs": [
    {
     "name": "stdout",
     "output_type": "stream",
     "text": [
      "[[ True  True]\n",
      " [ True  True]]\n"
     ]
    }
   ],
   "source": [
    "# and, defining the precision\n",
    "print(np.isclose(check, np.eye(2), atol=1e-8))"
   ]
  },
  {
   "cell_type": "code",
   "execution_count": 26,
   "id": "0434a8e9-d79e-488c-8c5b-8378a6568c91",
   "metadata": {
    "scrolled": true
   },
   "outputs": [
    {
     "data": {
      "image/png": "[encoded data removed]",
      "text/plain": [
       "<Figure size 432x288 with 1 Axes>"
      ]
     },
     "metadata": {
      "needs_background": "light"
     },
     "output_type": "display_data"
    }
   ],
   "source": [
    "# vector-matrix operations\n",
    "\n",
    "transformed = matrix.dot(vector)\n",
    "\n",
    "plt.arrow(0, 0, vector[0], vector[1], head_width=.05, head_length=0.05, color='red', label='vector')\n",
    "plt.arrow(0, 0, transformed[0], transformed[1], head_width=.05, head_length=0.05, color='blue', label='transformed')\n",
    "plt.grid()\n",
    "plt.legend()\n",
    "plt.show()"
   ]
  },
  {
   "cell_type": "code",
   "execution_count": null,
   "id": "584cd543-2ec6-417b-a0fa-2c7ca4311e11",
   "metadata": {},
   "outputs": [],
   "source": [
    "#Matrix Norms\n",
    "def compute_matrix_norms(matrix):\n",
    "    frobenius_norm = np.linalg.norm(matrix, 'fro')  # Euclidean norm\n",
    "    l1_norm = np.linalg.norm(matrix, 1)  # Maximum column sum\n",
    "    inf_norm = np.linalg.norm(matrix, np.inf)  # Maximum row sum\n",
    "    l2_norm = np.linalg.norm(matrix, 2)  # Spectral norm\n",
    "\n",
    "    return {\n",
    "        'Frobenius Norm (Euclidean)': frobenius_norm,\n",
    "        'L1 Norm': l1_norm,\n",
    "        'Infinity Norm': inf_norm,\n",
    "        'L2 Norm (Spectral)': l2_norm\n",
    "    }\n",
    "\n",
    "#Matrix Transpose\n",
    "def compute_transpose(matrix):\n",
    "    return matrix.transpose()\n",
    "\n",
    "#Matrix Determinant\n",
    "def compute_determinant(matrix):\n",
    "    return np.linalg.det(matrix)\n",
    "\n",
    "#Matrix Invertable\n",
    "def compute_inverse(matrix):\n",
    "    if np.linalg.det(matrix) != 0:\n",
    "        return np.linalg.inv(matrix)\n",
    "    else:\n",
    "        return None  # Matrix is singular (not invertible)\n",
    "\n",
    "#Eigenvalues and Eigenvectors\n",
    "def compute_eigen(matrix):\n",
    "    eigenvalues, eigenvectors = np.linalg.eig(matrix)\n",
    "    return eigenvalues, eigenvectors\n",
    "\n",
    "#Diagonalization\n",
    "def is_diagonalizable(matrix):\n",
    "    eigenvalues, eigenvectors = np.linalg.eig(matrix)\n",
    "    if len(np.unique(eigenvalues)) == len(eigenvalues):\n",
    "        return True  # If eigenvalues are distinct, matrix is diagonalizable\n",
    "    return False\n",
    "\n",
    "#Orthogonal Matrix\n",
    "def is_orthogonal(matrix):\n",
    "    transpose = matrix.T\n",
    "    identity_check = np.allclose(np.dot(transpose, matrix), np.eye(matrix.shape[0]))\n",
    "    return identity_check\n",
    "\n",
    "#Positive Definite Matrix\n",
    "def is_positive_definite(matrix):\n",
    "    eigenvalues = np.linalg.eigvals(matrix)\n",
    "    return np.all(eigenvalues > 0)  # All eigenvalues should be positive\n",
    "\n",
    "#Laplacian Matrix (only for undirected graphs)\n",
    "def compute_laplacian(adj_matrix):\n",
    "    degree_matrix = np.diag(np.sum(adj_matrix, axis=1))\n",
    "    laplacian_matrix = degree_matrix - adj_matrix\n",
    "    return laplacian_matrix\n",
    "\n",
    "# Example: square matrix (for testing)\n",
    "A = np.array([[4, 1, 3],\n",
    "              [1, 3, 1],\n",
    "              [2, 1, 5]])\n",
    "\n",
    "#Norms Check\n",
    "norms = compute_matrix_norms(A)\n",
    "print(\"Matrix Norms:\")\n",
    "for norm_type, norm_value in norms.items():\n",
    "    print(f\"{norm_type}: {norm_value}\")\n",
    "print()\n",
    "\n",
    "#Transpose Check\n",
    "transpose = compute_transpose(A)\n",
    "print(\"Matrix Transpose:\")\n",
    "print(transpose)\n",
    "print()\n",
    "\n",
    "#Determinant Check\n",
    "determinant = compute_determinant(A)\n",
    "print(f\"Matrix Determinant: {determinant}\")\n",
    "print()\n",
    "\n",
    "#Inverse Check\n",
    "inverse = compute_inverse(A)\n",
    "if inverse is not None:\n",
    "    print(\"Matrix Inverse:\")\n",
    "    print(inverse)\n",
    "else:\n",
    "    print(\"Matrix is Singular (Non-invertible)\")\n",
    "print()\n",
    "\n",
    "#Eigenvalues and Eigenvectors Check\n",
    "eigenvalues, eigenvectors = compute_eigen(A)\n",
    "print(\"Eigenvalues:\")\n",
    "print(eigenvalues)\n",
    "print(\"Eigenvectors:\")\n",
    "print(eigenvectors)\n",
    "print()\n",
    "\n",
    "#Diagonalization Check\n",
    "diagonalizable = is_diagonalizable(A)\n",
    "print(f\"Is Diagonalizable: {diagonalizable}\")\n",
    "print()\n",
    "\n",
    "#Orthogonal Matrix Check\n",
    "orthogonal = is_orthogonal(A)\n",
    "print(f\"Is Orthogonal: {orthogonal}\")\n",
    "print()\n",
    "\n",
    "#Positive Definite Matrix Check\n",
    "positive_definite = is_positive_definite(A)\n",
    "print(f\"Is Positive Definite: {positive_definite}\")\n",
    "print()\n",
    "\n",
    "#Laplacian Matrix (for graph adjacency matrix)\n",
    "adj_matrix = np.array([[0, 1, 0],\n",
    "                       [1, 0, 1],\n",
    "                       [0, 1, 0]])  # Example adjacency matrix\n",
    "laplacian = compute_laplacian(adj_matrix)\n",
    "print(\"Laplacian Matrix:\")\n",
    "print(laplacian)"
   ]
  },
  {
   "cell_type": "markdown",
   "id": "402adc95-8068-4300-9498-34beae3117c4",
   "metadata": {},
   "source": [
    "## Exercises\n",
    "#### Question 1\n",
    "- First of all, the matrix multiplication doesn't work because the dimensions of the identity matrix do not match the previous matrices. Let's then just look at the first two matrices."
   ]
  },
  {
   "cell_type": "code",
   "execution_count": null,
   "id": "d704019e-9a07-4032-a477-7bd24ba875ae",
   "metadata": {},
   "outputs": [],
   "source": [
    "q1matrix1 = np.array([[-1, 3/2],\n",
    "                     [1, -1]])\n",
    "q1matrix2 = np.array([[-1, 3/2],\n",
    "                     [2/3, -1]])\n",
    "print(compute_determinant(q1matrix1))\n",
    "print(compute_determinant(q1matrix2))\n",
    "q1matrixmul = q1matrix1 @ q1matrix2\n",
    "print(q1matrixmul)\n",
    "print(compute_determinant(q1matrixmul))"
   ]
  },
  {
   "cell_type": "markdown",
   "id": "6fe0030a-d80d-4569-9c77-356d534b675f",
   "metadata": {},
   "source": [
    "- What we notice is that the first matrix is invertible, while the second matrix is singular.\n",
    "- Then, when we multiply an invertible matrix and a singular matrix, we get a singular matrix."
   ]
  },
  {
   "cell_type": "code",
   "execution_count": null,
   "id": "2fb19110-144d-4121-ba65-0cd370a407f3",
   "metadata": {},
   "outputs": [],
   "source": []
  },
  {
   "cell_type": "code",
   "execution_count": null,
   "id": "38207e7a-0d09-42dc-a4c1-a136502be4bd",
   "metadata": {},
   "outputs": [],
   "source": []
  }
 ],
 "metadata": {
  "kernelspec": {
   "display_name": "Python 3",
   "language": "python",
   "name": "python3"
  },
  "language_info": {
   "codemirror_mode": {
    "name": "ipython",
    "version": 3
   },
   "file_extension": ".py",
   "mimetype": "text/x-python",
   "name": "python",
   "nbconvert_exporter": "python",
   "pygments_lexer": "ipython3",
   "version": "3.8.8"
  }
 },
 "nbformat": 4,
 "nbformat_minor": 5
}
