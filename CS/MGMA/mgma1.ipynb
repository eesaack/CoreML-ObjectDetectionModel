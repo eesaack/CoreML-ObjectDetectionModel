{
 "cells": [
  {
   "cell_type": "code",
   "execution_count": 1,
   "id": "c6862334-b8c8-4b83-99cd-35c1562feaf5",
   "metadata": {},
   "outputs": [],
   "source": [
    "import numpy as np\n",
    "from scipy.linalg import eig, inv, det"
   ]
  },
  {
   "cell_type": "code",
   "execution_count": 2,
   "id": "1f30d38f-ceac-408e-907c-baad5412614c",
   "metadata": {},
   "outputs": [
    {
     "name": "stdout",
     "output_type": "stream",
     "text": [
      "Determinant:\n",
      "36.0 \n",
      "\n",
      "Trace:\n",
      "11 \n",
      "\n",
      "Rank:\n",
      "3 \n",
      "\n",
      "Is Symmetric:\n",
      "True \n",
      "\n",
      "Inverse:\n",
      "[[ 0.33333333  0.         -0.16666667]\n",
      " [ 0.          0.33333333 -0.        ]\n",
      " [-0.16666667  0.          0.33333333]] \n",
      "\n",
      "Eigenvalues:\n",
      "[6.+0.j 2.+0.j 3.+0.j] \n",
      "\n",
      "Eigenvectors:\n",
      "[[ 0.70710678 -0.70710678  0.        ]\n",
      " [ 0.          0.          1.        ]\n",
      " [ 0.70710678  0.70710678  0.        ]] \n",
      "\n"
     ]
    }
   ],
   "source": [
    "def matrix_properties(matrix):\n",
    "    properties = {}\n",
    "    properties['Determinant'] = det(matrix)\n",
    "    properties['Trace'] = np.trace(matrix)\n",
    "    properties['Rank'] = np.linalg.matrix_rank(matrix)\n",
    "    properties['Is Symmetric'] = np.allclose(matrix, matrix.T)\n",
    "    \n",
    "    try:\n",
    "        properties['Inverse'] = inv(matrix)\n",
    "    except np.linalg.LinAlgError:\n",
    "        properties['Inverse'] = \"Non-invertible matrix\"\n",
    "\n",
    "    eigenvalues, eigenvectors = eig(matrix)\n",
    "    properties['Eigenvalues'] = eigenvalues\n",
    "    properties['Eigenvectors'] = eigenvectors\n",
    "    \n",
    "    return properties\n",
    "\n",
    "# Example matrix\n",
    "matrix = np.array([\n",
    "    [4, 0, 2],\n",
    "    [0, 3, 0],\n",
    "    [2, 0, 4]\n",
    "])\n",
    "\n",
    "# Get matrix properties\n",
    "props = matrix_properties(matrix)\n",
    "\n",
    "# Print the properties\n",
    "for prop, value in props.items():\n",
    "    print(f\"{prop}:\")\n",
    "    print(value, \"\\n\")"
   ]
  },
  {
   "cell_type": "markdown",
   "id": "adff193f-35f6-469d-968d-ed8318b4762b",
   "metadata": {},
   "source": [
    "##### Explanation:\n",
    "- Determinant and Trace: Basic properties calculated directly from the matrix.\n",
    "- Inverse: Computed if the matrix is non-singular (determinant is not zero).\n",
    "- Eigenvalues and Eigenvectors: Obtained using the eig function, which returns both.\n",
    "- Rank: The number of linearly independent rows or columns.\n",
    "- Symmetry Check: Determines if the matrix is symmetric by checking if it equals its transpose."
   ]
  },
  {
   "cell_type": "code",
   "execution_count": 3,
   "id": "86afca9f-08a5-461c-8067-0e16ba037d43",
   "metadata": {},
   "outputs": [],
   "source": [
    "import numpy as np\n",
    "from numpy.linalg import eig, det, matrix_power, norm\n",
    "from scipy.linalg import eigh"
   ]
  },
  {
   "cell_type": "markdown",
   "id": "a5639712-9de1-4957-aa12-8db17d63cf65",
   "metadata": {},
   "source": [
    "([[-1, 3/2]])\n",
    "([[1, 1]])\n",
    "\n",
    "([[-1, 3/2]])\n",
    "([[2/3, 1]])"
   ]
  },
  {
   "cell_type": "code",
   "execution_count": 4,
   "id": "d36775e4-8a6c-4afd-8f69-b6e67256e029",
   "metadata": {},
   "outputs": [
    {
     "name": "stdout",
     "output_type": "stream",
     "text": [
      "Matrix 1 determinant: -0.5\n",
      "Matrix 1 eigenvalues: [ 0.22474487 -2.22474487]\n",
      "\n",
      "Matrix 2 determinant: 0.0\n",
      "Matrix 2 eigenvalues: [-1.11022302e-16 -2.00000000e+00]\n",
      "\n",
      "Matrix 3 determinant: 1.0\n",
      "Matrix 3 eigenvalues: [1. 1. 1.]\n",
      "\n"
     ]
    }
   ],
   "source": [
    "# Question 1: Matrix properties\n",
    "matrices = [\n",
    "    np.array([[-1, 3/2], [1, -1]]),\n",
    "    np.array([[-1, 3/2], [2/3, -1]]),\n",
    "    np.eye(3)  # Identity matrix 3x3\n",
    "]\n",
    "\n",
    "# Show properties of matrices\n",
    "for i, matrix in enumerate(matrices):\n",
    "    print(f\"Matrix {i+1} determinant: {det(matrix)}\")\n",
    "    print(f\"Matrix {i+1} eigenvalues: {eig(matrix)[0]}\")\n",
    "    print()"
   ]
  },
  {
   "cell_type": "markdown",
   "id": "03eee806-9a7f-4d6b-b8db-2b4d9b84aef7",
   "metadata": {},
   "source": [
    "- first of all the matrix multiplication doesn't work becaue the dimentions of the identity matrix don't match the previous matrices."
   ]
  },
  {
   "cell_type": "code",
   "execution_count": 5,
   "id": "23584fd6-f979-4a34-9a15-6ced6820db31",
   "metadata": {},
   "outputs": [
    {
     "name": "stdout",
     "output_type": "stream",
     "text": [
      "A^n calculated: \n",
      "[[8 5]\n",
      " [5 3]]\n",
      "A^n using formula: \n",
      "[[8. 5.]\n",
      " [5. 3.]]\n"
     ]
    }
   ],
   "source": [
    "# Question 2: Show that A^n = XΛ^nX^-1\n",
    "A = np.array([[1, 1], [1, 0]])\n",
    "eigenvalues, eigenvectors = eig(A)\n",
    "Lambda = np.diag(eigenvalues)\n",
    "n = 5  # Example power\n",
    "A_n = matrix_power(A, n)\n",
    "X = eigenvectors\n",
    "X_inv = np.linalg.inv(X)\n",
    "A_n_formulated = X @ matrix_power(Lambda, n) @ X_inv\n",
    "print(f\"A^n calculated: \\n{A_n}\")\n",
    "print(f\"A^n using formula: \\n{A_n_formulated}\")"
   ]
  },
  {
   "cell_type": "markdown",
   "id": "eeed426e-ea00-4d9c-8e3a-600bd05b5e4a",
   "metadata": {},
   "source": [
    "# <center> **First Mini Project - Preliminaries </center>**\n",
    "\n",
    "### <center>Massive Graph Management and Analytics </center>\n",
    "\n",
    "---\n",
    "\n",
    "\n",
    "---\n",
    "\n",
    "##### <center>Authors: Benjamin Gold & Dilbar Isakova</center>\n",
    "##### <center>Professor: Nacera Seghuoani</center>"
   ]
  },
  {
   "cell_type": "code",
   "execution_count": 1,
   "id": "77f6dac9-898b-43f9-ad11-f646ce64ac4d",
   "metadata": {},
   "outputs": [],
   "source": [
    "import numpy as np\n",
    "import matplotlib.pyplot as plt\n",
    "from scipy.sparse import csgraph\n",
    "import networkx as nx"
   ]
  },
  {
   "cell_type": "markdown",
   "id": "447c644f-baf5-481f-9c0f-4cbdbb416418",
   "metadata": {},
   "source": [
    "### Vectors and Matrices"
   ]
  },
  {
   "cell_type": "markdown",
   "id": "b6bf42c0-230f-4ed3-a66b-cb63b41fea87",
   "metadata": {},
   "source": [
    "- Here, we are using numpy to define vectors and matrices and performing operations on them\n",
    "- Also, we can operate with them as we would do in linear algebra"
   ]
  },
  {
   "cell_type": "code",
   "execution_count": 9,
   "id": "7c075f75-1ff2-4275-b210-2e6d1532cb35",
   "metadata": {},
   "outputs": [
    {
     "data": {
      "image/png": "[encoded data removed]",
      "text/plain": [
       "<Figure size 432x288 with 1 Axes>"
      ]
     },
     "metadata": {
      "needs_background": "light"
     },
     "output_type": "display_data"
    }
   ],
   "source": [
    "vector = np.array([3, 6])\n",
    "\n",
    "# show the vector as an arrow\n",
    "plt.arrow(0, 0, vector[0], vector[1], head_width=.05, head_length=0.05, color='green')\n",
    "plt.axis([0, 7, 0, 7])\n",
    "plt.grid()\n",
    "plt.show()"
   ]
  },
  {
   "cell_type": "code",
   "execution_count": 10,
   "id": "30cb4abb-66ae-4f04-be66-9d658a154b0d",
   "metadata": {},
   "outputs": [
    {
     "name": "stdout",
     "output_type": "stream",
     "text": [
      "[[1 4]\n",
      " [6 1]]\n"
     ]
    }
   ],
   "source": [
    "matrix = np.array([[1, 4], [6, 1]])\n",
    "print(matrix)"
   ]
  },
  {
   "cell_type": "code",
   "execution_count": 13,
   "id": "baff9458-d2df-48ea-b0bf-267a08619075",
   "metadata": {},
   "outputs": [
    {
     "data": {
      "image/png": "[encoded data removed]",
      "text/plain": [
       "<Figure size 432x288 with 2 Axes>"
      ]
     },
     "metadata": {
      "needs_background": "light"
     },
     "output_type": "display_data"
    }
   ],
   "source": [
    "vector2 = np.array([3, 2])\n",
    "\n",
    "vector_sum = vector + vector2\n",
    "vector_sub = vector - vector2\n",
    "\n",
    "plt.subplot(1, 2, 1)\n",
    "plt.arrow(0, 0, vector[0], vector[1], head_width=.05, head_length=0.05, color='red', label='vector')\n",
    "plt.arrow(0, 0, vector2[0], vector2[1], head_width=.05, head_length=0.05, color='blue', label='vector2')\n",
    "plt.arrow(0, 0, vector_sum[0], vector_sum[1], head_width=.05, head_length=0.05, color='green', label='vector_sum')\n",
    "plt.axis([0, 8, 0, 8])\n",
    "plt.grid()\n",
    "plt.legend()\n",
    "\n",
    "plt.subplot(1, 2, 2)\n",
    "plt.arrow(0, 0, vector[0], vector[1], head_width=.05, head_length=0.05, color='red', label='vector')\n",
    "plt.arrow(0, 0, vector2[0], vector2[1], head_width=.05, head_length=0.05, color='blue', label='vector2')\n",
    "plt.arrow(vector2[0], vector2[1], vector_sub[0], vector_sub[1], head_width=.05, head_length=0.05, color='green', label='vector_sub')\n",
    "plt.axis([0, 6, 0, 6])\n",
    "plt.grid()\n",
    "plt.legend()\n",
    "\n",
    "plt.show()"
   ]
  },
  {
   "cell_type": "code",
   "execution_count": null,
   "id": "af3dfae3-38cf-45eb-a79f-4934f7d60d52",
   "metadata": {},
   "outputs": [],
   "source": []
  }
 ],
 "metadata": {
  "kernelspec": {
   "display_name": "Python 3",
   "language": "python",
   "name": "python3"
  },
  "language_info": {
   "codemirror_mode": {
    "name": "ipython",
    "version": 3
   },
   "file_extension": ".py",
   "mimetype": "text/x-python",
   "name": "python",
   "nbconvert_exporter": "python",
   "pygments_lexer": "ipython3",
   "version": "3.8.8"
  }
 },
 "nbformat": 4,
 "nbformat_minor": 5
}
