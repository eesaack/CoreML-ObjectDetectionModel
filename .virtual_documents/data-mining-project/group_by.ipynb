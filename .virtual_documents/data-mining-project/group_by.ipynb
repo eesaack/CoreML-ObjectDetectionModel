import pandas as pd


# Load the CSV file into a DataFrame
file_path = '/Users/eesaack/Downloads/ar41_for_ulb.csv'  # Replace 'path_to_your_file.csv' with your file path
df = pd.read_csv(file_path)


# Explore the data
print(df.head())  # See the first few rows
print(df.info())  # Get information about the DataFrame


df = pd.read_csv('/Users/eesaack/Downloads/ar41_for_ulb.csv', sep=';')


df['timestamps_UTC'] = pd.to_datetime(df['timestamps_UTC'])


df


df.drop('Unnamed: 0', axis=1, inplace=True)
df


# Data Cleaning Steps
# Handling Missing Values
df.dropna(inplace=True)  # Or fill missing values using df.fillna()

# Removing Duplicates
df.drop_duplicates(inplace=True)


cleaned_file_path = '/Users/eesaack/Downloads/ar41_for_ulb_cleaned.csv'  # Replace with your desired path
df.to_csv(cleaned_file_path, index=False)


df['timestamps_UTC'] = pd.to_datetime(df['timestamps_UTC'])
df['date_hour'] = df['timestamps_UTC'].dt.to_period('H')


grouped_df = df.groupby(['mapped_veh_id', 'date_hour']).agg({'lat': 'mean', 'lon': 'mean'}).reset_index()


grouped_df.to_csv('ar41_for_ulb_grouped.csv', index=False)


pip install requests


import requests 


import numpy as np


network_df = pd.read_csv('ar41_for_ulb_grouped-network.csv')
network_df['lat'] = round(network_df['lat'], 4)
network_df['lon'] = round(network_df['lon'], 4)
network_df.to_csv('ar41_for_ulb_round.csv', index=False)


import logging
logging.basicConfig(filename='logs.log', level=logging.INFO) 


def request_weather(df):
    for idx, row in df.iterrows():
        if idx < 208275:
            continue
        if 'temp' in df.columns and not pd.isna(row['temp']):
            continue
        if not pd.isnull(row['temp']): 
            continue
        lat = row['lat']
        lon = row['lon']
        # dt = int(row['date_hour'].to_timestamp().timestamp())
        dt = int(row['date_hour'].timestamp())
        # appid = '9da3f482e16311499406618826717d1b'
        appid = '851fa86f70f3874111c2f2f7909fbec0'
        # appid = '0eb2456f67f5929fb35bc8487da95280'
        url = f"https://history.openweathermap.org/data/2.5/history/city?lat={lat}&lon={lon}&type=hour&start={dt}&cnt=1&appid={appid}"
        # print(url)
        response = requests.get(url)
        # Check the status code of the response
        if response.status_code == 200:
            # If the request was successful (status code 200)
            data = response.json()  # If the response contains JSON data
            # print(data['list'][0]['main']['temp'])
            print(f'index={idx}')
            # print(data)
            if 'list' not in data:
                logging.info(url)
                print(f'skipping url = {url}') 
                continue
            weather_object = data['list'][0] 
            main = weather_object['main']
            temp = main['temp']
            feels_like = main['feels_like']
            pressure = main['pressure']
            humidity = main['humidity']
            temp_min = main['temp_min']
            temp_max = main['temp_max']

            wind = weather_object['wind']
            wind_speed = wind['speed']
            wind_deg = wind['deg']
            wind_gust = wind.get('gust', np.nan) 

            clouds = weather_object['clouds']
            clouds_all = clouds['all']

            weather = weather_object['weather'][0]
            weather_id = weather['id']
            weather_main = weather['main']
            weather_description = weather['description']
            weather_icon = weather['icon']

            df.loc[idx, 'temp'] = temp
            df.loc[idx, 'main_feels_like'] = feels_like
            df.loc[idx, 'main_pressure'] = pressure
            df.loc[idx, 'main_humidity'] = humidity
            df.loc[idx, 'main_temp_min'] = temp_min
            df.loc[idx, 'main_temp_max'] = temp_max

            df.loc[idx, 'wind_speed'] = wind_speed
            df.loc[idx, 'wind_deg'] = wind_deg
            df.loc[idx, 'wind_gust'] = wind_gust

            df.loc[idx, 'clouds_all'] = clouds_all

            df.loc[idx, 'weather_id'] = weather_id
            df.loc[idx, 'weather_main'] = weather_main
            df.loc[idx, 'weather_description'] = weather_description
            df.loc[idx, 'weather_icon'] = weather_icon

        else:
            # If the request was not successful
            print("Request failed with status code:", response.status_code)

network_df = pd.read_csv('ar41_for_ulb_round.csv')
# smaller_sample = grouped_df.copy().sample(3)
network_df['date_hour'] = pd.to_datetime(network_df['date_hour'])

request_weather(network_df)
# network_df.to_csv('ar41_for_ulb_grouped-network.csv', index=False)


def request_weather(df):
    for idx, row in df.iterrows():
        if idx < 208275:
            continue
        if 'temp' in df.columns and not pd.isna(row['temp']):
            continue
        if not pd.isnull(row['temp']): 
            continue
        lat = row['lat']
        lon = row['lon']
        # dt = int(row['date_hour'].to_timestamp().timestamp())
        dt = int(row['date_hour'].timestamp())
        # appid = '9da3f482e16311499406618826717d1b'
        appid = '851fa86f70f3874111c2f2f7909fbec0'
        # appid = '0eb2456f67f5929fb35bc8487da95280'
        url = f"https://history.openweathermap.org/data/2.5/history/city?lat={lat}&lon={lon}&type=hour&start={dt}&cnt=1&appid={appid}"
        # print(url)
        response = requests.get(url)
        # Check the status code of the response
        if response.status_code == 200:
            # If the request was successful (status code 200)
            data = response.json()  # If the response contains JSON data
            # print(data['list'][0]['main']['temp'])
            print(f'index={idx}')
            # print(data)
            if 'list' not in data:
                logging.info(url)
                print(f'skipping url = {url}') 
                continue
            weather_object = data['list'][0] 
            main = weather_object['main']
            temp = main['temp']
            feels_like = main['feels_like']
            pressure = main['pressure']
            humidity = main['humidity']
            temp_min = main['temp_min']
            temp_max = main['temp_max']

            wind = weather_object['wind']
            wind_speed = wind['speed']
            wind_deg = wind['deg']
            wind_gust = wind.get('gust', np.nan) 

            clouds = weather_object['clouds']
            clouds_all = clouds['all']

            weather = weather_object['weather'][0]
            weather_id = weather['id']
            weather_main = weather['main']
            weather_description = weather['description']
            weather_icon = weather['icon']

            df.loc[idx, 'temp'] = temp
            df.loc[idx, 'main_feels_like'] = feels_like
            df.loc[idx, 'main_pressure'] = pressure
            df.loc[idx, 'main_humidity'] = humidity
            df.loc[idx, 'main_temp_min'] = temp_min
            df.loc[idx, 'main_temp_max'] = temp_max

            df.loc[idx, 'wind_speed'] = wind_speed
            df.loc[idx, 'wind_deg'] = wind_deg
            df.loc[idx, 'wind_gust'] = wind_gust

            df.loc[idx, 'clouds_all'] = clouds_all

            df.loc[idx, 'weather_id'] = weather_id
            df.loc[idx, 'weather_main'] = weather_main
            df.loc[idx, 'weather_description'] = weather_description
            df.loc[idx, 'weather_icon'] = weather_icon

        else:
            # If the request was not successful
            print("Request failed with status code:", response.status_code)

network_df = pd.read_csv('ar41_for_ulb_round.csv')
# smaller_sample = grouped_df.copy().sample(3)
network_df['date_hour'] = pd.to_datetime(network_df['date_hour'])

request_weather(network_df)
# network_df.to_csv('ar41_for_ulb_grouped-network.csv', index=False)


network_df.to_csv('ar41_for_ulb_round.csv', index=False)


network_df = pd.read_csv('ar41_for_ulb_round.csv')
empty_df = network_df[network_df['temp'].isna()]
empty_df.to_csv('empty.csv', index=True)


s_df = pd.read_csv('ar41_for_ulb_round.csv')
s_df = s_df.fillna(s_df.shift())
s_df.to_csv('test.csv', index=False)
s_df['temp'].isna().sum()


network_df.isnull().sum()


https://api.open-elevation.com/api/v1/lookup?locations=LATITUDE,LONGITUDE


def request_altitude(df):
    for idx, row in df.iterrows():
        if idx < 1:
            continue
        if 'temp' in df.columns and not pd.isna(row['temp']):
            continue
        if not pd.isnull(row['temp']): 
            continue
        lat = row['lat']
        lon = row['lon']
        # dt = int(row['date_hour'].to_timestamp().timestamp())
        dt = int(row['date_hour'].timestamp())
       
        url = f"https://api.open-elevation.com/api/v1/lookup?locations={lat}&lon={lon}"
        # print(url)
        response = requests.get(url)
        # Check the status code of the response
        if response.status_code == 200:
            # If the request was successful (status code 200)
            data = response.json()  # If the response contains JSON data
            # print(data['list'][0]['main']['temp'])
            print(f'index={idx}')
            # print(data)
            if 'list' not in data:
                logging.info(url)
                print(f'skipping url = {url}') 
                continue
            altitude_object = data['results'][0] 
            results = altitude_object['results']
            elevation = ['temp']
            feels_like = main['feels_like']
            pressure = main['pressure']
            humidity = main['humidity']
            temp_min = main['temp_min']
            temp_max = main['temp_max']

            wind = weather_object['wind']
            wind_speed = wind['speed']
            wind_deg = wind['deg']
            wind_gust = wind.get('gust', np.nan) 

            clouds = weather_object['clouds']
            clouds_all = clouds['all']

            weather = weather_object['weather'][0]
            weather_id = weather['id']
            weather_main = weather['main']
            weather_description = weather['description']
            weather_icon = weather['icon']

            df.loc[idx, 'temp'] = temp
            df.loc[idx, 'main_feels_like'] = feels_like
            df.loc[idx, 'main_pressure'] = pressure
            df.loc[idx, 'main_humidity'] = humidity
            df.loc[idx, 'main_temp_min'] = temp_min
            df.loc[idx, 'main_temp_max'] = temp_max

            df.loc[idx, 'wind_speed'] = wind_speed
            df.loc[idx, 'wind_deg'] = wind_deg
            df.loc[idx, 'wind_gust'] = wind_gust

            df.loc[idx, 'clouds_all'] = clouds_all

            df.loc[idx, 'weather_id'] = weather_id
            df.loc[idx, 'weather_main'] = weather_main
            df.loc[idx, 'weather_description'] = weather_description
            df.loc[idx, 'weather_icon'] = weather_icon

        else:
            # If the request was not successful
            print("Request failed with status code:", response.status_code)

network_df = pd.read_csv('ar41_for_ulb_round.csv')
# smaller_sample = grouped_df.copy().sample(3)
network_df['date_hour'] = pd.to_datetime(network_df['date_hour'])

request_weather(network_df)
# network_df.to_csv('ar41_for_ulb_grouped-network.csv', index=False)
