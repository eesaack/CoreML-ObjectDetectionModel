import pandas as pd
df = pd.read_csv('ar41_for_ulb_cleaned.csv')
df['timestamps_UTC'] = pd.to_datetime(df['timestamps_UTC'])
df['date_hour'] = df['timestamps_UTC'].dt.to_period('H')
agg_df = pd.read_csv('ar41_for_ulb_round.csv')
agg_df['date_hour'] = pd.to_datetime(agg_df['date_hour'])
agg_df['date_hour'] = agg_df['date_hour'].dt.to_period('H')

merged_df = pd.merge(df, agg_df, on=['mapped_veh_id', 'date_hour'], how='left')
merged_df.to_csv('grouped.csv', index=False)


df = pd.read_csv('grouped.csv')
columns_to_drop = ['date_hour', 'lat_y', 'lon_y']
df.drop(columns_to_drop, axis=1, inplace=True)
df


in the original data were a lot of null values. so i dropped them to aggregate the data. after dropping the data


df.to_csv('grouped.csv', index=False) #17679273


import pandas as pd

df = pd.read_csv('grouped.csv')[['lat', 'lon']]

# Function to assign coordinates to 500-meter cells
def assign_to_cells(latitude, longitude):
    # Define the size of each cell (500 meters)
    cell_size = 0.000898311
    # cell_size = 0.001796622  # 200 meters
    # cell_size = 0.004491556  # Adjust this value based on your needs
    
    # Assign each coordinate to a cell
    cell_latitude = (latitude / cell_size).astype(int) * cell_size
    cell_longitude = (longitude / cell_size).astype(int) * cell_size
    
    return cell_latitude, cell_longitude

# Apply the function to assign coordinates to cells
df['cell_lat'], df['cell_lon'] = assign_to_cells(df['lat'], df['lon'])
df.to_csv('cleaned.csv')


import pandas as pd
df = pd.read_csv('cleaned.csv')
df['cell_lat'] = round(df['cell_lat'], 6)
df['cell_lon'] = round(df['cell_lon'], 6)
df.to_csv('cleaned2.csv', index=False)


df.isna().sum()


df.drop('Unnamed: 0', axis=1, inplace=True)
df.to_csv('cleaned2.csv', index=False)


import pandas as pd
df = pd.read_csv('cleaned2.csv')
adf = pd.read_csv('elevation.csv')
merged_df = pd.merge(df, adf, on=['cell_lat', 'cell_lon'], how='left')
merged_df.to_csv('cleaned2.csv', index=False)


df = pd.read_csv('cleaned2.csv')
df.drop(['cell_lat', 'cell_lon'], axis=1, inplace=True)
df.to_csv('cleaned2.csv', index=False)


import pandas as pd
df = pd.read_csv('grouped.csv')
adf = pd.read_csv('cleaned2.csv')
merged_df = pd.merge(df, adf, on=['lat', 'lon'], how='left')
merged_df.to_csv('grouped2.csv', index=False)


df
