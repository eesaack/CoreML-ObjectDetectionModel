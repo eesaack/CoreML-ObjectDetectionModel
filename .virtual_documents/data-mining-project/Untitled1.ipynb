import pandas as pd


df = pd.read_csv('grouped2.csv')
df


duplicate_rows_df = df[df.duplicated()]
print("number of duplicate rows: ", duplicate_rows_df.shape)


df = df.drop_duplicates()


duplicate_rows_df = df[df.duplicated()]
print("number of duplicate rows: ", duplicate_rows_df.shape)



