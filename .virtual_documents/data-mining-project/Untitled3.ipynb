import pandas as pd
df = pd.read_csv('ar41_for_ulb.csv', sep=';')
df['lat_x'] = round(df['lat'], 8)
df['lat_y'] = round(df['lon'], 8)
df
# df.to_csv('a_initial.csv', index=False)


import pandas as pd
tdf = pd.read_csv('grouped.csv')
tdf['lat_x'] = round(tdf['lat'], 8)
tdf['lat_y'] = round(tdf['lon'], 8)
columns = ['RS_E_InAirTemp_PC1','RS_E_InAirTemp_PC2','RS_E_OilPress_PC1','RS_E_OilPress_PC2','RS_E_RPM_PC1','RS_E_RPM_PC2','RS_E_WatTemp_PC1','RS_E_WatTemp_PC2','RS_T_OilTemp_PC1','RS_T_OilTemp_PC2']
tdf.drop(columns, axis=1, inplace=True)
tdf


#tdf.to_csv('a_temp.csv', index=False)
tdf.drop(['lat', 'lon'], axis=1, inplace=True)
tdf


tdf.to_csv('a_temp.csv', index=False)


import pandas as pd
idf = pd.read_csv('a_initial.csv')
rdf = pd.merge(idf, tdf, on=['mapped_veh_id', 'timestamps_UTC', 'lat_x', 'lat_y'], how='left')
rdf


rdf.drop(['lat_x', 'lat_y'], axis=1, inplace=True)
rdf.to_csv('a_w_temp.csv', index=False)


rdf.isna().sum()


na_df = rdf[rdf['temp'].isna()]
na_df


na_df.to_csv('a_na_temp.csv', index=False)


# na_df['date_hour'] = pd.to_datetime(na_df['timestamps_UTC']).dt.to_period('H')
# na_df
# na_df.to_csv('a_na_temp.csv', index=False)
# grouped_df = na_df.groupby(['mapped_veh_id', 'date_hour']).agg({'lat': 'mean', 'lon': 'mean'}).reset_index()
# grouped_df
grouped_df.to_csv('a_na_temp_group.csv', index=False)


mrdf = pd.read_csv('a_temp_elevation.csv')
mrdf.isna().sum()



