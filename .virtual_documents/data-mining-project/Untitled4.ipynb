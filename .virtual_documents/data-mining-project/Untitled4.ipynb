import pandas as pd
df_1 = pd.read_csv('ar41_for_ulb.csv', sep=';')


df_1.drop('Unnamed: 0', axis=1, inplace=True)


df_1['timestamps_UTC'] = pd.to_datetime(df_1['timestamps_UTC'])
df_1['date_hour'] = df_1['timestamps_UTC'].dt.to_period('H')


df_1


# splitting date and time components into separate columns
df_1['date'] = df_1['date_hour'].dt.strftime('%Y-%m-%d')
df_1['hour'] = df_1['date_hour'].dt.strftime('%H:%M')


df_2 = pd.read_csv('ar41_for_ulb_round.csv')
df_2


df_2['date_hour'] = pd.to_datetime(df_2['date_hour'])


# splitting date and time components into separate columns
df_2['date'] = df_2['date_hour'].dt.strftime('%Y-%m-%d')
df_2['hour'] = df_2['date_hour'].dt.strftime('%H:%M')


df_2



