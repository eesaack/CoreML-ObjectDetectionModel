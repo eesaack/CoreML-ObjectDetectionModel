{
 "cells": [
  {
   "cell_type": "markdown",
   "id": "902ab0ee-4efc-4456-b23a-c7ec167d4404",
   "metadata": {
    "id": "902ab0ee-4efc-4456-b23a-c7ec167d4404",
    "tags": []
   },
   "source": [
    "# Spark Exercises"
   ]
  },
  {
   "cell_type": "code",
   "execution_count": 1,
   "id": "8962375b-786f-4738-b7ed-343de3f7224f",
   "metadata": {
    "id": "8962375b-786f-4738-b7ed-343de3f7224f"
   },
   "outputs": [
    {
     "name": "stdout",
     "output_type": "stream",
     "text": [
      "Collecting pyspark\n",
      "  Downloading pyspark-3.5.1.tar.gz (317.0 MB)\n",
      "\u001b[K     |████████████████████████████████| 317.0 MB 133 kB/s eta 0:00:015    |███▊                            | 37.0 MB 964 kB/s eta 0:04:51     |█████████▌                      | 93.7 MB 14.8 MB/s eta 0:00:16     |█████████████▋                  | 134.8 MB 20.6 MB/s eta 0:00:09     |███████████████████▌            | 193.2 MB 14.2 MB/s eta 0:00:09     |████████████████████████▏       | 239.5 MB 9.3 MB/s eta 0:00:09     |████████████████████████▎       | 240.1 MB 9.3 MB/s eta 0:00:09��████████████████▋       | 243.3 MB 14.1 MB/s eta 0:00:06     |███████████████████████████▋    | 273.2 MB 7.0 MB/s eta 0:00:07███████▋ | 303.4 MB 9.0 MB/s eta 0:00:02     |███████████████████████████████▌| 312.2 MB 8.4 MB/s eta 0:00:01\n",
      "\u001b[?25hCollecting py4j==0.10.9.7\n",
      "  Downloading py4j-0.10.9.7-py2.py3-none-any.whl (200 kB)\n",
      "\u001b[K     |████████████████████████████████| 200 kB 8.3 MB/s eta 0:00:01\n",
      "\u001b[?25hBuilding wheels for collected packages: pyspark\n",
      "  Building wheel for pyspark (setup.py) ... \u001b[?25ldone\n",
      "\u001b[?25h  Created wheel for pyspark: filename=pyspark-3.5.1-py2.py3-none-any.whl size=317488499 sha256=ec6a39004b34affa43a3c4f69cc71387fa95e13e0776a4c5e59cc7c5c7980c64\n",
      "  Stored in directory: /Users/eesaack/Library/Caches/pip/wheels/da/78/6d/54350e0243f65f77dccf6ebe2ed5559faf6900559e904fb957\n",
      "Successfully built pyspark\n",
      "Installing collected packages: py4j, pyspark\n",
      "Successfully installed py4j-0.10.9.7 pyspark-3.5.1\n"
     ]
    }
   ],
   "source": [
    "!pip3 install pyspark\n",
    "import pyspark\n",
    "from pyspark.sql import SparkSession\n",
    "\n",
    "# Create a Spark session to work with Dataframes\n",
    "spark = SparkSession.builder.getOrCreate()\n",
    "# Create a Spark context to work with RDDs\n",
    "sc = pyspark.SparkContext.getOrCreate()"
   ]
  },
  {
   "cell_type": "code",
   "execution_count": null,
   "id": "p74kEd5pTG5R",
   "metadata": {
    "id": "p74kEd5pTG5R"
   },
   "outputs": [],
   "source": [
    "# from google.colab import drive\n",
    "# import os\n",
    "\n",
    "# # Gain access to the source files in GDrive\n",
    "# drive.mount('/content/drive')\n",
    "# os.listdir(\"/content/drive\")"
   ]
  },
  {
   "cell_type": "code",
   "execution_count": null,
   "id": "50cb136e-407c-4677-8550-7c2167b133bb",
   "metadata": {
    "id": "50cb136e-407c-4677-8550-7c2167b133bb"
   },
   "outputs": [],
   "source": [
    "#Dataframe-based\n",
    "source = spark.read.format(\"csv\").load(\"/content/drive/....../Sources/wines.txt\", header=\"false\", inferSchema=\"true\")\n",
    "source.show()"
   ]
  },
  {
   "cell_type": "code",
   "execution_count": null,
   "id": "fb06fc75-c109-42b5-8b9d-b1dbffed9276",
   "metadata": {
    "id": "fb06fc75-c109-42b5-8b9d-b1dbffed9276"
   },
   "outputs": [],
   "source": [
    "#RDD-based\n",
    "source = sc.textFile(\"/content/drive/....../Sources/wines.txt\")\n",
    "source.collect()"
   ]
  },
  {
   "cell_type": "code",
   "execution_count": null,
   "id": "8385086d-ca0b-4955-a221-5fe0afe5e898",
   "metadata": {},
   "outputs": [],
   "source": [
    "source = "
   ]
  }
 ],
 "metadata": {
  "colab": {
   "provenance": []
  },
  "kernelspec": {
   "display_name": "Python 3",
   "language": "python",
   "name": "python3"
  },
  "language_info": {
   "codemirror_mode": {
    "name": "ipython",
    "version": 3
   },
   "file_extension": ".py",
   "mimetype": "text/x-python",
   "name": "python",
   "nbconvert_exporter": "python",
   "pygments_lexer": "ipython3",
   "version": "3.8.8"
  }
 },
 "nbformat": 4,
 "nbformat_minor": 5
}
