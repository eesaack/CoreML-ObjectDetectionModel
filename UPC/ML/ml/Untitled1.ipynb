{
 "cells": [
  {
   "cell_type": "code",
   "execution_count": 8,
   "id": "2c0c2eaf-bf84-4532-9101-69e7003ac044",
   "metadata": {},
   "outputs": [
    {
     "name": "stderr",
     "output_type": "stream",
     "text": [
      "/opt/anaconda3/lib/python3.8/site-packages/IPython/core/interactiveshell.py:3165: DtypeWarning: Columns (19) have mixed types.Specify dtype option on import or set low_memory=False.\n",
      "  has_raised = await self.run_ast_nodes(code_ast.body, cell_name,\n"
     ]
    }
   ],
   "source": [
    "# Load the CSV file\n",
    "file_path = \"genres_v2.csv\" \n",
    "data = pd.read_csv(file_path)"
   ]
  },
  {
   "cell_type": "code",
   "execution_count": 9,
   "id": "07a4df68-68cc-49dc-84ab-90645a3844aa",
   "metadata": {},
   "outputs": [
    {
     "name": "stdout",
     "output_type": "stream",
     "text": [
      "Data Types for Each Column:\n",
      "danceability        float64\n",
      "energy              float64\n",
      "key                   int64\n",
      "loudness            float64\n",
      "mode                  int64\n",
      "speechiness         float64\n",
      "acousticness        float64\n",
      "instrumentalness    float64\n",
      "liveness            float64\n",
      "valence             float64\n",
      "tempo               float64\n",
      "type                 object\n",
      "id                   object\n",
      "uri                  object\n",
      "track_href           object\n",
      "analysis_url         object\n",
      "duration_ms           int64\n",
      "time_signature        int64\n",
      "genre                object\n",
      "song_name            object\n",
      "Unnamed: 0          float64\n",
      "title                object\n",
      "dtype: object\n"
     ]
    }
   ],
   "source": [
    "# Identify Data Types for Each Column\n",
    "data_types = data.dtypes\n",
    "print(\"Data Types for Each Column:\")\n",
    "print(data_types)"
   ]
  },
  {
   "cell_type": "code",
   "execution_count": 10,
   "id": "0fc99242-aca2-4c25-b779-de4f16ffc6ff",
   "metadata": {},
   "outputs": [
    {
     "name": "stdout",
     "output_type": "stream",
     "text": [
      "\n",
      "Numerical Columns:\n",
      "['danceability', 'energy', 'key', 'loudness', 'mode', 'speechiness', 'acousticness', 'instrumentalness', 'liveness', 'valence', 'tempo', 'duration_ms', 'time_signature', 'Unnamed: 0']\n",
      "\n",
      "Categorical Columns:\n",
      "['type', 'id', 'uri', 'track_href', 'analysis_url', 'genre', 'song_name', 'title']\n"
     ]
    }
   ],
   "source": [
    "# Separate Numerical and Categorical Columns\n",
    "numerical_columns = data.select_dtypes(include=['int64', 'float64']).columns.tolist()\n",
    "categorical_columns = data.select_dtypes(include=['object']).columns.tolist()\n",
    "\n",
    "print(\"\\nNumerical Columns:\")\n",
    "print(numerical_columns)\n",
    "\n",
    "print(\"\\nCategorical Columns:\")\n",
    "print(categorical_columns)"
   ]
  },
  {
   "cell_type": "code",
   "execution_count": 11,
   "id": "75910f4a-3124-42fe-b430-3eb14178cce8",
   "metadata": {},
   "outputs": [
    {
     "name": "stdout",
     "output_type": "stream",
     "text": [
      "\n",
      "Columns with Potential Mixed Data Types:\n",
      "['song_name', 'title']\n"
     ]
    }
   ],
   "source": [
    "# Identify potential mixed data types\n",
    "potential_issues = []\n",
    "for col in data.columns:\n",
    "    unique_types = data[col].apply(type).nunique()\n",
    "    if unique_types > 1:\n",
    "        potential_issues.append(col)\n",
    "\n",
    "print(\"\\nColumns with Potential Mixed Data Types:\")\n",
    "print(potential_issues)"
   ]
  },
  {
   "cell_type": "code",
   "execution_count": 12,
   "id": "59afcd15-31d9-4dbd-9a5a-b619c1f72051",
   "metadata": {},
   "outputs": [
    {
     "name": "stdout",
     "output_type": "stream",
     "text": [
      "Columns with mixed types: ['type', 'id', 'uri', 'track_href', 'analysis_url', 'genre', 'song_name', 'title']\n"
     ]
    }
   ],
   "source": [
    "# Check for columns with mixed types\n",
    "mixed_type_columns = []\n",
    "for column in data.columns:\n",
    "    # Try converting to numeric to see if it raises an error\n",
    "    try:\n",
    "        pd.to_numeric(data[column])\n",
    "    except ValueError:\n",
    "        mixed_type_columns.append(column)\n",
    "\n",
    "# Display columns with mixed types\n",
    "print(\"Columns with mixed types:\", mixed_type_columns)"
   ]
  },
  {
   "cell_type": "code",
   "execution_count": null,
   "id": "e9ff497b-ef19-4878-9dee-507e5b7285d2",
   "metadata": {},
   "outputs": [],
   "source": []
  }
 ],
 "metadata": {
  "kernelspec": {
   "display_name": "Python 3",
   "language": "python",
   "name": "python3"
  },
  "language_info": {
   "codemirror_mode": {
    "name": "ipython",
    "version": 3
   },
   "file_extension": ".py",
   "mimetype": "text/x-python",
   "name": "python",
   "nbconvert_exporter": "python",
   "pygments_lexer": "ipython3",
   "version": "3.8.8"
  }
 },
 "nbformat": 4,
 "nbformat_minor": 5
}
