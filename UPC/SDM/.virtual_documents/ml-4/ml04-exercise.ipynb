


import numpy as np
import pandas as pd
import seaborn as sns

pd.set_option('display.precision', 3)
np.set_printoptions(precision=3)


bodyfat_data = pd.read_csv("bodyfatdata.txt", 
                        delim_whitespace=True, 
                        names=['triceps', 'thigh', 'midarm', 'bodyfat'])

N=bodyfat_data.shape[0]
bodyfat_data.describe()


bodyfat_data.head().sort_values(by='bodyfat')











life_expentancy_data = pd.read_csv('Life_Expectancy_Data.csv')
# We remove spaces and symbols to avoid problems with statsmodel GLM
life_expentancy_data.columns = [c.lower().strip().replace(' ','_').replace('/','_').replace('-','_') for c in life_expentancy_data.columns] 

# We change the type of categorical variables into category
categorical_columns = list(life_expentancy_data.dtypes[life_expentancy_data.dtypes == 'O'].index.values)
for column in categorical_columns:
    life_expentancy_data[column] = life_expentancy_data[column].astype('category')

life_expentancy_data.head()









