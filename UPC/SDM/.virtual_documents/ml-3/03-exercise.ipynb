


# Uncomment to upgrade packages
#!pip3 install tensorflow --user --upgrade --quiet
#!pip3 install keras --user --upgrade --quiet


%load_ext autoreload


import numpy as np
import pandas as pd
import tensorflow

pd.set_option('display.precision', 3)
np.set_printoptions(precision=3)





from keras.datasets import mnist
import matplotlib.pyplot as plt
 
#loading
(train_X, train_y), (test_X, test_y) = mnist.load_data()
 
#shape of dataset
print('X_train: ' + str(train_X.shape))
print('Y_train: ' + str(train_y.shape))
print('X_test:  '  + str(test_X.shape))
print('Y_test:  '  + str(test_y.shape))
 
#plotting
for i in range(9):  
    plt.subplot(330 + 1 + i)
    plt.imshow(train_X[i], cmap=plt.cm.gray)
    plt.axis('off')
    plt.title(f'label: {train_y[i]}')









