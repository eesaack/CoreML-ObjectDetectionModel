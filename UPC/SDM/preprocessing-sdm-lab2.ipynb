{
 "cells": [
  {
   "cell_type": "code",
   "execution_count": null,
   "id": "bf47fd7d-4eb2-4a2d-a6d5-6b2539616833",
   "metadata": {},
   "outputs": [],
   "source": []
  },
  {
   "cell_type": "code",
   "execution_count": 6,
   "id": "a6e52593-947d-49b4-9aa9-8c303b6f971d",
   "metadata": {},
   "outputs": [],
   "source": [
    "import pandas as pd"
   ]
  },
  {
   "cell_type": "code",
   "execution_count": 7,
   "id": "de3fdf2d-047f-41ce-a61d-5b6480867a59",
   "metadata": {},
   "outputs": [],
   "source": [
    "def modify_csv(file_path, output_path):\n",
    "    \n",
    "    data = pd.read_csv(file_path)\n",
    "    data.insert(0, 'authorID', ['a' + str(i) for i in range(len(data))])\n",
    "    data.rename(columns={'ID': 'authorRef'}, inplace=True)\n",
    "    data.to_csv(output_path, index=False)\n",
    "\n",
    "input_author_path = 'authors.csv'  \n",
    "output_author_path = 'authors1.csv' \n",
    "\n",
    "modify_csv(input_author_path,output_author_path)"
   ]
  },
  {
   "cell_type": "code",
   "execution_count": null,
   "id": "277f0e69-7c2d-4a2f-a2fd-041d81286508",
   "metadata": {},
   "outputs": [],
   "source": []
  },
  {
   "cell_type": "code",
   "execution_count": null,
   "id": "bb396e1c-696e-413c-95f9-d91263a20672",
   "metadata": {},
   "outputs": [],
   "source": []
  }
 ],
 "metadata": {
  "kernelspec": {
   "display_name": "Python 3",
   "language": "python",
   "name": "python3"
  },
  "language_info": {
   "codemirror_mode": {
    "name": "ipython",
    "version": 3
   },
   "file_extension": ".py",
   "mimetype": "text/x-python",
   "name": "python",
   "nbconvert_exporter": "python",
   "pygments_lexer": "ipython3",
   "version": "3.8.8"
  }
 },
 "nbformat": 4,
 "nbformat_minor": 5
}
