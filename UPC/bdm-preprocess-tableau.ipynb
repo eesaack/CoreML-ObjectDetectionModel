{
 "cells": [
  {
   "cell_type": "markdown",
   "id": "af33727e-2639-4761-81da-42d0c1cea16d",
   "metadata": {},
   "source": [
    "# Data Preprocessing for Visualization in Tableau"
   ]
  },
  {
   "cell_type": "code",
   "execution_count": 1,
   "id": "1dd7d026-e664-478d-bf53-66c2059b470d",
   "metadata": {},
   "outputs": [],
   "source": [
    "import json\n",
    "import csv"
   ]
  },
  {
   "cell_type": "markdown",
   "id": "a810da7c-5dd3-408d-ba20-5896a78ee009",
   "metadata": {},
   "source": [
    "Meetup Data from Json to Csv"
   ]
  },
  {
   "cell_type": "code",
   "execution_count": 4,
   "id": "6e90b475-6dde-4383-baac-089fca49d655",
   "metadata": {},
   "outputs": [],
   "source": [
    "# Open the JSON file\n",
    "with open('meetup-20240407.json') as file:\n",
    "    data = json.load(file)\n",
    "\n",
    "# Define the CSV file where the output must be stored\n",
    "csv_file = open('event.csv', 'w', newline='')\n",
    "csv_writer = csv.writer(csv_file)\n",
    "\n",
    "# Assuming that data is a list of dictionaries\n",
    "count = 0\n",
    "for item in data:\n",
    "    if count == 0:\n",
    "        # Writing headers of CSV file\n",
    "        header = item.keys()\n",
    "        csv_writer.writerow(header)\n",
    "        count += 1\n",
    "    # Check if '_id' is in the dictionary and format it\n",
    "    if '_id' in item and '$oid' in item['_id']:\n",
    "        item['_id'] = item['_id']['$oid']\n",
    "    # Writing data of CSV file\n",
    "    csv_writer.writerow(item.values())\n",
    "\n",
    "csv_file.close()"
   ]
  },
  {
   "cell_type": "markdown",
   "id": "a7c86378-f125-4517-9c6e-3484994828c2",
   "metadata": {},
   "source": [
    "Posts from Json to Csv"
   ]
  },
  {
   "cell_type": "code",
   "execution_count": 5,
   "id": "645cfa3e-42e9-4e9c-bbd7-c4e1eb460758",
   "metadata": {},
   "outputs": [],
   "source": [
    "with open('post-20240407.json') as file:\n",
    "    data = json.load(file)\n",
    "\n",
    "csv_file = open('post.csv', 'w', newline='')\n",
    "csv_writer = csv.writer(csv_file)\n",
    "\n",
    "count = 0\n",
    "for item in data:\n",
    "    if count == 0:\n",
    "        header = item.keys()\n",
    "        csv_writer.writerow(header)\n",
    "        count += 1\n",
    "    csv_writer.writerow(item.values())\n",
    "\n",
    "csv_file.close()"
   ]
  },
  {
   "cell_type": "markdown",
   "id": "cab9f8d1-47c2-49a9-a7b6-c4afb3ebed95",
   "metadata": {},
   "source": []
  },
  {
   "cell_type": "code",
   "execution_count": 7,
   "id": "26653c7e-1846-49a8-9e6a-a4f3251d32e9",
   "metadata": {},
   "outputs": [],
   "source": [
    "with open('system_data.postd_ata.json') as file:\n",
    "    data = json.load(file)\n",
    "\n",
    "csv_file = open('1post.csv', 'w', newline='')\n",
    "csv_writer = csv.writer(csv_file)\n",
    "\n",
    "count = 0\n",
    "for item in data:\n",
    "    if count == 0:\n",
    "        header = item.keys()\n",
    "        csv_writer.writerow(header)\n",
    "        count += 1\n",
    "    if '_id' in item and '$oid' in item['_id']:\n",
    "        item['_id'] = item['_id']['$oid']\n",
    "    csv_writer.writerow(item.values())\n",
    "\n",
    "csv_file.close()"
   ]
  },
  {
   "cell_type": "code",
   "execution_count": null,
   "id": "5f42576e-1b47-4e99-95f9-74e885c97390",
   "metadata": {},
   "outputs": [],
   "source": []
  }
 ],
 "metadata": {
  "kernelspec": {
   "display_name": "Python 3",
   "language": "python",
   "name": "python3"
  },
  "language_info": {
   "codemirror_mode": {
    "name": "ipython",
    "version": 3
   },
   "file_extension": ".py",
   "mimetype": "text/x-python",
   "name": "python",
   "nbconvert_exporter": "python",
   "pygments_lexer": "ipython3",
   "version": "3.8.8"
  }
 },
 "nbformat": 4,
 "nbformat_minor": 5
}
