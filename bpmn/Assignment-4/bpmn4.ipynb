{
 "cells": [
  {
   "cell_type": "code",
   "execution_count": 1,
   "id": "c843590f-388d-402a-b671-eb21095232b2",
   "metadata": {},
   "outputs": [],
   "source": [
    "import pandas as pd\n",
    "compas_data = pd.read_csv('/Users/eesaack/Downloads/compas-scores-two-years.csv')"
   ]
  },
  {
   "cell_type": "markdown",
   "id": "c7a53771-5f35-49ac-84aa-113636d5abab",
   "metadata": {},
   "source": [
    "<h1>Preprocess the Data</h1>\n",
    "<h5>Handle any missing data.</h5>\n",
    "<h5>Convert categorical variables to a format suitable for machine learning algorithms.</h5>\n",
    "<h5>Keep relevant features for your analysis.</h5>"
   ]
  },
  {
   "cell_type": "code",
   "execution_count": 2,
   "id": "f0c1e938-71af-414c-9adf-f09f42596254",
   "metadata": {},
   "outputs": [
    {
     "data": {
      "text/html": [
       "<div>\n",
       "<style scoped>\n",
       "    .dataframe tbody tr th:only-of-type {\n",
       "        vertical-align: middle;\n",
       "    }\n",
       "\n",
       "    .dataframe tbody tr th {\n",
       "        vertical-align: top;\n",
       "    }\n",
       "\n",
       "    .dataframe thead th {\n",
       "        text-align: right;\n",
       "    }\n",
       "</style>\n",
       "<table border=\"1\" class=\"dataframe\">\n",
       "  <thead>\n",
       "    <tr style=\"text-align: right;\">\n",
       "      <th></th>\n",
       "      <th>id</th>\n",
       "      <th>name</th>\n",
       "      <th>first</th>\n",
       "      <th>last</th>\n",
       "      <th>compas_screening_date</th>\n",
       "      <th>sex</th>\n",
       "      <th>dob</th>\n",
       "      <th>age</th>\n",
       "      <th>age_cat</th>\n",
       "      <th>race</th>\n",
       "      <th>...</th>\n",
       "      <th>v_decile_score</th>\n",
       "      <th>v_score_text</th>\n",
       "      <th>v_screening_date</th>\n",
       "      <th>in_custody</th>\n",
       "      <th>out_custody</th>\n",
       "      <th>priors_count.1</th>\n",
       "      <th>start</th>\n",
       "      <th>end</th>\n",
       "      <th>event</th>\n",
       "      <th>two_year_recid</th>\n",
       "    </tr>\n",
       "  </thead>\n",
       "  <tbody>\n",
       "    <tr>\n",
       "      <th>0</th>\n",
       "      <td>1</td>\n",
       "      <td>miguel hernandez</td>\n",
       "      <td>miguel</td>\n",
       "      <td>hernandez</td>\n",
       "      <td>2013-08-14</td>\n",
       "      <td>Male</td>\n",
       "      <td>1947-04-18</td>\n",
       "      <td>69</td>\n",
       "      <td>Greater than 45</td>\n",
       "      <td>Other</td>\n",
       "      <td>...</td>\n",
       "      <td>1</td>\n",
       "      <td>Low</td>\n",
       "      <td>2013-08-14</td>\n",
       "      <td>2014-07-07</td>\n",
       "      <td>2014-07-14</td>\n",
       "      <td>0</td>\n",
       "      <td>0</td>\n",
       "      <td>327</td>\n",
       "      <td>0</td>\n",
       "      <td>0</td>\n",
       "    </tr>\n",
       "    <tr>\n",
       "      <th>1</th>\n",
       "      <td>3</td>\n",
       "      <td>kevon dixon</td>\n",
       "      <td>kevon</td>\n",
       "      <td>dixon</td>\n",
       "      <td>2013-01-27</td>\n",
       "      <td>Male</td>\n",
       "      <td>1982-01-22</td>\n",
       "      <td>34</td>\n",
       "      <td>25 - 45</td>\n",
       "      <td>African-American</td>\n",
       "      <td>...</td>\n",
       "      <td>1</td>\n",
       "      <td>Low</td>\n",
       "      <td>2013-01-27</td>\n",
       "      <td>2013-01-26</td>\n",
       "      <td>2013-02-05</td>\n",
       "      <td>0</td>\n",
       "      <td>9</td>\n",
       "      <td>159</td>\n",
       "      <td>1</td>\n",
       "      <td>1</td>\n",
       "    </tr>\n",
       "    <tr>\n",
       "      <th>2</th>\n",
       "      <td>4</td>\n",
       "      <td>ed philo</td>\n",
       "      <td>ed</td>\n",
       "      <td>philo</td>\n",
       "      <td>2013-04-14</td>\n",
       "      <td>Male</td>\n",
       "      <td>1991-05-14</td>\n",
       "      <td>24</td>\n",
       "      <td>Less than 25</td>\n",
       "      <td>African-American</td>\n",
       "      <td>...</td>\n",
       "      <td>3</td>\n",
       "      <td>Low</td>\n",
       "      <td>2013-04-14</td>\n",
       "      <td>2013-06-16</td>\n",
       "      <td>2013-06-16</td>\n",
       "      <td>4</td>\n",
       "      <td>0</td>\n",
       "      <td>63</td>\n",
       "      <td>0</td>\n",
       "      <td>1</td>\n",
       "    </tr>\n",
       "    <tr>\n",
       "      <th>3</th>\n",
       "      <td>5</td>\n",
       "      <td>marcu brown</td>\n",
       "      <td>marcu</td>\n",
       "      <td>brown</td>\n",
       "      <td>2013-01-13</td>\n",
       "      <td>Male</td>\n",
       "      <td>1993-01-21</td>\n",
       "      <td>23</td>\n",
       "      <td>Less than 25</td>\n",
       "      <td>African-American</td>\n",
       "      <td>...</td>\n",
       "      <td>6</td>\n",
       "      <td>Medium</td>\n",
       "      <td>2013-01-13</td>\n",
       "      <td>NaN</td>\n",
       "      <td>NaN</td>\n",
       "      <td>1</td>\n",
       "      <td>0</td>\n",
       "      <td>1174</td>\n",
       "      <td>0</td>\n",
       "      <td>0</td>\n",
       "    </tr>\n",
       "    <tr>\n",
       "      <th>4</th>\n",
       "      <td>6</td>\n",
       "      <td>bouthy pierrelouis</td>\n",
       "      <td>bouthy</td>\n",
       "      <td>pierrelouis</td>\n",
       "      <td>2013-03-26</td>\n",
       "      <td>Male</td>\n",
       "      <td>1973-01-22</td>\n",
       "      <td>43</td>\n",
       "      <td>25 - 45</td>\n",
       "      <td>Other</td>\n",
       "      <td>...</td>\n",
       "      <td>1</td>\n",
       "      <td>Low</td>\n",
       "      <td>2013-03-26</td>\n",
       "      <td>NaN</td>\n",
       "      <td>NaN</td>\n",
       "      <td>2</td>\n",
       "      <td>0</td>\n",
       "      <td>1102</td>\n",
       "      <td>0</td>\n",
       "      <td>0</td>\n",
       "    </tr>\n",
       "  </tbody>\n",
       "</table>\n",
       "<p>5 rows × 53 columns</p>\n",
       "</div>"
      ],
      "text/plain": [
       "   id                name   first         last compas_screening_date   sex  \\\n",
       "0   1    miguel hernandez  miguel    hernandez            2013-08-14  Male   \n",
       "1   3         kevon dixon   kevon        dixon            2013-01-27  Male   \n",
       "2   4            ed philo      ed        philo            2013-04-14  Male   \n",
       "3   5         marcu brown   marcu        brown            2013-01-13  Male   \n",
       "4   6  bouthy pierrelouis  bouthy  pierrelouis            2013-03-26  Male   \n",
       "\n",
       "          dob  age          age_cat              race  ...  v_decile_score  \\\n",
       "0  1947-04-18   69  Greater than 45             Other  ...               1   \n",
       "1  1982-01-22   34          25 - 45  African-American  ...               1   \n",
       "2  1991-05-14   24     Less than 25  African-American  ...               3   \n",
       "3  1993-01-21   23     Less than 25  African-American  ...               6   \n",
       "4  1973-01-22   43          25 - 45             Other  ...               1   \n",
       "\n",
       "   v_score_text  v_screening_date  in_custody  out_custody  priors_count.1  \\\n",
       "0           Low        2013-08-14  2014-07-07   2014-07-14               0   \n",
       "1           Low        2013-01-27  2013-01-26   2013-02-05               0   \n",
       "2           Low        2013-04-14  2013-06-16   2013-06-16               4   \n",
       "3        Medium        2013-01-13         NaN          NaN               1   \n",
       "4           Low        2013-03-26         NaN          NaN               2   \n",
       "\n",
       "  start   end event two_year_recid  \n",
       "0     0   327     0              0  \n",
       "1     9   159     1              1  \n",
       "2     0    63     0              1  \n",
       "3     0  1174     0              0  \n",
       "4     0  1102     0              0  \n",
       "\n",
       "[5 rows x 53 columns]"
      ]
     },
     "execution_count": 2,
     "metadata": {},
     "output_type": "execute_result"
    }
   ],
   "source": [
    "compas_data.head(5)"
   ]
  },
  {
   "cell_type": "code",
   "execution_count": 3,
   "id": "f76d2d74-08bc-4687-a189-db4fa31224ec",
   "metadata": {},
   "outputs": [
    {
     "data": {
      "text/plain": [
       "(7214, 53)"
      ]
     },
     "execution_count": 3,
     "metadata": {},
     "output_type": "execute_result"
    }
   ],
   "source": [
    "compas_data.shape"
   ]
  },
  {
   "cell_type": "code",
   "execution_count": 4,
   "id": "d1ebc580-d3b9-49a5-8c55-2a50eeb4fa93",
   "metadata": {},
   "outputs": [
    {
     "name": "stdout",
     "output_type": "stream",
     "text": [
      "0\n"
     ]
    }
   ],
   "source": [
    "duplicates = compas_data.duplicated()\n",
    "print(duplicates.sum())"
   ]
  },
  {
   "cell_type": "markdown",
   "id": "c7638e5b-3af5-4e6b-bf93-439db19947f0",
   "metadata": {},
   "source": [
    "<h1>Handle Missing Values</h1>"
   ]
  },
  {
   "cell_type": "code",
   "execution_count": 5,
   "id": "3ad48c29-0e24-4bfa-89a3-f146f3723825",
   "metadata": {},
   "outputs": [
    {
     "data": {
      "text/plain": [
       "id                            0\n",
       "name                          0\n",
       "first                         0\n",
       "last                          0\n",
       "compas_screening_date         0\n",
       "sex                           0\n",
       "dob                           0\n",
       "age                           0\n",
       "age_cat                       0\n",
       "race                          0\n",
       "juv_fel_count                 0\n",
       "decile_score                  0\n",
       "juv_misd_count                0\n",
       "juv_other_count               0\n",
       "priors_count                  0\n",
       "days_b_screening_arrest     307\n",
       "c_jail_in                   307\n",
       "c_jail_out                  307\n",
       "c_case_number                22\n",
       "c_offense_date             1159\n",
       "c_arrest_date              6077\n",
       "c_days_from_compas           22\n",
       "c_charge_degree               0\n",
       "c_charge_desc                29\n",
       "is_recid                      0\n",
       "r_case_number              3743\n",
       "r_charge_degree            3743\n",
       "r_days_from_arrest         4898\n",
       "r_offense_date             3743\n",
       "r_charge_desc              3801\n",
       "r_jail_in                  4898\n",
       "r_jail_out                 4898\n",
       "violent_recid              7214\n",
       "is_violent_recid              0\n",
       "vr_case_number             6395\n",
       "vr_charge_degree           6395\n",
       "vr_offense_date            6395\n",
       "vr_charge_desc             6395\n",
       "type_of_assessment            0\n",
       "decile_score.1                0\n",
       "score_text                    0\n",
       "screening_date                0\n",
       "v_type_of_assessment          0\n",
       "v_decile_score                0\n",
       "v_score_text                  0\n",
       "v_screening_date              0\n",
       "in_custody                  236\n",
       "out_custody                 236\n",
       "priors_count.1                0\n",
       "start                         0\n",
       "end                           0\n",
       "event                         0\n",
       "two_year_recid                0\n",
       "dtype: int64"
      ]
     },
     "execution_count": 5,
     "metadata": {},
     "output_type": "execute_result"
    }
   ],
   "source": [
    "# Check for missing values\n",
    "compas_data.isnull().sum()\n",
    "\n",
    "# Fill missing values, for example:\n",
    "# df.fillna(method='ffill', inplace=True)  # Forward fill\n",
    "# df.dropna(inplace=True)  # Drop rows with missing values"
   ]
  },
  {
   "cell_type": "code",
   "execution_count": null,
   "id": "936468ae-0f84-4aea-85eb-4ddc13e6b578",
   "metadata": {},
   "outputs": [],
   "source": [
    "# Preprocessing (this is an example; adjust based on your dataset)\n",
    "# Handle missing values, encode categorical variables, etc.\n",
    "# compas_data = compas_data.dropna()  # Example: Dropping missing values\n",
    "# compas_data['some_categorical_feature'] = pd.get_dummies(compas_data['some_categorical_feature'])"
   ]
  },
  {
   "cell_type": "markdown",
   "id": "424577c9-0a5b-4fc8-8348-c30c2237b1bd",
   "metadata": {},
   "source": [
    "<h3>These columns have a substantial amount of missing data.</h3>\n",
    "<h3>They can be dropped since they are not important for further analysis:</h3>\n",
    "\n",
    "<h5>c_offense_date, c_arrest_date, r_case_number,</h5>\n",
    "<h5>r_charge_degree, r_days_from_arrest,</h5>\n",
    "<h5>r_offense_date, r_charge_desc, r_jail_in,</h5> \n",
    "<h5>r_jail_out, violent_recid, vr_case_number,</h5>\n",
    "<h5>vr_charge_degree</h5>"
   ]
  },
  {
   "cell_type": "code",
   "execution_count": 6,
   "id": "81ffc84a-25ed-447f-9b39-02f802f90b73",
   "metadata": {},
   "outputs": [
    {
     "data": {
      "text/html": [
       "<div>\n",
       "<style scoped>\n",
       "    .dataframe tbody tr th:only-of-type {\n",
       "        vertical-align: middle;\n",
       "    }\n",
       "\n",
       "    .dataframe tbody tr th {\n",
       "        vertical-align: top;\n",
       "    }\n",
       "\n",
       "    .dataframe thead th {\n",
       "        text-align: right;\n",
       "    }\n",
       "</style>\n",
       "<table border=\"1\" class=\"dataframe\">\n",
       "  <thead>\n",
       "    <tr style=\"text-align: right;\">\n",
       "      <th></th>\n",
       "      <th>id</th>\n",
       "      <th>name</th>\n",
       "      <th>first</th>\n",
       "      <th>last</th>\n",
       "      <th>compas_screening_date</th>\n",
       "      <th>sex</th>\n",
       "      <th>dob</th>\n",
       "      <th>age</th>\n",
       "      <th>age_cat</th>\n",
       "      <th>race</th>\n",
       "      <th>...</th>\n",
       "      <th>screening_date</th>\n",
       "      <th>v_type_of_assessment</th>\n",
       "      <th>v_decile_score</th>\n",
       "      <th>v_score_text</th>\n",
       "      <th>v_screening_date</th>\n",
       "      <th>priors_count.1</th>\n",
       "      <th>start</th>\n",
       "      <th>end</th>\n",
       "      <th>event</th>\n",
       "      <th>two_year_recid</th>\n",
       "    </tr>\n",
       "  </thead>\n",
       "  <tbody>\n",
       "    <tr>\n",
       "      <th>0</th>\n",
       "      <td>1</td>\n",
       "      <td>miguel hernandez</td>\n",
       "      <td>miguel</td>\n",
       "      <td>hernandez</td>\n",
       "      <td>2013-08-14</td>\n",
       "      <td>Male</td>\n",
       "      <td>1947-04-18</td>\n",
       "      <td>69</td>\n",
       "      <td>Greater than 45</td>\n",
       "      <td>Other</td>\n",
       "      <td>...</td>\n",
       "      <td>2013-08-14</td>\n",
       "      <td>Risk of Violence</td>\n",
       "      <td>1</td>\n",
       "      <td>Low</td>\n",
       "      <td>2013-08-14</td>\n",
       "      <td>0</td>\n",
       "      <td>0</td>\n",
       "      <td>327</td>\n",
       "      <td>0</td>\n",
       "      <td>0</td>\n",
       "    </tr>\n",
       "    <tr>\n",
       "      <th>1</th>\n",
       "      <td>3</td>\n",
       "      <td>kevon dixon</td>\n",
       "      <td>kevon</td>\n",
       "      <td>dixon</td>\n",
       "      <td>2013-01-27</td>\n",
       "      <td>Male</td>\n",
       "      <td>1982-01-22</td>\n",
       "      <td>34</td>\n",
       "      <td>25 - 45</td>\n",
       "      <td>African-American</td>\n",
       "      <td>...</td>\n",
       "      <td>2013-01-27</td>\n",
       "      <td>Risk of Violence</td>\n",
       "      <td>1</td>\n",
       "      <td>Low</td>\n",
       "      <td>2013-01-27</td>\n",
       "      <td>0</td>\n",
       "      <td>9</td>\n",
       "      <td>159</td>\n",
       "      <td>1</td>\n",
       "      <td>1</td>\n",
       "    </tr>\n",
       "    <tr>\n",
       "      <th>2</th>\n",
       "      <td>4</td>\n",
       "      <td>ed philo</td>\n",
       "      <td>ed</td>\n",
       "      <td>philo</td>\n",
       "      <td>2013-04-14</td>\n",
       "      <td>Male</td>\n",
       "      <td>1991-05-14</td>\n",
       "      <td>24</td>\n",
       "      <td>Less than 25</td>\n",
       "      <td>African-American</td>\n",
       "      <td>...</td>\n",
       "      <td>2013-04-14</td>\n",
       "      <td>Risk of Violence</td>\n",
       "      <td>3</td>\n",
       "      <td>Low</td>\n",
       "      <td>2013-04-14</td>\n",
       "      <td>4</td>\n",
       "      <td>0</td>\n",
       "      <td>63</td>\n",
       "      <td>0</td>\n",
       "      <td>1</td>\n",
       "    </tr>\n",
       "    <tr>\n",
       "      <th>3</th>\n",
       "      <td>5</td>\n",
       "      <td>marcu brown</td>\n",
       "      <td>marcu</td>\n",
       "      <td>brown</td>\n",
       "      <td>2013-01-13</td>\n",
       "      <td>Male</td>\n",
       "      <td>1993-01-21</td>\n",
       "      <td>23</td>\n",
       "      <td>Less than 25</td>\n",
       "      <td>African-American</td>\n",
       "      <td>...</td>\n",
       "      <td>2013-01-13</td>\n",
       "      <td>Risk of Violence</td>\n",
       "      <td>6</td>\n",
       "      <td>Medium</td>\n",
       "      <td>2013-01-13</td>\n",
       "      <td>1</td>\n",
       "      <td>0</td>\n",
       "      <td>1174</td>\n",
       "      <td>0</td>\n",
       "      <td>0</td>\n",
       "    </tr>\n",
       "    <tr>\n",
       "      <th>4</th>\n",
       "      <td>6</td>\n",
       "      <td>bouthy pierrelouis</td>\n",
       "      <td>bouthy</td>\n",
       "      <td>pierrelouis</td>\n",
       "      <td>2013-03-26</td>\n",
       "      <td>Male</td>\n",
       "      <td>1973-01-22</td>\n",
       "      <td>43</td>\n",
       "      <td>25 - 45</td>\n",
       "      <td>Other</td>\n",
       "      <td>...</td>\n",
       "      <td>2013-03-26</td>\n",
       "      <td>Risk of Violence</td>\n",
       "      <td>1</td>\n",
       "      <td>Low</td>\n",
       "      <td>2013-03-26</td>\n",
       "      <td>2</td>\n",
       "      <td>0</td>\n",
       "      <td>1102</td>\n",
       "      <td>0</td>\n",
       "      <td>0</td>\n",
       "    </tr>\n",
       "  </tbody>\n",
       "</table>\n",
       "<p>5 rows × 31 columns</p>\n",
       "</div>"
      ],
      "text/plain": [
       "   id                name   first         last compas_screening_date   sex  \\\n",
       "0   1    miguel hernandez  miguel    hernandez            2013-08-14  Male   \n",
       "1   3         kevon dixon   kevon        dixon            2013-01-27  Male   \n",
       "2   4            ed philo      ed        philo            2013-04-14  Male   \n",
       "3   5         marcu brown   marcu        brown            2013-01-13  Male   \n",
       "4   6  bouthy pierrelouis  bouthy  pierrelouis            2013-03-26  Male   \n",
       "\n",
       "          dob  age          age_cat              race  ...  screening_date  \\\n",
       "0  1947-04-18   69  Greater than 45             Other  ...      2013-08-14   \n",
       "1  1982-01-22   34          25 - 45  African-American  ...      2013-01-27   \n",
       "2  1991-05-14   24     Less than 25  African-American  ...      2013-04-14   \n",
       "3  1993-01-21   23     Less than 25  African-American  ...      2013-01-13   \n",
       "4  1973-01-22   43          25 - 45             Other  ...      2013-03-26   \n",
       "\n",
       "   v_type_of_assessment  v_decile_score  v_score_text  v_screening_date  \\\n",
       "0      Risk of Violence               1           Low        2013-08-14   \n",
       "1      Risk of Violence               1           Low        2013-01-27   \n",
       "2      Risk of Violence               3           Low        2013-04-14   \n",
       "3      Risk of Violence               6        Medium        2013-01-13   \n",
       "4      Risk of Violence               1           Low        2013-03-26   \n",
       "\n",
       "  priors_count.1  start   end event  two_year_recid  \n",
       "0              0      0   327     0               0  \n",
       "1              0      9   159     1               1  \n",
       "2              4      0    63     0               1  \n",
       "3              1      0  1174     0               0  \n",
       "4              2      0  1102     0               0  \n",
       "\n",
       "[5 rows x 31 columns]"
      ]
     },
     "execution_count": 6,
     "metadata": {},
     "output_type": "execute_result"
    }
   ],
   "source": [
    "compas_data.drop(['c_offense_date','c_arrest_date', 'r_case_number', \n",
    "                 'r_charge_degree','r_days_from_arrest', 'r_offense_date', \n",
    "                 'r_charge_desc', 'r_jail_in', 'r_jail_out', 'violent_recid', \n",
    "                 'vr_case_number','vr_charge_degree', 'c_jail_in', 'c_jail_out', \n",
    "                 'days_b_screening_arrest', 'in_custody', 'out_custody', \n",
    "                 'c_case_number','c_days_from_compas', 'c_charge_desc','vr_offense_date', \n",
    "                 'vr_charge_desc'], axis=1, inplace=True)\n",
    "compas_data.head(5)"
   ]
  },
  {
   "cell_type": "code",
   "execution_count": 7,
   "id": "4eeca47e-eeb2-4bf9-af29-92aa2cfda73c",
   "metadata": {},
   "outputs": [
    {
     "data": {
      "text/plain": [
       "id                       0\n",
       "name                     0\n",
       "first                    0\n",
       "last                     0\n",
       "compas_screening_date    0\n",
       "sex                      0\n",
       "dob                      0\n",
       "age                      0\n",
       "age_cat                  0\n",
       "race                     0\n",
       "juv_fel_count            0\n",
       "decile_score             0\n",
       "juv_misd_count           0\n",
       "juv_other_count          0\n",
       "priors_count             0\n",
       "c_charge_degree          0\n",
       "is_recid                 0\n",
       "is_violent_recid         0\n",
       "type_of_assessment       0\n",
       "decile_score.1           0\n",
       "score_text               0\n",
       "screening_date           0\n",
       "v_type_of_assessment     0\n",
       "v_decile_score           0\n",
       "v_score_text             0\n",
       "v_screening_date         0\n",
       "priors_count.1           0\n",
       "start                    0\n",
       "end                      0\n",
       "event                    0\n",
       "two_year_recid           0\n",
       "dtype: int64"
      ]
     },
     "execution_count": 7,
     "metadata": {},
     "output_type": "execute_result"
    }
   ],
   "source": [
    "compas_data.isnull().sum()"
   ]
  },
  {
   "cell_type": "markdown",
   "id": "1e508c60-9c62-4566-ae17-a663cd4edbbf",
   "metadata": {},
   "source": [
    "<h3>In the COMPAS dataset we have categorical variables like race, sex etc. So, they don't have an ordinal relationship. \n",
    "That is why we use One-Hot Encoding.</h3>"
   ]
  },
  {
   "cell_type": "code",
   "execution_count": 8,
   "id": "068ada80-db0d-4ec3-8ef3-3acd981c1c69",
   "metadata": {},
   "outputs": [],
   "source": [
    "# One-Hot Encoding\n",
    "categorical_columns = ['race', 'sex', 'age_cat', 'is_recid', 'two_year_recid']\n",
    "compas_data = pd.get_dummies(compas_data, columns=categorical_columns)"
   ]
  },
  {
   "cell_type": "code",
   "execution_count": 9,
   "id": "b7a6eadb-7696-4907-9b94-3f1a6023080b",
   "metadata": {},
   "outputs": [
    {
     "data": {
      "text/html": [
       "<div>\n",
       "<style scoped>\n",
       "    .dataframe tbody tr th:only-of-type {\n",
       "        vertical-align: middle;\n",
       "    }\n",
       "\n",
       "    .dataframe tbody tr th {\n",
       "        vertical-align: top;\n",
       "    }\n",
       "\n",
       "    .dataframe thead th {\n",
       "        text-align: right;\n",
       "    }\n",
       "</style>\n",
       "<table border=\"1\" class=\"dataframe\">\n",
       "  <thead>\n",
       "    <tr style=\"text-align: right;\">\n",
       "      <th></th>\n",
       "      <th>id</th>\n",
       "      <th>name</th>\n",
       "      <th>first</th>\n",
       "      <th>last</th>\n",
       "      <th>compas_screening_date</th>\n",
       "      <th>dob</th>\n",
       "      <th>age</th>\n",
       "      <th>juv_fel_count</th>\n",
       "      <th>decile_score</th>\n",
       "      <th>juv_misd_count</th>\n",
       "      <th>...</th>\n",
       "      <th>race_Other</th>\n",
       "      <th>sex_Female</th>\n",
       "      <th>sex_Male</th>\n",
       "      <th>age_cat_25 - 45</th>\n",
       "      <th>age_cat_Greater than 45</th>\n",
       "      <th>age_cat_Less than 25</th>\n",
       "      <th>is_recid_0</th>\n",
       "      <th>is_recid_1</th>\n",
       "      <th>two_year_recid_0</th>\n",
       "      <th>two_year_recid_1</th>\n",
       "    </tr>\n",
       "  </thead>\n",
       "  <tbody>\n",
       "    <tr>\n",
       "      <th>0</th>\n",
       "      <td>1</td>\n",
       "      <td>miguel hernandez</td>\n",
       "      <td>miguel</td>\n",
       "      <td>hernandez</td>\n",
       "      <td>2013-08-14</td>\n",
       "      <td>1947-04-18</td>\n",
       "      <td>69</td>\n",
       "      <td>0</td>\n",
       "      <td>1</td>\n",
       "      <td>0</td>\n",
       "      <td>...</td>\n",
       "      <td>1</td>\n",
       "      <td>0</td>\n",
       "      <td>1</td>\n",
       "      <td>0</td>\n",
       "      <td>1</td>\n",
       "      <td>0</td>\n",
       "      <td>1</td>\n",
       "      <td>0</td>\n",
       "      <td>1</td>\n",
       "      <td>0</td>\n",
       "    </tr>\n",
       "    <tr>\n",
       "      <th>1</th>\n",
       "      <td>3</td>\n",
       "      <td>kevon dixon</td>\n",
       "      <td>kevon</td>\n",
       "      <td>dixon</td>\n",
       "      <td>2013-01-27</td>\n",
       "      <td>1982-01-22</td>\n",
       "      <td>34</td>\n",
       "      <td>0</td>\n",
       "      <td>3</td>\n",
       "      <td>0</td>\n",
       "      <td>...</td>\n",
       "      <td>0</td>\n",
       "      <td>0</td>\n",
       "      <td>1</td>\n",
       "      <td>1</td>\n",
       "      <td>0</td>\n",
       "      <td>0</td>\n",
       "      <td>0</td>\n",
       "      <td>1</td>\n",
       "      <td>0</td>\n",
       "      <td>1</td>\n",
       "    </tr>\n",
       "    <tr>\n",
       "      <th>2</th>\n",
       "      <td>4</td>\n",
       "      <td>ed philo</td>\n",
       "      <td>ed</td>\n",
       "      <td>philo</td>\n",
       "      <td>2013-04-14</td>\n",
       "      <td>1991-05-14</td>\n",
       "      <td>24</td>\n",
       "      <td>0</td>\n",
       "      <td>4</td>\n",
       "      <td>0</td>\n",
       "      <td>...</td>\n",
       "      <td>0</td>\n",
       "      <td>0</td>\n",
       "      <td>1</td>\n",
       "      <td>0</td>\n",
       "      <td>0</td>\n",
       "      <td>1</td>\n",
       "      <td>0</td>\n",
       "      <td>1</td>\n",
       "      <td>0</td>\n",
       "      <td>1</td>\n",
       "    </tr>\n",
       "    <tr>\n",
       "      <th>3</th>\n",
       "      <td>5</td>\n",
       "      <td>marcu brown</td>\n",
       "      <td>marcu</td>\n",
       "      <td>brown</td>\n",
       "      <td>2013-01-13</td>\n",
       "      <td>1993-01-21</td>\n",
       "      <td>23</td>\n",
       "      <td>0</td>\n",
       "      <td>8</td>\n",
       "      <td>1</td>\n",
       "      <td>...</td>\n",
       "      <td>0</td>\n",
       "      <td>0</td>\n",
       "      <td>1</td>\n",
       "      <td>0</td>\n",
       "      <td>0</td>\n",
       "      <td>1</td>\n",
       "      <td>1</td>\n",
       "      <td>0</td>\n",
       "      <td>1</td>\n",
       "      <td>0</td>\n",
       "    </tr>\n",
       "    <tr>\n",
       "      <th>4</th>\n",
       "      <td>6</td>\n",
       "      <td>bouthy pierrelouis</td>\n",
       "      <td>bouthy</td>\n",
       "      <td>pierrelouis</td>\n",
       "      <td>2013-03-26</td>\n",
       "      <td>1973-01-22</td>\n",
       "      <td>43</td>\n",
       "      <td>0</td>\n",
       "      <td>1</td>\n",
       "      <td>0</td>\n",
       "      <td>...</td>\n",
       "      <td>1</td>\n",
       "      <td>0</td>\n",
       "      <td>1</td>\n",
       "      <td>1</td>\n",
       "      <td>0</td>\n",
       "      <td>0</td>\n",
       "      <td>1</td>\n",
       "      <td>0</td>\n",
       "      <td>1</td>\n",
       "      <td>0</td>\n",
       "    </tr>\n",
       "  </tbody>\n",
       "</table>\n",
       "<p>5 rows × 41 columns</p>\n",
       "</div>"
      ],
      "text/plain": [
       "   id                name   first         last compas_screening_date  \\\n",
       "0   1    miguel hernandez  miguel    hernandez            2013-08-14   \n",
       "1   3         kevon dixon   kevon        dixon            2013-01-27   \n",
       "2   4            ed philo      ed        philo            2013-04-14   \n",
       "3   5         marcu brown   marcu        brown            2013-01-13   \n",
       "4   6  bouthy pierrelouis  bouthy  pierrelouis            2013-03-26   \n",
       "\n",
       "          dob  age  juv_fel_count  decile_score  juv_misd_count  ...  \\\n",
       "0  1947-04-18   69              0             1               0  ...   \n",
       "1  1982-01-22   34              0             3               0  ...   \n",
       "2  1991-05-14   24              0             4               0  ...   \n",
       "3  1993-01-21   23              0             8               1  ...   \n",
       "4  1973-01-22   43              0             1               0  ...   \n",
       "\n",
       "   race_Other  sex_Female sex_Male  age_cat_25 - 45 age_cat_Greater than 45  \\\n",
       "0           1           0        1                0                       1   \n",
       "1           0           0        1                1                       0   \n",
       "2           0           0        1                0                       0   \n",
       "3           0           0        1                0                       0   \n",
       "4           1           0        1                1                       0   \n",
       "\n",
       "   age_cat_Less than 25 is_recid_0 is_recid_1 two_year_recid_0  \\\n",
       "0                     0          1          0                1   \n",
       "1                     0          0          1                0   \n",
       "2                     1          0          1                0   \n",
       "3                     1          1          0                1   \n",
       "4                     0          1          0                1   \n",
       "\n",
       "   two_year_recid_1  \n",
       "0                 0  \n",
       "1                 1  \n",
       "2                 1  \n",
       "3                 0  \n",
       "4                 0  \n",
       "\n",
       "[5 rows x 41 columns]"
      ]
     },
     "execution_count": 9,
     "metadata": {},
     "output_type": "execute_result"
    }
   ],
   "source": [
    "compas_data.head(5)"
   ]
  },
  {
   "cell_type": "markdown",
   "id": "ae17bb35-30e2-4df6-883f-16fbd86ed499",
   "metadata": {},
   "source": [
    "<h1>Assignment 4: Fairness with IBM AIF360</h1>"
   ]
  },
  {
   "cell_type": "code",
   "execution_count": 10,
   "id": "388cac77-f2a2-46e6-a4a6-6a336d7b7708",
   "metadata": {},
   "outputs": [],
   "source": [
    "%matplotlib inline\n",
    "# Load all necessary packages\n",
    "import sys\n",
    "sys.path.append(\"../\")\n",
    "import numpy as np\n",
    "from tqdm import tqdm"
   ]
  },
  {
   "cell_type": "code",
   "execution_count": 6,
   "id": "10cffd07-5961-41a7-bc2c-44a3aabc466b",
   "metadata": {},
   "outputs": [],
   "source": [
    "from aif360.datasets import BinaryLabelDataset"
   ]
  },
  {
   "cell_type": "code",
   "execution_count": 3,
   "id": "7c4cca98-1442-4fd9-85bc-0f42b7ccba40",
   "metadata": {},
   "outputs": [],
   "source": [
    "from aif360.algorithms.preprocessing.optim_preproc_helpers.data_preproc_functions import load_preproc_data_compas"
   ]
  },
  {
   "cell_type": "code",
   "execution_count": 5,
   "id": "8ed5f7ee-1a78-4088-ad51-dc91a51b9435",
   "metadata": {},
   "outputs": [],
   "source": [
    "dataset = load_preproc_data_compas()"
   ]
  },
  {
   "cell_type": "markdown",
   "id": "e4ce14a3-92ba-47f7-8968-d1d939dc7a87",
   "metadata": {},
   "source": [
    "<h2>Exercise 1</h2>"
   ]
  },
  {
   "cell_type": "code",
   "execution_count": 15,
   "id": "1114ee3e-9b94-42ba-bf0b-a108a426d8cc",
   "metadata": {},
   "outputs": [],
   "source": [
    "from aif360.datasets import BinaryLabelDataset\n",
    "from aif360.datasets import CompasDataset\n",
    "from aif360.algorithms.preprocessing.optim_preproc_helpers.data_preproc_functions import load_preproc_data_compas\n",
    "\n",
    "# Load and preprocess the COMPAS dataset\n",
    "dataset = load_preproc_data_compas()"
   ]
  },
  {
   "cell_type": "markdown",
   "id": "7e513f34-b649-48a8-91e2-bf797df0b6b7",
   "metadata": {},
   "source": [
    "<h3> 1. Split dataset into 70% training and 30% testing</h3>"
   ]
  },
  {
   "cell_type": "code",
   "execution_count": 16,
   "id": "23ffa31f-8d06-4c21-a716-7f3fd6be0e78",
   "metadata": {},
   "outputs": [],
   "source": [
    "train, test = dataset.split([0.7], shuffle=True)"
   ]
  },
  {
   "cell_type": "markdown",
   "id": "c50cd60a-a042-4dc1-b0d2-f84a79e03b53",
   "metadata": {},
   "source": [
    "<h3>2. Apply Reweighing</h3>"
   ]
  },
  {
   "cell_type": "code",
   "execution_count": 17,
   "id": "a55782d7-6966-45c1-8adf-015c79af4f07",
   "metadata": {},
   "outputs": [],
   "source": [
    "from aif360.algorithms.preprocessing import Reweighing"
   ]
  },
  {
   "cell_type": "markdown",
   "id": "14c81442-a3ad-4c6d-a577-1711e8620333",
   "metadata": {},
   "source": [
    "<h3>Define privileged and unprivileged groups for RACE</h3>"
   ]
  },
  {
   "cell_type": "code",
   "execution_count": 18,
   "id": "fffb3f68-c302-45ef-882d-dfd6413b0c57",
   "metadata": {},
   "outputs": [],
   "source": [
    "privileged_groups = [{'race': 1}]\n",
    "unprivileged_groups = [{'race': 0}]"
   ]
  },
  {
   "cell_type": "markdown",
   "id": "bb626a3d-a1a6-4c16-a0c8-832ddde324f1",
   "metadata": {},
   "source": [
    "<h3>Apply reweighing to the training data</h3>"
   ]
  },
  {
   "cell_type": "code",
   "execution_count": 19,
   "id": "ef6870d3-40b0-4b8d-81d3-c493a65e8c0b",
   "metadata": {},
   "outputs": [],
   "source": [
    "RW = Reweighing(unprivileged_groups=unprivileged_groups, privileged_groups=privileged_groups)\n",
    "train_rw = RW.fit_transform(train)"
   ]
  },
  {
   "cell_type": "markdown",
   "id": "27e85bb7-221d-4726-b2d9-940e91e811ac",
   "metadata": {},
   "source": [
    "<h3>3. Train Logistic Regression Model</h3>"
   ]
  },
  {
   "cell_type": "code",
   "execution_count": 20,
   "id": "049706aa-05c1-43c8-919c-42f3b3085bb7",
   "metadata": {},
   "outputs": [],
   "source": [
    "from sklearn.linear_model import LogisticRegression"
   ]
  },
  {
   "cell_type": "markdown",
   "id": "e7fcef39-df06-4296-b94a-025f47c6550f",
   "metadata": {},
   "source": [
    "<h3>Initialize the logistic regression model</h3>"
   ]
  },
  {
   "cell_type": "code",
   "execution_count": 22,
   "id": "0fdfe9a6-ab7d-44c6-b63b-afd69266f207",
   "metadata": {},
   "outputs": [],
   "source": [
    "lr = LogisticRegression(solver='liblinear', random_state=42)"
   ]
  },
  {
   "cell_type": "markdown",
   "id": "6bd914a7-c8d2-48f0-8db2-c659464c2836",
   "metadata": {},
   "source": [
    "<h3>Train on the original dataset</h3>"
   ]
  },
  {
   "cell_type": "code",
   "execution_count": 23,
   "id": "e9ff508f-df23-4886-aad3-436ba6a32e53",
   "metadata": {},
   "outputs": [
    {
     "data": {
      "text/html": [
       "<style>#sk-container-id-1 {color: black;}#sk-container-id-1 pre{padding: 0;}#sk-container-id-1 div.sk-toggleable {background-color: white;}#sk-container-id-1 label.sk-toggleable__label {cursor: pointer;display: block;width: 100%;margin-bottom: 0;padding: 0.3em;box-sizing: border-box;text-align: center;}#sk-container-id-1 label.sk-toggleable__label-arrow:before {content: \"▸\";float: left;margin-right: 0.25em;color: #696969;}#sk-container-id-1 label.sk-toggleable__label-arrow:hover:before {color: black;}#sk-container-id-1 div.sk-estimator:hover label.sk-toggleable__label-arrow:before {color: black;}#sk-container-id-1 div.sk-toggleable__content {max-height: 0;max-width: 0;overflow: hidden;text-align: left;background-color: #f0f8ff;}#sk-container-id-1 div.sk-toggleable__content pre {margin: 0.2em;color: black;border-radius: 0.25em;background-color: #f0f8ff;}#sk-container-id-1 input.sk-toggleable__control:checked~div.sk-toggleable__content {max-height: 200px;max-width: 100%;overflow: auto;}#sk-container-id-1 input.sk-toggleable__control:checked~label.sk-toggleable__label-arrow:before {content: \"▾\";}#sk-container-id-1 div.sk-estimator input.sk-toggleable__control:checked~label.sk-toggleable__label {background-color: #d4ebff;}#sk-container-id-1 div.sk-label input.sk-toggleable__control:checked~label.sk-toggleable__label {background-color: #d4ebff;}#sk-container-id-1 input.sk-hidden--visually {border: 0;clip: rect(1px 1px 1px 1px);clip: rect(1px, 1px, 1px, 1px);height: 1px;margin: -1px;overflow: hidden;padding: 0;position: absolute;width: 1px;}#sk-container-id-1 div.sk-estimator {font-family: monospace;background-color: #f0f8ff;border: 1px dotted black;border-radius: 0.25em;box-sizing: border-box;margin-bottom: 0.5em;}#sk-container-id-1 div.sk-estimator:hover {background-color: #d4ebff;}#sk-container-id-1 div.sk-parallel-item::after {content: \"\";width: 100%;border-bottom: 1px solid gray;flex-grow: 1;}#sk-container-id-1 div.sk-label:hover label.sk-toggleable__label {background-color: #d4ebff;}#sk-container-id-1 div.sk-serial::before {content: \"\";position: absolute;border-left: 1px solid gray;box-sizing: border-box;top: 0;bottom: 0;left: 50%;z-index: 0;}#sk-container-id-1 div.sk-serial {display: flex;flex-direction: column;align-items: center;background-color: white;padding-right: 0.2em;padding-left: 0.2em;position: relative;}#sk-container-id-1 div.sk-item {position: relative;z-index: 1;}#sk-container-id-1 div.sk-parallel {display: flex;align-items: stretch;justify-content: center;background-color: white;position: relative;}#sk-container-id-1 div.sk-item::before, #sk-container-id-1 div.sk-parallel-item::before {content: \"\";position: absolute;border-left: 1px solid gray;box-sizing: border-box;top: 0;bottom: 0;left: 50%;z-index: -1;}#sk-container-id-1 div.sk-parallel-item {display: flex;flex-direction: column;z-index: 1;position: relative;background-color: white;}#sk-container-id-1 div.sk-parallel-item:first-child::after {align-self: flex-end;width: 50%;}#sk-container-id-1 div.sk-parallel-item:last-child::after {align-self: flex-start;width: 50%;}#sk-container-id-1 div.sk-parallel-item:only-child::after {width: 0;}#sk-container-id-1 div.sk-dashed-wrapped {border: 1px dashed gray;margin: 0 0.4em 0.5em 0.4em;box-sizing: border-box;padding-bottom: 0.4em;background-color: white;}#sk-container-id-1 div.sk-label label {font-family: monospace;font-weight: bold;display: inline-block;line-height: 1.2em;}#sk-container-id-1 div.sk-label-container {text-align: center;}#sk-container-id-1 div.sk-container {/* jupyter's `normalize.less` sets `[hidden] { display: none; }` but bootstrap.min.css set `[hidden] { display: none !important; }` so we also need the `!important` here to be able to override the default hidden behavior on the sphinx rendered scikit-learn.org. See: https://github.com/scikit-learn/scikit-learn/issues/21755 */display: inline-block !important;position: relative;}#sk-container-id-1 div.sk-text-repr-fallback {display: none;}</style><div id=\"sk-container-id-1\" class=\"sk-top-container\"><div class=\"sk-text-repr-fallback\"><pre>LogisticRegression(random_state=42, solver=&#x27;liblinear&#x27;)</pre><b>In a Jupyter environment, please rerun this cell to show the HTML representation or trust the notebook. <br />On GitHub, the HTML representation is unable to render, please try loading this page with nbviewer.org.</b></div><div class=\"sk-container\" hidden><div class=\"sk-item\"><div class=\"sk-estimator sk-toggleable\"><input class=\"sk-toggleable__control sk-hidden--visually\" id=\"sk-estimator-id-1\" type=\"checkbox\" checked><label for=\"sk-estimator-id-1\" class=\"sk-toggleable__label sk-toggleable__label-arrow\">LogisticRegression</label><div class=\"sk-toggleable__content\"><pre>LogisticRegression(random_state=42, solver=&#x27;liblinear&#x27;)</pre></div></div></div></div></div>"
      ],
      "text/plain": [
       "LogisticRegression(random_state=42, solver='liblinear')"
      ]
     },
     "execution_count": 23,
     "metadata": {},
     "output_type": "execute_result"
    }
   ],
   "source": [
    "lr.fit(train.features, train.labels.ravel())"
   ]
  },
  {
   "cell_type": "markdown",
   "id": "5ea8190c-4336-4bc8-94e1-6f4b8bb2de02",
   "metadata": {},
   "source": [
    "<h3>Train on the reweighted dataset</h3>"
   ]
  },
  {
   "cell_type": "code",
   "execution_count": 24,
   "id": "ad6fde4b-8fe5-42de-834d-6dadd642bd50",
   "metadata": {},
   "outputs": [
    {
     "data": {
      "text/html": [
       "<style>#sk-container-id-2 {color: black;}#sk-container-id-2 pre{padding: 0;}#sk-container-id-2 div.sk-toggleable {background-color: white;}#sk-container-id-2 label.sk-toggleable__label {cursor: pointer;display: block;width: 100%;margin-bottom: 0;padding: 0.3em;box-sizing: border-box;text-align: center;}#sk-container-id-2 label.sk-toggleable__label-arrow:before {content: \"▸\";float: left;margin-right: 0.25em;color: #696969;}#sk-container-id-2 label.sk-toggleable__label-arrow:hover:before {color: black;}#sk-container-id-2 div.sk-estimator:hover label.sk-toggleable__label-arrow:before {color: black;}#sk-container-id-2 div.sk-toggleable__content {max-height: 0;max-width: 0;overflow: hidden;text-align: left;background-color: #f0f8ff;}#sk-container-id-2 div.sk-toggleable__content pre {margin: 0.2em;color: black;border-radius: 0.25em;background-color: #f0f8ff;}#sk-container-id-2 input.sk-toggleable__control:checked~div.sk-toggleable__content {max-height: 200px;max-width: 100%;overflow: auto;}#sk-container-id-2 input.sk-toggleable__control:checked~label.sk-toggleable__label-arrow:before {content: \"▾\";}#sk-container-id-2 div.sk-estimator input.sk-toggleable__control:checked~label.sk-toggleable__label {background-color: #d4ebff;}#sk-container-id-2 div.sk-label input.sk-toggleable__control:checked~label.sk-toggleable__label {background-color: #d4ebff;}#sk-container-id-2 input.sk-hidden--visually {border: 0;clip: rect(1px 1px 1px 1px);clip: rect(1px, 1px, 1px, 1px);height: 1px;margin: -1px;overflow: hidden;padding: 0;position: absolute;width: 1px;}#sk-container-id-2 div.sk-estimator {font-family: monospace;background-color: #f0f8ff;border: 1px dotted black;border-radius: 0.25em;box-sizing: border-box;margin-bottom: 0.5em;}#sk-container-id-2 div.sk-estimator:hover {background-color: #d4ebff;}#sk-container-id-2 div.sk-parallel-item::after {content: \"\";width: 100%;border-bottom: 1px solid gray;flex-grow: 1;}#sk-container-id-2 div.sk-label:hover label.sk-toggleable__label {background-color: #d4ebff;}#sk-container-id-2 div.sk-serial::before {content: \"\";position: absolute;border-left: 1px solid gray;box-sizing: border-box;top: 0;bottom: 0;left: 50%;z-index: 0;}#sk-container-id-2 div.sk-serial {display: flex;flex-direction: column;align-items: center;background-color: white;padding-right: 0.2em;padding-left: 0.2em;position: relative;}#sk-container-id-2 div.sk-item {position: relative;z-index: 1;}#sk-container-id-2 div.sk-parallel {display: flex;align-items: stretch;justify-content: center;background-color: white;position: relative;}#sk-container-id-2 div.sk-item::before, #sk-container-id-2 div.sk-parallel-item::before {content: \"\";position: absolute;border-left: 1px solid gray;box-sizing: border-box;top: 0;bottom: 0;left: 50%;z-index: -1;}#sk-container-id-2 div.sk-parallel-item {display: flex;flex-direction: column;z-index: 1;position: relative;background-color: white;}#sk-container-id-2 div.sk-parallel-item:first-child::after {align-self: flex-end;width: 50%;}#sk-container-id-2 div.sk-parallel-item:last-child::after {align-self: flex-start;width: 50%;}#sk-container-id-2 div.sk-parallel-item:only-child::after {width: 0;}#sk-container-id-2 div.sk-dashed-wrapped {border: 1px dashed gray;margin: 0 0.4em 0.5em 0.4em;box-sizing: border-box;padding-bottom: 0.4em;background-color: white;}#sk-container-id-2 div.sk-label label {font-family: monospace;font-weight: bold;display: inline-block;line-height: 1.2em;}#sk-container-id-2 div.sk-label-container {text-align: center;}#sk-container-id-2 div.sk-container {/* jupyter's `normalize.less` sets `[hidden] { display: none; }` but bootstrap.min.css set `[hidden] { display: none !important; }` so we also need the `!important` here to be able to override the default hidden behavior on the sphinx rendered scikit-learn.org. See: https://github.com/scikit-learn/scikit-learn/issues/21755 */display: inline-block !important;position: relative;}#sk-container-id-2 div.sk-text-repr-fallback {display: none;}</style><div id=\"sk-container-id-2\" class=\"sk-top-container\"><div class=\"sk-text-repr-fallback\"><pre>LogisticRegression(random_state=42, solver=&#x27;liblinear&#x27;)</pre><b>In a Jupyter environment, please rerun this cell to show the HTML representation or trust the notebook. <br />On GitHub, the HTML representation is unable to render, please try loading this page with nbviewer.org.</b></div><div class=\"sk-container\" hidden><div class=\"sk-item\"><div class=\"sk-estimator sk-toggleable\"><input class=\"sk-toggleable__control sk-hidden--visually\" id=\"sk-estimator-id-2\" type=\"checkbox\" checked><label for=\"sk-estimator-id-2\" class=\"sk-toggleable__label sk-toggleable__label-arrow\">LogisticRegression</label><div class=\"sk-toggleable__content\"><pre>LogisticRegression(random_state=42, solver=&#x27;liblinear&#x27;)</pre></div></div></div></div></div>"
      ],
      "text/plain": [
       "LogisticRegression(random_state=42, solver='liblinear')"
      ]
     },
     "execution_count": 24,
     "metadata": {},
     "output_type": "execute_result"
    }
   ],
   "source": [
    "lr_rw = LogisticRegression(solver='liblinear', random_state=42)\n",
    "lr_rw.fit(train_rw.features, train_rw.labels.ravel())"
   ]
  },
  {
   "cell_type": "markdown",
   "id": "1c0f19f2-5ce4-4de9-909f-66e609ddad4e",
   "metadata": {},
   "source": [
    "<h3>4. Evaluate Model Fairness</h3>"
   ]
  },
  {
   "cell_type": "code",
   "execution_count": 42,
   "id": "e92fdf70-fb5d-475f-88d9-070cbf207031",
   "metadata": {},
   "outputs": [
    {
     "name": "stdout",
     "output_type": "stream",
     "text": [
      "Original model metrics: {'disparate_impact': 0.693487290559103, 'statistical_parity_diff': -0.2200861749755949}\n",
      "Reweighted model metrics: {'disparate_impact': 0.693487290559103, 'statistical_parity_diff': -0.2200861749755949}\n"
     ]
    }
   ],
   "source": [
    "from aif360.metrics import ClassificationMetric\n",
    "\n",
    "# Create function to compute fairness metrics\n",
    "def compute_fairness_metrics(dataset, model, unprivileged_groups, privileged_groups):\n",
    "    # Predictions on the test set\n",
    "    pred = dataset.copy()\n",
    "    pred.labels = model.predict(dataset.features)\n",
    "\n",
    "    # Fairness metrics\n",
    "    metric = ClassificationMetric(\n",
    "        test, pred,\n",
    "        unprivileged_groups=unprivileged_groups,\n",
    "        privileged_groups=privileged_groups\n",
    "    )\n",
    "\n",
    "    # Disparate impact and statistical parity difference\n",
    "    disparate_impact = metric.disparate_impact()\n",
    "    statistical_parity_diff = metric.statistical_parity_difference()\n",
    "    \n",
    "    # Return the metrics\n",
    "    return {\n",
    "        'disparate_impact': disparate_impact,\n",
    "        'statistical_parity_diff': statistical_parity_diff\n",
    "    }\n",
    "\n",
    "# Calculate fairness metrics for the original and reweighted model\n",
    "metrics_orig = compute_fairness_metrics(test, lr, unprivileged_groups, privileged_groups)\n",
    "metrics_rw = compute_fairness_metrics(test, lr_rw, unprivileged_groups, privileged_groups)\n",
    "\n",
    "\n",
    "print(\"Original model metrics:\", metrics_orig)\n",
    "print(\"Reweighted model metrics:\", metrics_rw)"
   ]
  },
  {
   "cell_type": "markdown",
   "id": "573ea606-f0c9-4394-b6d9-8da9c8bbf3c2",
   "metadata": {},
   "source": [
    "<h4>Disparate Impact (DI)</h4> This metric is a ratio of the rate of favorable outcomes for the unprivileged group to the rate of favorable outcomes for the privileged group. A value of 1 indicates perfect fairness. Values less than 1 indicate less favorable outcomes for the unprivileged group, and values greater than 1 indicate less favorable outcomes for the privileged group.\n",
    "<h4>Statistical Parity Difference (SPD)</h4> This is the difference in the rate of favorable outcomes received by the unprivileged group to the privileged group. A value of 0 indicates perfect fairness. Negative values indicate bias against the unprivileged group, and positive values indicate bias in favor of the unprivileged group."
   ]
  },
  {
   "cell_type": "markdown",
   "id": "3a4abdb6-3684-4d94-b631-36a87ecf31a3",
   "metadata": {},
   "source": [
    "<h3>Now measure bias assuming sex is the protected attribute</h3>"
   ]
  },
  {
   "cell_type": "code",
   "execution_count": 28,
   "id": "8f5dfd7c-1ef4-4c1c-a9e3-55f197eb1b57",
   "metadata": {},
   "outputs": [
    {
     "name": "stdout",
     "output_type": "stream",
     "text": [
      "Bias assuming metrics: {'disparate_impact': 0.7038304536896649, 'statistical_parity_diff': -0.22670958756654314}\n"
     ]
    }
   ],
   "source": [
    "# (This is just for measurement, reweighing was done with race as protected)\n",
    "metrics_race_reweighed_sex_bias = compute_fairness_metrics(test, lr_rw, [{'sex': 0}], [{'sex': 1}])\n",
    "print(\"Bias assuming metrics:\",metrics_race_reweighed_sex_bias)"
   ]
  },
  {
   "cell_type": "markdown",
   "id": "27550360-0376-46c3-a072-6d5c397fb69e",
   "metadata": {},
   "source": [
    "<h3>Part 2: When Sex is the Protected Attribute</h3>"
   ]
  },
  {
   "cell_type": "code",
   "execution_count": 29,
   "id": "1291851d-ab6e-4993-93b4-1f35b5275033",
   "metadata": {},
   "outputs": [
    {
     "name": "stdout",
     "output_type": "stream",
     "text": [
      "Bias assuming metrics: {'disparate_impact': 0.693487290559103, 'statistical_parity_diff': -0.2200861749755949}\n"
     ]
    }
   ],
   "source": [
    "# Apply reweighing with sex as the protected attribute\n",
    "RW_sex = Reweighing(unprivileged_groups=[{'sex': 0}], privileged_groups=[{'sex': 1}])\n",
    "train_rw_sex = RW_sex.fit_transform(train)\n",
    "\n",
    "# Train a model on the reweighted training data\n",
    "lr_rw_sex = LogisticRegression(solver='liblinear', random_state=42)\n",
    "lr_rw_sex.fit(train_rw_sex.features, train_rw_sex.labels.ravel())\n",
    "\n",
    "# Measure bias assuming race is the protected attribute\n",
    "metrics_sex_reweighed_race_bias = compute_fairness_metrics(test, lr_rw_sex, [{'race': 0}], [{'race': 1}])\n",
    "print(\"Bias assuming metrics:\",metrics_sex_reweighed_race_bias)"
   ]
  },
  {
   "cell_type": "markdown",
   "id": "0aae7b1a-26dc-41db-a8fb-b46a7fd64070",
   "metadata": {},
   "source": [
    "<h3>Part 3: Repeat Measurements Considering Age Groups</h3>"
   ]
  },
  {
   "cell_type": "code",
   "execution_count": 50,
   "id": "24e9e6a5-6ff0-4ddf-9a9e-33f8db412055",
   "metadata": {},
   "outputs": [
    {
     "name": "stdout",
     "output_type": "stream",
     "text": [
      "['sex', 'race', 'age_cat=25 to 45', 'age_cat=Greater than 45', 'age_cat=Less than 25', 'priors_count=0', 'priors_count=1 to 3', 'priors_count=More than 3', 'c_charge_degree=F', 'c_charge_degree=M']\n"
     ]
    }
   ],
   "source": [
    "print(train.feature_names)"
   ]
  },
  {
   "cell_type": "code",
   "execution_count": 51,
   "id": "e42d32c6-733b-4d30-bc9e-9cf385cb5c65",
   "metadata": {},
   "outputs": [],
   "source": [
    "# Privileged groups - assuming being older than 25 is considered privileged\n",
    "privileged_groups_age = [{'age_cat=25 to 45': 1}, {'age_cat=Greater than 45': 1}]\n",
    "\n",
    "# Unprivileged groups - assuming being younger than 25 is considered unprivileged\n",
    "unprivileged_groups_age = [{'age_cat=Less than 25': 1}]"
   ]
  },
  {
   "cell_type": "code",
   "execution_count": 52,
   "id": "9f597cb6-e91e-478f-abeb-17488411134c",
   "metadata": {},
   "outputs": [
    {
     "ename": "ValueError",
     "evalue": "'age_cat=25 to 45' is not in list",
     "output_type": "error",
     "traceback": [
      "\u001b[0;31m---------------------------------------------------------------------------\u001b[0m",
      "\u001b[0;31mValueError\u001b[0m                                Traceback (most recent call last)",
      "Cell \u001b[0;32mIn[52], line 3\u001b[0m\n\u001b[1;32m      1\u001b[0m \u001b[38;5;66;03m# Apply reweighing with age as the protected attribute\u001b[39;00m\n\u001b[1;32m      2\u001b[0m RW_age \u001b[38;5;241m=\u001b[39m Reweighing(unprivileged_groups\u001b[38;5;241m=\u001b[39munprivileged_groups_age, privileged_groups\u001b[38;5;241m=\u001b[39mprivileged_groups_age)\n\u001b[0;32m----> 3\u001b[0m train_rw_age \u001b[38;5;241m=\u001b[39m \u001b[43mRW_age\u001b[49m\u001b[38;5;241;43m.\u001b[39;49m\u001b[43mfit_transform\u001b[49m\u001b[43m(\u001b[49m\u001b[43mtrain\u001b[49m\u001b[43m)\u001b[49m\n",
      "File \u001b[0;32m~/anaconda3/envs/bmpn4/lib/python3.9/site-packages/aif360/algorithms/transformer.py:27\u001b[0m, in \u001b[0;36maddmetadata.<locals>.wrapper\u001b[0;34m(self, *args, **kwargs)\u001b[0m\n\u001b[1;32m     25\u001b[0m \u001b[38;5;129m@wraps\u001b[39m(func)\n\u001b[1;32m     26\u001b[0m \u001b[38;5;28;01mdef\u001b[39;00m \u001b[38;5;21mwrapper\u001b[39m(\u001b[38;5;28mself\u001b[39m, \u001b[38;5;241m*\u001b[39margs, \u001b[38;5;241m*\u001b[39m\u001b[38;5;241m*\u001b[39mkwargs):\n\u001b[0;32m---> 27\u001b[0m     new_dataset \u001b[38;5;241m=\u001b[39m \u001b[43mfunc\u001b[49m\u001b[43m(\u001b[49m\u001b[38;5;28;43mself\u001b[39;49m\u001b[43m,\u001b[49m\u001b[43m \u001b[49m\u001b[38;5;241;43m*\u001b[39;49m\u001b[43margs\u001b[49m\u001b[43m,\u001b[49m\u001b[43m \u001b[49m\u001b[38;5;241;43m*\u001b[39;49m\u001b[38;5;241;43m*\u001b[39;49m\u001b[43mkwargs\u001b[49m\u001b[43m)\u001b[49m\n\u001b[1;32m     28\u001b[0m     \u001b[38;5;28;01mif\u001b[39;00m \u001b[38;5;28misinstance\u001b[39m(new_dataset, Dataset):\n\u001b[1;32m     29\u001b[0m         new_dataset\u001b[38;5;241m.\u001b[39mmetadata \u001b[38;5;241m=\u001b[39m new_dataset\u001b[38;5;241m.\u001b[39mmetadata\u001b[38;5;241m.\u001b[39mcopy()\n",
      "File \u001b[0;32m~/anaconda3/envs/bmpn4/lib/python3.9/site-packages/aif360/algorithms/transformer.py:125\u001b[0m, in \u001b[0;36mTransformer.fit_transform\u001b[0;34m(self, dataset)\u001b[0m\n\u001b[1;32m    113\u001b[0m \u001b[38;5;28;01mdef\u001b[39;00m \u001b[38;5;21mfit_transform\u001b[39m(\u001b[38;5;28mself\u001b[39m, dataset):\n\u001b[1;32m    114\u001b[0m \u001b[38;5;250m    \u001b[39m\u001b[38;5;124;03m\"\"\"Train a model on the input and transform the dataset accordingly.\u001b[39;00m\n\u001b[1;32m    115\u001b[0m \n\u001b[1;32m    116\u001b[0m \u001b[38;5;124;03m    Equivalent to calling `fit(dataset)` followed by `transform(dataset)`.\u001b[39;00m\n\u001b[0;32m   (...)\u001b[0m\n\u001b[1;32m    123\u001b[0m \u001b[38;5;124;03m        this transformation.\u001b[39;00m\n\u001b[1;32m    124\u001b[0m \u001b[38;5;124;03m    \"\"\"\u001b[39;00m\n\u001b[0;32m--> 125\u001b[0m     \u001b[38;5;28;01mreturn\u001b[39;00m \u001b[38;5;28;43mself\u001b[39;49m\u001b[38;5;241;43m.\u001b[39;49m\u001b[43mfit\u001b[49m\u001b[43m(\u001b[49m\u001b[43mdataset\u001b[49m\u001b[43m)\u001b[49m\u001b[38;5;241m.\u001b[39mtransform(dataset)\n",
      "File \u001b[0;32m~/anaconda3/envs/bmpn4/lib/python3.9/site-packages/aif360/algorithms/transformer.py:27\u001b[0m, in \u001b[0;36maddmetadata.<locals>.wrapper\u001b[0;34m(self, *args, **kwargs)\u001b[0m\n\u001b[1;32m     25\u001b[0m \u001b[38;5;129m@wraps\u001b[39m(func)\n\u001b[1;32m     26\u001b[0m \u001b[38;5;28;01mdef\u001b[39;00m \u001b[38;5;21mwrapper\u001b[39m(\u001b[38;5;28mself\u001b[39m, \u001b[38;5;241m*\u001b[39margs, \u001b[38;5;241m*\u001b[39m\u001b[38;5;241m*\u001b[39mkwargs):\n\u001b[0;32m---> 27\u001b[0m     new_dataset \u001b[38;5;241m=\u001b[39m \u001b[43mfunc\u001b[49m\u001b[43m(\u001b[49m\u001b[38;5;28;43mself\u001b[39;49m\u001b[43m,\u001b[49m\u001b[43m \u001b[49m\u001b[38;5;241;43m*\u001b[39;49m\u001b[43margs\u001b[49m\u001b[43m,\u001b[49m\u001b[43m \u001b[49m\u001b[38;5;241;43m*\u001b[39;49m\u001b[38;5;241;43m*\u001b[39;49m\u001b[43mkwargs\u001b[49m\u001b[43m)\u001b[49m\n\u001b[1;32m     28\u001b[0m     \u001b[38;5;28;01mif\u001b[39;00m \u001b[38;5;28misinstance\u001b[39m(new_dataset, Dataset):\n\u001b[1;32m     29\u001b[0m         new_dataset\u001b[38;5;241m.\u001b[39mmetadata \u001b[38;5;241m=\u001b[39m new_dataset\u001b[38;5;241m.\u001b[39mmetadata\u001b[38;5;241m.\u001b[39mcopy()\n",
      "File \u001b[0;32m~/anaconda3/envs/bmpn4/lib/python3.9/site-packages/aif360/algorithms/preprocessing/reweighing.py:49\u001b[0m, in \u001b[0;36mReweighing.fit\u001b[0;34m(self, dataset)\u001b[0m\n\u001b[1;32m     37\u001b[0m \u001b[38;5;28;01mdef\u001b[39;00m \u001b[38;5;21mfit\u001b[39m(\u001b[38;5;28mself\u001b[39m, dataset):\n\u001b[1;32m     38\u001b[0m \u001b[38;5;250m    \u001b[39m\u001b[38;5;124;03m\"\"\"Compute the weights for reweighing the dataset.\u001b[39;00m\n\u001b[1;32m     39\u001b[0m \n\u001b[1;32m     40\u001b[0m \u001b[38;5;124;03m    Args:\u001b[39;00m\n\u001b[0;32m   (...)\u001b[0m\n\u001b[1;32m     44\u001b[0m \u001b[38;5;124;03m        Reweighing: Returns self.\u001b[39;00m\n\u001b[1;32m     45\u001b[0m \u001b[38;5;124;03m    \"\"\"\u001b[39;00m\n\u001b[1;32m     47\u001b[0m     (priv_cond, unpriv_cond, fav_cond, unfav_cond,\n\u001b[1;32m     48\u001b[0m     cond_p_fav, cond_p_unfav, cond_up_fav, cond_up_unfav) \u001b[38;5;241m=\u001b[39m\\\n\u001b[0;32m---> 49\u001b[0m             \u001b[38;5;28;43mself\u001b[39;49m\u001b[38;5;241;43m.\u001b[39;49m\u001b[43m_obtain_conditionings\u001b[49m\u001b[43m(\u001b[49m\u001b[43mdataset\u001b[49m\u001b[43m)\u001b[49m\n\u001b[1;32m     51\u001b[0m     n \u001b[38;5;241m=\u001b[39m np\u001b[38;5;241m.\u001b[39msum(dataset\u001b[38;5;241m.\u001b[39minstance_weights, dtype\u001b[38;5;241m=\u001b[39mnp\u001b[38;5;241m.\u001b[39mfloat64)\n\u001b[1;32m     52\u001b[0m     n_p \u001b[38;5;241m=\u001b[39m np\u001b[38;5;241m.\u001b[39msum(dataset\u001b[38;5;241m.\u001b[39minstance_weights[priv_cond], dtype\u001b[38;5;241m=\u001b[39mnp\u001b[38;5;241m.\u001b[39mfloat64)\n",
      "File \u001b[0;32m~/anaconda3/envs/bmpn4/lib/python3.9/site-packages/aif360/algorithms/preprocessing/reweighing.py:105\u001b[0m, in \u001b[0;36mReweighing._obtain_conditionings\u001b[0;34m(self, dataset)\u001b[0m\n\u001b[1;32m    101\u001b[0m \u001b[38;5;250m\u001b[39m\u001b[38;5;124;03m\"\"\"Obtain the necessary conditioning boolean vectors to compute\u001b[39;00m\n\u001b[1;32m    102\u001b[0m \u001b[38;5;124;03minstance level weights.\u001b[39;00m\n\u001b[1;32m    103\u001b[0m \u001b[38;5;124;03m\"\"\"\u001b[39;00m\n\u001b[1;32m    104\u001b[0m \u001b[38;5;66;03m# conditioning\u001b[39;00m\n\u001b[0;32m--> 105\u001b[0m priv_cond \u001b[38;5;241m=\u001b[39m \u001b[43mutils\u001b[49m\u001b[38;5;241;43m.\u001b[39;49m\u001b[43mcompute_boolean_conditioning_vector\u001b[49m\u001b[43m(\u001b[49m\n\u001b[1;32m    106\u001b[0m \u001b[43m                    \u001b[49m\u001b[43mdataset\u001b[49m\u001b[38;5;241;43m.\u001b[39;49m\u001b[43mprotected_attributes\u001b[49m\u001b[43m,\u001b[49m\n\u001b[1;32m    107\u001b[0m \u001b[43m                    \u001b[49m\u001b[43mdataset\u001b[49m\u001b[38;5;241;43m.\u001b[39;49m\u001b[43mprotected_attribute_names\u001b[49m\u001b[43m,\u001b[49m\n\u001b[1;32m    108\u001b[0m \u001b[43m                    \u001b[49m\u001b[43mcondition\u001b[49m\u001b[38;5;241;43m=\u001b[39;49m\u001b[38;5;28;43mself\u001b[39;49m\u001b[38;5;241;43m.\u001b[39;49m\u001b[43mprivileged_groups\u001b[49m\u001b[43m)\u001b[49m\n\u001b[1;32m    109\u001b[0m unpriv_cond \u001b[38;5;241m=\u001b[39m utils\u001b[38;5;241m.\u001b[39mcompute_boolean_conditioning_vector(\n\u001b[1;32m    110\u001b[0m                     dataset\u001b[38;5;241m.\u001b[39mprotected_attributes,\n\u001b[1;32m    111\u001b[0m                     dataset\u001b[38;5;241m.\u001b[39mprotected_attribute_names,\n\u001b[1;32m    112\u001b[0m                     condition\u001b[38;5;241m=\u001b[39m\u001b[38;5;28mself\u001b[39m\u001b[38;5;241m.\u001b[39munprivileged_groups)\n\u001b[1;32m    113\u001b[0m fav_cond \u001b[38;5;241m=\u001b[39m dataset\u001b[38;5;241m.\u001b[39mlabels\u001b[38;5;241m.\u001b[39mravel() \u001b[38;5;241m==\u001b[39m dataset\u001b[38;5;241m.\u001b[39mfavorable_label\n",
      "File \u001b[0;32m~/anaconda3/envs/bmpn4/lib/python3.9/site-packages/aif360/metrics/utils.py:35\u001b[0m, in \u001b[0;36mcompute_boolean_conditioning_vector\u001b[0;34m(X, feature_names, condition)\u001b[0m\n\u001b[1;32m     33\u001b[0m group_cond \u001b[38;5;241m=\u001b[39m np\u001b[38;5;241m.\u001b[39mones(X\u001b[38;5;241m.\u001b[39mshape[\u001b[38;5;241m0\u001b[39m], dtype\u001b[38;5;241m=\u001b[39m\u001b[38;5;28mbool\u001b[39m)\n\u001b[1;32m     34\u001b[0m \u001b[38;5;28;01mfor\u001b[39;00m name, val \u001b[38;5;129;01min\u001b[39;00m group\u001b[38;5;241m.\u001b[39mitems():\n\u001b[0;32m---> 35\u001b[0m     index \u001b[38;5;241m=\u001b[39m \u001b[43mfeature_names\u001b[49m\u001b[38;5;241;43m.\u001b[39;49m\u001b[43mindex\u001b[49m\u001b[43m(\u001b[49m\u001b[43mname\u001b[49m\u001b[43m)\u001b[49m\n\u001b[1;32m     36\u001b[0m     group_cond \u001b[38;5;241m=\u001b[39m np\u001b[38;5;241m.\u001b[39mlogical_and(group_cond, X[:, index] \u001b[38;5;241m==\u001b[39m val)\n\u001b[1;32m     37\u001b[0m overall_cond \u001b[38;5;241m=\u001b[39m np\u001b[38;5;241m.\u001b[39mlogical_or(overall_cond, group_cond)\n",
      "\u001b[0;31mValueError\u001b[0m: 'age_cat=25 to 45' is not in list"
     ]
    }
   ],
   "source": [
    "# Apply reweighing with age as the protected attribute\n",
    "RW_age = Reweighing(unprivileged_groups=unprivileged_groups_age, privileged_groups=privileged_groups_age)\n",
    "train_rw_age = RW_age.fit_transform(train)"
   ]
  },
  {
   "cell_type": "code",
   "execution_count": null,
   "id": "c438b37b-b1bb-411a-8aa8-d2ea6e20c833",
   "metadata": {},
   "outputs": [],
   "source": []
  }
 ],
 "metadata": {
  "kernelspec": {
   "display_name": "Python 3 (ipykernel)",
   "language": "python",
   "name": "python3"
  },
  "language_info": {
   "codemirror_mode": {
    "name": "ipython",
    "version": 3
   },
   "file_extension": ".py",
   "mimetype": "text/x-python",
   "name": "python",
   "nbconvert_exporter": "python",
   "pygments_lexer": "ipython3",
   "version": "3.9.18"
  }
 },
 "nbformat": 4,
 "nbformat_minor": 5
}
